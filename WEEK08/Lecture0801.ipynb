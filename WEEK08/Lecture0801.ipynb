{
 "cells": [
  {
   "cell_type": "markdown",
   "id": "2135c776-a5bb-4d8b-ac3a-644665f7df36",
   "metadata": {},
   "source": [
    "<script>\n",
    "    function findAncestor (el, name) {\n",
    "        while ((el = el.parentElement) && el.nodeName.toLowerCase() !== name);\n",
    "        return el;\n",
    "    }\n",
    "    function colorAll(el, textColor) {\n",
    "        el.style.color = textColor;\n",
    "        Array.from(el.children).forEach((e) => {colorAll(e, textColor);});\n",
    "    }\n",
    "    function setBackgroundImage(src, textColor) {\n",
    "        var section = findAncestor(document.currentScript, 'section');\n",
    "        if (section) {\n",
    "            section.setAttribute('data-background-image', src);\n",
    "\t\t\tif (textColor) colorAll(section, textColor);\n",
    "        }\n",
    "    }\n",
    "</script>"
   ]
  },
  {
   "cell_type": "markdown",
   "id": "cec0e284-5359-49f1-a540-65e7839c90a9",
   "metadata": {},
   "source": [
    "<style>\n",
    "h1 {\n",
    "  border: 1.5px solid #333;\n",
    "  padding: 8px 12px;\n",
    "  background-image: linear-gradient(#2774AE,#ebf8e1, #FFD100);\n",
    "  position: static;\n",
    "}\n",
    "</style>"
   ]
  },
  {
   "cell_type": "markdown",
   "id": "38ef6342-8e99-41b3-9b15-ece24aa6d644",
   "metadata": {
    "tags": []
   },
   "source": [
    "<h1 style='color:white'> Statistics 21 <br/> Python & Other Technologies for Data Science </h1>\n",
    "\n",
    "<h3 style='color:white'>Vivian Lew, PhD - Monday, Week 8</h3>"
   ]
  },
  {
   "cell_type": "markdown",
   "id": "2423de95-ea66-449c-8e5c-0ba371294f11",
   "metadata": {},
   "source": [
    "<script>\n",
    "    setBackgroundImage('Window1.jpg');\n",
    "</script>"
   ]
  },
  {
   "cell_type": "markdown",
   "id": "ab31cf56-5658-4def-918d-451fb92f03d3",
   "metadata": {
    "slideshow": {
     "slide_type": "slide"
    },
    "tags": []
   },
   "source": [
    "# Some Stats \n",
    "## Week 8 Monday"
   ]
  },
  {
   "cell_type": "code",
   "execution_count": 1,
   "id": "4d3bb39b-88c4-46eb-a69a-1eaf11bc90d7",
   "metadata": {
    "tags": []
   },
   "outputs": [],
   "source": [
    "import numpy as np\n",
    "import pandas as pd\n",
    "from statsmodels import stats\n",
    "import scipy as sp\n",
    "import scipy.stats.distributions as dist\n",
    "import statsmodels.api as sm\n",
    "import statsmodels.formula.api as smf\n",
    "from sklearn.linear_model import LinearRegression, LogisticRegression\n",
    "from sklearn import metrics \n",
    "\n",
    "import seaborn as sns\n",
    "from scikit_posthocs import posthoc_dunn\n",
    "\n",
    "#For proper display of all columns\n",
    "pd.options.display.max_columns = None\n",
    "\n",
    "from IPython.display import display, HTML\n",
    "import matplotlib.pyplot as plt"
   ]
  },
  {
   "cell_type": "code",
   "execution_count": 2,
   "id": "a7c659ba-6d4c-49f8-8ba3-bea8da70e747",
   "metadata": {
    "slideshow": {
     "slide_type": "slide"
    },
    "tags": []
   },
   "outputs": [
    {
     "data": {
      "text/html": [
       "<div>\n",
       "<style scoped>\n",
       "    .dataframe tbody tr th:only-of-type {\n",
       "        vertical-align: middle;\n",
       "    }\n",
       "\n",
       "    .dataframe tbody tr th {\n",
       "        vertical-align: top;\n",
       "    }\n",
       "\n",
       "    .dataframe thead th {\n",
       "        text-align: right;\n",
       "    }\n",
       "</style>\n",
       "<table border=\"1\" class=\"dataframe\">\n",
       "  <thead>\n",
       "    <tr style=\"text-align: right;\">\n",
       "      <th></th>\n",
       "      <th>age</th>\n",
       "      <th>job</th>\n",
       "      <th>marital</th>\n",
       "      <th>education</th>\n",
       "      <th>default</th>\n",
       "      <th>balance</th>\n",
       "      <th>housing</th>\n",
       "      <th>loan</th>\n",
       "      <th>contact</th>\n",
       "      <th>day</th>\n",
       "      <th>month</th>\n",
       "      <th>duration</th>\n",
       "      <th>campaign</th>\n",
       "      <th>pdays</th>\n",
       "      <th>previous</th>\n",
       "      <th>poutcome</th>\n",
       "      <th>y</th>\n",
       "    </tr>\n",
       "  </thead>\n",
       "  <tbody>\n",
       "    <tr>\n",
       "      <th>0</th>\n",
       "      <td>30</td>\n",
       "      <td>unemployed</td>\n",
       "      <td>married</td>\n",
       "      <td>primary</td>\n",
       "      <td>no</td>\n",
       "      <td>1787</td>\n",
       "      <td>no</td>\n",
       "      <td>no</td>\n",
       "      <td>cellular</td>\n",
       "      <td>19</td>\n",
       "      <td>oct</td>\n",
       "      <td>79</td>\n",
       "      <td>1</td>\n",
       "      <td>-1</td>\n",
       "      <td>0</td>\n",
       "      <td>unknown</td>\n",
       "      <td>no</td>\n",
       "    </tr>\n",
       "    <tr>\n",
       "      <th>1</th>\n",
       "      <td>33</td>\n",
       "      <td>services</td>\n",
       "      <td>married</td>\n",
       "      <td>secondary</td>\n",
       "      <td>no</td>\n",
       "      <td>4789</td>\n",
       "      <td>yes</td>\n",
       "      <td>yes</td>\n",
       "      <td>cellular</td>\n",
       "      <td>11</td>\n",
       "      <td>may</td>\n",
       "      <td>220</td>\n",
       "      <td>1</td>\n",
       "      <td>339</td>\n",
       "      <td>4</td>\n",
       "      <td>failure</td>\n",
       "      <td>no</td>\n",
       "    </tr>\n",
       "    <tr>\n",
       "      <th>2</th>\n",
       "      <td>35</td>\n",
       "      <td>management</td>\n",
       "      <td>single</td>\n",
       "      <td>tertiary</td>\n",
       "      <td>no</td>\n",
       "      <td>1350</td>\n",
       "      <td>yes</td>\n",
       "      <td>no</td>\n",
       "      <td>cellular</td>\n",
       "      <td>16</td>\n",
       "      <td>apr</td>\n",
       "      <td>185</td>\n",
       "      <td>1</td>\n",
       "      <td>330</td>\n",
       "      <td>1</td>\n",
       "      <td>failure</td>\n",
       "      <td>no</td>\n",
       "    </tr>\n",
       "    <tr>\n",
       "      <th>3</th>\n",
       "      <td>30</td>\n",
       "      <td>management</td>\n",
       "      <td>married</td>\n",
       "      <td>tertiary</td>\n",
       "      <td>no</td>\n",
       "      <td>1476</td>\n",
       "      <td>yes</td>\n",
       "      <td>yes</td>\n",
       "      <td>unknown</td>\n",
       "      <td>3</td>\n",
       "      <td>jun</td>\n",
       "      <td>199</td>\n",
       "      <td>4</td>\n",
       "      <td>-1</td>\n",
       "      <td>0</td>\n",
       "      <td>unknown</td>\n",
       "      <td>no</td>\n",
       "    </tr>\n",
       "    <tr>\n",
       "      <th>4</th>\n",
       "      <td>59</td>\n",
       "      <td>blue-collar</td>\n",
       "      <td>married</td>\n",
       "      <td>secondary</td>\n",
       "      <td>no</td>\n",
       "      <td>0</td>\n",
       "      <td>yes</td>\n",
       "      <td>no</td>\n",
       "      <td>unknown</td>\n",
       "      <td>5</td>\n",
       "      <td>may</td>\n",
       "      <td>226</td>\n",
       "      <td>1</td>\n",
       "      <td>-1</td>\n",
       "      <td>0</td>\n",
       "      <td>unknown</td>\n",
       "      <td>no</td>\n",
       "    </tr>\n",
       "    <tr>\n",
       "      <th>...</th>\n",
       "      <td>...</td>\n",
       "      <td>...</td>\n",
       "      <td>...</td>\n",
       "      <td>...</td>\n",
       "      <td>...</td>\n",
       "      <td>...</td>\n",
       "      <td>...</td>\n",
       "      <td>...</td>\n",
       "      <td>...</td>\n",
       "      <td>...</td>\n",
       "      <td>...</td>\n",
       "      <td>...</td>\n",
       "      <td>...</td>\n",
       "      <td>...</td>\n",
       "      <td>...</td>\n",
       "      <td>...</td>\n",
       "      <td>...</td>\n",
       "    </tr>\n",
       "    <tr>\n",
       "      <th>4516</th>\n",
       "      <td>33</td>\n",
       "      <td>services</td>\n",
       "      <td>married</td>\n",
       "      <td>secondary</td>\n",
       "      <td>no</td>\n",
       "      <td>-333</td>\n",
       "      <td>yes</td>\n",
       "      <td>no</td>\n",
       "      <td>cellular</td>\n",
       "      <td>30</td>\n",
       "      <td>jul</td>\n",
       "      <td>329</td>\n",
       "      <td>5</td>\n",
       "      <td>-1</td>\n",
       "      <td>0</td>\n",
       "      <td>unknown</td>\n",
       "      <td>no</td>\n",
       "    </tr>\n",
       "    <tr>\n",
       "      <th>4517</th>\n",
       "      <td>57</td>\n",
       "      <td>self-employed</td>\n",
       "      <td>married</td>\n",
       "      <td>tertiary</td>\n",
       "      <td>yes</td>\n",
       "      <td>-3313</td>\n",
       "      <td>yes</td>\n",
       "      <td>yes</td>\n",
       "      <td>unknown</td>\n",
       "      <td>9</td>\n",
       "      <td>may</td>\n",
       "      <td>153</td>\n",
       "      <td>1</td>\n",
       "      <td>-1</td>\n",
       "      <td>0</td>\n",
       "      <td>unknown</td>\n",
       "      <td>no</td>\n",
       "    </tr>\n",
       "    <tr>\n",
       "      <th>4518</th>\n",
       "      <td>57</td>\n",
       "      <td>technician</td>\n",
       "      <td>married</td>\n",
       "      <td>secondary</td>\n",
       "      <td>no</td>\n",
       "      <td>295</td>\n",
       "      <td>no</td>\n",
       "      <td>no</td>\n",
       "      <td>cellular</td>\n",
       "      <td>19</td>\n",
       "      <td>aug</td>\n",
       "      <td>151</td>\n",
       "      <td>11</td>\n",
       "      <td>-1</td>\n",
       "      <td>0</td>\n",
       "      <td>unknown</td>\n",
       "      <td>no</td>\n",
       "    </tr>\n",
       "    <tr>\n",
       "      <th>4519</th>\n",
       "      <td>28</td>\n",
       "      <td>blue-collar</td>\n",
       "      <td>married</td>\n",
       "      <td>secondary</td>\n",
       "      <td>no</td>\n",
       "      <td>1137</td>\n",
       "      <td>no</td>\n",
       "      <td>no</td>\n",
       "      <td>cellular</td>\n",
       "      <td>6</td>\n",
       "      <td>feb</td>\n",
       "      <td>129</td>\n",
       "      <td>4</td>\n",
       "      <td>211</td>\n",
       "      <td>3</td>\n",
       "      <td>other</td>\n",
       "      <td>no</td>\n",
       "    </tr>\n",
       "    <tr>\n",
       "      <th>4520</th>\n",
       "      <td>44</td>\n",
       "      <td>entrepreneur</td>\n",
       "      <td>single</td>\n",
       "      <td>tertiary</td>\n",
       "      <td>no</td>\n",
       "      <td>1136</td>\n",
       "      <td>yes</td>\n",
       "      <td>yes</td>\n",
       "      <td>cellular</td>\n",
       "      <td>3</td>\n",
       "      <td>apr</td>\n",
       "      <td>345</td>\n",
       "      <td>2</td>\n",
       "      <td>249</td>\n",
       "      <td>7</td>\n",
       "      <td>other</td>\n",
       "      <td>no</td>\n",
       "    </tr>\n",
       "  </tbody>\n",
       "</table>\n",
       "<p>4521 rows × 17 columns</p>\n",
       "</div>"
      ],
      "text/plain": [
       "      age            job  marital  education default  balance housing loan   \n",
       "0      30     unemployed  married    primary      no     1787      no   no  \\\n",
       "1      33       services  married  secondary      no     4789     yes  yes   \n",
       "2      35     management   single   tertiary      no     1350     yes   no   \n",
       "3      30     management  married   tertiary      no     1476     yes  yes   \n",
       "4      59    blue-collar  married  secondary      no        0     yes   no   \n",
       "...   ...            ...      ...        ...     ...      ...     ...  ...   \n",
       "4516   33       services  married  secondary      no     -333     yes   no   \n",
       "4517   57  self-employed  married   tertiary     yes    -3313     yes  yes   \n",
       "4518   57     technician  married  secondary      no      295      no   no   \n",
       "4519   28    blue-collar  married  secondary      no     1137      no   no   \n",
       "4520   44   entrepreneur   single   tertiary      no     1136     yes  yes   \n",
       "\n",
       "       contact  day month  duration  campaign  pdays  previous poutcome   y  \n",
       "0     cellular   19   oct        79         1     -1         0  unknown  no  \n",
       "1     cellular   11   may       220         1    339         4  failure  no  \n",
       "2     cellular   16   apr       185         1    330         1  failure  no  \n",
       "3      unknown    3   jun       199         4     -1         0  unknown  no  \n",
       "4      unknown    5   may       226         1     -1         0  unknown  no  \n",
       "...        ...  ...   ...       ...       ...    ...       ...      ...  ..  \n",
       "4516  cellular   30   jul       329         5     -1         0  unknown  no  \n",
       "4517   unknown    9   may       153         1     -1         0  unknown  no  \n",
       "4518  cellular   19   aug       151        11     -1         0  unknown  no  \n",
       "4519  cellular    6   feb       129         4    211         3    other  no  \n",
       "4520  cellular    3   apr       345         2    249         7    other  no  \n",
       "\n",
       "[4521 rows x 17 columns]"
      ]
     },
     "execution_count": 2,
     "metadata": {},
     "output_type": "execute_result"
    }
   ],
   "source": [
    "bank_data = pd.read_csv('bank.csv', delimiter=';')\n",
    "bank_data"
   ]
  },
  {
   "cell_type": "markdown",
   "id": "5f5563f4-0932-4ef8-9e22-100af9047405",
   "metadata": {
    "slideshow": {
     "slide_type": "slide"
    },
    "tags": []
   },
   "source": [
    "## Two Sample t test\n",
    "\n",
    "Comparing two groups (housing yes/no) on their age difference. "
   ]
  },
  {
   "cell_type": "code",
   "execution_count": 3,
   "id": "4d4eddb3-1174-4acf-bbbe-89657d8edb05",
   "metadata": {
    "tags": []
   },
   "outputs": [
    {
     "name": "stdout",
     "output_type": "stream",
     "text": [
      "39.3747557639703\n",
      "43.51172273190622\n"
     ]
    }
   ],
   "source": [
    "## define samples\n",
    "group1 = bank_data[bank_data['housing']=='yes']\n",
    "group2 = bank_data[bank_data['housing']=='no']\n",
    "\n",
    "print(group1['age'].mean())\n",
    "print(group2['age'].mean())"
   ]
  },
  {
   "cell_type": "markdown",
   "id": "65f2c9cf-39d6-41fc-bdb2-85441c11179e",
   "metadata": {},
   "source": [
    "Those without a housing loan appear to be older, but is this a reasonable conclusion"
   ]
  },
  {
   "cell_type": "code",
   "execution_count": 4,
   "id": "9c9a85e9-8fd1-41e9-ae45-11a8170bcb7c",
   "metadata": {
    "tags": []
   },
   "outputs": [
    {
     "data": {
      "text/plain": [
       "(-13.285924321774523, 1.5281367117218135e-39, 4519.0)"
      ]
     },
     "execution_count": 4,
     "metadata": {},
     "output_type": "execute_result"
    }
   ],
   "source": [
    "# traditionally perform independent two sample t-test\n",
    "stats.weightstats.ttest_ind(group1['age'], group2['age'])"
   ]
  },
  {
   "cell_type": "code",
   "execution_count": 5,
   "id": "e7179dd7-5ebb-494e-abe7-d70fa1e52966",
   "metadata": {
    "tags": []
   },
   "outputs": [
    {
     "data": {
      "text/plain": [
       "(-12.771345935345085, 1.559912720111746e-36, 3464.966631382813)"
      ]
     },
     "execution_count": 5,
     "metadata": {},
     "output_type": "execute_result"
    }
   ],
   "source": [
    "stats.weightstats.ttest_ind(group1['age'], group2['age'],usevar='unequal')"
   ]
  },
  {
   "cell_type": "markdown",
   "id": "180065fc-4a61-4995-8df0-8ff28f92ccb4",
   "metadata": {
    "slideshow": {
     "slide_type": "slide"
    },
    "tags": []
   },
   "source": [
    "## Resampling methods\n",
    "\n",
    "Let's pretend our data is a population and we will sample from it instead.\n",
    "\n",
    "And let's sample 5,000 times"
   ]
  },
  {
   "cell_type": "code",
   "execution_count": 6,
   "id": "0f1bc2c7-4e4a-4e56-9dfc-efff6f26f154",
   "metadata": {
    "tags": []
   },
   "outputs": [],
   "source": [
    "n_iterations = 5000\n",
    "sample_size = 100\n",
    "t_stats = np.zeros(n_iterations)\n",
    "p_values = np.zeros(n_iterations)\n",
    "df = np.zeros(n_iterations)\n",
    "\n",
    "for i in range(n_iterations):\n",
    "    sample1 = np.random.choice(group1['age'], sample_size, replace=True )\n",
    "    sample2 = np.random.choice(group2['age'], sample_size, replace=True)\n",
    "    \n",
    "    t_stat, p_value, df = stats.weightstats.ttest_ind(\n",
    "        sample1, sample2, usevar='unequal'\n",
    "    )\n",
    "    \n",
    "    t_stats[i] = t_stat\n",
    "    p_values[i] = p_value"
   ]
  },
  {
   "cell_type": "code",
   "execution_count": 7,
   "id": "805cbde7-9d7d-4f88-9d99-629d0a5d72b3",
   "metadata": {
    "slideshow": {
     "slide_type": "slide"
    },
    "tags": []
   },
   "outputs": [
    {
     "data": {
      "image/png": "[encoded data removed]",
      "text/plain": [
       "<Figure size 1000x400 with 1 Axes>"
      ]
     },
     "metadata": {},
     "output_type": "display_data"
    }
   ],
   "source": [
    "plt.figure(figsize=(10,4))\n",
    "plt.hist(t_stats, bins=30, alpha=0.5)\n",
    "plt.xlabel('T-statistic')\n",
    "plt.ylabel('Frequency')\n",
    "plt.title('Distribution of t-statistics over multiple random samples')\n",
    "plt.show()"
   ]
  },
  {
   "cell_type": "code",
   "execution_count": 8,
   "id": "afe37823-34f4-4e6f-9cf7-852011456d3a",
   "metadata": {
    "tags": []
   },
   "outputs": [
    {
     "data": {
      "text/plain": [
       "0.7882"
      ]
     },
     "execution_count": 8,
     "metadata": {},
     "output_type": "execute_result"
    }
   ],
   "source": [
    "t_stats[t_stats <= -2].size/n_iterations"
   ]
  },
  {
   "cell_type": "code",
   "execution_count": 9,
   "id": "6f67fe6b-2e51-49e9-b6ea-093ec87a2fc6",
   "metadata": {
    "slideshow": {
     "slide_type": "slide"
    },
    "tags": []
   },
   "outputs": [
    {
     "data": {
      "image/png": "[encoded data removed]",
      "text/plain": [
       "<Figure size 1000x400 with 1 Axes>"
      ]
     },
     "metadata": {},
     "output_type": "display_data"
    }
   ],
   "source": [
    "plt.figure(figsize=(10,4))\n",
    "plt.hist(p_values, bins=30, alpha=0.5)\n",
    "plt.xlabel('P-value')\n",
    "plt.ylabel('Frequency')\n",
    "plt.title('Distribution of p-values over multiple random samples')\n",
    "plt.show()"
   ]
  },
  {
   "cell_type": "code",
   "execution_count": 10,
   "id": "87900c78-353b-4bdf-885e-940674a0f973",
   "metadata": {
    "tags": []
   },
   "outputs": [
    {
     "data": {
      "text/plain": [
       "0.7978"
      ]
     },
     "execution_count": 10,
     "metadata": {},
     "output_type": "execute_result"
    }
   ],
   "source": [
    "p_values[p_values <= 0.05].size/n_iterations"
   ]
  },
  {
   "cell_type": "markdown",
   "id": "418944ea-6f11-4c93-8518-d068aa79dd05",
   "metadata": {
    "slideshow": {
     "slide_type": "slide"
    },
    "tags": []
   },
   "source": [
    "## KW for more than 2 groups, non-parametric (otherwise ANOVA)\n",
    "\n",
    "Kruskal Wallis, a non-parameteric (no assumptions about the functional form so it is robust but conservative) examining differences in > 2 groups. It is found in scipy.\n",
    "\n",
    "Always need to run a post-hoc afterwards to interpret results.  Unfortunately it requires yet another library (scikit-posthocs)"
   ]
  },
  {
   "cell_type": "code",
   "execution_count": 11,
   "id": "7fc13113-df20-4ad4-ae53-1f913bffe032",
   "metadata": {
    "tags": []
   },
   "outputs": [
    {
     "data": {
      "text/plain": [
       "KruskalResult(statistic=6.71348505516922, pvalue=0.03484859258297617)"
      ]
     },
     "execution_count": 11,
     "metadata": {},
     "output_type": "execute_result"
    }
   ],
   "source": [
    "## define samples\n",
    "\n",
    "bank_data2 = bank_data[bank_data['poutcome'].isin(['failure','success'])].copy()\n",
    "bank_data2['poutcome'] = bank_data2['poutcome'].replace({'failure': 0, 'success': 1})\n",
    "\n",
    "bank_data_kw3 = bank_data2[bank_data2['job'].isin(\n",
    "    ['management','blue-collar','technician'])].copy()\n",
    "\n",
    "sp.stats.kruskal(bank_data_kw3['poutcome'][bank_data_kw3['job']=='management'],\n",
    "              bank_data_kw3['poutcome'][bank_data_kw3['job']=='blue-collar'],\n",
    "              bank_data_kw3['poutcome'][bank_data_kw3['job']=='technician'])"
   ]
  },
  {
   "cell_type": "markdown",
   "id": "c7d9b6a1-5196-4aed-a8b8-f320ae9590e6",
   "metadata": {
    "slideshow": {
     "slide_type": "slide"
    },
    "tags": []
   },
   "source": [
    "## Post-Hoc test\n",
    "\n",
    "We had a `from scikit_posthocs import posthoc_dunn` above\n",
    "\n",
    "Simple options: needs the dataframe, then val_col is the name of the value being compared, group_col is the grouping variable and p_adjust has different p-value adjustment options.\n",
    "\n",
    "Bonferroni is easy to compute but conservative and more likely to give false negative\n",
    "\n",
    "Hommel is computationally intensive but less likely to give false negative\n"
   ]
  },
  {
   "cell_type": "code",
   "execution_count": 12,
   "id": "7e29a1f8-3e1c-403e-869a-d5a6cc6e60bb",
   "metadata": {
    "slideshow": {
     "slide_type": "slide"
    },
    "tags": []
   },
   "outputs": [
    {
     "data": {
      "text/html": [
       "<div>\n",
       "<style scoped>\n",
       "    .dataframe tbody tr th:only-of-type {\n",
       "        vertical-align: middle;\n",
       "    }\n",
       "\n",
       "    .dataframe tbody tr th {\n",
       "        vertical-align: top;\n",
       "    }\n",
       "\n",
       "    .dataframe thead th {\n",
       "        text-align: right;\n",
       "    }\n",
       "</style>\n",
       "<table border=\"1\" class=\"dataframe\">\n",
       "  <thead>\n",
       "    <tr style=\"text-align: right;\">\n",
       "      <th></th>\n",
       "      <th>blue-collar</th>\n",
       "      <th>management</th>\n",
       "      <th>technician</th>\n",
       "    </tr>\n",
       "  </thead>\n",
       "  <tbody>\n",
       "    <tr>\n",
       "      <th>blue-collar</th>\n",
       "      <td>1.000000</td>\n",
       "      <td>1.00000</td>\n",
       "      <td>0.031877</td>\n",
       "    </tr>\n",
       "    <tr>\n",
       "      <th>management</th>\n",
       "      <td>1.000000</td>\n",
       "      <td>1.00000</td>\n",
       "      <td>0.255880</td>\n",
       "    </tr>\n",
       "    <tr>\n",
       "      <th>technician</th>\n",
       "      <td>0.031877</td>\n",
       "      <td>0.25588</td>\n",
       "      <td>1.000000</td>\n",
       "    </tr>\n",
       "  </tbody>\n",
       "</table>\n",
       "</div>"
      ],
      "text/plain": [
       "             blue-collar  management  technician\n",
       "blue-collar     1.000000     1.00000    0.031877\n",
       "management      1.000000     1.00000    0.255880\n",
       "technician      0.031877     0.25588    1.000000"
      ]
     },
     "execution_count": 12,
     "metadata": {},
     "output_type": "execute_result"
    }
   ],
   "source": [
    "dunn_df_bon = posthoc_dunn(\n",
    "    bank_data_kw3, val_col='poutcome', group_col='job', p_adjust='bonferroni'\n",
    ")\n",
    "dunn_df_bon"
   ]
  },
  {
   "cell_type": "code",
   "execution_count": 13,
   "id": "9bb52de1-f03a-4f77-946f-f19b622e0210",
   "metadata": {
    "tags": []
   },
   "outputs": [
    {
     "data": {
      "text/html": [
       "<div>\n",
       "<style scoped>\n",
       "    .dataframe tbody tr th:only-of-type {\n",
       "        vertical-align: middle;\n",
       "    }\n",
       "\n",
       "    .dataframe tbody tr th {\n",
       "        vertical-align: top;\n",
       "    }\n",
       "\n",
       "    .dataframe thead th {\n",
       "        text-align: right;\n",
       "    }\n",
       "</style>\n",
       "<table border=\"1\" class=\"dataframe\">\n",
       "  <thead>\n",
       "    <tr style=\"text-align: right;\">\n",
       "      <th></th>\n",
       "      <th>blue-collar</th>\n",
       "      <th>management</th>\n",
       "      <th>technician</th>\n",
       "    </tr>\n",
       "  </thead>\n",
       "  <tbody>\n",
       "    <tr>\n",
       "      <th>blue-collar</th>\n",
       "      <td>1.000000</td>\n",
       "      <td>0.341952</td>\n",
       "      <td>0.031877</td>\n",
       "    </tr>\n",
       "    <tr>\n",
       "      <th>management</th>\n",
       "      <td>0.341952</td>\n",
       "      <td>1.000000</td>\n",
       "      <td>0.170587</td>\n",
       "    </tr>\n",
       "    <tr>\n",
       "      <th>technician</th>\n",
       "      <td>0.031877</td>\n",
       "      <td>0.170587</td>\n",
       "      <td>1.000000</td>\n",
       "    </tr>\n",
       "  </tbody>\n",
       "</table>\n",
       "</div>"
      ],
      "text/plain": [
       "             blue-collar  management  technician\n",
       "blue-collar     1.000000    0.341952    0.031877\n",
       "management      0.341952    1.000000    0.170587\n",
       "technician      0.031877    0.170587    1.000000"
      ]
     },
     "execution_count": 13,
     "metadata": {},
     "output_type": "execute_result"
    }
   ],
   "source": [
    "dunn_df_hommel = posthoc_dunn(\n",
    "    bank_data_kw3, val_col='poutcome', group_col='job', p_adjust='hommel'\n",
    ")\n",
    "dunn_df_hommel"
   ]
  },
  {
   "cell_type": "markdown",
   "id": "d94df8f9-6799-4d72-b4e6-db3e534cc356",
   "metadata": {
    "slideshow": {
     "slide_type": "slide"
    },
    "tags": []
   },
   "source": [
    "## Resampling Kruskal Wallis results"
   ]
  },
  {
   "cell_type": "code",
   "execution_count": 14,
   "id": "40c1d7ec-8b20-4181-b466-c907072e15f8",
   "metadata": {
    "tags": []
   },
   "outputs": [],
   "source": [
    "n_iterations = 1000\n",
    "sample_size = 100\n",
    "K_results = np.zeros(n_iterations)\n",
    "Kp_values = np.zeros(n_iterations)\n",
    "\n",
    "for i in range(n_iterations):\n",
    "    sample1 = np.random.choice(\n",
    "        bank_data_kw3['poutcome'][bank_data_kw3['job']=='management'], sample_size)\n",
    "    sample2 = np.random.choice(\n",
    "        bank_data_kw3['poutcome'][bank_data_kw3['job']=='blue-collar'], sample_size)\n",
    "    sample3 = np.random.choice(\n",
    "        bank_data_kw3['poutcome'][bank_data_kw3['job']=='technician'], sample_size)\n",
    "    \n",
    "    k_stat, p_value = sp.stats.kruskal(\n",
    "        sample1, sample2, sample3,\n",
    "    )\n",
    "    \n",
    "    K_results[i] = k_stat\n",
    "    Kp_values[i] = p_value"
   ]
  },
  {
   "cell_type": "code",
   "execution_count": 15,
   "id": "26506d35-e978-4a4e-b444-fc454ade9edb",
   "metadata": {
    "slideshow": {
     "slide_type": "slide"
    },
    "tags": []
   },
   "outputs": [
    {
     "data": {
      "image/png": "[encoded data removed]",
      "text/plain": [
       "<Figure size 640x480 with 1 Axes>"
      ]
     },
     "metadata": {},
     "output_type": "display_data"
    }
   ],
   "source": [
    "plt.hist(K_results, bins=30, alpha=0.5)\n",
    "plt.xlabel('Kruskal Result')\n",
    "plt.ylabel('Frequency')\n",
    "plt.title('Distribution of Kruskal Results over multiple random samples')\n",
    "plt.show()"
   ]
  },
  {
   "cell_type": "code",
   "execution_count": 16,
   "id": "e0b87480-54df-4227-9099-8fbafd7ecd3f",
   "metadata": {
    "slideshow": {
     "slide_type": "slide"
    },
    "tags": []
   },
   "outputs": [
    {
     "data": {
      "image/png": "[encoded data removed]",
      "text/plain": [
       "<Figure size 640x480 with 1 Axes>"
      ]
     },
     "metadata": {},
     "output_type": "display_data"
    }
   ],
   "source": [
    "plt.hist(Kp_values, bins=30, alpha=0.5)\n",
    "plt.xlabel('P-value')\n",
    "plt.ylabel('Frequency')\n",
    "plt.title('Distribution of p-values over multiple random samples')\n",
    "plt.show()"
   ]
  },
  {
   "cell_type": "code",
   "execution_count": 17,
   "id": "5d40da33-9cbe-4f23-bfef-25c76455f958",
   "metadata": {
    "slideshow": {
     "slide_type": "slide"
    },
    "tags": []
   },
   "outputs": [
    {
     "data": {
      "text/plain": [
       "0.562"
      ]
     },
     "execution_count": 17,
     "metadata": {},
     "output_type": "execute_result"
    }
   ],
   "source": [
    "K_results[K_results >= 6].size/n_iterations"
   ]
  },
  {
   "cell_type": "code",
   "execution_count": 18,
   "id": "4dd2abc2-1ccf-44e6-af59-71815f1fbc76",
   "metadata": {
    "tags": []
   },
   "outputs": [
    {
     "data": {
      "text/plain": [
       "0.564"
      ]
     },
     "execution_count": 18,
     "metadata": {},
     "output_type": "execute_result"
    }
   ],
   "source": [
    "Kp_values[Kp_values <= 0.05].size/n_iterations"
   ]
  },
  {
   "cell_type": "markdown",
   "id": "03bcb344-f4d3-4b6d-a145-c7340ccd1c55",
   "metadata": {
    "slideshow": {
     "slide_type": "slide"
    },
    "tags": []
   },
   "source": [
    "## Basic Regression\n",
    "\n",
    "We have two files with a single set of values (heights and weights)\n",
    "\n",
    "Open and convert to a data frame"
   ]
  },
  {
   "cell_type": "code",
   "execution_count": 19,
   "id": "85607594-03ab-4c61-8d22-dbfd3c857b44",
   "metadata": {
    "tags": []
   },
   "outputs": [],
   "source": [
    "with open('heights.txt', 'r') as file:\n",
    "    x = []\n",
    "    for i in file:\n",
    "        x.append(float(i.strip()))\n",
    "with open('weights.txt', 'r') as file:\n",
    "    y = []\n",
    "    for i in file:\n",
    "        y.append(float(i.strip()))"
   ]
  },
  {
   "cell_type": "code",
   "execution_count": 20,
   "id": "3e64decd-a1a1-45aa-a553-4ecfc9637c51",
   "metadata": {
    "slideshow": {
     "slide_type": "slide"
    },
    "tags": []
   },
   "outputs": [
    {
     "data": {
      "text/html": [
       "<div>\n",
       "<style scoped>\n",
       "    .dataframe tbody tr th:only-of-type {\n",
       "        vertical-align: middle;\n",
       "    }\n",
       "\n",
       "    .dataframe tbody tr th {\n",
       "        vertical-align: top;\n",
       "    }\n",
       "\n",
       "    .dataframe thead th {\n",
       "        text-align: right;\n",
       "    }\n",
       "</style>\n",
       "<table border=\"1\" class=\"dataframe\">\n",
       "  <thead>\n",
       "    <tr style=\"text-align: right;\">\n",
       "      <th></th>\n",
       "      <th>intercept</th>\n",
       "      <th>height</th>\n",
       "      <th>weight</th>\n",
       "    </tr>\n",
       "  </thead>\n",
       "  <tbody>\n",
       "    <tr>\n",
       "      <th>0</th>\n",
       "      <td>1</td>\n",
       "      <td>0.7</td>\n",
       "      <td>6.9</td>\n",
       "    </tr>\n",
       "    <tr>\n",
       "      <th>1</th>\n",
       "      <td>1</td>\n",
       "      <td>1.0</td>\n",
       "      <td>13.0</td>\n",
       "    </tr>\n",
       "    <tr>\n",
       "      <th>2</th>\n",
       "      <td>1</td>\n",
       "      <td>2.0</td>\n",
       "      <td>100.0</td>\n",
       "    </tr>\n",
       "    <tr>\n",
       "      <th>3</th>\n",
       "      <td>1</td>\n",
       "      <td>0.6</td>\n",
       "      <td>8.5</td>\n",
       "    </tr>\n",
       "    <tr>\n",
       "      <th>4</th>\n",
       "      <td>1</td>\n",
       "      <td>1.1</td>\n",
       "      <td>19.0</td>\n",
       "    </tr>\n",
       "    <tr>\n",
       "      <th>...</th>\n",
       "      <td>...</td>\n",
       "      <td>...</td>\n",
       "      <td>...</td>\n",
       "    </tr>\n",
       "    <tr>\n",
       "      <th>776</th>\n",
       "      <td>1</td>\n",
       "      <td>9.2</td>\n",
       "      <td>999.9</td>\n",
       "    </tr>\n",
       "    <tr>\n",
       "      <th>777</th>\n",
       "      <td>1</td>\n",
       "      <td>0.3</td>\n",
       "      <td>0.1</td>\n",
       "    </tr>\n",
       "    <tr>\n",
       "      <th>778</th>\n",
       "      <td>1</td>\n",
       "      <td>5.5</td>\n",
       "      <td>888.0</td>\n",
       "    </tr>\n",
       "    <tr>\n",
       "      <th>779</th>\n",
       "      <td>1</td>\n",
       "      <td>2.4</td>\n",
       "      <td>230.0</td>\n",
       "    </tr>\n",
       "    <tr>\n",
       "      <th>780</th>\n",
       "      <td>1</td>\n",
       "      <td>1.0</td>\n",
       "      <td>80.5</td>\n",
       "    </tr>\n",
       "  </tbody>\n",
       "</table>\n",
       "<p>781 rows × 3 columns</p>\n",
       "</div>"
      ],
      "text/plain": [
       "     intercept  height  weight\n",
       "0            1     0.7     6.9\n",
       "1            1     1.0    13.0\n",
       "2            1     2.0   100.0\n",
       "3            1     0.6     8.5\n",
       "4            1     1.1    19.0\n",
       "..         ...     ...     ...\n",
       "776          1     9.2   999.9\n",
       "777          1     0.3     0.1\n",
       "778          1     5.5   888.0\n",
       "779          1     2.4   230.0\n",
       "780          1     1.0    80.5\n",
       "\n",
       "[781 rows x 3 columns]"
      ]
     },
     "execution_count": 20,
     "metadata": {},
     "output_type": "execute_result"
    }
   ],
   "source": [
    "df = pd.DataFrame({\n",
    "    'intercept' : 1,\n",
    "    'height': x,\n",
    "    'weight': y\n",
    "})\n",
    "df"
   ]
  },
  {
   "cell_type": "markdown",
   "id": "aa00e7ce-8ee6-4cb0-8595-45d1f7235e01",
   "metadata": {
    "slideshow": {
     "slide_type": "slide"
    },
    "tags": []
   },
   "source": [
    "### Working with Numpy\n",
    "\n",
    "You can put your linear algebra skills to work and program a regression. "
   ]
  },
  {
   "cell_type": "code",
   "execution_count": 21,
   "id": "2f9510b4-fa27-41ea-a962-6b8891e18749",
   "metadata": {
    "tags": []
   },
   "outputs": [],
   "source": [
    "# create X and y\n",
    "X = df[['intercept', 'height']].values\n",
    "y = df['weight'].values"
   ]
  },
  {
   "cell_type": "markdown",
   "id": "4d8be470-769a-481f-ae9b-e2984cbdc797",
   "metadata": {},
   "source": [
    "Find $X^T$ (X transpose)"
   ]
  },
  {
   "cell_type": "code",
   "execution_count": 22,
   "id": "7f15bde8-8ba9-4346-88dc-455af6ec8ce8",
   "metadata": {
    "tags": []
   },
   "outputs": [
    {
     "data": {
      "text/plain": [
       "array([[1. , 1. , 1. , ..., 1. , 1. , 1. ],\n",
       "       [0.7, 1. , 2. , ..., 5.5, 2.4, 1. ]])"
      ]
     },
     "execution_count": 22,
     "metadata": {},
     "output_type": "execute_result"
    }
   ],
   "source": [
    "X.T"
   ]
  },
  {
   "cell_type": "markdown",
   "id": "243f7711-3e33-46c0-96b3-dc8b4ac6f330",
   "metadata": {},
   "source": [
    "Find $X^TX$"
   ]
  },
  {
   "cell_type": "code",
   "execution_count": 23,
   "id": "9f61c376-d908-4d2b-9829-260560391619",
   "metadata": {
    "tags": []
   },
   "outputs": [
    {
     "data": {
      "text/plain": [
       "array([[ 781.  ,  909.  ],\n",
       "       [ 909.  , 1968.32]])"
      ]
     },
     "execution_count": 23,
     "metadata": {},
     "output_type": "execute_result"
    }
   ],
   "source": [
    "XtX = X.T @ X\n",
    "XtX"
   ]
  },
  {
   "cell_type": "markdown",
   "id": "7f9eb403-b9c8-4274-8b5f-25d9c8aa1cec",
   "metadata": {
    "slideshow": {
     "slide_type": "slide"
    },
    "tags": []
   },
   "source": [
    "Find $X^TY$"
   ]
  },
  {
   "cell_type": "code",
   "execution_count": 24,
   "id": "05db00fa-1657-40c6-9a27-93a47a0d6e95",
   "metadata": {
    "tags": []
   },
   "outputs": [
    {
     "data": {
      "text/plain": [
       "array([ 47936.3 , 113528.31])"
      ]
     },
     "execution_count": 24,
     "metadata": {},
     "output_type": "execute_result"
    }
   ],
   "source": [
    "XtY = X.T @ y\n",
    "XtY"
   ]
  },
  {
   "cell_type": "markdown",
   "id": "5dbd8c76-6039-4b1b-b7f5-ab636701ecf9",
   "metadata": {},
   "source": [
    "Find $(X^TX)^{-1}$ inverse of the $X^TX$ matrix"
   ]
  },
  {
   "cell_type": "code",
   "execution_count": 25,
   "id": "bf130ddf-58f5-4e6d-83eb-50009c645032",
   "metadata": {
    "tags": []
   },
   "outputs": [
    {
     "data": {
      "text/plain": [
       "array([[ 0.00276847, -0.00127852],\n",
       "       [-0.00127852,  0.00109849]])"
      ]
     },
     "execution_count": 25,
     "metadata": {},
     "output_type": "execute_result"
    }
   ],
   "source": [
    "XtXinv = np.linalg.inv(XtX) # note numpy function \n",
    "XtXinv"
   ]
  },
  {
   "cell_type": "markdown",
   "id": "6e640636-30d4-4496-92b2-9ef1921490de",
   "metadata": {
    "tags": []
   },
   "source": [
    "Find $\\hat{\\beta}=(X^TX)^{-1}X^TY$"
   ]
  },
  {
   "cell_type": "code",
   "execution_count": 26,
   "id": "8a3d9bc4-52b5-4e72-9936-ff5cc830aa94",
   "metadata": {
    "tags": []
   },
   "outputs": [
    {
     "data": {
      "text/plain": [
       "array([-12.43817559,  63.42190884])"
      ]
     },
     "execution_count": 26,
     "metadata": {},
     "output_type": "execute_result"
    }
   ],
   "source": [
    "beta_hat = XtXinv@XtY\n",
    "beta_hat"
   ]
  },
  {
   "cell_type": "markdown",
   "id": "a31409cf-b4ba-4b39-8077-dc3f2b861726",
   "metadata": {
    "slideshow": {
     "slide_type": "slide"
    },
    "tags": []
   },
   "source": [
    "## The more acceptable way to beta hat\n",
    "\n",
    "While our results are very close, the proper way to compute beta hat from numpy is to use their lstsq() function:"
   ]
  },
  {
   "cell_type": "code",
   "execution_count": 27,
   "id": "3c02b077-3e8d-4c7b-8c82-90a7d41259cf",
   "metadata": {
    "tags": []
   },
   "outputs": [
    {
     "name": "stdout",
     "output_type": "stream",
     "text": [
      "Estimated coefficients: [-12.43817559  63.42190884]\n"
     ]
    }
   ],
   "source": [
    "beta_hat_LS = np.linalg.lstsq(X, y, rcond=None)[0]\n",
    "\n",
    "print(f\"Estimated coefficients: {beta_hat_LS}\")"
   ]
  },
  {
   "cell_type": "markdown",
   "id": "3648a16f-b723-473f-a3f1-0008de3bf580",
   "metadata": {
    "slideshow": {
     "slide_type": "slide"
    },
    "tags": []
   },
   "source": [
    "## Create plots associated with regression\n",
    "\n",
    "We are using Numpy and Matplotlib here, while this is doable, it doesn't have many options."
   ]
  },
  {
   "cell_type": "code",
   "execution_count": 28,
   "id": "b781e1f8-1c8f-4068-9e99-7069ec1f63e9",
   "metadata": {
    "tags": []
   },
   "outputs": [
    {
     "data": {
      "image/png": "[encoded data removed]",
      "text/plain": [
       "<Figure size 1000x500 with 1 Axes>"
      ]
     },
     "metadata": {},
     "output_type": "display_data"
    }
   ],
   "source": [
    "plt.figure(figsize=(10,5))\n",
    "plt.plot(df['height'], df['weight'], 'o')\n",
    "#obtain m (slope) and b(intercept) of linear regression line\n",
    "m, b = beta_hat[1], beta_hat[0]\n",
    "#add linear regression line to scatterplot \n",
    "plt.plot(X, m*X+b);"
   ]
  },
  {
   "cell_type": "markdown",
   "id": "2e8dd228-7bc5-4316-a2d6-a234b5b2e221",
   "metadata": {
    "slideshow": {
     "slide_type": "slide"
    },
    "tags": []
   },
   "source": [
    "## For educational purposes only\n",
    "\n",
    "This is not recommended because the existing functions will perform this much quicker with greater accuracy and no errors BUT it is always nice to your hard won math skills at work."
   ]
  },
  {
   "cell_type": "code",
   "execution_count": 29,
   "id": "09b5ea52-84e2-4f3a-8ce0-800d1611b742",
   "metadata": {
    "tags": []
   },
   "outputs": [],
   "source": [
    "def matrix_inverse(A):\n",
    "    n = A.shape[0]  # Get the size of the matrix\n",
    "\n",
    "    # Create an augmented matrix [A|I]\n",
    "    AI = np.hstack((A, np.identity(n)))\n",
    "\n",
    "    # Apply Gauss-Jordan elimination\n",
    "    for i in range(n):\n",
    "        # Normalize the i-th row\n",
    "        AI[i] /= AI[i, i]\n",
    "\n",
    "        # Make all elements above and below the i-th element in the i-th column to be zero\n",
    "        for j in range(n):\n",
    "            if j != i:\n",
    "                AI[j] -= AI[j, i]*AI[i]\n",
    "\n",
    "    # The inverse of A is now the right half of the augmented matrix\n",
    "    return AI[:, n:]"
   ]
  },
  {
   "cell_type": "code",
   "execution_count": 30,
   "id": "932ee85d-74f7-48cb-ae51-6dddc6ecaf8f",
   "metadata": {
    "slideshow": {
     "slide_type": "slide"
    },
    "tags": []
   },
   "outputs": [
    {
     "name": "stdout",
     "output_type": "stream",
     "text": [
      "[[ 0.00276847 -0.00127852]\n",
      " [-0.00127852  0.00109849]]\n",
      "True\n"
     ]
    }
   ],
   "source": [
    "# Test our function\n",
    "XtX_inv = matrix_inverse(XtX)\n",
    "print(XtX_inv)\n",
    "\n",
    "# Check that XtX_inv is XtXinv\n",
    "print(np.allclose(XtX_inv, XtXinv))"
   ]
  },
  {
   "cell_type": "markdown",
   "id": "5e996e6b-9d08-4830-a221-876f26fbb484",
   "metadata": {
    "slideshow": {
     "slide_type": "slide"
    },
    "tags": []
   },
   "source": [
    "## R Style OLS\n",
    "\n",
    "It is a little nicer to just add variables to a function and obtain desired results.  The statsmodels library can do that for you.  In data theory or in grad school, the expectation is that you understand the underlying math."
   ]
  },
  {
   "cell_type": "code",
   "execution_count": 31,
   "id": "27bada45-9b6d-4f1b-807b-6141587b8692",
   "metadata": {
    "tags": []
   },
   "outputs": [
    {
     "data": {
      "text/html": [
       "<div>\n",
       "<style scoped>\n",
       "    .dataframe tbody tr th:only-of-type {\n",
       "        vertical-align: middle;\n",
       "    }\n",
       "\n",
       "    .dataframe tbody tr th {\n",
       "        vertical-align: top;\n",
       "    }\n",
       "\n",
       "    .dataframe thead th {\n",
       "        text-align: right;\n",
       "    }\n",
       "</style>\n",
       "<table border=\"1\" class=\"dataframe\">\n",
       "  <thead>\n",
       "    <tr style=\"text-align: right;\">\n",
       "      <th></th>\n",
       "      <th>const</th>\n",
       "      <th>height</th>\n",
       "    </tr>\n",
       "  </thead>\n",
       "  <tbody>\n",
       "    <tr>\n",
       "      <th>0</th>\n",
       "      <td>1.0</td>\n",
       "      <td>0.7</td>\n",
       "    </tr>\n",
       "    <tr>\n",
       "      <th>1</th>\n",
       "      <td>1.0</td>\n",
       "      <td>1.0</td>\n",
       "    </tr>\n",
       "    <tr>\n",
       "      <th>2</th>\n",
       "      <td>1.0</td>\n",
       "      <td>2.0</td>\n",
       "    </tr>\n",
       "    <tr>\n",
       "      <th>3</th>\n",
       "      <td>1.0</td>\n",
       "      <td>0.6</td>\n",
       "    </tr>\n",
       "  </tbody>\n",
       "</table>\n",
       "</div>"
      ],
      "text/plain": [
       "   const  height\n",
       "0    1.0     0.7\n",
       "1    1.0     1.0\n",
       "2    1.0     2.0\n",
       "3    1.0     0.6"
      ]
     },
     "execution_count": 31,
     "metadata": {},
     "output_type": "execute_result"
    }
   ],
   "source": [
    "# add constant to predictor variables to represent the intercept\n",
    "# without it, you are forcing the line through the origin\n",
    "height_1 = sm.add_constant(df['height'])\n",
    "height_1[:4]"
   ]
  },
  {
   "cell_type": "code",
   "execution_count": 32,
   "id": "85cd54ac-1720-497d-9b85-80c74bf00a5d",
   "metadata": {
    "tags": []
   },
   "outputs": [],
   "source": [
    "# fit linear regression model\n",
    "model = sm.OLS(df['weight'], height_1).fit()"
   ]
  },
  {
   "cell_type": "code",
   "execution_count": 33,
   "id": "370840ae-1c4b-4223-bc2d-c22235484117",
   "metadata": {
    "slideshow": {
     "slide_type": "slide"
    },
    "tags": []
   },
   "outputs": [
    {
     "data": {
      "text/html": [
       "<div style=\"font-size: 10px\"><table class=\"simpletable\">\n",
       "<caption>OLS Regression Results</caption>\n",
       "<tr>\n",
       "  <th>Dep. Variable:</th>         <td>weight</td>      <th>  R-squared:         </th> <td>   0.393</td>\n",
       "</tr>\n",
       "<tr>\n",
       "  <th>Model:</th>                   <td>OLS</td>       <th>  Adj. R-squared:    </th> <td>   0.392</td>\n",
       "</tr>\n",
       "<tr>\n",
       "  <th>Method:</th>             <td>Least Squares</td>  <th>  F-statistic:       </th> <td>   503.4</td>\n",
       "</tr>\n",
       "<tr>\n",
       "  <th>Date:</th>             <td>Mon, 22 May 2023</td> <th>  Prob (F-statistic):</th> <td>2.14e-86</td>\n",
       "</tr>\n",
       "<tr>\n",
       "  <th>Time:</th>                 <td>16:04:00</td>     <th>  Log-Likelihood:    </th> <td> -4579.5</td>\n",
       "</tr>\n",
       "<tr>\n",
       "  <th>No. Observations:</th>      <td>   781</td>      <th>  AIC:               </th> <td>   9163.</td>\n",
       "</tr>\n",
       "<tr>\n",
       "  <th>Df Residuals:</th>          <td>   779</td>      <th>  BIC:               </th> <td>   9172.</td>\n",
       "</tr>\n",
       "<tr>\n",
       "  <th>Df Model:</th>              <td>     1</td>      <th>                     </th>     <td> </td>   \n",
       "</tr>\n",
       "<tr>\n",
       "  <th>Covariance Type:</th>      <td>nonrobust</td>    <th>                     </th>     <td> </td>   \n",
       "</tr>\n",
       "</table>\n",
       "<table class=\"simpletable\">\n",
       "<tr>\n",
       "     <td></td>       <th>coef</th>     <th>std err</th>      <th>t</th>      <th>P>|t|</th>  <th>[0.025</th>    <th>0.975]</th>  \n",
       "</tr>\n",
       "<tr>\n",
       "  <th>const</th>  <td>  -12.4382</td> <td>    4.487</td> <td>   -2.772</td> <td> 0.006</td> <td>  -21.247</td> <td>   -3.630</td>\n",
       "</tr>\n",
       "<tr>\n",
       "  <th>height</th> <td>   63.4219</td> <td>    2.827</td> <td>   22.438</td> <td> 0.000</td> <td>   57.873</td> <td>   68.971</td>\n",
       "</tr>\n",
       "</table>\n",
       "<table class=\"simpletable\">\n",
       "<tr>\n",
       "  <th>Omnibus:</th>       <td>848.135</td> <th>  Durbin-Watson:     </th> <td>   1.792</td> \n",
       "</tr>\n",
       "<tr>\n",
       "  <th>Prob(Omnibus):</th> <td> 0.000</td>  <th>  Jarque-Bera (JB):  </th> <td>77583.078</td>\n",
       "</tr>\n",
       "<tr>\n",
       "  <th>Skew:</th>          <td> 5.008</td>  <th>  Prob(JB):          </th> <td>    0.00</td> \n",
       "</tr>\n",
       "<tr>\n",
       "  <th>Kurtosis:</th>      <td>50.789</td>  <th>  Cond. No.          </th> <td>    2.92</td> \n",
       "</tr>\n",
       "</table><br/><br/>Notes:<br/>[1] Standard Errors assume that the covariance matrix of the errors is correctly specified.</div>"
      ],
      "text/plain": [
       "<IPython.core.display.HTML object>"
      ]
     },
     "metadata": {},
     "output_type": "display_data"
    }
   ],
   "source": [
    "summary = model.summary().as_html()\n",
    "summary_html = '<div style=\"font-size: 10px\">{}</div>'.format(summary)\n",
    "display(HTML(summary_html))"
   ]
  },
  {
   "cell_type": "code",
   "execution_count": 34,
   "id": "189e4af6-de6c-4d79-9c23-4522d1534bad",
   "metadata": {
    "slideshow": {
     "slide_type": "slide"
    },
    "tags": []
   },
   "outputs": [
    {
     "data": {
      "text/html": [
       "<div style=\"font-size: 10px\"><table class=\"simpletable\">\n",
       "<caption>OLS Regression Results</caption>\n",
       "<tr>\n",
       "  <th>Dep. Variable:</th>         <td>weight</td>      <th>  R-squared:         </th> <td>   0.393</td>\n",
       "</tr>\n",
       "<tr>\n",
       "  <th>Model:</th>                   <td>OLS</td>       <th>  Adj. R-squared:    </th> <td>   0.392</td>\n",
       "</tr>\n",
       "<tr>\n",
       "  <th>Method:</th>             <td>Least Squares</td>  <th>  F-statistic:       </th> <td>   503.4</td>\n",
       "</tr>\n",
       "<tr>\n",
       "  <th>Date:</th>             <td>Mon, 22 May 2023</td> <th>  Prob (F-statistic):</th> <td>2.14e-86</td>\n",
       "</tr>\n",
       "<tr>\n",
       "  <th>Time:</th>                 <td>16:04:00</td>     <th>  Log-Likelihood:    </th> <td> -4579.5</td>\n",
       "</tr>\n",
       "<tr>\n",
       "  <th>No. Observations:</th>      <td>   781</td>      <th>  AIC:               </th> <td>   9163.</td>\n",
       "</tr>\n",
       "<tr>\n",
       "  <th>Df Residuals:</th>          <td>   779</td>      <th>  BIC:               </th> <td>   9172.</td>\n",
       "</tr>\n",
       "<tr>\n",
       "  <th>Df Model:</th>              <td>     1</td>      <th>                     </th>     <td> </td>   \n",
       "</tr>\n",
       "<tr>\n",
       "  <th>Covariance Type:</th>      <td>nonrobust</td>    <th>                     </th>     <td> </td>   \n",
       "</tr>\n",
       "</table>\n",
       "<table class=\"simpletable\">\n",
       "<tr>\n",
       "      <td></td>         <th>coef</th>     <th>std err</th>      <th>t</th>      <th>P>|t|</th>  <th>[0.025</th>    <th>0.975]</th>  \n",
       "</tr>\n",
       "<tr>\n",
       "  <th>Intercept</th> <td>  -12.4382</td> <td>    4.487</td> <td>   -2.772</td> <td> 0.006</td> <td>  -21.247</td> <td>   -3.630</td>\n",
       "</tr>\n",
       "<tr>\n",
       "  <th>height</th>    <td>   63.4219</td> <td>    2.827</td> <td>   22.438</td> <td> 0.000</td> <td>   57.873</td> <td>   68.971</td>\n",
       "</tr>\n",
       "</table>\n",
       "<table class=\"simpletable\">\n",
       "<tr>\n",
       "  <th>Omnibus:</th>       <td>848.135</td> <th>  Durbin-Watson:     </th> <td>   1.792</td> \n",
       "</tr>\n",
       "<tr>\n",
       "  <th>Prob(Omnibus):</th> <td> 0.000</td>  <th>  Jarque-Bera (JB):  </th> <td>77583.078</td>\n",
       "</tr>\n",
       "<tr>\n",
       "  <th>Skew:</th>          <td> 5.008</td>  <th>  Prob(JB):          </th> <td>    0.00</td> \n",
       "</tr>\n",
       "<tr>\n",
       "  <th>Kurtosis:</th>      <td>50.789</td>  <th>  Cond. No.          </th> <td>    2.92</td> \n",
       "</tr>\n",
       "</table><br/><br/>Notes:<br/>[1] Standard Errors assume that the covariance matrix of the errors is correctly specified.</div>"
      ],
      "text/plain": [
       "<IPython.core.display.HTML object>"
      ]
     },
     "metadata": {},
     "output_type": "display_data"
    }
   ],
   "source": [
    "#alternative fit linear regression model using a formula, adds the 1's for you\n",
    "model_alt = smf.ols('weight ~ height', data = df).fit()\n",
    "summary_alt = model_alt.summary().as_html()\n",
    "summary_alt_html = '<div style=\"font-size: 10px\">{}</div>'.format(summary_alt)\n",
    "display(HTML(summary_alt_html))\n"
   ]
  },
  {
   "cell_type": "markdown",
   "id": "3e1c3251-99e0-4781-aecb-184e79f99eb7",
   "metadata": {
    "slideshow": {
     "slide_type": "slide"
    },
    "tags": []
   },
   "source": [
    "## Produce the ANOVA table and predict results\n",
    "\n",
    "They can both do this."
   ]
  },
  {
   "cell_type": "code",
   "execution_count": 35,
   "id": "81e1498f-8425-436b-9c2c-a8fed13c1e53",
   "metadata": {
    "tags": []
   },
   "outputs": [
    {
     "data": {
      "text/html": [
       "<div>\n",
       "<style scoped>\n",
       "    .dataframe tbody tr th:only-of-type {\n",
       "        vertical-align: middle;\n",
       "    }\n",
       "\n",
       "    .dataframe tbody tr th {\n",
       "        vertical-align: top;\n",
       "    }\n",
       "\n",
       "    .dataframe thead th {\n",
       "        text-align: right;\n",
       "    }\n",
       "</style>\n",
       "<table border=\"1\" class=\"dataframe\">\n",
       "  <thead>\n",
       "    <tr style=\"text-align: right;\">\n",
       "      <th></th>\n",
       "      <th>df</th>\n",
       "      <th>sum_sq</th>\n",
       "      <th>mean_sq</th>\n",
       "      <th>F</th>\n",
       "      <th>PR(&gt;F)</th>\n",
       "    </tr>\n",
       "  </thead>\n",
       "  <tbody>\n",
       "    <tr>\n",
       "      <th>height</th>\n",
       "      <td>1.0</td>\n",
       "      <td>3.661703e+06</td>\n",
       "      <td>3.661703e+06</td>\n",
       "      <td>503.444563</td>\n",
       "      <td>2.143009e-86</td>\n",
       "    </tr>\n",
       "    <tr>\n",
       "      <th>Residual</th>\n",
       "      <td>779.0</td>\n",
       "      <td>5.665900e+06</td>\n",
       "      <td>7.273299e+03</td>\n",
       "      <td>NaN</td>\n",
       "      <td>NaN</td>\n",
       "    </tr>\n",
       "  </tbody>\n",
       "</table>\n",
       "</div>"
      ],
      "text/plain": [
       "             df        sum_sq       mean_sq           F        PR(>F)\n",
       "height      1.0  3.661703e+06  3.661703e+06  503.444563  2.143009e-86\n",
       "Residual  779.0  5.665900e+06  7.273299e+03         NaN           NaN"
      ]
     },
     "execution_count": 35,
     "metadata": {},
     "output_type": "execute_result"
    }
   ],
   "source": [
    "sm.stats.anova_lm(model_alt)"
   ]
  },
  {
   "cell_type": "code",
   "execution_count": 36,
   "id": "f7d0eccb-3190-4976-affc-cadd58ab5d18",
   "metadata": {
    "tags": []
   },
   "outputs": [
    {
     "data": {
      "text/plain": [
       "0    368.093277\n",
       "dtype: float64"
      ]
     },
     "execution_count": 36,
     "metadata": {},
     "output_type": "execute_result"
    }
   ],
   "source": [
    "model_alt.predict({'height' : 6})"
   ]
  },
  {
   "cell_type": "markdown",
   "id": "57a7c5fa-2070-4f2a-83b7-39c5be76aecc",
   "metadata": {
    "slideshow": {
     "slide_type": "slide"
    },
    "tags": []
   },
   "source": [
    "## Diagnostic plots - in statsmodels"
   ]
  },
  {
   "cell_type": "code",
   "execution_count": 37,
   "id": "e66ae0ab-8ed8-4906-882e-a25e75016917",
   "metadata": {
    "tags": []
   },
   "outputs": [
    {
     "data": {
      "image/png": "[encoded data removed]",
      "text/plain": [
       "<Figure size 1000x600 with 4 Axes>"
      ]
     },
     "metadata": {},
     "output_type": "display_data"
    }
   ],
   "source": [
    "# define figure size\n",
    "fig = plt.figure(figsize=(10,6))\n",
    "# produce regression plots\n",
    "fig = sm.graphics.plot_regress_exog(model_alt, 'height', fig=fig)"
   ]
  },
  {
   "cell_type": "markdown",
   "id": "45581f81-230f-4ba6-93a7-b6305d4746b9",
   "metadata": {
    "slideshow": {
     "slide_type": "slide"
    },
    "tags": []
   },
   "source": [
    "### sklearn.linear_model import LinearRegression\n",
    "\n",
    "Scikit-learn is a machine learning library that includes functions for linear regression.  It doesn't have many options for linear regression."
   ]
  },
  {
   "cell_type": "code",
   "execution_count": 38,
   "id": "44a76113-bbcc-47f6-8e99-4a47517f2bfa",
   "metadata": {
    "tags": []
   },
   "outputs": [],
   "source": [
    "# Create a numpy array of data:\n",
    "height = np.array(df['height'])\n",
    "weight = np.array(df['weight'])\n",
    "x = height.reshape((-1, 1)) # -1 derives the correct length\n",
    "y = weight\n",
    "\n",
    "# Create an instance of a linear regression model and fit it to the data with the fit() function:\n",
    "model = LinearRegression().fit(x, y) "
   ]
  },
  {
   "cell_type": "code",
   "execution_count": 39,
   "id": "702aa533-0a06-44e3-a40d-83205f93fa4a",
   "metadata": {
    "slideshow": {
     "slide_type": "slide"
    },
    "tags": []
   },
   "outputs": [
    {
     "name": "stdout",
     "output_type": "stream",
     "text": [
      "coefficient of determination: 0.39256633577869215\n",
      "intercept: -12.438175593660645\n",
      "slope: [63.42190884]\n"
     ]
    }
   ],
   "source": [
    "# Obtain the coefficient of determination by calling the model with the score() function, then print the coefficient:\n",
    "r_sq = model.score(x, y)\n",
    "print('coefficient of determination:', r_sq)\n",
    "\n",
    "# Print the Intercept:\n",
    "print('intercept:', model.intercept_)\n",
    "\n",
    "# Print the Slope:\n",
    "print('slope:', model.coef_) "
   ]
  },
  {
   "cell_type": "code",
   "execution_count": 40,
   "id": "f561f3ec-e2e3-4842-bfe1-26d9d26bc0c3",
   "metadata": {
    "slideshow": {
     "slide_type": "slide"
    },
    "tags": []
   },
   "outputs": [
    {
     "name": "stdout",
     "output_type": "stream",
     "text": [
      "Rank: 1\n",
      "Predicted response:\n",
      "[ 31.9571606   50.98373325 114.40564209  25.61496971  57.32592413\n",
      "  95.37906944  19.27277883  50.98373325  89.03687856   6.58839706]\n"
     ]
    },
    {
     "data": {
      "text/plain": [
       "61.37810499359796"
      ]
     },
     "execution_count": 40,
     "metadata": {},
     "output_type": "execute_result"
    }
   ],
   "source": [
    "# model rank - number of independent columns\n",
    "print(f\"Rank: {model.rank_}\")\n",
    "\n",
    "# Predict a Response and print it:\n",
    "y_pred = model.predict(x)\n",
    "print('Predicted response:', y_pred[0:10], sep='\\n')\n",
    "\n",
    "## of course we can work with the predicted values\n",
    "np.mean(y_pred)"
   ]
  },
  {
   "cell_type": "markdown",
   "id": "3fa23a0c-f4ed-45c5-a087-1836a6eb1f3c",
   "metadata": {
    "slideshow": {
     "slide_type": "slide"
    },
    "tags": []
   },
   "source": [
    "## Logistic Regression Example - statsmodels"
   ]
  },
  {
   "cell_type": "code",
   "execution_count": 41,
   "id": "af15e6c0-caa6-4c5e-aaaa-0b5708c45b75",
   "metadata": {
    "tags": []
   },
   "outputs": [],
   "source": [
    "# relationship between age and congestive heart disease\n",
    "chd = pd.read_csv(\"chdage.csv\")"
   ]
  },
  {
   "cell_type": "code",
   "execution_count": 42,
   "id": "480020cb-1024-4592-83bf-3a59af47520a",
   "metadata": {
    "tags": []
   },
   "outputs": [],
   "source": [
    "# the variable CHD is recorded as 0 or 1.\n",
    "# pd.Categorical makes the data categorical rather than integer\n",
    "chd.CHD = pd.Categorical(chd.CHD)"
   ]
  },
  {
   "cell_type": "code",
   "execution_count": 43,
   "id": "2558b55d-4e82-4a0a-a2e4-938405865d03",
   "metadata": {
    "tags": []
   },
   "outputs": [
    {
     "data": {
      "text/html": [
       "<div>\n",
       "<style scoped>\n",
       "    .dataframe tbody tr th:only-of-type {\n",
       "        vertical-align: middle;\n",
       "    }\n",
       "\n",
       "    .dataframe tbody tr th {\n",
       "        vertical-align: top;\n",
       "    }\n",
       "\n",
       "    .dataframe thead th {\n",
       "        text-align: right;\n",
       "    }\n",
       "</style>\n",
       "<table border=\"1\" class=\"dataframe\">\n",
       "  <thead>\n",
       "    <tr style=\"text-align: right;\">\n",
       "      <th></th>\n",
       "      <th>AGE</th>\n",
       "      <th>CHD</th>\n",
       "    </tr>\n",
       "  </thead>\n",
       "  <tbody>\n",
       "    <tr>\n",
       "      <th>0</th>\n",
       "      <td>20</td>\n",
       "      <td>0</td>\n",
       "    </tr>\n",
       "    <tr>\n",
       "      <th>1</th>\n",
       "      <td>23</td>\n",
       "      <td>0</td>\n",
       "    </tr>\n",
       "    <tr>\n",
       "      <th>2</th>\n",
       "      <td>24</td>\n",
       "      <td>0</td>\n",
       "    </tr>\n",
       "    <tr>\n",
       "      <th>3</th>\n",
       "      <td>25</td>\n",
       "      <td>1</td>\n",
       "    </tr>\n",
       "    <tr>\n",
       "      <th>4</th>\n",
       "      <td>25</td>\n",
       "      <td>0</td>\n",
       "    </tr>\n",
       "    <tr>\n",
       "      <th>...</th>\n",
       "      <td>...</td>\n",
       "      <td>...</td>\n",
       "    </tr>\n",
       "    <tr>\n",
       "      <th>95</th>\n",
       "      <td>63</td>\n",
       "      <td>1</td>\n",
       "    </tr>\n",
       "    <tr>\n",
       "      <th>96</th>\n",
       "      <td>64</td>\n",
       "      <td>1</td>\n",
       "    </tr>\n",
       "    <tr>\n",
       "      <th>97</th>\n",
       "      <td>64</td>\n",
       "      <td>0</td>\n",
       "    </tr>\n",
       "    <tr>\n",
       "      <th>98</th>\n",
       "      <td>65</td>\n",
       "      <td>1</td>\n",
       "    </tr>\n",
       "    <tr>\n",
       "      <th>99</th>\n",
       "      <td>69</td>\n",
       "      <td>1</td>\n",
       "    </tr>\n",
       "  </tbody>\n",
       "</table>\n",
       "<p>100 rows × 2 columns</p>\n",
       "</div>"
      ],
      "text/plain": [
       "    AGE CHD\n",
       "0    20   0\n",
       "1    23   0\n",
       "2    24   0\n",
       "3    25   1\n",
       "4    25   0\n",
       "..  ...  ..\n",
       "95   63   1\n",
       "96   64   1\n",
       "97   64   0\n",
       "98   65   1\n",
       "99   69   1\n",
       "\n",
       "[100 rows x 2 columns]"
      ]
     },
     "execution_count": 43,
     "metadata": {},
     "output_type": "execute_result"
    }
   ],
   "source": [
    "chd"
   ]
  },
  {
   "cell_type": "code",
   "execution_count": 44,
   "id": "7907a059-3aa7-422d-abc0-3e4e56e729c1",
   "metadata": {
    "slideshow": {
     "slide_type": "slide"
    },
    "tags": []
   },
   "outputs": [
    {
     "data": {
      "text/plain": [
       "AGE       int64\n",
       "CHD    category\n",
       "dtype: object"
      ]
     },
     "execution_count": 44,
     "metadata": {},
     "output_type": "execute_result"
    }
   ],
   "source": [
    "# change in data type is reflected here.\n",
    "chd.dtypes"
   ]
  },
  {
   "cell_type": "code",
   "execution_count": 45,
   "id": "86f138ea-5ff5-42ee-b07d-26e2e77d24d4",
   "metadata": {
    "tags": []
   },
   "outputs": [
    {
     "data": {
      "image/png": "[encoded data removed]",
      "text/plain": [
       "<Figure size 640x480 with 1 Axes>"
      ]
     },
     "metadata": {},
     "output_type": "display_data"
    }
   ],
   "source": [
    "plt.scatter(chd.AGE, chd.CHD, alpha = 0.5);"
   ]
  },
  {
   "cell_type": "code",
   "execution_count": 46,
   "id": "f04cb6a0-7c12-4205-991b-fea0f2fb4022",
   "metadata": {
    "slideshow": {
     "slide_type": "slide"
    },
    "tags": []
   },
   "outputs": [
    {
     "data": {
      "image/png": "[encoded data removed]",
      "text/plain": [
       "<Figure size 640x480 with 1 Axes>"
      ]
     },
     "metadata": {},
     "output_type": "display_data"
    }
   ],
   "source": [
    "# seaborn swarm plot shows the density of values\n",
    "sns.swarmplot(x = \"AGE\", y = \"CHD\", data = chd, orient = \"horizontal\", order = [1,0]);"
   ]
  },
  {
   "cell_type": "code",
   "execution_count": 47,
   "id": "a0c09210-8353-4f36-89ce-9d46baf115b8",
   "metadata": {
    "slideshow": {
     "slide_type": "slide"
    },
    "tags": []
   },
   "outputs": [
    {
     "data": {
      "image/png": "[encoded data removed]",
      "text/plain": [
       "<Figure size 640x480 with 1 Axes>"
      ]
     },
     "metadata": {},
     "output_type": "display_data"
    }
   ],
   "source": [
    "# shows potential logistic regression curve\n",
    "sns.regplot(x=\"AGE\", y=\"CHD\", data=chd, logistic=True, ci=None);"
   ]
  },
  {
   "cell_type": "markdown",
   "id": "7b5865ec-b73e-4138-aa79-5498bb52378d",
   "metadata": {
    "slideshow": {
     "slide_type": "skip"
    },
    "tags": []
   },
   "source": [
    "$$y_i = 1 / \\exp( - (\\beta_0 + \\beta_1 x_i + \\epsilon_i) )$$\n",
    "\n",
    "$$\\mathbf{\\hat{Y}} =1 / \\exp( -\\mathbf{X} \\boldsymbol{\\beta})$$\n"
   ]
  },
  {
   "cell_type": "code",
   "execution_count": 48,
   "id": "bc2c07b9-4eb6-4425-807d-54928812b2fa",
   "metadata": {
    "slideshow": {
     "slide_type": "slide"
    },
    "tags": []
   },
   "outputs": [
    {
     "name": "stdout",
     "output_type": "stream",
     "text": [
      "Optimization terminated successfully.\n",
      "         Current function value: 0.536765\n",
      "         Iterations 6\n"
     ]
    }
   ],
   "source": [
    "array_age = sm.add_constant(chd.AGE)\n",
    "log_reg = sm.Logit(chd.CHD, array_age).fit()"
   ]
  },
  {
   "cell_type": "code",
   "execution_count": 49,
   "id": "e7c1c353-4ba1-4ac3-b831-cca07190dc76",
   "metadata": {
    "tags": []
   },
   "outputs": [
    {
     "data": {
      "text/html": [
       "<div style=\"font-size: 10px\"><table class=\"simpletable\">\n",
       "<caption>Logit Regression Results</caption>\n",
       "<tr>\n",
       "  <th>Dep. Variable:</th>          <td>CHD</td>       <th>  No. Observations:  </th>  <td>   100</td>  \n",
       "</tr>\n",
       "<tr>\n",
       "  <th>Model:</th>                 <td>Logit</td>      <th>  Df Residuals:      </th>  <td>    98</td>  \n",
       "</tr>\n",
       "<tr>\n",
       "  <th>Method:</th>                 <td>MLE</td>       <th>  Df Model:          </th>  <td>     1</td>  \n",
       "</tr>\n",
       "<tr>\n",
       "  <th>Date:</th>            <td>Mon, 22 May 2023</td> <th>  Pseudo R-squ.:     </th>  <td>0.2145</td>  \n",
       "</tr>\n",
       "<tr>\n",
       "  <th>Time:</th>                <td>16:04:01</td>     <th>  Log-Likelihood:    </th> <td> -53.677</td> \n",
       "</tr>\n",
       "<tr>\n",
       "  <th>converged:</th>             <td>True</td>       <th>  LL-Null:           </th> <td> -68.331</td> \n",
       "</tr>\n",
       "<tr>\n",
       "  <th>Covariance Type:</th>     <td>nonrobust</td>    <th>  LLR p-value:       </th> <td>6.168e-08</td>\n",
       "</tr>\n",
       "</table>\n",
       "<table class=\"simpletable\">\n",
       "<tr>\n",
       "    <td></td>       <th>coef</th>     <th>std err</th>      <th>z</th>      <th>P>|z|</th>  <th>[0.025</th>    <th>0.975]</th>  \n",
       "</tr>\n",
       "<tr>\n",
       "  <th>const</th> <td>   -5.3095</td> <td>    1.134</td> <td>   -4.683</td> <td> 0.000</td> <td>   -7.531</td> <td>   -3.088</td>\n",
       "</tr>\n",
       "<tr>\n",
       "  <th>AGE</th>   <td>    0.1109</td> <td>    0.024</td> <td>    4.610</td> <td> 0.000</td> <td>    0.064</td> <td>    0.158</td>\n",
       "</tr>\n",
       "</table></div>"
      ],
      "text/plain": [
       "<IPython.core.display.HTML object>"
      ]
     },
     "metadata": {},
     "output_type": "display_data"
    }
   ],
   "source": [
    "summary_log_reg = log_reg.summary().as_html()\n",
    "summary_log_reg_html = '<div style=\"font-size: 10px\">{}</div>'.format(summary_log_reg)\n",
    "display(HTML(summary_log_reg_html))\n"
   ]
  },
  {
   "cell_type": "code",
   "execution_count": 50,
   "id": "f83d7ee9-4697-48f8-b906-312228517b4c",
   "metadata": {
    "slideshow": {
     "slide_type": "slide"
    },
    "tags": []
   },
   "outputs": [
    {
     "data": {
      "text/plain": [
       "const    0.004945\n",
       "AGE      1.117307\n",
       "dtype: float64"
      ]
     },
     "execution_count": 50,
     "metadata": {},
     "output_type": "execute_result"
    }
   ],
   "source": [
    "np.exp(log_reg.params)"
   ]
  },
  {
   "cell_type": "markdown",
   "id": "862e943d-3a54-47e2-9e00-b948a81bd047",
   "metadata": {},
   "source": [
    "Interpretation - all other things being equal (controlling for other factors), for each one-year increase in age, we would expect about a 11.7% increase in the odds of CHD."
   ]
  },
  {
   "cell_type": "code",
   "execution_count": 51,
   "id": "e2ebf01f-7fce-46ae-bf5f-e86ea0570418",
   "metadata": {
    "slideshow": {
     "slide_type": "slide"
    },
    "tags": []
   },
   "outputs": [
    {
     "data": {
      "image/png": "[encoded data removed]",
      "text/plain": [
       "<Figure size 640x480 with 1 Axes>"
      ]
     },
     "metadata": {},
     "output_type": "display_data"
    }
   ],
   "source": [
    "plt.scatter(chd.AGE, chd.CHD, alpha = 0.5)\n",
    "plt.plot(chd.AGE, log_reg.predict(), color = 'orange')\n",
    "plt.axhline(y = 0.5, color = 'red', linestyle = '--') # adding a horizontal line at y = 0.5\n",
    "plt.show() # curve based on predictions"
   ]
  },
  {
   "cell_type": "markdown",
   "id": "8011d72c-83ad-446b-9164-4844d75052f3",
   "metadata": {
    "slideshow": {
     "slide_type": "slide"
    },
    "tags": []
   },
   "source": [
    "## scikit learn Logistic regression\n",
    "\n",
    "Not very different but has more modern tools."
   ]
  },
  {
   "cell_type": "code",
   "execution_count": 52,
   "id": "5a42be35-3c00-45d6-a2d2-f6782a3b1f7a",
   "metadata": {
    "tags": []
   },
   "outputs": [
    {
     "data": {
      "text/html": [
       "<style>#sk-container-id-1 {color: black;background-color: white;}#sk-container-id-1 pre{padding: 0;}#sk-container-id-1 div.sk-toggleable {background-color: white;}#sk-container-id-1 label.sk-toggleable__label {cursor: pointer;display: block;width: 100%;margin-bottom: 0;padding: 0.3em;box-sizing: border-box;text-align: center;}#sk-container-id-1 label.sk-toggleable__label-arrow:before {content: \"▸\";float: left;margin-right: 0.25em;color: #696969;}#sk-container-id-1 label.sk-toggleable__label-arrow:hover:before {color: black;}#sk-container-id-1 div.sk-estimator:hover label.sk-toggleable__label-arrow:before {color: black;}#sk-container-id-1 div.sk-toggleable__content {max-height: 0;max-width: 0;overflow: hidden;text-align: left;background-color: #f0f8ff;}#sk-container-id-1 div.sk-toggleable__content pre {margin: 0.2em;color: black;border-radius: 0.25em;background-color: #f0f8ff;}#sk-container-id-1 input.sk-toggleable__control:checked~div.sk-toggleable__content {max-height: 200px;max-width: 100%;overflow: auto;}#sk-container-id-1 input.sk-toggleable__control:checked~label.sk-toggleable__label-arrow:before {content: \"▾\";}#sk-container-id-1 div.sk-estimator input.sk-toggleable__control:checked~label.sk-toggleable__label {background-color: #d4ebff;}#sk-container-id-1 div.sk-label input.sk-toggleable__control:checked~label.sk-toggleable__label {background-color: #d4ebff;}#sk-container-id-1 input.sk-hidden--visually {border: 0;clip: rect(1px 1px 1px 1px);clip: rect(1px, 1px, 1px, 1px);height: 1px;margin: -1px;overflow: hidden;padding: 0;position: absolute;width: 1px;}#sk-container-id-1 div.sk-estimator {font-family: monospace;background-color: #f0f8ff;border: 1px dotted black;border-radius: 0.25em;box-sizing: border-box;margin-bottom: 0.5em;}#sk-container-id-1 div.sk-estimator:hover {background-color: #d4ebff;}#sk-container-id-1 div.sk-parallel-item::after {content: \"\";width: 100%;border-bottom: 1px solid gray;flex-grow: 1;}#sk-container-id-1 div.sk-label:hover label.sk-toggleable__label {background-color: #d4ebff;}#sk-container-id-1 div.sk-serial::before {content: \"\";position: absolute;border-left: 1px solid gray;box-sizing: border-box;top: 0;bottom: 0;left: 50%;z-index: 0;}#sk-container-id-1 div.sk-serial {display: flex;flex-direction: column;align-items: center;background-color: white;padding-right: 0.2em;padding-left: 0.2em;position: relative;}#sk-container-id-1 div.sk-item {position: relative;z-index: 1;}#sk-container-id-1 div.sk-parallel {display: flex;align-items: stretch;justify-content: center;background-color: white;position: relative;}#sk-container-id-1 div.sk-item::before, #sk-container-id-1 div.sk-parallel-item::before {content: \"\";position: absolute;border-left: 1px solid gray;box-sizing: border-box;top: 0;bottom: 0;left: 50%;z-index: -1;}#sk-container-id-1 div.sk-parallel-item {display: flex;flex-direction: column;z-index: 1;position: relative;background-color: white;}#sk-container-id-1 div.sk-parallel-item:first-child::after {align-self: flex-end;width: 50%;}#sk-container-id-1 div.sk-parallel-item:last-child::after {align-self: flex-start;width: 50%;}#sk-container-id-1 div.sk-parallel-item:only-child::after {width: 0;}#sk-container-id-1 div.sk-dashed-wrapped {border: 1px dashed gray;margin: 0 0.4em 0.5em 0.4em;box-sizing: border-box;padding-bottom: 0.4em;background-color: white;}#sk-container-id-1 div.sk-label label {font-family: monospace;font-weight: bold;display: inline-block;line-height: 1.2em;}#sk-container-id-1 div.sk-label-container {text-align: center;}#sk-container-id-1 div.sk-container {/* jupyter's `normalize.less` sets `[hidden] { display: none; }` but bootstrap.min.css set `[hidden] { display: none !important; }` so we also need the `!important` here to be able to override the default hidden behavior on the sphinx rendered scikit-learn.org. See: https://github.com/scikit-learn/scikit-learn/issues/21755 */display: inline-block !important;position: relative;}#sk-container-id-1 div.sk-text-repr-fallback {display: none;}</style><div id=\"sk-container-id-1\" class=\"sk-top-container\"><div class=\"sk-text-repr-fallback\"><pre>LogisticRegression(C=100000.0, solver=&#x27;liblinear&#x27;)</pre><b>In a Jupyter environment, please rerun this cell to show the HTML representation or trust the notebook. <br />On GitHub, the HTML representation is unable to render, please try loading this page with nbviewer.org.</b></div><div class=\"sk-container\" hidden><div class=\"sk-item\"><div class=\"sk-estimator sk-toggleable\"><input class=\"sk-toggleable__control sk-hidden--visually\" id=\"sk-estimator-id-1\" type=\"checkbox\" checked><label for=\"sk-estimator-id-1\" class=\"sk-toggleable__label sk-toggleable__label-arrow\">LogisticRegression</label><div class=\"sk-toggleable__content\"><pre>LogisticRegression(C=100000.0, solver=&#x27;liblinear&#x27;)</pre></div></div></div></div></div>"
      ],
      "text/plain": [
       "LogisticRegression(C=100000.0, solver='liblinear')"
      ]
     },
     "execution_count": 52,
     "metadata": {},
     "output_type": "execute_result"
    }
   ],
   "source": [
    "# Fit the classifier\n",
    "clf = LogisticRegression(C=1e5, solver='liblinear') \n",
    "clf.fit(array_age, chd.CHD)"
   ]
  },
  {
   "cell_type": "markdown",
   "id": "fe02260c-fbd8-4172-8913-b5026bd467e8",
   "metadata": {},
   "source": [
    "C is regularization strength. Higher regularization strength increases the penalty on the model's complexity. Low strength increases complexity and the chance of overfitting the data.\n",
    "\n",
    "Solver is the optimization algorithm selection, this one is good for small datasets."
   ]
  },
  {
   "cell_type": "code",
   "execution_count": 53,
   "id": "e8d75ac2-e5e1-4b84-aa48-789bcb04260d",
   "metadata": {
    "slideshow": {
     "slide_type": "slide"
    },
    "tags": []
   },
   "outputs": [
    {
     "data": {
      "text/plain": [
       "array([0, 0, 0, 0, 0, 0, 0, 0, 0, 0, 0, 0, 0, 0, 0, 0, 0, 0, 0, 0, 0, 0,\n",
       "       0, 0, 0, 0, 0, 0, 0, 0, 0, 0, 0, 0, 0, 0, 0, 0, 0, 0, 0, 0, 0, 0,\n",
       "       0, 0, 0, 0, 0, 0, 0, 0, 0, 0, 0, 0, 0, 0, 0, 1, 1, 1, 1, 1, 1, 1,\n",
       "       1, 1, 1, 1, 1, 1, 1, 1, 1, 1, 1, 1, 1, 1, 1, 1, 1, 1, 1, 1, 1, 1,\n",
       "       1, 1, 1, 1, 1, 1, 1, 1, 1, 1, 1, 1])"
      ]
     },
     "execution_count": 53,
     "metadata": {},
     "output_type": "execute_result"
    }
   ],
   "source": [
    "y_pred=clf.predict(array_age) \n",
    "y_pred"
   ]
  },
  {
   "cell_type": "code",
   "execution_count": 54,
   "id": "8b3d4b71-d8fb-4593-9ef4-7a882e58697d",
   "metadata": {
    "tags": []
   },
   "outputs": [
    {
     "data": {
      "text/plain": [
       "array([[45, 12],\n",
       "       [14, 29]])"
      ]
     },
     "execution_count": 54,
     "metadata": {},
     "output_type": "execute_result"
    }
   ],
   "source": [
    "cnf_matrix = metrics.confusion_matrix(chd.CHD, y_pred) \n",
    "cnf_matrix "
   ]
  },
  {
   "cell_type": "markdown",
   "id": "882e0071-9cb0-4131-9cf1-52d7f3dcda98",
   "metadata": {
    "slideshow": {
     "slide_type": "slide"
    },
    "tags": []
   },
   "source": [
    "## Generating a confusion matrix plot"
   ]
  },
  {
   "cell_type": "markdown",
   "id": "68367b43-5a54-4697-a6e3-6f3434571500",
   "metadata": {
    "tags": []
   },
   "source": [
    "```\n",
    "class_names=[0,1] # name  of classes \n",
    "plt.figure(figsize=(9,3))\n",
    "fig, ax = plt.subplots()\n",
    "tick_marks = np.arange(len(class_names)) \n",
    "plt.xticks(tick_marks, class_names) \n",
    "plt.yticks(tick_marks, class_names) \n",
    "\n",
    "# create heatmap \n",
    "sns.heatmap(pd.DataFrame(cnf_matrix), annot=True, cmap=\"Blues\" ,fmt='g')\n",
    "ax.xaxis.set_label_position(\"top\") \n",
    "plt.tight_layout()\n",
    "plt.title('Confusion matrix', y=1.1) \n",
    "plt.ylabel('Actual label') \n",
    "plt.xlabel('Predicted label');\n",
    "```"
   ]
  },
  {
   "attachments": {
    "a45b866e-bf98-4e84-9d3a-1d597dc506d5.png": {
     "image/png": "[encoded data removed]"
    }
   },
   "cell_type": "markdown",
   "id": "ff7a3276-98ef-4a4e-a85d-d2e3220529f9",
   "metadata": {
    "slideshow": {
     "slide_type": "slide"
    },
    "tags": []
   },
   "source": [
    "![plot1.png](attachment:a45b866e-bf98-4e84-9d3a-1d597dc506d5.png)"
   ]
  },
  {
   "cell_type": "code",
   "execution_count": 55,
   "id": "61636f98-6932-452d-9e75-fc8aa88cd2d9",
   "metadata": {
    "slideshow": {
     "slide_type": "slide"
    },
    "tags": []
   },
   "outputs": [
    {
     "name": "stdout",
     "output_type": "stream",
     "text": [
      "Accuracy: 0.74\n",
      "Precision: 0.7073170731707317\n",
      "Recall: 0.6744186046511628\n"
     ]
    }
   ],
   "source": [
    "print(\"Accuracy:\",metrics.accuracy_score(chd.CHD, y_pred))  \n",
    "# proportion correctly predicted\n",
    "print(\"Precision:\",metrics.precision_score(chd.CHD, y_pred)) \n",
    "# the ratio true pos / (tp + fp) \n",
    "print(\"Recall:\",metrics.recall_score(chd.CHD, y_pred)) \n",
    "# tp / (tp + fn) finding all pos."
   ]
  },
  {
   "cell_type": "markdown",
   "id": "27346b0e-698c-4aef-b891-ecd7434303a4",
   "metadata": {
    "slideshow": {
     "slide_type": "slide"
    },
    "tags": []
   },
   "source": [
    "## How to sample/split your data\n",
    "\n",
    "We split data into train and test to avoid overfitting.  In other words, rather than relying too much on the specific quirks of the one sample that we have -- we divide it as if we had more than one sample."
   ]
  },
  {
   "cell_type": "markdown",
   "id": "8280fcea-3076-476d-92f1-4008ae5227c7",
   "metadata": {},
   "source": [
    "![img](https://algotrading101.com/learn/wp-content/uploads/2020/06/training-validation-test-data-set.png)\n",
    "\n"
   ]
  },
  {
   "cell_type": "markdown",
   "id": "ad31b88f-080b-4d7a-b5a0-96c6bf2ecfca",
   "metadata": {
    "slideshow": {
     "slide_type": "slide"
    },
    "tags": []
   },
   "source": [
    "In Machine Learning, the primary way scientists select the best model is through the use of test sets and cross-validation.\n",
    "\n",
    "The idea of a test set works as follows:\n",
    "\n",
    "- Take all of the available data and split it into two parts - a training set and a test set.\n",
    "- Using only the training portion, you will estimate the parameters of several competing models.\n"
   ]
  },
  {
   "cell_type": "code",
   "execution_count": 56,
   "id": "38d1ca25-5983-4a2f-921c-9e20c44a8030",
   "metadata": {
    "slideshow": {
     "slide_type": "slide"
    },
    "tags": []
   },
   "outputs": [
    {
     "data": {
      "text/html": [
       "<div>\n",
       "<style scoped>\n",
       "    .dataframe tbody tr th:only-of-type {\n",
       "        vertical-align: middle;\n",
       "    }\n",
       "\n",
       "    .dataframe tbody tr th {\n",
       "        vertical-align: top;\n",
       "    }\n",
       "\n",
       "    .dataframe thead th {\n",
       "        text-align: right;\n",
       "    }\n",
       "</style>\n",
       "<table border=\"1\" class=\"dataframe\">\n",
       "  <thead>\n",
       "    <tr style=\"text-align: right;\">\n",
       "      <th></th>\n",
       "      <th>1</th>\n",
       "      <th>2</th>\n",
       "      <th>3</th>\n",
       "      <th>4</th>\n",
       "      <th>5</th>\n",
       "      <th>6</th>\n",
       "      <th>7</th>\n",
       "      <th>8</th>\n",
       "      <th>9</th>\n",
       "      <th>10</th>\n",
       "    </tr>\n",
       "    <tr>\n",
       "      <th>0</th>\n",
       "      <th></th>\n",
       "      <th></th>\n",
       "      <th></th>\n",
       "      <th></th>\n",
       "      <th></th>\n",
       "      <th></th>\n",
       "      <th></th>\n",
       "      <th></th>\n",
       "      <th></th>\n",
       "      <th></th>\n",
       "    </tr>\n",
       "  </thead>\n",
       "  <tbody>\n",
       "    <tr>\n",
       "      <th>1000025</th>\n",
       "      <td>5</td>\n",
       "      <td>1</td>\n",
       "      <td>1</td>\n",
       "      <td>1</td>\n",
       "      <td>2</td>\n",
       "      <td>1</td>\n",
       "      <td>3</td>\n",
       "      <td>1</td>\n",
       "      <td>1</td>\n",
       "      <td>2</td>\n",
       "    </tr>\n",
       "    <tr>\n",
       "      <th>1002945</th>\n",
       "      <td>5</td>\n",
       "      <td>4</td>\n",
       "      <td>4</td>\n",
       "      <td>5</td>\n",
       "      <td>7</td>\n",
       "      <td>10</td>\n",
       "      <td>3</td>\n",
       "      <td>2</td>\n",
       "      <td>1</td>\n",
       "      <td>2</td>\n",
       "    </tr>\n",
       "    <tr>\n",
       "      <th>1015425</th>\n",
       "      <td>3</td>\n",
       "      <td>1</td>\n",
       "      <td>1</td>\n",
       "      <td>1</td>\n",
       "      <td>2</td>\n",
       "      <td>2</td>\n",
       "      <td>3</td>\n",
       "      <td>1</td>\n",
       "      <td>1</td>\n",
       "      <td>2</td>\n",
       "    </tr>\n",
       "    <tr>\n",
       "      <th>1016277</th>\n",
       "      <td>6</td>\n",
       "      <td>8</td>\n",
       "      <td>8</td>\n",
       "      <td>1</td>\n",
       "      <td>3</td>\n",
       "      <td>4</td>\n",
       "      <td>3</td>\n",
       "      <td>7</td>\n",
       "      <td>1</td>\n",
       "      <td>2</td>\n",
       "    </tr>\n",
       "    <tr>\n",
       "      <th>1017023</th>\n",
       "      <td>4</td>\n",
       "      <td>1</td>\n",
       "      <td>1</td>\n",
       "      <td>3</td>\n",
       "      <td>2</td>\n",
       "      <td>1</td>\n",
       "      <td>3</td>\n",
       "      <td>1</td>\n",
       "      <td>1</td>\n",
       "      <td>2</td>\n",
       "    </tr>\n",
       "    <tr>\n",
       "      <th>...</th>\n",
       "      <td>...</td>\n",
       "      <td>...</td>\n",
       "      <td>...</td>\n",
       "      <td>...</td>\n",
       "      <td>...</td>\n",
       "      <td>...</td>\n",
       "      <td>...</td>\n",
       "      <td>...</td>\n",
       "      <td>...</td>\n",
       "      <td>...</td>\n",
       "    </tr>\n",
       "    <tr>\n",
       "      <th>776715</th>\n",
       "      <td>3</td>\n",
       "      <td>1</td>\n",
       "      <td>1</td>\n",
       "      <td>1</td>\n",
       "      <td>3</td>\n",
       "      <td>2</td>\n",
       "      <td>1</td>\n",
       "      <td>1</td>\n",
       "      <td>1</td>\n",
       "      <td>2</td>\n",
       "    </tr>\n",
       "    <tr>\n",
       "      <th>841769</th>\n",
       "      <td>2</td>\n",
       "      <td>1</td>\n",
       "      <td>1</td>\n",
       "      <td>1</td>\n",
       "      <td>2</td>\n",
       "      <td>1</td>\n",
       "      <td>1</td>\n",
       "      <td>1</td>\n",
       "      <td>1</td>\n",
       "      <td>2</td>\n",
       "    </tr>\n",
       "    <tr>\n",
       "      <th>888820</th>\n",
       "      <td>5</td>\n",
       "      <td>10</td>\n",
       "      <td>10</td>\n",
       "      <td>3</td>\n",
       "      <td>7</td>\n",
       "      <td>3</td>\n",
       "      <td>8</td>\n",
       "      <td>10</td>\n",
       "      <td>2</td>\n",
       "      <td>4</td>\n",
       "    </tr>\n",
       "    <tr>\n",
       "      <th>897471</th>\n",
       "      <td>4</td>\n",
       "      <td>8</td>\n",
       "      <td>6</td>\n",
       "      <td>4</td>\n",
       "      <td>3</td>\n",
       "      <td>4</td>\n",
       "      <td>10</td>\n",
       "      <td>6</td>\n",
       "      <td>1</td>\n",
       "      <td>4</td>\n",
       "    </tr>\n",
       "    <tr>\n",
       "      <th>897471</th>\n",
       "      <td>4</td>\n",
       "      <td>8</td>\n",
       "      <td>8</td>\n",
       "      <td>5</td>\n",
       "      <td>4</td>\n",
       "      <td>5</td>\n",
       "      <td>10</td>\n",
       "      <td>4</td>\n",
       "      <td>1</td>\n",
       "      <td>4</td>\n",
       "    </tr>\n",
       "  </tbody>\n",
       "</table>\n",
       "<p>699 rows × 10 columns</p>\n",
       "</div>"
      ],
      "text/plain": [
       "         1   2   3   4   5   6   7   8   9   10\n",
       "0                                              \n",
       "1000025   5   1   1   1   2   1   3   1   1   2\n",
       "1002945   5   4   4   5   7  10   3   2   1   2\n",
       "1015425   3   1   1   1   2   2   3   1   1   2\n",
       "1016277   6   8   8   1   3   4   3   7   1   2\n",
       "1017023   4   1   1   3   2   1   3   1   1   2\n",
       "...      ..  ..  ..  ..  ..  ..  ..  ..  ..  ..\n",
       "776715    3   1   1   1   3   2   1   1   1   2\n",
       "841769    2   1   1   1   2   1   1   1   1   2\n",
       "888820    5  10  10   3   7   3   8  10   2   4\n",
       "897471    4   8   6   4   3   4  10   6   1   4\n",
       "897471    4   8   8   5   4   5  10   4   1   4\n",
       "\n",
       "[699 rows x 10 columns]"
      ]
     },
     "execution_count": 56,
     "metadata": {},
     "output_type": "execute_result"
    }
   ],
   "source": [
    "my_data = pd.read_csv(\"breast-cancer-wisconsin.data\", header=None, index_col=0)\n",
    "my_data"
   ]
  },
  {
   "cell_type": "code",
   "execution_count": 57,
   "id": "586c500b-a4ec-460d-97ee-fff3190c3ea2",
   "metadata": {
    "slideshow": {
     "slide_type": "slide"
    },
    "tags": []
   },
   "outputs": [
    {
     "data": {
      "text/html": [
       "<div>\n",
       "<style scoped>\n",
       "    .dataframe tbody tr th:only-of-type {\n",
       "        vertical-align: middle;\n",
       "    }\n",
       "\n",
       "    .dataframe tbody tr th {\n",
       "        vertical-align: top;\n",
       "    }\n",
       "\n",
       "    .dataframe thead th {\n",
       "        text-align: right;\n",
       "    }\n",
       "</style>\n",
       "<table border=\"1\" class=\"dataframe\">\n",
       "  <thead>\n",
       "    <tr style=\"text-align: right;\">\n",
       "      <th></th>\n",
       "      <th>1</th>\n",
       "      <th>2</th>\n",
       "      <th>3</th>\n",
       "      <th>4</th>\n",
       "      <th>5</th>\n",
       "      <th>6</th>\n",
       "      <th>7</th>\n",
       "      <th>8</th>\n",
       "      <th>9</th>\n",
       "      <th>outcome</th>\n",
       "    </tr>\n",
       "    <tr>\n",
       "      <th>0</th>\n",
       "      <th></th>\n",
       "      <th></th>\n",
       "      <th></th>\n",
       "      <th></th>\n",
       "      <th></th>\n",
       "      <th></th>\n",
       "      <th></th>\n",
       "      <th></th>\n",
       "      <th></th>\n",
       "      <th></th>\n",
       "    </tr>\n",
       "  </thead>\n",
       "  <tbody>\n",
       "    <tr>\n",
       "      <th>1000025</th>\n",
       "      <td>5</td>\n",
       "      <td>1</td>\n",
       "      <td>1</td>\n",
       "      <td>1</td>\n",
       "      <td>2</td>\n",
       "      <td>1</td>\n",
       "      <td>3</td>\n",
       "      <td>1</td>\n",
       "      <td>1</td>\n",
       "      <td>2</td>\n",
       "    </tr>\n",
       "    <tr>\n",
       "      <th>1002945</th>\n",
       "      <td>5</td>\n",
       "      <td>4</td>\n",
       "      <td>4</td>\n",
       "      <td>5</td>\n",
       "      <td>7</td>\n",
       "      <td>10</td>\n",
       "      <td>3</td>\n",
       "      <td>2</td>\n",
       "      <td>1</td>\n",
       "      <td>2</td>\n",
       "    </tr>\n",
       "    <tr>\n",
       "      <th>1015425</th>\n",
       "      <td>3</td>\n",
       "      <td>1</td>\n",
       "      <td>1</td>\n",
       "      <td>1</td>\n",
       "      <td>2</td>\n",
       "      <td>2</td>\n",
       "      <td>3</td>\n",
       "      <td>1</td>\n",
       "      <td>1</td>\n",
       "      <td>2</td>\n",
       "    </tr>\n",
       "    <tr>\n",
       "      <th>1016277</th>\n",
       "      <td>6</td>\n",
       "      <td>8</td>\n",
       "      <td>8</td>\n",
       "      <td>1</td>\n",
       "      <td>3</td>\n",
       "      <td>4</td>\n",
       "      <td>3</td>\n",
       "      <td>7</td>\n",
       "      <td>1</td>\n",
       "      <td>2</td>\n",
       "    </tr>\n",
       "    <tr>\n",
       "      <th>1017023</th>\n",
       "      <td>4</td>\n",
       "      <td>1</td>\n",
       "      <td>1</td>\n",
       "      <td>3</td>\n",
       "      <td>2</td>\n",
       "      <td>1</td>\n",
       "      <td>3</td>\n",
       "      <td>1</td>\n",
       "      <td>1</td>\n",
       "      <td>2</td>\n",
       "    </tr>\n",
       "    <tr>\n",
       "      <th>...</th>\n",
       "      <td>...</td>\n",
       "      <td>...</td>\n",
       "      <td>...</td>\n",
       "      <td>...</td>\n",
       "      <td>...</td>\n",
       "      <td>...</td>\n",
       "      <td>...</td>\n",
       "      <td>...</td>\n",
       "      <td>...</td>\n",
       "      <td>...</td>\n",
       "    </tr>\n",
       "    <tr>\n",
       "      <th>776715</th>\n",
       "      <td>3</td>\n",
       "      <td>1</td>\n",
       "      <td>1</td>\n",
       "      <td>1</td>\n",
       "      <td>3</td>\n",
       "      <td>2</td>\n",
       "      <td>1</td>\n",
       "      <td>1</td>\n",
       "      <td>1</td>\n",
       "      <td>2</td>\n",
       "    </tr>\n",
       "    <tr>\n",
       "      <th>841769</th>\n",
       "      <td>2</td>\n",
       "      <td>1</td>\n",
       "      <td>1</td>\n",
       "      <td>1</td>\n",
       "      <td>2</td>\n",
       "      <td>1</td>\n",
       "      <td>1</td>\n",
       "      <td>1</td>\n",
       "      <td>1</td>\n",
       "      <td>2</td>\n",
       "    </tr>\n",
       "    <tr>\n",
       "      <th>888820</th>\n",
       "      <td>5</td>\n",
       "      <td>10</td>\n",
       "      <td>10</td>\n",
       "      <td>3</td>\n",
       "      <td>7</td>\n",
       "      <td>3</td>\n",
       "      <td>8</td>\n",
       "      <td>10</td>\n",
       "      <td>2</td>\n",
       "      <td>4</td>\n",
       "    </tr>\n",
       "    <tr>\n",
       "      <th>897471</th>\n",
       "      <td>4</td>\n",
       "      <td>8</td>\n",
       "      <td>6</td>\n",
       "      <td>4</td>\n",
       "      <td>3</td>\n",
       "      <td>4</td>\n",
       "      <td>10</td>\n",
       "      <td>6</td>\n",
       "      <td>1</td>\n",
       "      <td>4</td>\n",
       "    </tr>\n",
       "    <tr>\n",
       "      <th>897471</th>\n",
       "      <td>4</td>\n",
       "      <td>8</td>\n",
       "      <td>8</td>\n",
       "      <td>5</td>\n",
       "      <td>4</td>\n",
       "      <td>5</td>\n",
       "      <td>10</td>\n",
       "      <td>4</td>\n",
       "      <td>1</td>\n",
       "      <td>4</td>\n",
       "    </tr>\n",
       "  </tbody>\n",
       "</table>\n",
       "<p>699 rows × 10 columns</p>\n",
       "</div>"
      ],
      "text/plain": [
       "         1   2   3  4  5   6   7   8  9  outcome\n",
       "0                                               \n",
       "1000025  5   1   1  1  2   1   3   1  1        2\n",
       "1002945  5   4   4  5  7  10   3   2  1        2\n",
       "1015425  3   1   1  1  2   2   3   1  1        2\n",
       "1016277  6   8   8  1  3   4   3   7  1        2\n",
       "1017023  4   1   1  3  2   1   3   1  1        2\n",
       "...     ..  ..  .. .. ..  ..  ..  .. ..      ...\n",
       "776715   3   1   1  1  3   2   1   1  1        2\n",
       "841769   2   1   1  1  2   1   1   1  1        2\n",
       "888820   5  10  10  3  7   3   8  10  2        4\n",
       "897471   4   8   6  4  3   4  10   6  1        4\n",
       "897471   4   8   8  5  4   5  10   4  1        4\n",
       "\n",
       "[699 rows x 10 columns]"
      ]
     },
     "execution_count": 57,
     "metadata": {},
     "output_type": "execute_result"
    }
   ],
   "source": [
    "my_data = my_data.rename(columns={10: 'outcome'})\n",
    "my_data"
   ]
  },
  {
   "cell_type": "code",
   "execution_count": 58,
   "id": "5ea784d3-ccff-4911-8535-c1d2c0d115cd",
   "metadata": {
    "slideshow": {
     "slide_type": "slide"
    },
    "tags": []
   },
   "outputs": [
    {
     "data": {
      "text/html": [
       "<div>\n",
       "<style scoped>\n",
       "    .dataframe tbody tr th:only-of-type {\n",
       "        vertical-align: middle;\n",
       "    }\n",
       "\n",
       "    .dataframe tbody tr th {\n",
       "        vertical-align: top;\n",
       "    }\n",
       "\n",
       "    .dataframe thead th {\n",
       "        text-align: right;\n",
       "    }\n",
       "</style>\n",
       "<table border=\"1\" class=\"dataframe\">\n",
       "  <thead>\n",
       "    <tr style=\"text-align: right;\">\n",
       "      <th></th>\n",
       "      <th>1</th>\n",
       "      <th>2</th>\n",
       "      <th>3</th>\n",
       "      <th>4</th>\n",
       "      <th>5</th>\n",
       "      <th>6</th>\n",
       "      <th>7</th>\n",
       "      <th>8</th>\n",
       "      <th>9</th>\n",
       "      <th>outcome</th>\n",
       "    </tr>\n",
       "    <tr>\n",
       "      <th>0</th>\n",
       "      <th></th>\n",
       "      <th></th>\n",
       "      <th></th>\n",
       "      <th></th>\n",
       "      <th></th>\n",
       "      <th></th>\n",
       "      <th></th>\n",
       "      <th></th>\n",
       "      <th></th>\n",
       "      <th></th>\n",
       "    </tr>\n",
       "  </thead>\n",
       "  <tbody>\n",
       "    <tr>\n",
       "      <th>1080233</th>\n",
       "      <td>7</td>\n",
       "      <td>6</td>\n",
       "      <td>6</td>\n",
       "      <td>3</td>\n",
       "      <td>2</td>\n",
       "      <td>10</td>\n",
       "      <td>7</td>\n",
       "      <td>1</td>\n",
       "      <td>1</td>\n",
       "      <td>4</td>\n",
       "    </tr>\n",
       "    <tr>\n",
       "      <th>76389</th>\n",
       "      <td>10</td>\n",
       "      <td>4</td>\n",
       "      <td>7</td>\n",
       "      <td>2</td>\n",
       "      <td>2</td>\n",
       "      <td>8</td>\n",
       "      <td>6</td>\n",
       "      <td>1</td>\n",
       "      <td>1</td>\n",
       "      <td>4</td>\n",
       "    </tr>\n",
       "    <tr>\n",
       "      <th>1275807</th>\n",
       "      <td>4</td>\n",
       "      <td>2</td>\n",
       "      <td>4</td>\n",
       "      <td>3</td>\n",
       "      <td>2</td>\n",
       "      <td>2</td>\n",
       "      <td>2</td>\n",
       "      <td>1</td>\n",
       "      <td>1</td>\n",
       "      <td>2</td>\n",
       "    </tr>\n",
       "    <tr>\n",
       "      <th>1311108</th>\n",
       "      <td>1</td>\n",
       "      <td>1</td>\n",
       "      <td>1</td>\n",
       "      <td>3</td>\n",
       "      <td>2</td>\n",
       "      <td>1</td>\n",
       "      <td>1</td>\n",
       "      <td>1</td>\n",
       "      <td>1</td>\n",
       "      <td>2</td>\n",
       "    </tr>\n",
       "    <tr>\n",
       "      <th>1181685</th>\n",
       "      <td>1</td>\n",
       "      <td>1</td>\n",
       "      <td>2</td>\n",
       "      <td>1</td>\n",
       "      <td>2</td>\n",
       "      <td>1</td>\n",
       "      <td>2</td>\n",
       "      <td>1</td>\n",
       "      <td>1</td>\n",
       "      <td>2</td>\n",
       "    </tr>\n",
       "    <tr>\n",
       "      <th>...</th>\n",
       "      <td>...</td>\n",
       "      <td>...</td>\n",
       "      <td>...</td>\n",
       "      <td>...</td>\n",
       "      <td>...</td>\n",
       "      <td>...</td>\n",
       "      <td>...</td>\n",
       "      <td>...</td>\n",
       "      <td>...</td>\n",
       "      <td>...</td>\n",
       "    </tr>\n",
       "    <tr>\n",
       "      <th>704168</th>\n",
       "      <td>4</td>\n",
       "      <td>6</td>\n",
       "      <td>5</td>\n",
       "      <td>6</td>\n",
       "      <td>7</td>\n",
       "      <td>?</td>\n",
       "      <td>4</td>\n",
       "      <td>9</td>\n",
       "      <td>1</td>\n",
       "      <td>2</td>\n",
       "    </tr>\n",
       "    <tr>\n",
       "      <th>263538</th>\n",
       "      <td>5</td>\n",
       "      <td>10</td>\n",
       "      <td>10</td>\n",
       "      <td>6</td>\n",
       "      <td>10</td>\n",
       "      <td>10</td>\n",
       "      <td>10</td>\n",
       "      <td>6</td>\n",
       "      <td>5</td>\n",
       "      <td>4</td>\n",
       "    </tr>\n",
       "    <tr>\n",
       "      <th>1183240</th>\n",
       "      <td>4</td>\n",
       "      <td>1</td>\n",
       "      <td>2</td>\n",
       "      <td>1</td>\n",
       "      <td>2</td>\n",
       "      <td>1</td>\n",
       "      <td>2</td>\n",
       "      <td>1</td>\n",
       "      <td>1</td>\n",
       "      <td>2</td>\n",
       "    </tr>\n",
       "    <tr>\n",
       "      <th>1041043</th>\n",
       "      <td>4</td>\n",
       "      <td>1</td>\n",
       "      <td>3</td>\n",
       "      <td>1</td>\n",
       "      <td>2</td>\n",
       "      <td>1</td>\n",
       "      <td>2</td>\n",
       "      <td>1</td>\n",
       "      <td>1</td>\n",
       "      <td>2</td>\n",
       "    </tr>\n",
       "    <tr>\n",
       "      <th>434518</th>\n",
       "      <td>3</td>\n",
       "      <td>1</td>\n",
       "      <td>1</td>\n",
       "      <td>1</td>\n",
       "      <td>2</td>\n",
       "      <td>1</td>\n",
       "      <td>2</td>\n",
       "      <td>1</td>\n",
       "      <td>1</td>\n",
       "      <td>2</td>\n",
       "    </tr>\n",
       "  </tbody>\n",
       "</table>\n",
       "<p>336 rows × 10 columns</p>\n",
       "</div>"
      ],
      "text/plain": [
       "          1   2   3  4   5   6   7  8  9  outcome\n",
       "0                                                \n",
       "1080233   7   6   6  3   2  10   7  1  1        4\n",
       "76389    10   4   7  2   2   8   6  1  1        4\n",
       "1275807   4   2   4  3   2   2   2  1  1        2\n",
       "1311108   1   1   1  3   2   1   1  1  1        2\n",
       "1181685   1   1   2  1   2   1   2  1  1        2\n",
       "...      ..  ..  .. ..  ..  ..  .. .. ..      ...\n",
       "704168    4   6   5  6   7   ?   4  9  1        2\n",
       "263538    5  10  10  6  10  10  10  6  5        4\n",
       "1183240   4   1   2  1   2   1   2  1  1        2\n",
       "1041043   4   1   3  1   2   1   2  1  1        2\n",
       "434518    3   1   1  1   2   1   2  1  1        2\n",
       "\n",
       "[336 rows x 10 columns]"
      ]
     },
     "execution_count": 58,
     "metadata": {},
     "output_type": "execute_result"
    }
   ],
   "source": [
    "RS = 3\n",
    "my_sample_1 = my_data.sample(frac = 0.48, random_state= RS)\n",
    "my_sample_1"
   ]
  },
  {
   "cell_type": "code",
   "execution_count": 59,
   "id": "1ed74f0c-0353-461a-b0a4-ef0ca08bca6b",
   "metadata": {
    "slideshow": {
     "slide_type": "slide"
    },
    "tags": []
   },
   "outputs": [
    {
     "data": {
      "text/html": [
       "<div>\n",
       "<style scoped>\n",
       "    .dataframe tbody tr th:only-of-type {\n",
       "        vertical-align: middle;\n",
       "    }\n",
       "\n",
       "    .dataframe tbody tr th {\n",
       "        vertical-align: top;\n",
       "    }\n",
       "\n",
       "    .dataframe thead th {\n",
       "        text-align: right;\n",
       "    }\n",
       "</style>\n",
       "<table border=\"1\" class=\"dataframe\">\n",
       "  <thead>\n",
       "    <tr style=\"text-align: right;\">\n",
       "      <th></th>\n",
       "      <th>1</th>\n",
       "      <th>2</th>\n",
       "      <th>3</th>\n",
       "      <th>4</th>\n",
       "      <th>5</th>\n",
       "      <th>6</th>\n",
       "      <th>7</th>\n",
       "      <th>8</th>\n",
       "      <th>9</th>\n",
       "      <th>outcome</th>\n",
       "    </tr>\n",
       "    <tr>\n",
       "      <th>0</th>\n",
       "      <th></th>\n",
       "      <th></th>\n",
       "      <th></th>\n",
       "      <th></th>\n",
       "      <th></th>\n",
       "      <th></th>\n",
       "      <th></th>\n",
       "      <th></th>\n",
       "      <th></th>\n",
       "      <th></th>\n",
       "    </tr>\n",
       "  </thead>\n",
       "  <tbody>\n",
       "    <tr>\n",
       "      <th>1000025</th>\n",
       "      <td>5</td>\n",
       "      <td>1</td>\n",
       "      <td>1</td>\n",
       "      <td>1</td>\n",
       "      <td>2</td>\n",
       "      <td>1</td>\n",
       "      <td>3</td>\n",
       "      <td>1</td>\n",
       "      <td>1</td>\n",
       "      <td>2</td>\n",
       "    </tr>\n",
       "    <tr>\n",
       "      <th>1002945</th>\n",
       "      <td>5</td>\n",
       "      <td>4</td>\n",
       "      <td>4</td>\n",
       "      <td>5</td>\n",
       "      <td>7</td>\n",
       "      <td>10</td>\n",
       "      <td>3</td>\n",
       "      <td>2</td>\n",
       "      <td>1</td>\n",
       "      <td>2</td>\n",
       "    </tr>\n",
       "    <tr>\n",
       "      <th>1015425</th>\n",
       "      <td>3</td>\n",
       "      <td>1</td>\n",
       "      <td>1</td>\n",
       "      <td>1</td>\n",
       "      <td>2</td>\n",
       "      <td>2</td>\n",
       "      <td>3</td>\n",
       "      <td>1</td>\n",
       "      <td>1</td>\n",
       "      <td>2</td>\n",
       "    </tr>\n",
       "    <tr>\n",
       "      <th>1016277</th>\n",
       "      <td>6</td>\n",
       "      <td>8</td>\n",
       "      <td>8</td>\n",
       "      <td>1</td>\n",
       "      <td>3</td>\n",
       "      <td>4</td>\n",
       "      <td>3</td>\n",
       "      <td>7</td>\n",
       "      <td>1</td>\n",
       "      <td>2</td>\n",
       "    </tr>\n",
       "    <tr>\n",
       "      <th>1017023</th>\n",
       "      <td>4</td>\n",
       "      <td>1</td>\n",
       "      <td>1</td>\n",
       "      <td>3</td>\n",
       "      <td>2</td>\n",
       "      <td>1</td>\n",
       "      <td>3</td>\n",
       "      <td>1</td>\n",
       "      <td>1</td>\n",
       "      <td>2</td>\n",
       "    </tr>\n",
       "    <tr>\n",
       "      <th>...</th>\n",
       "      <td>...</td>\n",
       "      <td>...</td>\n",
       "      <td>...</td>\n",
       "      <td>...</td>\n",
       "      <td>...</td>\n",
       "      <td>...</td>\n",
       "      <td>...</td>\n",
       "      <td>...</td>\n",
       "      <td>...</td>\n",
       "      <td>...</td>\n",
       "    </tr>\n",
       "    <tr>\n",
       "      <th>714039</th>\n",
       "      <td>3</td>\n",
       "      <td>1</td>\n",
       "      <td>1</td>\n",
       "      <td>1</td>\n",
       "      <td>2</td>\n",
       "      <td>1</td>\n",
       "      <td>1</td>\n",
       "      <td>1</td>\n",
       "      <td>1</td>\n",
       "      <td>2</td>\n",
       "    </tr>\n",
       "    <tr>\n",
       "      <th>763235</th>\n",
       "      <td>3</td>\n",
       "      <td>1</td>\n",
       "      <td>1</td>\n",
       "      <td>1</td>\n",
       "      <td>2</td>\n",
       "      <td>1</td>\n",
       "      <td>2</td>\n",
       "      <td>1</td>\n",
       "      <td>2</td>\n",
       "      <td>2</td>\n",
       "    </tr>\n",
       "    <tr>\n",
       "      <th>776715</th>\n",
       "      <td>3</td>\n",
       "      <td>1</td>\n",
       "      <td>1</td>\n",
       "      <td>1</td>\n",
       "      <td>3</td>\n",
       "      <td>2</td>\n",
       "      <td>1</td>\n",
       "      <td>1</td>\n",
       "      <td>1</td>\n",
       "      <td>2</td>\n",
       "    </tr>\n",
       "    <tr>\n",
       "      <th>841769</th>\n",
       "      <td>2</td>\n",
       "      <td>1</td>\n",
       "      <td>1</td>\n",
       "      <td>1</td>\n",
       "      <td>2</td>\n",
       "      <td>1</td>\n",
       "      <td>1</td>\n",
       "      <td>1</td>\n",
       "      <td>1</td>\n",
       "      <td>2</td>\n",
       "    </tr>\n",
       "    <tr>\n",
       "      <th>888820</th>\n",
       "      <td>5</td>\n",
       "      <td>10</td>\n",
       "      <td>10</td>\n",
       "      <td>3</td>\n",
       "      <td>7</td>\n",
       "      <td>3</td>\n",
       "      <td>8</td>\n",
       "      <td>10</td>\n",
       "      <td>2</td>\n",
       "      <td>4</td>\n",
       "    </tr>\n",
       "  </tbody>\n",
       "</table>\n",
       "<p>336 rows × 10 columns</p>\n",
       "</div>"
      ],
      "text/plain": [
       "         1   2   3  4  5   6  7   8  9  outcome\n",
       "0                                              \n",
       "1000025  5   1   1  1  2   1  3   1  1        2\n",
       "1002945  5   4   4  5  7  10  3   2  1        2\n",
       "1015425  3   1   1  1  2   2  3   1  1        2\n",
       "1016277  6   8   8  1  3   4  3   7  1        2\n",
       "1017023  4   1   1  3  2   1  3   1  1        2\n",
       "...     ..  ..  .. .. ..  .. ..  .. ..      ...\n",
       "714039   3   1   1  1  2   1  1   1  1        2\n",
       "763235   3   1   1  1  2   1  2   1  2        2\n",
       "776715   3   1   1  1  3   2  1   1  1        2\n",
       "841769   2   1   1  1  2   1  1   1  1        2\n",
       "888820   5  10  10  3  7   3  8  10  2        4\n",
       "\n",
       "[336 rows x 10 columns]"
      ]
     },
     "execution_count": 59,
     "metadata": {},
     "output_type": "execute_result"
    }
   ],
   "source": [
    "my_sample_2 = my_data.drop(my_sample_1.index)\n",
    "my_sample_2"
   ]
  },
  {
   "cell_type": "code",
   "execution_count": 60,
   "id": "fec5ea2e-564b-481d-8bd4-ab27e62b36f6",
   "metadata": {
    "slideshow": {
     "slide_type": "slide"
    },
    "tags": []
   },
   "outputs": [
    {
     "data": {
      "image/png": "[encoded data removed]",
      "text/plain": [
       "<Figure size 1000x500 with 1 Axes>"
      ]
     },
     "metadata": {},
     "output_type": "display_data"
    }
   ],
   "source": [
    "# plot of the outcome variable \n",
    "ax = my_sample_1['outcome'].value_counts().\\\n",
    "    plot(kind='bar',figsize=(10,5),title=\"Frequency of each outcome type\")\n",
    "ax.set_xlabel(\"Outcome Type\")\n",
    "ax.set_ylabel(\"Frequency\");"
   ]
  },
  {
   "cell_type": "code",
   "execution_count": 61,
   "id": "909f4d17-9f60-4a64-8327-9684199be2f3",
   "metadata": {
    "slideshow": {
     "slide_type": "slide"
    },
    "tags": []
   },
   "outputs": [
    {
     "name": "stdout",
     "output_type": "stream",
     "text": [
      "Percent Distribution\n",
      "outcome\n",
      "2    63.095238\n",
      "4    36.904762\n",
      "Name: proportion, dtype: float64\n"
     ]
    }
   ],
   "source": [
    "print(\"Percent Distribution\")\n",
    "print(my_sample_1['outcome'].value_counts(normalize= True)*100)"
   ]
  },
  {
   "cell_type": "code",
   "execution_count": 62,
   "id": "2596f721-b51a-41ef-aa24-f8b0d60d5835",
   "metadata": {
    "slideshow": {
     "slide_type": "slide"
    },
    "tags": []
   },
   "outputs": [
    {
     "data": {
      "text/html": [
       "<div>\n",
       "<style scoped>\n",
       "    .dataframe tbody tr th:only-of-type {\n",
       "        vertical-align: middle;\n",
       "    }\n",
       "\n",
       "    .dataframe tbody tr th {\n",
       "        vertical-align: top;\n",
       "    }\n",
       "\n",
       "    .dataframe thead th {\n",
       "        text-align: right;\n",
       "    }\n",
       "</style>\n",
       "<table border=\"1\" class=\"dataframe\">\n",
       "  <thead>\n",
       "    <tr style=\"text-align: right;\">\n",
       "      <th></th>\n",
       "      <th>Total</th>\n",
       "      <th>Percent(%)</th>\n",
       "    </tr>\n",
       "  </thead>\n",
       "  <tbody>\n",
       "    <tr>\n",
       "      <th>1</th>\n",
       "      <td>0</td>\n",
       "      <td>0.0</td>\n",
       "    </tr>\n",
       "    <tr>\n",
       "      <th>2</th>\n",
       "      <td>0</td>\n",
       "      <td>0.0</td>\n",
       "    </tr>\n",
       "    <tr>\n",
       "      <th>3</th>\n",
       "      <td>0</td>\n",
       "      <td>0.0</td>\n",
       "    </tr>\n",
       "    <tr>\n",
       "      <th>4</th>\n",
       "      <td>0</td>\n",
       "      <td>0.0</td>\n",
       "    </tr>\n",
       "    <tr>\n",
       "      <th>5</th>\n",
       "      <td>0</td>\n",
       "      <td>0.0</td>\n",
       "    </tr>\n",
       "    <tr>\n",
       "      <th>6</th>\n",
       "      <td>0</td>\n",
       "      <td>0.0</td>\n",
       "    </tr>\n",
       "    <tr>\n",
       "      <th>7</th>\n",
       "      <td>0</td>\n",
       "      <td>0.0</td>\n",
       "    </tr>\n",
       "    <tr>\n",
       "      <th>8</th>\n",
       "      <td>0</td>\n",
       "      <td>0.0</td>\n",
       "    </tr>\n",
       "    <tr>\n",
       "      <th>9</th>\n",
       "      <td>0</td>\n",
       "      <td>0.0</td>\n",
       "    </tr>\n",
       "    <tr>\n",
       "      <th>outcome</th>\n",
       "      <td>0</td>\n",
       "      <td>0.0</td>\n",
       "    </tr>\n",
       "  </tbody>\n",
       "</table>\n",
       "</div>"
      ],
      "text/plain": [
       "         Total  Percent(%)\n",
       "1            0         0.0\n",
       "2            0         0.0\n",
       "3            0         0.0\n",
       "4            0         0.0\n",
       "5            0         0.0\n",
       "6            0         0.0\n",
       "7            0         0.0\n",
       "8            0         0.0\n",
       "9            0         0.0\n",
       "outcome      0         0.0"
      ]
     },
     "execution_count": 62,
     "metadata": {},
     "output_type": "execute_result"
    }
   ],
   "source": [
    "# Check Missing Data\n",
    "total = my_data.isnull().sum().sort_values(ascending=False)\n",
    "percent = (my_data.isnull().sum()/my_data.isnull().count()).sort_values(ascending=False)\n",
    "missing_data = pd.concat([total, percent * 100], axis=1, keys=['Total', 'Percent(%)'])\n",
    "missing_data"
   ]
  },
  {
   "cell_type": "code",
   "execution_count": 63,
   "id": "9da20674-bacc-4464-8626-7c912cf8dbed",
   "metadata": {
    "slideshow": {
     "slide_type": "slide"
    },
    "tags": []
   },
   "outputs": [
    {
     "data": {
      "text/html": [
       "<div>\n",
       "<style scoped>\n",
       "    .dataframe tbody tr th:only-of-type {\n",
       "        vertical-align: middle;\n",
       "    }\n",
       "\n",
       "    .dataframe tbody tr th {\n",
       "        vertical-align: top;\n",
       "    }\n",
       "\n",
       "    .dataframe thead th {\n",
       "        text-align: right;\n",
       "    }\n",
       "</style>\n",
       "<table border=\"1\" class=\"dataframe\">\n",
       "  <thead>\n",
       "    <tr style=\"text-align: right;\">\n",
       "      <th></th>\n",
       "      <th>1</th>\n",
       "      <th>2</th>\n",
       "      <th>3</th>\n",
       "      <th>4</th>\n",
       "      <th>5</th>\n",
       "      <th>7</th>\n",
       "      <th>8</th>\n",
       "      <th>9</th>\n",
       "      <th>outcome</th>\n",
       "    </tr>\n",
       "  </thead>\n",
       "  <tbody>\n",
       "    <tr>\n",
       "      <th>count</th>\n",
       "      <td>699.000000</td>\n",
       "      <td>699.000000</td>\n",
       "      <td>699.000000</td>\n",
       "      <td>699.000000</td>\n",
       "      <td>699.000000</td>\n",
       "      <td>699.000000</td>\n",
       "      <td>699.000000</td>\n",
       "      <td>699.000000</td>\n",
       "      <td>699.000000</td>\n",
       "    </tr>\n",
       "    <tr>\n",
       "      <th>mean</th>\n",
       "      <td>4.417740</td>\n",
       "      <td>3.134478</td>\n",
       "      <td>3.207439</td>\n",
       "      <td>2.806867</td>\n",
       "      <td>3.216023</td>\n",
       "      <td>3.437768</td>\n",
       "      <td>2.866953</td>\n",
       "      <td>1.589413</td>\n",
       "      <td>2.689557</td>\n",
       "    </tr>\n",
       "    <tr>\n",
       "      <th>std</th>\n",
       "      <td>2.815741</td>\n",
       "      <td>3.051459</td>\n",
       "      <td>2.971913</td>\n",
       "      <td>2.855379</td>\n",
       "      <td>2.214300</td>\n",
       "      <td>2.438364</td>\n",
       "      <td>3.053634</td>\n",
       "      <td>1.715078</td>\n",
       "      <td>0.951273</td>\n",
       "    </tr>\n",
       "    <tr>\n",
       "      <th>min</th>\n",
       "      <td>1.000000</td>\n",
       "      <td>1.000000</td>\n",
       "      <td>1.000000</td>\n",
       "      <td>1.000000</td>\n",
       "      <td>1.000000</td>\n",
       "      <td>1.000000</td>\n",
       "      <td>1.000000</td>\n",
       "      <td>1.000000</td>\n",
       "      <td>2.000000</td>\n",
       "    </tr>\n",
       "    <tr>\n",
       "      <th>25%</th>\n",
       "      <td>2.000000</td>\n",
       "      <td>1.000000</td>\n",
       "      <td>1.000000</td>\n",
       "      <td>1.000000</td>\n",
       "      <td>2.000000</td>\n",
       "      <td>2.000000</td>\n",
       "      <td>1.000000</td>\n",
       "      <td>1.000000</td>\n",
       "      <td>2.000000</td>\n",
       "    </tr>\n",
       "    <tr>\n",
       "      <th>50%</th>\n",
       "      <td>4.000000</td>\n",
       "      <td>1.000000</td>\n",
       "      <td>1.000000</td>\n",
       "      <td>1.000000</td>\n",
       "      <td>2.000000</td>\n",
       "      <td>3.000000</td>\n",
       "      <td>1.000000</td>\n",
       "      <td>1.000000</td>\n",
       "      <td>2.000000</td>\n",
       "    </tr>\n",
       "    <tr>\n",
       "      <th>75%</th>\n",
       "      <td>6.000000</td>\n",
       "      <td>5.000000</td>\n",
       "      <td>5.000000</td>\n",
       "      <td>4.000000</td>\n",
       "      <td>4.000000</td>\n",
       "      <td>5.000000</td>\n",
       "      <td>4.000000</td>\n",
       "      <td>1.000000</td>\n",
       "      <td>4.000000</td>\n",
       "    </tr>\n",
       "    <tr>\n",
       "      <th>max</th>\n",
       "      <td>10.000000</td>\n",
       "      <td>10.000000</td>\n",
       "      <td>10.000000</td>\n",
       "      <td>10.000000</td>\n",
       "      <td>10.000000</td>\n",
       "      <td>10.000000</td>\n",
       "      <td>10.000000</td>\n",
       "      <td>10.000000</td>\n",
       "      <td>4.000000</td>\n",
       "    </tr>\n",
       "  </tbody>\n",
       "</table>\n",
       "</div>"
      ],
      "text/plain": [
       "                1           2           3           4           5           7   \n",
       "count  699.000000  699.000000  699.000000  699.000000  699.000000  699.000000  \\\n",
       "mean     4.417740    3.134478    3.207439    2.806867    3.216023    3.437768   \n",
       "std      2.815741    3.051459    2.971913    2.855379    2.214300    2.438364   \n",
       "min      1.000000    1.000000    1.000000    1.000000    1.000000    1.000000   \n",
       "25%      2.000000    1.000000    1.000000    1.000000    2.000000    2.000000   \n",
       "50%      4.000000    1.000000    1.000000    1.000000    2.000000    3.000000   \n",
       "75%      6.000000    5.000000    5.000000    4.000000    4.000000    5.000000   \n",
       "max     10.000000   10.000000   10.000000   10.000000   10.000000   10.000000   \n",
       "\n",
       "                8           9     outcome  \n",
       "count  699.000000  699.000000  699.000000  \n",
       "mean     2.866953    1.589413    2.689557  \n",
       "std      3.053634    1.715078    0.951273  \n",
       "min      1.000000    1.000000    2.000000  \n",
       "25%      1.000000    1.000000    2.000000  \n",
       "50%      1.000000    1.000000    2.000000  \n",
       "75%      4.000000    1.000000    4.000000  \n",
       "max     10.000000   10.000000    4.000000  "
      ]
     },
     "execution_count": 63,
     "metadata": {},
     "output_type": "execute_result"
    }
   ],
   "source": [
    "my_data.describe()"
   ]
  },
  {
   "cell_type": "code",
   "execution_count": 64,
   "id": "6bc5fe38-c48e-40ca-ba29-45574ae65947",
   "metadata": {
    "slideshow": {
     "slide_type": "slide"
    },
    "tags": []
   },
   "outputs": [
    {
     "data": {
      "image/png": "[encoded data removed]",
      "text/plain": [
       "<Figure size 640x480 with 1 Axes>"
      ]
     },
     "metadata": {},
     "output_type": "display_data"
    }
   ],
   "source": [
    "sns.countplot(x=1, hue='outcome', data= my_data);"
   ]
  },
  {
   "cell_type": "code",
   "execution_count": 65,
   "id": "9b639e4c-8ee8-4551-b175-a9c87f0d1e35",
   "metadata": {
    "slideshow": {
     "slide_type": "slide"
    },
    "tags": []
   },
   "outputs": [
    {
     "data": {
      "image/png": "[encoded data removed]",
      "text/plain": [
       "<Figure size 640x480 with 1 Axes>"
      ]
     },
     "metadata": {},
     "output_type": "display_data"
    }
   ],
   "source": [
    "sns.countplot(x=2, hue='outcome', data= my_data);"
   ]
  },
  {
   "cell_type": "code",
   "execution_count": 66,
   "id": "4f555ef5-ae01-45c8-8390-3b3c52e007ee",
   "metadata": {
    "slideshow": {
     "slide_type": "slide"
    },
    "tags": []
   },
   "outputs": [
    {
     "data": {
      "text/plain": [
       "2   outcome\n",
       "1   2          380\n",
       "    4            4\n",
       "2   2           37\n",
       "    4            8\n",
       "3   2           27\n",
       "    4           25\n",
       "4   2            9\n",
       "    4           31\n",
       "5   4           30\n",
       "6   2            2\n",
       "    4           25\n",
       "7   2            1\n",
       "    4           18\n",
       "8   2            1\n",
       "    4           28\n",
       "9   2            1\n",
       "    4            5\n",
       "10  4           67\n",
       "dtype: int64"
      ]
     },
     "execution_count": 66,
     "metadata": {},
     "output_type": "execute_result"
    }
   ],
   "source": [
    "my_data.groupby([2, 'outcome']).size()"
   ]
  },
  {
   "cell_type": "code",
   "execution_count": 67,
   "id": "88c942fb-5f4e-4061-81b8-cc6e1d878c23",
   "metadata": {
    "slideshow": {
     "slide_type": "slide"
    },
    "tags": []
   },
   "outputs": [
    {
     "name": "stdout",
     "output_type": "stream",
     "text": [
      "outcome    2   4\n",
      "2               \n",
      "1        171   2\n",
      "2         21   5\n",
      "3         13  12\n",
      "4          5  21\n",
      "5          0  13\n",
      "6          2  13\n",
      "7          0   9\n",
      "8          0  14\n",
      "9          0   4\n",
      "10         0  31\n"
     ]
    }
   ],
   "source": [
    "cross_table = pd.crosstab(my_sample_1[2], my_sample_1['outcome'])\n",
    "print(cross_table)"
   ]
  },
  {
   "cell_type": "code",
   "execution_count": 68,
   "id": "4eb6415b-63b2-44c4-afeb-f481f6c0175b",
   "metadata": {
    "slideshow": {
     "slide_type": "slide"
    },
    "tags": []
   },
   "outputs": [],
   "source": [
    "features = [1, 2]\n",
    "X = my_sample_1[features]\n",
    "y = my_sample_1['outcome']"
   ]
  },
  {
   "cell_type": "code",
   "execution_count": 69,
   "id": "52d90aa7-02ab-4598-91e1-24e293ed5115",
   "metadata": {
    "tags": []
   },
   "outputs": [
    {
     "data": {
      "text/plain": [
       "array([4, 4, 2, 2, 2, 4, 2, 4, 2, 4, 4, 2, 4, 2, 2, 4, 4, 4, 2, 2, 2, 2,\n",
       "       4, 2, 4, 2, 2, 4, 4, 2, 2, 2, 2, 4, 2, 2, 4, 4, 2, 2, 2, 2, 4, 4,\n",
       "       4, 2, 4, 2, 4, 2, 2, 4, 4, 2, 2, 2, 2, 2, 2, 2, 4, 4, 2, 2, 2, 2,\n",
       "       2, 2, 2, 4, 2, 2, 2, 2, 4, 2, 4, 2, 2, 4, 2, 2, 2, 4, 2, 2, 2, 4,\n",
       "       2, 4, 2, 4, 4, 4, 4, 2, 2, 2, 2, 2, 2, 2, 4, 4, 2, 2, 4, 4, 2, 2,\n",
       "       2, 2, 2, 2, 4, 2, 2, 2, 4, 2, 4, 2, 2, 4, 2, 4, 4, 2, 2, 4, 4, 4,\n",
       "       2, 2, 4, 2, 4, 4, 4, 4, 2, 2, 2, 2, 2, 2, 2, 2, 2, 4, 2, 2, 4, 2,\n",
       "       4, 2, 4, 4, 2, 4, 2, 2, 2, 4, 2, 4, 2, 2, 2, 4, 2, 4, 2, 2, 2, 2,\n",
       "       4, 4, 2, 2, 2, 4, 2, 2, 4, 4, 2, 2, 4, 4, 2, 2, 2, 2, 2, 4, 2, 4,\n",
       "       2, 2, 2, 2, 2, 2, 2, 2, 2, 2, 4, 4, 2, 2, 2, 2, 4, 4, 2, 2, 4, 2,\n",
       "       2, 2, 2, 2, 4, 4, 2, 2, 2, 2, 2, 4, 2, 4, 2, 2, 2, 4, 2, 2, 2, 4,\n",
       "       4, 2, 2, 2, 2, 4, 2, 2, 2, 4, 2, 4, 4, 2, 2, 2, 2, 2, 2, 2, 2, 2,\n",
       "       2, 2, 4, 2, 4, 2, 2, 4, 4, 2, 4, 4, 4, 4, 4, 2, 4, 4, 2, 4, 4, 2,\n",
       "       4, 2, 2, 4, 2, 2, 2, 2, 2, 2, 4, 4, 4, 2, 4, 2, 2, 2, 4, 2, 2, 2,\n",
       "       2, 4, 4, 4, 4, 2, 2, 2, 2, 2, 2, 4, 2, 2, 2, 2, 2, 4, 2, 2, 2, 2,\n",
       "       2, 4, 4, 2, 2, 2])"
      ]
     },
     "execution_count": 69,
     "metadata": {},
     "output_type": "execute_result"
    }
   ],
   "source": [
    "# Fit the classifier\n",
    "clf = LogisticRegression(C=1e5, solver='liblinear') \n",
    "clf.fit(X, y)\n",
    "\n",
    "y_pred=clf.predict(X) \n",
    "y_pred"
   ]
  },
  {
   "cell_type": "code",
   "execution_count": 70,
   "id": "542be7aa-6ea4-4709-9728-3f8152fb3e2a",
   "metadata": {
    "slideshow": {
     "slide_type": "slide"
    },
    "tags": []
   },
   "outputs": [
    {
     "data": {
      "text/plain": [
       "array([[205,   7],\n",
       "       [ 13, 111]])"
      ]
     },
     "execution_count": 70,
     "metadata": {},
     "output_type": "execute_result"
    }
   ],
   "source": [
    "cnf_matrix = metrics.confusion_matrix(my_sample_1['outcome'], y_pred) \n",
    "cnf_matrix "
   ]
  },
  {
   "cell_type": "markdown",
   "id": "12b69ea2-139c-478b-97d0-a187c2d49dff",
   "metadata": {
    "slideshow": {
     "slide_type": "slide"
    },
    "tags": []
   },
   "source": [
    "## Confusion Matrix Plot"
   ]
  },
  {
   "cell_type": "markdown",
   "id": "881a920e-2be2-42ff-b399-a5a841855fcd",
   "metadata": {
    "tags": []
   },
   "source": [
    "```\n",
    "class_names=[2,4] # name  of classes \n",
    "fig, ax = plt.subplots() \n",
    "tick_marks = np.arange(len(class_names)) \n",
    "plt.xticks(tick_marks, class_names) \n",
    "plt.yticks(tick_marks, class_names) \n",
    "\n",
    "sns.heatmap(pd.DataFrame(cnf_matrix), annot=True, cmap=\"Blues\" ,fmt='g') \n",
    "ax.xaxis.set_label_position(\"top\") \n",
    "plt.tight_layout() \n",
    "\n",
    "plt.title('Confusion matrix', y=1.1) \n",
    "plt.ylabel('Actual label') \n",
    "plt.xlabel('Predicted label');\n",
    "```"
   ]
  },
  {
   "attachments": {
    "9674047e-99c0-4005-9e6e-e0d64279ae06.png": {
     "image/png": "[encoded data removed]"
    }
   },
   "cell_type": "markdown",
   "id": "046a4f93-dfc2-42be-86e1-6cec12aafa7f",
   "metadata": {
    "slideshow": {
     "slide_type": "slide"
    },
    "tags": []
   },
   "source": [
    "![plot2.png](attachment:9674047e-99c0-4005-9e6e-e0d64279ae06.png)"
   ]
  },
  {
   "cell_type": "code",
   "execution_count": 71,
   "id": "7233d8a6-390c-4e6a-85ed-eb17b30a92ef",
   "metadata": {
    "slideshow": {
     "slide_type": "slide"
    },
    "tags": []
   },
   "outputs": [
    {
     "name": "stdout",
     "output_type": "stream",
     "text": [
      "Accuracy: 0.9404761904761905\n",
      "Precision: 0.940677966101695\n",
      "Recall: 0.8951612903225806\n"
     ]
    }
   ],
   "source": [
    "print(\"Accuracy:\",metrics.accuracy_score(my_sample_1['outcome'], y_pred))  # correctly predicted\n",
    "print(\"Precision:\",metrics.precision_score(my_sample_1['outcome'], y_pred, pos_label=4)) #  ratio tp / (tp + fp)\n",
    "print(\"Recall:\",metrics.recall_score(my_sample_1['outcome'], y_pred, pos_label=4)) # tp / (tp + fn) finding all pos."
   ]
  },
  {
   "cell_type": "markdown",
   "id": "ab6cc4ac-df8c-4ff3-9c70-8df668f78273",
   "metadata": {
    "slideshow": {
     "slide_type": "slide"
    },
    "tags": []
   },
   "source": [
    "## Generate predictions for the other sample\n",
    "\n",
    "So we had set aside some of the data.  So now, we can apply it to the estimated model and generate predictions - and we want to see how stable our estimates are:"
   ]
  },
  {
   "cell_type": "code",
   "execution_count": 72,
   "id": "0a024b78-5901-4596-be95-40f70ce7506e",
   "metadata": {
    "tags": []
   },
   "outputs": [
    {
     "name": "stdout",
     "output_type": "stream",
     "text": [
      "[[216   9]\n",
      " [ 10 101]]\n",
      "Accuracy: 0.9434523809523809\n",
      "Precision: 0.9181818181818182\n",
      "Recall: 0.9099099099099099\n"
     ]
    }
   ],
   "source": [
    "X_2 = my_sample_2[features]\n",
    "y_pred_2=clf.predict(X_2) \n",
    "y_pred_2\n",
    "\n",
    "cnf_matrix2 = metrics.confusion_matrix(my_sample_2['outcome'], y_pred_2) \n",
    "\n",
    "print(cnf_matrix2)\n",
    "\n",
    "print(\"Accuracy:\",metrics.accuracy_score(my_sample_2['outcome'], y_pred_2))  # correctly predicted\n",
    "print(\"Precision:\",metrics.precision_score(my_sample_2['outcome'], y_pred_2, pos_label=4)) #  ratio tp / (tp + fp)\n",
    "print(\"Recall:\",metrics.recall_score(my_sample_2['outcome'], y_pred_2, pos_label=4)) # tp / (tp + fn) finding all pos.\n"
   ]
  },
  {
   "cell_type": "markdown",
   "id": "a18c2868-b34e-41e3-9540-a03131350225",
   "metadata": {
    "slideshow": {
     "slide_type": "slide"
    },
    "tags": []
   },
   "source": [
    "<h1> Statistics 21 <br/> Have a good night! </h1>"
   ]
  },
  {
   "cell_type": "markdown",
   "id": "a9566093-e60f-4868-9991-659be88f2294",
   "metadata": {
    "slideshow": {
     "slide_type": "-"
    },
    "tags": []
   },
   "source": [
    "<script>\n",
    "    setBackgroundImage('Window1.jpg', 'black');\n",
    "</script>"
   ]
  }
 ],
 "metadata": {
  "kernelspec": {
   "display_name": "Python 3 (ipykernel)",
   "language": "python",
   "name": "python3"
  },
  "language_info": {
   "codemirror_mode": {
    "name": "ipython",
    "version": 3
   },
   "file_extension": ".py",
   "mimetype": "text/x-python",
   "name": "python",
   "nbconvert_exporter": "python",
   "pygments_lexer": "ipython3",
   "version": "3.10.8"
  }
 },
 "nbformat": 4,
 "nbformat_minor": 5
}
