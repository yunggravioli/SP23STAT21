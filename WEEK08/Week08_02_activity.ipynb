{
 "cells": [
  {
   "cell_type": "markdown",
   "id": "44df5f05-aa79-4f4b-bac7-0b441fd10934",
   "metadata": {},
   "source": [
    "<style>\n",
    "body h1:before, body h2:before, body h3:before, body h4:before, body h5:before, body h6:before {\n",
    "  content: \"\";\n",
    "  counter-increment: none;\n",
    "}\n",
    "</style>"
   ]
  },
  {
   "cell_type": "raw",
   "id": "8281eb25-292a-4f5c-9a6d-4360815466a8",
   "metadata": {},
   "source": [
    "\\setcounter{secnumdepth}{0}"
   ]
  },
  {
   "cell_type": "markdown",
   "id": "17474efc-a435-431c-87b6-abcee356b403",
   "metadata": {
    "tags": []
   },
   "source": [
    "# Week08.2 Team Activity\n",
    "Due Thursday May 25th, 2023 by 11:59pm - please upload PDF with photograph (either rendered or a separate file).  There is no expectation of completing this during class, in fact, I am trying to get you to practice working outside of class in teams in preparation for the final project.\n",
    "\n",
    "If you missed class – no credit for this activity, instead, I drop two unexcused absences from the Monday/Wednesday activities before deductions begin.\n",
    "\n",
    "- **Please identify your team & the names of your teammates.** \n",
    "\n",
    "- **Please insert a team photo somewhere in this notebook.  If you cannot get the to render correctly to PDF please upload a separate file of the photo**\n",
    "\n",
    "- **Please make certain that all of your teammates agree upon and understand the team answers. Thank you.**"
   ]
  },
  {
   "cell_type": "markdown",
   "id": "f5cb3153-7c1f-4af7-95f3-96f8d22bdfcb",
   "metadata": {
    "tags": []
   },
   "source": [
    "## Assignment\n",
    "\n",
    "If you are with your final project team and have your data, please go ahead and use your final data for this activity.\n",
    "\n",
    "If you are not on a team or sitting with non-teammates today, please try the following, this is a random forest with numerical outcome (price) I've done the preparation for you:"
   ]
  },
  {
   "cell_type": "code",
   "execution_count": null,
   "id": "d89242b0-dd7a-481a-95ce-042172f294bd",
   "metadata": {},
   "outputs": [],
   "source": [
    "import numpy as np\n",
    "import pandas as pd\n",
    "import matplotlib.pyplot as plt\n",
    "\n",
    "from sklearn.ensemble import RandomForestClassifier, RandomForestRegressor\n",
    "\n",
    "train = pd.read_json(\"train.json\")\n",
    "train.set_index('building_id', inplace=True)\n",
    "train.head()\n",
    "\n",
    "%matplotlib inline"
   ]
  },
  {
   "cell_type": "code",
   "execution_count": null,
   "id": "d82d02d4-d60e-4fee-93d0-5d9533fc11a4",
   "metadata": {
    "tags": []
   },
   "outputs": [],
   "source": [
    "# turn the outcome into categories\n",
    "train['interest_level'] =  pd.Categorical(\n",
    "    train['interest_level'], \n",
    "    categories=[\"low\", \"medium\", \"high\"], ordered=True\n",
    ")\n",
    "\n"
   ]
  },
  {
   "cell_type": "markdown",
   "id": "d2b9d0f7-a129-4bf2-a89c-0310cf35ceac",
   "metadata": {},
   "source": [
    "## Add additional features to this list\n",
    "\n",
    "Please add additional features to the model.  I've only included location (lon/lat) but there are others.  I didn't talk about RandomForestRegressor (numerical outcome) so here is the model (followed by an explanation):"
   ]
  },
  {
   "cell_type": "code",
   "execution_count": null,
   "id": "6b4e35aa-0a2c-466e-b3d7-03e4c0c6b3db",
   "metadata": {
    "tags": []
   },
   "outputs": [],
   "source": [
    "feature_names = ['longitude', 'latitude', 'price']\n",
    "train_sub = train[feature_names]\n",
    "X_train, y_train = train_sub.drop('price',axis=1), train_sub['price']\n",
    "rf = RandomForestRegressor(\n",
    "         n_estimators=100,\n",
    "         min_samples_leaf=1,\n",
    "         n_jobs=-1)"
   ]
  },
  {
   "cell_type": "markdown",
   "id": "b11e8c81-c586-4f93-b6b5-a0d4df47eb07",
   "metadata": {},
   "source": [
    "n_estimators: This is the number of trees in the forest. In this case, 100 trees will be estimated.\n",
    "\n",
    "min_samples_leaf: This is the minimum number of samples required to be at a leaf node. The algorithm won't allow a split that leaves fewer than this number of samples in a node.\n",
    "\n",
    "n_jobs: The number of jobs to run in parallel for both fit and predict. If -1, then the number of jobs is set to the number of cores."
   ]
  },
  {
   "cell_type": "markdown",
   "id": "4ccd5bd9-cc8a-46c9-b1a4-85be9b6c7ab2",
   "metadata": {},
   "source": [
    "## Fit your model"
   ]
  },
  {
   "cell_type": "code",
   "execution_count": null,
   "id": "881cc3c5-aa3a-4bdf-9e49-f48ed156ff36",
   "metadata": {},
   "outputs": [],
   "source": [
    "rf.fit(X_train, y_train)"
   ]
  },
  {
   "cell_type": "markdown",
   "id": "8db92aa3-6c32-4233-80eb-334405bdfe74",
   "metadata": {},
   "source": [
    "## Examine the results\n",
    "\n",
    "Example, check the feature importance (you should add more variables and modify the graphic) and what do you conclude about the real estate features and price?"
   ]
  },
  {
   "cell_type": "code",
   "execution_count": null,
   "id": "53774b22-0485-4f6c-b168-ca3970b407c7",
   "metadata": {
    "tags": []
   },
   "outputs": [],
   "source": [
    "feature_importance = rf.feature_importances_[0:2]\n",
    "indices = np.argsort(feature_importance)\n",
    "\n",
    "plt.figure(figsize=(12, 6))\n",
    "plt.title(\"Feature importance\")\n",
    "plt.barh(range(len(indices)), feature_importance[indices], color='b', align='center')\n",
    "plt.yticks(range(len(indices)), [feature_names[i] for i in indices])\n",
    "plt.xlabel('Relative Importance')\n",
    "plt.show()"
   ]
  },
  {
   "cell_type": "markdown",
   "id": "2b334525-bca2-4828-a449-805b26bf3333",
   "metadata": {},
   "source": [
    "There are more things you could do, for example, predict price using the test data."
   ]
  },
  {
   "cell_type": "markdown",
   "id": "ef69a93c-8bf7-4416-9395-350e36b74acc",
   "metadata": {
    "jp-MarkdownHeadingCollapsed": true,
    "tags": []
   },
   "source": [
    "3.  Can your team modify this model to examine the categorical outcome \"interest_level\"?  If yes, how does the model for interest_level differ from price with respect to variables like location and the features of the rental unit.\n",
    "\n",
    "Please remember to take a team photo.\n",
    " "
   ]
  },
  {
   "cell_type": "markdown",
   "id": "1d34b3a1-1ddb-493b-99b8-c98205b4d9c1",
   "metadata": {},
   "source": [
    "## What to submit for credit\n",
    "\n",
    "- Please upload the Jupyter Notebook (.ipynb) and PDF (preferred) OR .html (OK) to Bruin Learn with your team attempt.  Please make sure every team member understands the contents of the notebook.  \n",
    "\n",
    "- This is due before 11:59pm Thursday 5/25/2023 "
   ]
  }
 ],
 "metadata": {
  "kernelspec": {
   "display_name": "Python 3 (ipykernel)",
   "language": "python",
   "name": "python3"
  },
  "language_info": {
   "codemirror_mode": {
    "name": "ipython",
    "version": 3
   },
   "file_extension": ".py",
   "mimetype": "text/x-python",
   "name": "python",
   "nbconvert_exporter": "python",
   "pygments_lexer": "ipython3",
   "version": "3.10.8"
  }
 },
 "nbformat": 4,
 "nbformat_minor": 5
}
