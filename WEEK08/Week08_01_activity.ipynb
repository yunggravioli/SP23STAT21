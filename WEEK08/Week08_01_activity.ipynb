{
 "cells": [
  {
   "cell_type": "markdown",
   "id": "44df5f05-aa79-4f4b-bac7-0b441fd10934",
   "metadata": {},
   "source": [
    "<style>\n",
    "body h1:before, body h2:before, body h3:before, body h4:before, body h5:before, body h6:before {\n",
    "  content: \"\";\n",
    "  counter-increment: none;\n",
    "}\n",
    "</style>"
   ]
  },
  {
   "cell_type": "raw",
   "id": "8281eb25-292a-4f5c-9a6d-4360815466a8",
   "metadata": {},
   "source": [
    "\\setcounter{secnumdepth}{0}"
   ]
  },
  {
   "cell_type": "markdown",
   "id": "17474efc-a435-431c-87b6-abcee356b403",
   "metadata": {
    "tags": []
   },
   "source": [
    "# Week08.1 Team Activity\n",
    "Due Tuesday May 23th, 2023 by 11:59pm - please upload PDF with photograph (either rendered or a separate file).  There is no expectation of completing this during class, in fact, I am trying to get you to practice working outside of class in teams in preparation for the final project.\n",
    "\n",
    "If you missed class – no credit for this activity, instead, I drop two unexcused absences from the Monday/Wednesday activities before deductions begin.\n",
    "\n",
    "- **Please identify your team & the names of your teammates.** \n",
    "\n",
    "- **Please insert a team photo somewhere in this notebook.  If you cannot get the to render correctly to PDF please upload a separate file of the photo**\n",
    "\n",
    "- **Please make certain that all of your teammates agree upon and understand the team answers. Thank you.**"
   ]
  },
  {
   "cell_type": "markdown",
   "id": "5dc9cc52-6082-43f0-83b2-87af0ee48bd4",
   "metadata": {
    "jp-MarkdownHeadingCollapsed": true,
    "tags": []
   },
   "source": [
    "## Assignment\n",
    "\n",
    "If you are with your final project team and have your data, please go ahead and use it for this activity.\n",
    "\n",
    "If you are not on a team or sitting with non-teammates today, please try the following:\n",
    "\n",
    "1.  Please examine the dataset shelter.csv with an emphasis on the following\n",
    "\n",
    "A. Which column would be most suitable as an outcome (dependent) variable?\n",
    "B. Which columns might need some help (e.g., transformation, missing values) before they can be used?\n",
    "\n",
    "2.  If you have identified a possible outcome variable - what questions could be answered (or what hypotheses could be tested with it)\n",
    "\n",
    "3.  Can your team come up with a graphic (you don't need to program it) that would be suitable (informative) for your outcome.\n",
    "\n",
    "Please remember to take a team photo.\n",
    " "
   ]
  },
  {
   "cell_type": "markdown",
   "id": "1d34b3a1-1ddb-493b-99b8-c98205b4d9c1",
   "metadata": {},
   "source": [
    "## What to submit for credit\n",
    "\n",
    "- Please upload the Jupyter Notebook (.ipynb) and PDF (preferred) OR .html (OK) to Bruin Learn with your team attempt.  Please make sure every team member understands the contents of the notebook.  \n",
    "\n",
    "- This is due before 11:59pm Tuesday 5/23/2023 "
   ]
  }
 ],
 "metadata": {
  "kernelspec": {
   "display_name": "Python 3 (ipykernel)",
   "language": "python",
   "name": "python3"
  },
  "language_info": {
   "codemirror_mode": {
    "name": "ipython",
    "version": 3
   },
   "file_extension": ".py",
   "mimetype": "text/x-python",
   "name": "python",
   "nbconvert_exporter": "python",
   "pygments_lexer": "ipython3",
   "version": "3.10.8"
  }
 },
 "nbformat": 4,
 "nbformat_minor": 5
}
