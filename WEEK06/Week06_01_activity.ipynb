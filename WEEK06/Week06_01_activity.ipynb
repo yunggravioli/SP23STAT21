{
 "cells": [
  {
   "cell_type": "markdown",
   "id": "44df5f05-aa79-4f4b-bac7-0b441fd10934",
   "metadata": {},
   "source": [
    "<style>\n",
    "body h1:before, body h2:before, body h3:before, body h4:before, body h5:before, body h6:before {\n",
    "  content: \"\";\n",
    "  counter-increment: none;\n",
    "}\n",
    "</style>"
   ]
  },
  {
   "cell_type": "raw",
   "id": "8281eb25-292a-4f5c-9a6d-4360815466a8",
   "metadata": {},
   "source": [
    "\\setcounter{secnumdepth}{0}"
   ]
  },
  {
   "cell_type": "markdown",
   "id": "17474efc-a435-431c-87b6-abcee356b403",
   "metadata": {
    "tags": []
   },
   "source": [
    "# Week06.1 Team Activity\n",
    "Due Tuesday May 9th, 2023 by 11:59pm - please upload PDF with photograph (either rendered or a separate file) \n",
    "\n",
    "If you missed class – no credit for this activity, instead, I drop two unexcused absences from the Monday/Wednesday activities before deductions begin.\n",
    "\n",
    "- **Please identify your team & the names of your teammates.** \n",
    "\n",
    "- **Please insert a team photo somewhere in this notebook.  If you cannot get the to render correctly to PDF please upload a separate file of the photo**\n",
    "\n",
    "- **Please make certain that all of your teammates agree upon and understand the team answers. Thank you.**\n",
    "\n"
   ]
  },
  {
   "cell_type": "markdown",
   "id": "5dc9cc52-6082-43f0-83b2-87af0ee48bd4",
   "metadata": {},
   "source": [
    "## Assignment\n",
    "\n",
    " "
   ]
  },
  {
   "cell_type": "markdown",
   "id": "ab116103-ef06-4ad0-8c10-bc58d1191103",
   "metadata": {},
   "source": [
    "As always, what is important is a team effort and that everyone on the team has an idea of how to program these things and also feels free to ask the team for more understanding.  "
   ]
  },
  {
   "cell_type": "markdown",
   "id": "7eec6496-0112-4826-91a4-3bd0ad843ebf",
   "metadata": {},
   "source": [
    "Because we are in the process of forming final teams, if you are having trouble coming together as a team to complete an assignment like this one,  you should look for a different team for the next activity."
   ]
  },
  {
   "cell_type": "markdown",
   "id": "e25f5629-8192-4b94-8823-4c589304175f",
   "metadata": {},
   "source": [
    "We examined two Excel spreadsheets on the homeless in Los Angeles:"
   ]
  },
  {
   "cell_type": "code",
   "execution_count": null,
   "id": "a19f9bee-405e-4472-8691-b0de973ebf95",
   "metadata": {},
   "outputs": [],
   "source": [
    "## Reading Excel\n",
    "import pandas as pd\n",
    "\n",
    "HC20 = pd.read_excel('2020-homeless-count-data-by-census-tract.xlsx', \n",
    "                     sheet_name=3)\n",
    "HC22 = pd.read_excel('2022-homeless-count-data-by-census-tract.xlsx', \n",
    "                     sheet_name=2)"
   ]
  },
  {
   "cell_type": "markdown",
   "id": "6677f035-a998-4be1-88a4-5b42dfc9145b",
   "metadata": {},
   "source": [
    "Please try the following as a team:\n",
    "\n",
    "1) perform an inner join \n",
    "\n",
    "2) then share one fact about the change in homelessness from 2020 to 2022 that your team discovered after working on this data using Python.  For example - your might have thought about question such as \n",
    "    - has homelessness increased?  Has it decreased?  \n",
    "    - is homelessness uniform across the city? where is it concentrated?  \n",
    "    \n",
    "There is no right or wrong here, the idea is to come up with a question then use the data to answer the question.  The important takeaway is to connect the two well."
   ]
  },
  {
   "cell_type": "markdown",
   "id": "1d34b3a1-1ddb-493b-99b8-c98205b4d9c1",
   "metadata": {},
   "source": [
    "## What to submit for credit\n",
    "\n",
    "- Please upload the Jupyter Notebook (.ipynb) and PDF (preferred) OR .html (OK) to Bruin Learn with your team attempt.  Please make sure every team member understands the contents of the notebook.  \n",
    "\n",
    "- This is due before 11:59pm Tuesday 5/9/2023 "
   ]
  }
 ],
 "metadata": {
  "kernelspec": {
   "display_name": "Python 3 (ipykernel)",
   "language": "python",
   "name": "python3"
  },
  "language_info": {
   "codemirror_mode": {
    "name": "ipython",
    "version": 3
   },
   "file_extension": ".py",
   "mimetype": "text/x-python",
   "name": "python",
   "nbconvert_exporter": "python",
   "pygments_lexer": "ipython3",
   "version": "3.10.8"
  }
 },
 "nbformat": 4,
 "nbformat_minor": 5
}
