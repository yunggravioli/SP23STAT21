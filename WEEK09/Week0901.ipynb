{
 "cells": [
  {
   "cell_type": "markdown",
   "id": "d9e47c05-5d36-4fd6-9079-a2c2f856ab8f",
   "metadata": {},
   "source": [
    "<script>\n",
    "    function findAncestor (el, name) {\n",
    "        while ((el = el.parentElement) && el.nodeName.toLowerCase() !== name);\n",
    "        return el;\n",
    "    }\n",
    "    function colorAll(el, textColor) {\n",
    "        el.style.color = textColor;\n",
    "        Array.from(el.children).forEach((e) => {colorAll(e, textColor);});\n",
    "    }\n",
    "    function setBackgroundImage(src, textColor) {\n",
    "        var section = findAncestor(document.currentScript, 'section');\n",
    "        if (section) {\n",
    "            section.setAttribute('data-background-image', src);\n",
    "\t\t\tif (textColor) colorAll(section, textColor);\n",
    "        }\n",
    "    }\n",
    "</script>"
   ]
  },
  {
   "cell_type": "markdown",
   "id": "30ca0901-9ff9-48a4-9afc-2ac542605b15",
   "metadata": {},
   "source": [
    "<style>\n",
    "h1 {\n",
    "  border: 1.5px solid #333;\n",
    "  padding: 8px 12px;\n",
    "  background-image: linear-gradient(#2774AE,#ebf8e1, #FFD100);\n",
    "  position: static;\n",
    "}\n",
    "</style>"
   ]
  },
  {
   "cell_type": "markdown",
   "id": "da9e97bb-bbcc-4c05-a3ed-4ae3299f8964",
   "metadata": {
    "tags": []
   },
   "source": [
    "<h1 style='color:white'> Statistics 21 <br/> Introducing Classes and Object Oriented Programming </h1>\n",
    "\n",
    "<h3 style='color:white'>Vivian Lew, PhD - Wednesday, Week 9</h3>\n",
    "\n",
    "<h3 style='color:white'>Adapted from Chapters 15 and 16 of Think Python by Allen B Downey with thanks to Dr. Miles Chen</h3>"
   ]
  },
  {
   "cell_type": "markdown",
   "id": "f65282b7-8607-4a29-82a6-8497af681292",
   "metadata": {},
   "source": [
    "<script>\n",
    "    setBackgroundImage('Window1.jpg');\n",
    "</script>"
   ]
  },
  {
   "cell_type": "markdown",
   "id": "597dc638-8a6b-43fa-9f0a-083712df9aee",
   "metadata": {
    "slideshow": {
     "slide_type": "slide"
    },
    "tags": []
   },
   "source": [
    "## Until now\n",
    "\n",
    "- We have been engaged in Functional Programming in Python.\n",
    "\n",
    "- We have been writing programs by applying and composing functions.\n",
    "\n",
    "- Python also supports a different style: Object Oriented Programming\n"
   ]
  },
  {
   "cell_type": "markdown",
   "id": "20bd6584-114b-4c5c-856a-d4324c9605f1",
   "metadata": {
    "slideshow": {
     "slide_type": "slide"
    },
    "tags": []
   },
   "source": [
    "## What is OOP (Object-oriented programming)\n",
    "\n",
    "- A programming model built around the concept of \"objects\". \n",
    "\n",
    "- Objects contain both data and code \n",
    "\n",
    "- Data, stored as properties (AKA attributes) \n",
    "\n",
    "- Code, stored as actions that the object can perform (AKA methods)\n",
    "\n",
    "The point is to create code that going to be reused."
   ]
  },
  {
   "cell_type": "markdown",
   "id": "891fe40a-f7b7-4000-8763-c1ff6502061f",
   "metadata": {
    "slideshow": {
     "slide_type": "slide"
    },
    "tags": []
   },
   "source": [
    "## Programmer defined types\n",
    "\n",
    "We have used many of Python's built-in types; now we are going to define a new type. \n",
    "\n",
    "We will create a type called `Point` that represents a point in two-dimensional space $(x, y)$.\n",
    "\n",
    "There are several ways we might represent points in Python:\n",
    "\n",
    "+ We could store the coordinates separately in two variables, x and y.\n",
    "+ We could store the coordinates as elements in a list or tuple.\n",
    "+ We could create a completely new type to represent points as objects."
   ]
  },
  {
   "cell_type": "markdown",
   "id": "98a71525-0b3b-4284-8445-9c645ee834d2",
   "metadata": {
    "slideshow": {
     "slide_type": "slide"
    },
    "tags": []
   },
   "source": [
    "## Class\n",
    "\n",
    "Creating a new type is more complicated, but it has advantages.\n",
    "\n",
    "A programmer defined type is called a **class**. We define a class with the keyword `class`\n",
    "\n",
    "Python Convention is to Capitalize class."
   ]
  },
  {
   "cell_type": "code",
   "execution_count": 1,
   "id": "76c7206f-83e1-44c6-be64-c422a180cb13",
   "metadata": {
    "tags": []
   },
   "outputs": [],
   "source": [
    "class Point:\n",
    "    \"\"\"Represents a point in 2-D space.\"\"\""
   ]
  },
  {
   "cell_type": "markdown",
   "id": "92b4ec18-8086-4ffd-b12b-0dfe7af409f1",
   "metadata": {
    "slideshow": {
     "slide_type": "fragment"
    }
   },
   "source": [
    "It is also customary to use a docstring header to explain what the class is for. There is currently nothing else inside the class definition at this point in time."
   ]
  },
  {
   "cell_type": "markdown",
   "id": "364dff97-7f1e-4e30-a57e-043a3083b84c",
   "metadata": {
    "slideshow": {
     "slide_type": "slide"
    },
    "tags": []
   },
   "source": [
    "## What happens behind our program\n",
    "\n",
    "Defining a class named `Point` creates a **class object**."
   ]
  },
  {
   "cell_type": "code",
   "execution_count": 2,
   "id": "e0e5b8c5-556f-475f-baec-e82e05f4a635",
   "metadata": {
    "slideshow": {
     "slide_type": "fragment"
    },
    "tags": []
   },
   "outputs": [
    {
     "name": "stdout",
     "output_type": "stream",
     "text": [
      "<class '__main__.Point'>\n"
     ]
    }
   ],
   "source": [
    "print(Point)"
   ]
  },
  {
   "cell_type": "markdown",
   "id": "9da67a1d-bf2f-4875-92b1-0d4bd5521b68",
   "metadata": {
    "slideshow": {
     "slide_type": "slide"
    },
    "tags": []
   },
   "source": [
    "Every Python file has a built-in attribute called `__name__`.\n",
    "\n",
    "When we are running scripts (for example, when using VS code or Jupyter etc.), Python sets the __name__ attribute for that script to \"__main__\"."
   ]
  },
  {
   "cell_type": "markdown",
   "id": "2d556780-7dd0-46fa-a22b-9c3982f7d714",
   "metadata": {
    "slideshow": {
     "slide_type": "fragment"
    }
   },
   "source": [
    "Because Point is defined in the script that is currently running. , its complete name is `__main__.Point`"
   ]
  },
  {
   "cell_type": "markdown",
   "id": "86d2da24-c9bb-446d-b778-6697c0b58766",
   "metadata": {
    "slideshow": {
     "slide_type": "slide"
    }
   },
   "source": [
    "The class object is like a factory for creating objects. To create a Point, you call Point as if it were a function."
   ]
  },
  {
   "cell_type": "code",
   "execution_count": 3,
   "id": "933313d2-b15d-468d-b950-810715617da0",
   "metadata": {
    "slideshow": {
     "slide_type": "fragment"
    },
    "tags": []
   },
   "outputs": [],
   "source": [
    "blank = Point()"
   ]
  },
  {
   "cell_type": "code",
   "execution_count": 4,
   "id": "73d73649-c43a-48ba-af37-be0547f500de",
   "metadata": {
    "slideshow": {
     "slide_type": "fragment"
    },
    "tags": []
   },
   "outputs": [
    {
     "data": {
      "text/plain": [
       "<__main__.Point at 0x10d83a8f0>"
      ]
     },
     "execution_count": 4,
     "metadata": {},
     "output_type": "execute_result"
    }
   ],
   "source": [
    "blank"
   ]
  },
  {
   "cell_type": "markdown",
   "id": "3fe6b574-685b-4daa-ad36-6bb262688622",
   "metadata": {
    "slideshow": {
     "slide_type": "fragment"
    }
   },
   "source": [
    "The return value is a reference to a Point object, which we assign to blank.\n",
    "\n",
    "When you print an instance, Python tells you what class it belongs to and where it is stored in memory."
   ]
  },
  {
   "cell_type": "markdown",
   "id": "1239f04f-10ef-48ac-95b5-325186b92804",
   "metadata": {
    "slideshow": {
     "slide_type": "slide"
    },
    "tags": []
   },
   "source": [
    "## Instances and objects\n",
    "\n",
    "In object oriented programming you will see/hear things like \"a class defines the properties and behaviors which its instances will possess...\"\n",
    "\n",
    "All instances are objects in Python, but not all Python objects are instances.\n",
    "\n",
    "An instance specifically is an object that is built from a class. \n",
    "\n",
    "It is a \"physical manifestation\" of the class."
   ]
  },
  {
   "cell_type": "markdown",
   "id": "0c01fc69-513d-4584-a4e8-e0facf1f547b",
   "metadata": {
    "slideshow": {
     "slide_type": "slide"
    },
    "tags": []
   },
   "source": [
    "## Attributes\n",
    "\n",
    "You can assign values/properties/characteristics to an instance using dot notation."
   ]
  },
  {
   "cell_type": "code",
   "execution_count": 5,
   "id": "551cc458-fee0-4f6f-b9c4-cdcd51e0ce00",
   "metadata": {
    "slideshow": {
     "slide_type": "fragment"
    },
    "tags": []
   },
   "outputs": [],
   "source": [
    "blank.x = 3.0\n",
    "blank.y = 4.0"
   ]
  },
  {
   "cell_type": "markdown",
   "id": "3c419dcc-6853-4c63-919c-cd56c12a2763",
   "metadata": {
    "slideshow": {
     "slide_type": "fragment"
    }
   },
   "source": [
    "This syntax is similar to the syntax for selecting a variable from a module, such as `np.pi`.\n",
    "\n",
    "Here, we are assigning values to named elements of an object. These elements are called **attributes**."
   ]
  },
  {
   "cell_type": "code",
   "execution_count": 6,
   "id": "e5b6ed8e-e400-40d9-8e24-03b12899241e",
   "metadata": {
    "slideshow": {
     "slide_type": "fragment"
    },
    "tags": []
   },
   "outputs": [
    {
     "data": {
      "text/plain": [
       "4.0"
      ]
     },
     "execution_count": 6,
     "metadata": {},
     "output_type": "execute_result"
    }
   ],
   "source": [
    "blank.y"
   ]
  },
  {
   "cell_type": "code",
   "execution_count": 7,
   "id": "b252b094-dfbf-4359-a27d-2a61294fd7c2",
   "metadata": {
    "slideshow": {
     "slide_type": "slide"
    },
    "tags": []
   },
   "outputs": [
    {
     "data": {
      "text/plain": [
       "3.0"
      ]
     },
     "execution_count": 7,
     "metadata": {},
     "output_type": "execute_result"
    }
   ],
   "source": [
    "x = blank.x\n",
    "x"
   ]
  },
  {
   "cell_type": "markdown",
   "id": "0ed3d706-b37e-49b2-9bec-628b3ef4a010",
   "metadata": {
    "slideshow": {
     "slide_type": "fragment"
    }
   },
   "source": [
    "There is no conflict between naming a variable x and having an attribute `x` inside the class. These are unrelated."
   ]
  },
  {
   "cell_type": "code",
   "execution_count": 8,
   "id": "afb222fb-4135-4a9d-af83-c3ac3c4f4394",
   "metadata": {
    "slideshow": {
     "slide_type": "fragment"
    },
    "tags": []
   },
   "outputs": [
    {
     "data": {
      "text/plain": [
       "3.0"
      ]
     },
     "execution_count": 8,
     "metadata": {},
     "output_type": "execute_result"
    }
   ],
   "source": [
    "x"
   ]
  },
  {
   "cell_type": "markdown",
   "id": "b630471d-0557-46e8-882d-828213a520d9",
   "metadata": {
    "slideshow": {
     "slide_type": "slide"
    },
    "tags": []
   },
   "source": [
    "Changing the value of blank.x will not affect the value of x. "
   ]
  },
  {
   "cell_type": "code",
   "execution_count": 9,
   "id": "1bdfe568-90df-4957-afd4-0565ce5d1a77",
   "metadata": {
    "slideshow": {
     "slide_type": "fragment"
    },
    "tags": []
   },
   "outputs": [],
   "source": [
    "blank.x = 5.0"
   ]
  },
  {
   "cell_type": "code",
   "execution_count": 10,
   "id": "532735ec-8950-4c9f-83d6-5d62eda3aa42",
   "metadata": {
    "slideshow": {
     "slide_type": "fragment"
    },
    "tags": []
   },
   "outputs": [
    {
     "data": {
      "text/plain": [
       "3.0"
      ]
     },
     "execution_count": 10,
     "metadata": {},
     "output_type": "execute_result"
    }
   ],
   "source": [
    "x"
   ]
  },
  {
   "cell_type": "code",
   "execution_count": 11,
   "id": "5dec687f-fa50-482c-84f3-30e36a49cd83",
   "metadata": {
    "tags": []
   },
   "outputs": [
    {
     "data": {
      "text/plain": [
       "5.0"
      ]
     },
     "execution_count": 11,
     "metadata": {},
     "output_type": "execute_result"
    }
   ],
   "source": [
    "blank.x"
   ]
  },
  {
   "cell_type": "markdown",
   "id": "4b83ffa4-6589-49c9-ad01-441665f175cd",
   "metadata": {
    "slideshow": {
     "slide_type": "slide"
    }
   },
   "source": [
    "We can use the dot notation as part of any expression. Example: we can insert numeric values into strings with the `{}` and `.format` notation."
   ]
  },
  {
   "cell_type": "code",
   "execution_count": 12,
   "id": "dc5ca3c5-2bdc-408e-ba4d-708a5895095f",
   "metadata": {
    "slideshow": {
     "slide_type": "fragment"
    },
    "tags": []
   },
   "outputs": [
    {
     "data": {
      "text/plain": [
       "'(5, 4)'"
      ]
     },
     "execution_count": 12,
     "metadata": {},
     "output_type": "execute_result"
    }
   ],
   "source": [
    "\"({:g}, {:g})\".format(blank.x, blank.y)"
   ]
  },
  {
   "cell_type": "markdown",
   "id": "77d02e1e-52f4-45bf-92f3-3e20de9dac15",
   "metadata": {
    "slideshow": {
     "slide_type": "fragment"
    }
   },
   "source": [
    "We can pass the object as an argument and access the attributes."
   ]
  },
  {
   "cell_type": "code",
   "execution_count": 13,
   "id": "ab6fd34f-799e-4bc5-bec0-a348231d5c55",
   "metadata": {
    "slideshow": {
     "slide_type": "fragment"
    },
    "tags": []
   },
   "outputs": [],
   "source": [
    "def print_point(p):\n",
    "    print (\"({:g}, {:g})\".format(p.x, p.y))"
   ]
  },
  {
   "cell_type": "code",
   "execution_count": 14,
   "id": "0cc64fbd-b6e0-4a80-816f-11f5295bdc4c",
   "metadata": {
    "slideshow": {
     "slide_type": "fragment"
    },
    "tags": []
   },
   "outputs": [
    {
     "name": "stdout",
     "output_type": "stream",
     "text": [
      "(5, 4)\n"
     ]
    }
   ],
   "source": [
    "print_point(blank)"
   ]
  },
  {
   "cell_type": "markdown",
   "id": "d1f7c583-fc28-4afd-9201-54bad31664e1",
   "metadata": {
    "slideshow": {
     "slide_type": "slide"
    },
    "tags": []
   },
   "source": [
    "## Example: A class to represent classrooms\n",
    "\n",
    "How can we design a class to represent classrooms on campus?"
   ]
  },
  {
   "cell_type": "code",
   "execution_count": 15,
   "id": "c75fd297-e4d1-4553-9088-afea886e727d",
   "metadata": {
    "tags": []
   },
   "outputs": [],
   "source": [
    "class Classroom:\n",
    "    \"\"\" Represent a classroom on campus\n",
    "    attributes: usage, seats, location\"\"\""
   ]
  },
  {
   "cell_type": "markdown",
   "id": "b5474243-53fa-499b-974b-3bf072a63c72",
   "metadata": {},
   "source": [
    "The usage and seats will be numbers.\n",
    "\n",
    "To represent the location, we will use a `Point` object."
   ]
  },
  {
   "cell_type": "code",
   "execution_count": 16,
   "id": "189591b1-297f-4eb2-ba2a-f081768a577d",
   "metadata": {
    "tags": []
   },
   "outputs": [],
   "source": [
    "# we create an instance of the Classroom object and begin assigning attributes.\n",
    "Kaplan_169 = Classroom()\n",
    "Kaplan_169.usage = 80.0\n",
    "Kaplan_169.seats = 115.0\n",
    "# for the location attribute, we create an instance of Point\n",
    "Kaplan_169.location = Point()\n",
    "Kaplan_169.location.x = -118.44118103360428\n",
    "Kaplan_169.location.y = 34.071667391381624"
   ]
  },
  {
   "cell_type": "markdown",
   "id": "2808bd8d-cf3c-4556-b97a-1e72ec7af4d3",
   "metadata": {
    "slideshow": {
     "slide_type": "slide"
    },
    "tags": []
   },
   "source": [
    "## Instances as return values\n",
    "\n",
    "Functions can return instances. For example, we create a function `close_circle` that takes a Classroom as an argument and returns a folium map instance with a circle plotted around the classroom:"
   ]
  },
  {
   "cell_type": "code",
   "execution_count": 17,
   "id": "55e4be29-3f6a-423e-b792-2234dd7384b9",
   "metadata": {
    "tags": []
   },
   "outputs": [],
   "source": [
    "import folium\n",
    "\n",
    "def close_circle(classroom, radius = 100):\n",
    "    lon = classroom.location.x\n",
    "    lat = classroom.location.y\n",
    "    \n",
    "# Create a map instance centered at the given lat/lon\n",
    "    m = folium.Map(location=[lat,lon], zoom_start=18)  \n",
    "    \n",
    "# Create a circle at the same lat/lon\n",
    "    circle = folium.Circle(\n",
    "    radius=radius,\n",
    "    location=[lat, lon],\n",
    "    color='cyan',\n",
    "    fill=False,\n",
    "    )\n",
    "    circle.add_to(m)\n",
    "    return m"
   ]
  },
  {
   "cell_type": "code",
   "execution_count": 18,
   "id": "e0461c59-bd80-4e3d-8268-52ef4c368c78",
   "metadata": {
    "tags": []
   },
   "outputs": [],
   "source": [
    "my_classroom = close_circle(Kaplan_169, 50)"
   ]
  },
  {
   "cell_type": "code",
   "execution_count": 19,
   "id": "94b4ced7-43ba-40e1-95cd-55c65e010fa7",
   "metadata": {
    "slideshow": {
     "slide_type": "slide"
    },
    "tags": []
   },
   "outputs": [
    {
     "data": {
      "text/html": [
       "<div style=\"width:100%;\"><div style=\"position:relative;width:100%;height:0;padding-bottom:60%;\"><span style=\"color:#565656\">Make this Notebook Trusted to load map: File -> Trust Notebook</span><iframe srcdoc=\"&lt;!DOCTYPE html&gt;\n",
       "&lt;html&gt;\n",
       "&lt;head&gt;\n",
       "    \n",
       "    &lt;meta http-equiv=&quot;content-type&quot; content=&quot;text/html; charset=UTF-8&quot; /&gt;\n",
       "    \n",
       "        &lt;script&gt;\n",
       "            L_NO_TOUCH = false;\n",
       "            L_DISABLE_3D = false;\n",
       "        &lt;/script&gt;\n",
       "    \n",
       "    &lt;style&gt;html, body {width: 100%;height: 100%;margin: 0;padding: 0;}&lt;/style&gt;\n",
       "    &lt;style&gt;#map {position:absolute;top:0;bottom:0;right:0;left:0;}&lt;/style&gt;\n",
       "    &lt;script src=&quot;https://cdn.jsdelivr.net/npm/leaflet@1.9.3/dist/leaflet.js&quot;&gt;&lt;/script&gt;\n",
       "    &lt;script src=&quot;https://code.jquery.com/jquery-1.12.4.min.js&quot;&gt;&lt;/script&gt;\n",
       "    &lt;script src=&quot;https://cdn.jsdelivr.net/npm/bootstrap@5.2.2/dist/js/bootstrap.bundle.min.js&quot;&gt;&lt;/script&gt;\n",
       "    &lt;script src=&quot;https://cdnjs.cloudflare.com/ajax/libs/Leaflet.awesome-markers/2.0.2/leaflet.awesome-markers.js&quot;&gt;&lt;/script&gt;\n",
       "    &lt;link rel=&quot;stylesheet&quot; href=&quot;https://cdn.jsdelivr.net/npm/leaflet@1.9.3/dist/leaflet.css&quot;/&gt;\n",
       "    &lt;link rel=&quot;stylesheet&quot; href=&quot;https://cdn.jsdelivr.net/npm/bootstrap@5.2.2/dist/css/bootstrap.min.css&quot;/&gt;\n",
       "    &lt;link rel=&quot;stylesheet&quot; href=&quot;https://netdna.bootstrapcdn.com/bootstrap/3.0.0/css/bootstrap.min.css&quot;/&gt;\n",
       "    &lt;link rel=&quot;stylesheet&quot; href=&quot;https://cdn.jsdelivr.net/npm/@fortawesome/fontawesome-free@6.2.0/css/all.min.css&quot;/&gt;\n",
       "    &lt;link rel=&quot;stylesheet&quot; href=&quot;https://cdnjs.cloudflare.com/ajax/libs/Leaflet.awesome-markers/2.0.2/leaflet.awesome-markers.css&quot;/&gt;\n",
       "    &lt;link rel=&quot;stylesheet&quot; href=&quot;https://cdn.jsdelivr.net/gh/python-visualization/folium/folium/templates/leaflet.awesome.rotate.min.css&quot;/&gt;\n",
       "    \n",
       "            &lt;meta name=&quot;viewport&quot; content=&quot;width=device-width,\n",
       "                initial-scale=1.0, maximum-scale=1.0, user-scalable=no&quot; /&gt;\n",
       "            &lt;style&gt;\n",
       "                #map_cdaf8dc5c35839316291a2d38e51d247 {\n",
       "                    position: relative;\n",
       "                    width: 100.0%;\n",
       "                    height: 100.0%;\n",
       "                    left: 0.0%;\n",
       "                    top: 0.0%;\n",
       "                }\n",
       "                .leaflet-container { font-size: 1rem; }\n",
       "            &lt;/style&gt;\n",
       "        \n",
       "&lt;/head&gt;\n",
       "&lt;body&gt;\n",
       "    \n",
       "    \n",
       "            &lt;div class=&quot;folium-map&quot; id=&quot;map_cdaf8dc5c35839316291a2d38e51d247&quot; &gt;&lt;/div&gt;\n",
       "        \n",
       "&lt;/body&gt;\n",
       "&lt;script&gt;\n",
       "    \n",
       "    \n",
       "            var map_cdaf8dc5c35839316291a2d38e51d247 = L.map(\n",
       "                &quot;map_cdaf8dc5c35839316291a2d38e51d247&quot;,\n",
       "                {\n",
       "                    center: [34.071667391381624, -118.44118103360428],\n",
       "                    crs: L.CRS.EPSG3857,\n",
       "                    zoom: 18,\n",
       "                    zoomControl: true,\n",
       "                    preferCanvas: false,\n",
       "                }\n",
       "            );\n",
       "\n",
       "            \n",
       "\n",
       "        \n",
       "    \n",
       "            var tile_layer_314d71cbc1903b3e475b431e66299c4d = L.tileLayer(\n",
       "                &quot;https://{s}.tile.openstreetmap.org/{z}/{x}/{y}.png&quot;,\n",
       "                {&quot;attribution&quot;: &quot;Data by \\u0026copy; \\u003ca target=\\&quot;_blank\\&quot; href=\\&quot;http://openstreetmap.org\\&quot;\\u003eOpenStreetMap\\u003c/a\\u003e, under \\u003ca target=\\&quot;_blank\\&quot; href=\\&quot;http://www.openstreetmap.org/copyright\\&quot;\\u003eODbL\\u003c/a\\u003e.&quot;, &quot;detectRetina&quot;: false, &quot;maxNativeZoom&quot;: 18, &quot;maxZoom&quot;: 18, &quot;minZoom&quot;: 0, &quot;noWrap&quot;: false, &quot;opacity&quot;: 1, &quot;subdomains&quot;: &quot;abc&quot;, &quot;tms&quot;: false}\n",
       "            ).addTo(map_cdaf8dc5c35839316291a2d38e51d247);\n",
       "        \n",
       "    \n",
       "            var circle_004bd0425410ea5b88b3a8bbf168c147 = L.circle(\n",
       "                [34.071667391381624, -118.44118103360428],\n",
       "                {&quot;bubblingMouseEvents&quot;: true, &quot;color&quot;: &quot;cyan&quot;, &quot;dashArray&quot;: null, &quot;dashOffset&quot;: null, &quot;fill&quot;: false, &quot;fillColor&quot;: &quot;cyan&quot;, &quot;fillOpacity&quot;: 0.2, &quot;fillRule&quot;: &quot;evenodd&quot;, &quot;lineCap&quot;: &quot;round&quot;, &quot;lineJoin&quot;: &quot;round&quot;, &quot;opacity&quot;: 1.0, &quot;radius&quot;: 50, &quot;stroke&quot;: true, &quot;weight&quot;: 3}\n",
       "            ).addTo(map_cdaf8dc5c35839316291a2d38e51d247);\n",
       "        \n",
       "&lt;/script&gt;\n",
       "&lt;/html&gt;\" style=\"position:absolute;width:100%;height:100%;left:0;top:0;border:none !important;\" allowfullscreen webkitallowfullscreen mozallowfullscreen></iframe></div></div>"
      ],
      "text/plain": [
       "<folium.folium.Map at 0x10d8b23e0>"
      ]
     },
     "execution_count": 19,
     "metadata": {},
     "output_type": "execute_result"
    }
   ],
   "source": [
    "my_classroom"
   ]
  },
  {
   "cell_type": "code",
   "execution_count": 20,
   "id": "dc18b361-8361-4890-91fe-514d2f3b66df",
   "metadata": {
    "slideshow": {
     "slide_type": "slide"
    },
    "tags": []
   },
   "outputs": [
    {
     "data": {
      "text/plain": [
       "<folium.map.Marker at 0x12a291990>"
      ]
     },
     "execution_count": 20,
     "metadata": {},
     "output_type": "execute_result"
    }
   ],
   "source": [
    "stat_marker = folium.Marker(location=[34.072380,-118.441260],\n",
    "                            popup=\"stats tent\")\n",
    "stat_marker.add_to(my_classroom)"
   ]
  },
  {
   "cell_type": "code",
   "execution_count": 21,
   "id": "eaa9081e-2ccd-4766-acc4-258e54715365",
   "metadata": {
    "tags": []
   },
   "outputs": [
    {
     "data": {
      "text/html": [
       "<div style=\"width:100%;\"><div style=\"position:relative;width:100%;height:0;padding-bottom:60%;\"><span style=\"color:#565656\">Make this Notebook Trusted to load map: File -> Trust Notebook</span><iframe srcdoc=\"&lt;!DOCTYPE html&gt;\n",
       "&lt;html&gt;\n",
       "&lt;head&gt;\n",
       "    \n",
       "    &lt;meta http-equiv=&quot;content-type&quot; content=&quot;text/html; charset=UTF-8&quot; /&gt;\n",
       "    \n",
       "        &lt;script&gt;\n",
       "            L_NO_TOUCH = false;\n",
       "            L_DISABLE_3D = false;\n",
       "        &lt;/script&gt;\n",
       "    \n",
       "    &lt;style&gt;html, body {width: 100%;height: 100%;margin: 0;padding: 0;}&lt;/style&gt;\n",
       "    &lt;style&gt;#map {position:absolute;top:0;bottom:0;right:0;left:0;}&lt;/style&gt;\n",
       "    &lt;script src=&quot;https://cdn.jsdelivr.net/npm/leaflet@1.9.3/dist/leaflet.js&quot;&gt;&lt;/script&gt;\n",
       "    &lt;script src=&quot;https://code.jquery.com/jquery-1.12.4.min.js&quot;&gt;&lt;/script&gt;\n",
       "    &lt;script src=&quot;https://cdn.jsdelivr.net/npm/bootstrap@5.2.2/dist/js/bootstrap.bundle.min.js&quot;&gt;&lt;/script&gt;\n",
       "    &lt;script src=&quot;https://cdnjs.cloudflare.com/ajax/libs/Leaflet.awesome-markers/2.0.2/leaflet.awesome-markers.js&quot;&gt;&lt;/script&gt;\n",
       "    &lt;link rel=&quot;stylesheet&quot; href=&quot;https://cdn.jsdelivr.net/npm/leaflet@1.9.3/dist/leaflet.css&quot;/&gt;\n",
       "    &lt;link rel=&quot;stylesheet&quot; href=&quot;https://cdn.jsdelivr.net/npm/bootstrap@5.2.2/dist/css/bootstrap.min.css&quot;/&gt;\n",
       "    &lt;link rel=&quot;stylesheet&quot; href=&quot;https://netdna.bootstrapcdn.com/bootstrap/3.0.0/css/bootstrap.min.css&quot;/&gt;\n",
       "    &lt;link rel=&quot;stylesheet&quot; href=&quot;https://cdn.jsdelivr.net/npm/@fortawesome/fontawesome-free@6.2.0/css/all.min.css&quot;/&gt;\n",
       "    &lt;link rel=&quot;stylesheet&quot; href=&quot;https://cdnjs.cloudflare.com/ajax/libs/Leaflet.awesome-markers/2.0.2/leaflet.awesome-markers.css&quot;/&gt;\n",
       "    &lt;link rel=&quot;stylesheet&quot; href=&quot;https://cdn.jsdelivr.net/gh/python-visualization/folium/folium/templates/leaflet.awesome.rotate.min.css&quot;/&gt;\n",
       "    \n",
       "            &lt;meta name=&quot;viewport&quot; content=&quot;width=device-width,\n",
       "                initial-scale=1.0, maximum-scale=1.0, user-scalable=no&quot; /&gt;\n",
       "            &lt;style&gt;\n",
       "                #map_cdaf8dc5c35839316291a2d38e51d247 {\n",
       "                    position: relative;\n",
       "                    width: 100.0%;\n",
       "                    height: 100.0%;\n",
       "                    left: 0.0%;\n",
       "                    top: 0.0%;\n",
       "                }\n",
       "                .leaflet-container { font-size: 1rem; }\n",
       "            &lt;/style&gt;\n",
       "        \n",
       "&lt;/head&gt;\n",
       "&lt;body&gt;\n",
       "    \n",
       "    \n",
       "            &lt;div class=&quot;folium-map&quot; id=&quot;map_cdaf8dc5c35839316291a2d38e51d247&quot; &gt;&lt;/div&gt;\n",
       "        \n",
       "&lt;/body&gt;\n",
       "&lt;script&gt;\n",
       "    \n",
       "    \n",
       "            var map_cdaf8dc5c35839316291a2d38e51d247 = L.map(\n",
       "                &quot;map_cdaf8dc5c35839316291a2d38e51d247&quot;,\n",
       "                {\n",
       "                    center: [34.071667391381624, -118.44118103360428],\n",
       "                    crs: L.CRS.EPSG3857,\n",
       "                    zoom: 18,\n",
       "                    zoomControl: true,\n",
       "                    preferCanvas: false,\n",
       "                }\n",
       "            );\n",
       "\n",
       "            \n",
       "\n",
       "        \n",
       "    \n",
       "            var tile_layer_314d71cbc1903b3e475b431e66299c4d = L.tileLayer(\n",
       "                &quot;https://{s}.tile.openstreetmap.org/{z}/{x}/{y}.png&quot;,\n",
       "                {&quot;attribution&quot;: &quot;Data by \\u0026copy; \\u003ca target=\\&quot;_blank\\&quot; href=\\&quot;http://openstreetmap.org\\&quot;\\u003eOpenStreetMap\\u003c/a\\u003e, under \\u003ca target=\\&quot;_blank\\&quot; href=\\&quot;http://www.openstreetmap.org/copyright\\&quot;\\u003eODbL\\u003c/a\\u003e.&quot;, &quot;detectRetina&quot;: false, &quot;maxNativeZoom&quot;: 18, &quot;maxZoom&quot;: 18, &quot;minZoom&quot;: 0, &quot;noWrap&quot;: false, &quot;opacity&quot;: 1, &quot;subdomains&quot;: &quot;abc&quot;, &quot;tms&quot;: false}\n",
       "            ).addTo(map_cdaf8dc5c35839316291a2d38e51d247);\n",
       "        \n",
       "    \n",
       "            var circle_004bd0425410ea5b88b3a8bbf168c147 = L.circle(\n",
       "                [34.071667391381624, -118.44118103360428],\n",
       "                {&quot;bubblingMouseEvents&quot;: true, &quot;color&quot;: &quot;cyan&quot;, &quot;dashArray&quot;: null, &quot;dashOffset&quot;: null, &quot;fill&quot;: false, &quot;fillColor&quot;: &quot;cyan&quot;, &quot;fillOpacity&quot;: 0.2, &quot;fillRule&quot;: &quot;evenodd&quot;, &quot;lineCap&quot;: &quot;round&quot;, &quot;lineJoin&quot;: &quot;round&quot;, &quot;opacity&quot;: 1.0, &quot;radius&quot;: 50, &quot;stroke&quot;: true, &quot;weight&quot;: 3}\n",
       "            ).addTo(map_cdaf8dc5c35839316291a2d38e51d247);\n",
       "        \n",
       "    \n",
       "            var marker_35f221e91987496cee390c4c5799a3fa = L.marker(\n",
       "                [34.07238, -118.44126],\n",
       "                {}\n",
       "            ).addTo(map_cdaf8dc5c35839316291a2d38e51d247);\n",
       "        \n",
       "    \n",
       "        var popup_bcdd97391ab424c6093de12e8722dce8 = L.popup({&quot;maxWidth&quot;: &quot;100%&quot;});\n",
       "\n",
       "        \n",
       "            \n",
       "                var html_9dfdfb6d2d84751f4e88efa3c65356f0 = $(`&lt;div id=&quot;html_9dfdfb6d2d84751f4e88efa3c65356f0&quot; style=&quot;width: 100.0%; height: 100.0%;&quot;&gt;stats tent&lt;/div&gt;`)[0];\n",
       "                popup_bcdd97391ab424c6093de12e8722dce8.setContent(html_9dfdfb6d2d84751f4e88efa3c65356f0);\n",
       "            \n",
       "        \n",
       "\n",
       "        marker_35f221e91987496cee390c4c5799a3fa.bindPopup(popup_bcdd97391ab424c6093de12e8722dce8)\n",
       "        ;\n",
       "\n",
       "        \n",
       "    \n",
       "&lt;/script&gt;\n",
       "&lt;/html&gt;\" style=\"position:absolute;width:100%;height:100%;left:0;top:0;border:none !important;\" allowfullscreen webkitallowfullscreen mozallowfullscreen></iframe></div></div>"
      ],
      "text/plain": [
       "<folium.folium.Map at 0x10d8b23e0>"
      ]
     },
     "execution_count": 21,
     "metadata": {},
     "output_type": "execute_result"
    }
   ],
   "source": [
    "my_classroom"
   ]
  },
  {
   "cell_type": "markdown",
   "id": "1e391bd5-1558-4b3c-8518-ef9c85f00c55",
   "metadata": {
    "slideshow": {
     "slide_type": "slide"
    },
    "tags": []
   },
   "source": [
    "## Objects are mutable\n",
    "\n",
    "You can change the state of an object by making an assignment to one of its attributes."
   ]
  },
  {
   "cell_type": "code",
   "execution_count": 22,
   "id": "b5f0ddb9-3b4a-4e78-a889-bff3dbcb57e0",
   "metadata": {
    "slideshow": {
     "slide_type": "fragment"
    },
    "tags": []
   },
   "outputs": [
    {
     "data": {
      "text/plain": [
       "(34.071667391381624, -118.44118103360428)"
      ]
     },
     "execution_count": 22,
     "metadata": {},
     "output_type": "execute_result"
    }
   ],
   "source": [
    "Kaplan_169.location.y, Kaplan_169.location.x "
   ]
  },
  {
   "cell_type": "code",
   "execution_count": 23,
   "id": "44571c46-2d20-4dfd-921f-9b75d5c52ada",
   "metadata": {
    "slideshow": {
     "slide_type": "fragment"
    },
    "tags": []
   },
   "outputs": [],
   "source": [
    "Kaplan_169.location.y = Kaplan_169.location.y + 0.002\n",
    "Kaplan_169.location.x = Kaplan_169.location.x + 0.003"
   ]
  },
  {
   "cell_type": "code",
   "execution_count": 24,
   "id": "0837f231-75e1-4476-98be-8486d928bc6f",
   "metadata": {
    "slideshow": {
     "slide_type": "fragment"
    },
    "tags": []
   },
   "outputs": [
    {
     "data": {
      "text/plain": [
       "(34.073667391381626, -118.43818103360428)"
      ]
     },
     "execution_count": 24,
     "metadata": {},
     "output_type": "execute_result"
    }
   ],
   "source": [
    "Kaplan_169.location.y, Kaplan_169.location.x "
   ]
  },
  {
   "cell_type": "markdown",
   "id": "8aa088ca-6f8c-41a9-9c76-d8e982ef5ef4",
   "metadata": {
    "tags": []
   },
   "source": [
    "And yes, you could also write functions that modify objects."
   ]
  },
  {
   "cell_type": "markdown",
   "id": "7cfb11b0-4e08-47f6-8764-ab47b72e5e79",
   "metadata": {
    "slideshow": {
     "slide_type": "slide"
    }
   },
   "source": [
    "## Copying\n",
    "\n",
    "The fact that objects are mutable can sometimes make the code difficult to read, especially when you have functions that modify the objects without necessarily reporting or printing anything to the screen.\n",
    "\n",
    "We can use the `copy` module to make duplicates of an object."
   ]
  },
  {
   "cell_type": "code",
   "execution_count": 25,
   "id": "8ae76f65-02f9-438b-a946-66aea1f818b5",
   "metadata": {
    "slideshow": {
     "slide_type": "fragment"
    },
    "tags": []
   },
   "outputs": [
    {
     "data": {
      "text/plain": [
       "(-118.43818103360428, 34.073667391381626)"
      ]
     },
     "execution_count": 25,
     "metadata": {},
     "output_type": "execute_result"
    }
   ],
   "source": [
    "Kaplan_169.location.x, Kaplan_169.location.y"
   ]
  },
  {
   "cell_type": "code",
   "execution_count": 26,
   "id": "baf6d5e6-f575-4979-97f3-6f3722061852",
   "metadata": {
    "slideshow": {
     "slide_type": "slide"
    },
    "tags": []
   },
   "outputs": [],
   "source": [
    "import copy"
   ]
  },
  {
   "cell_type": "code",
   "execution_count": 27,
   "id": "74a89c8a-a444-4c3d-adbd-24b12c60ede2",
   "metadata": {
    "slideshow": {
     "slide_type": "fragment"
    },
    "tags": []
   },
   "outputs": [],
   "source": [
    "my_new_classroom = copy.copy(Kaplan_169)"
   ]
  },
  {
   "cell_type": "code",
   "execution_count": 28,
   "id": "bae8efa9-f1b5-4243-984a-530c1ba41ec1",
   "metadata": {
    "slideshow": {
     "slide_type": "fragment"
    },
    "tags": []
   },
   "outputs": [
    {
     "name": "stdout",
     "output_type": "stream",
     "text": [
      "(-118.438, 34.0737)\n"
     ]
    }
   ],
   "source": [
    "print_point(Kaplan_169.location)"
   ]
  },
  {
   "cell_type": "code",
   "execution_count": 29,
   "id": "469f8742-e540-437a-a35c-63d2e76ca874",
   "metadata": {
    "slideshow": {
     "slide_type": "fragment"
    },
    "tags": []
   },
   "outputs": [
    {
     "name": "stdout",
     "output_type": "stream",
     "text": [
      "(-118.438, 34.0737)\n"
     ]
    }
   ],
   "source": [
    "print_point(my_new_classroom.location)"
   ]
  },
  {
   "cell_type": "code",
   "execution_count": 30,
   "id": "5c88f6de-534e-4c43-a01a-76a8ac20843f",
   "metadata": {
    "slideshow": {
     "slide_type": "slide"
    },
    "tags": []
   },
   "outputs": [
    {
     "data": {
      "text/plain": [
       "False"
      ]
     },
     "execution_count": 30,
     "metadata": {},
     "output_type": "execute_result"
    }
   ],
   "source": [
    "Kaplan_169 == my_new_classroom"
   ]
  },
  {
   "cell_type": "code",
   "execution_count": 31,
   "id": "1c5cc863-2c2d-4bd5-beb4-ff9ceaefa974",
   "metadata": {
    "slideshow": {
     "slide_type": "fragment"
    },
    "tags": []
   },
   "outputs": [
    {
     "data": {
      "text/plain": [
       "False"
      ]
     },
     "execution_count": 31,
     "metadata": {},
     "output_type": "execute_result"
    }
   ],
   "source": [
    "Kaplan_169 is my_new_classroom"
   ]
  },
  {
   "cell_type": "markdown",
   "id": "e677200b-ac6f-4cb3-be3e-ede369e7f2ba",
   "metadata": {
    "slideshow": {
     "slide_type": "fragment"
    }
   },
   "source": [
    "Although Kaplan_169 and my_new_classroom have the same data, they are not the same instance of a point object."
   ]
  },
  {
   "cell_type": "code",
   "execution_count": 32,
   "id": "058e647a-22af-48cb-9a29-152b272a792d",
   "metadata": {
    "slideshow": {
     "slide_type": "fragment"
    },
    "tags": []
   },
   "outputs": [
    {
     "data": {
      "text/plain": [
       "<__main__.Classroom at 0x10d8b03d0>"
      ]
     },
     "execution_count": 32,
     "metadata": {},
     "output_type": "execute_result"
    }
   ],
   "source": [
    "Kaplan_169"
   ]
  },
  {
   "cell_type": "code",
   "execution_count": 33,
   "id": "f30da2af-5b90-4b6e-8756-5030e29ce8b1",
   "metadata": {
    "slideshow": {
     "slide_type": "fragment"
    },
    "tags": []
   },
   "outputs": [
    {
     "data": {
      "text/plain": [
       "<__main__.Classroom at 0x12a23b670>"
      ]
     },
     "execution_count": 33,
     "metadata": {},
     "output_type": "execute_result"
    }
   ],
   "source": [
    "my_new_classroom"
   ]
  },
  {
   "cell_type": "markdown",
   "id": "ef83c940-2318-4310-be4c-594691e0a1e5",
   "metadata": {
    "slideshow": {
     "slide_type": "slide"
    },
    "tags": []
   },
   "source": [
    "BUT... both copies share an instance"
   ]
  },
  {
   "cell_type": "code",
   "execution_count": 34,
   "id": "5faa5201-0205-497a-aea0-4207f9089fc8",
   "metadata": {
    "tags": []
   },
   "outputs": [
    {
     "data": {
      "text/plain": [
       "<__main__.Point at 0x10d8b01f0>"
      ]
     },
     "execution_count": 34,
     "metadata": {},
     "output_type": "execute_result"
    }
   ],
   "source": [
    "Kaplan_169.location"
   ]
  },
  {
   "cell_type": "code",
   "execution_count": 35,
   "id": "5a65c85d-caff-4b07-ab78-39a569df5ebb",
   "metadata": {
    "tags": []
   },
   "outputs": [
    {
     "data": {
      "text/plain": [
       "<__main__.Point at 0x10d8b01f0>"
      ]
     },
     "execution_count": 35,
     "metadata": {},
     "output_type": "execute_result"
    }
   ],
   "source": [
    "my_new_classroom.location"
   ]
  },
  {
   "cell_type": "markdown",
   "id": "5f9a24d5-1aff-481f-a47a-c1bbdd175b2b",
   "metadata": {},
   "source": [
    "When we change one, the other changes"
   ]
  },
  {
   "cell_type": "code",
   "execution_count": 36,
   "id": "339b67ae-8f51-4e01-9133-136736330313",
   "metadata": {
    "tags": []
   },
   "outputs": [],
   "source": [
    "Kaplan_169.location.x = -118.44118103360428\n",
    "Kaplan_169.location.y = 34.071667391381624"
   ]
  },
  {
   "cell_type": "code",
   "execution_count": 37,
   "id": "71a2c4b3-9dd5-4866-a518-4d00a4ffcfca",
   "metadata": {
    "tags": []
   },
   "outputs": [
    {
     "data": {
      "text/plain": [
       "(-118.44118103360428, 34.071667391381624)"
      ]
     },
     "execution_count": 37,
     "metadata": {},
     "output_type": "execute_result"
    }
   ],
   "source": [
    "my_new_classroom.location.x, my_new_classroom.location.y"
   ]
  },
  {
   "cell_type": "markdown",
   "id": "a151cbaf-96f3-4f0e-b717-ba9cb8df2c98",
   "metadata": {
    "slideshow": {
     "slide_type": "slide"
    },
    "tags": []
   },
   "source": [
    "## Shallow versus deep copy\n",
    "\n",
    "location is an embedded object (an instance inside an instance) and it doesn't get copied to the new location, to do that..."
   ]
  },
  {
   "cell_type": "code",
   "execution_count": 38,
   "id": "de69c200-2a58-4bff-a155-9c81d78c7de1",
   "metadata": {
    "tags": []
   },
   "outputs": [],
   "source": [
    "my_new_classroom_2 = copy.deepcopy(Kaplan_169)"
   ]
  },
  {
   "cell_type": "code",
   "execution_count": 39,
   "id": "60b87618-ca7b-4770-8d7e-7de1210962ed",
   "metadata": {
    "tags": []
   },
   "outputs": [
    {
     "name": "stdout",
     "output_type": "stream",
     "text": [
      "<__main__.Point object at 0x10d8b01f0>\n",
      "<__main__.Point object at 0x12a24c6d0>\n"
     ]
    }
   ],
   "source": [
    "print(Kaplan_169.location)\n",
    "print(my_new_classroom_2.location)"
   ]
  },
  {
   "cell_type": "code",
   "execution_count": 40,
   "id": "2fe39837-2fca-4822-980e-67f0b15b360c",
   "metadata": {
    "tags": []
   },
   "outputs": [],
   "source": [
    "Kaplan_169.location.x = 0"
   ]
  },
  {
   "cell_type": "code",
   "execution_count": 41,
   "id": "132506ae-2e12-419b-bc71-f2a4c75db7c5",
   "metadata": {
    "tags": []
   },
   "outputs": [
    {
     "data": {
      "text/plain": [
       "-118.44118103360428"
      ]
     },
     "execution_count": 41,
     "metadata": {},
     "output_type": "execute_result"
    }
   ],
   "source": [
    "my_new_classroom_2.location.x"
   ]
  },
  {
   "cell_type": "code",
   "execution_count": 42,
   "id": "59248cd6-0706-4791-a71a-2fc8c06a407b",
   "metadata": {
    "tags": []
   },
   "outputs": [
    {
     "data": {
      "text/plain": [
       "0"
      ]
     },
     "execution_count": 42,
     "metadata": {},
     "output_type": "execute_result"
    }
   ],
   "source": [
    "my_new_classroom.location.x"
   ]
  },
  {
   "cell_type": "markdown",
   "id": "b84e5482-6418-4336-ac5c-9ca405dac405",
   "metadata": {
    "slideshow": {
     "slide_type": "slide"
    }
   },
   "source": [
    "## Classes and Functions\n",
    "\n",
    "We often want to write functions that interact with objects and classes."
   ]
  },
  {
   "cell_type": "markdown",
   "id": "067a8ed8-aeb6-486d-a9a4-92f2e4227722",
   "metadata": {
    "slideshow": {
     "slide_type": "fragment"
    }
   },
   "source": [
    "Let's create a class called `Time`"
   ]
  },
  {
   "cell_type": "code",
   "execution_count": 43,
   "id": "2a903af7-443c-402b-b7cb-1fd36d3efd16",
   "metadata": {
    "slideshow": {
     "slide_type": "fragment"
    },
    "tags": []
   },
   "outputs": [],
   "source": [
    "class Time:\n",
    "    \"\"\"Represents the time of day.\n",
    "    \n",
    "    attributes: hour, minute, second\n",
    "    \"\"\""
   ]
  },
  {
   "cell_type": "code",
   "execution_count": 44,
   "id": "f12e6bbd-2e22-4ebc-88d7-78a7b957e033",
   "metadata": {
    "slideshow": {
     "slide_type": "fragment"
    },
    "tags": []
   },
   "outputs": [],
   "source": [
    "time = Time()\n",
    "time.hour = 11\n",
    "time.minute = 59\n",
    "time.second = 30"
   ]
  },
  {
   "cell_type": "code",
   "execution_count": 45,
   "id": "80e9696a-a030-467f-9d15-2743f88cf68d",
   "metadata": {
    "slideshow": {
     "slide_type": "fragment"
    },
    "tags": []
   },
   "outputs": [],
   "source": [
    "def print_time(t):\n",
    "    print('{:0>2d}:{:0>2d}:{:0>2d}'.format(t.hour, t.minute, t.second))"
   ]
  },
  {
   "cell_type": "code",
   "execution_count": 46,
   "id": "240e4f09-d1c9-46fe-bfa9-513eac487f71",
   "metadata": {
    "slideshow": {
     "slide_type": "fragment"
    },
    "tags": []
   },
   "outputs": [
    {
     "name": "stdout",
     "output_type": "stream",
     "text": [
      "11:59:30\n"
     ]
    }
   ],
   "source": [
    "print_time(time)"
   ]
  },
  {
   "cell_type": "markdown",
   "id": "b26f3442-9541-4bfd-9e5e-5466a6e7ebed",
   "metadata": {
    "slideshow": {
     "slide_type": "slide"
    }
   },
   "source": [
    "## Pure functions vs modifiers\n",
    "\n",
    "A pure function does not modify any of the objects passed to it as arguments.\n",
    "\n",
    "It has no effect other than returning a value and always produces the same output for the same set of inputs. \n",
    "\n",
    "It does not modify any global or local state either.\n"
   ]
  },
  {
   "cell_type": "markdown",
   "id": "49ce716c-2c52-42b2-a191-4e267fcde0f7",
   "metadata": {
    "slideshow": {
     "slide_type": "slide"
    },
    "tags": []
   },
   "source": [
    "## Prototype and Patch\n",
    "\n",
    "The discussion of pure vs modifiers has a context -  writing the programs for complex problems when it may be difficult to plan everything out in advance. \n",
    "\n",
    "A development plan that can be used is called **prototype and patch**.\n",
    "\n",
    "We start with a prototype - a simple version of the program and incrementally add complications (patch)."
   ]
  },
  {
   "cell_type": "code",
   "execution_count": 47,
   "id": "ddfc2dd9-0fc2-4b50-b9b3-868a69d1cbc9",
   "metadata": {
    "slideshow": {
     "slide_type": "slide"
    },
    "tags": []
   },
   "outputs": [],
   "source": [
    "def add_time(t1, t2):\n",
    "    sum = Time()\n",
    "    sum.hour = t1.hour + t2.hour\n",
    "    sum.minute = t1.minute + t2.minute\n",
    "    sum.second = t1.second + t2.second\n",
    "    return sum"
   ]
  },
  {
   "cell_type": "code",
   "execution_count": 48,
   "id": "a0177ef3-0b02-487c-a60e-b4a2b5882f4c",
   "metadata": {
    "tags": []
   },
   "outputs": [],
   "source": [
    "start = Time()\n",
    "start.hour = 9\n",
    "start.minute = 45\n",
    "start.second = 0"
   ]
  },
  {
   "cell_type": "code",
   "execution_count": 49,
   "id": "7b8292e4-0a2a-48f4-b44a-5a8b62560b65",
   "metadata": {
    "tags": []
   },
   "outputs": [],
   "source": [
    "duration = Time()\n",
    "duration.hour = 1\n",
    "duration.minute = 35\n",
    "duration.second = 0"
   ]
  },
  {
   "cell_type": "code",
   "execution_count": 50,
   "id": "28e1fb4c-0dad-4e79-91d9-e3ca4e6d8918",
   "metadata": {
    "slideshow": {
     "slide_type": "slide"
    },
    "tags": []
   },
   "outputs": [
    {
     "name": "stdout",
     "output_type": "stream",
     "text": [
      "10:80:00\n"
     ]
    }
   ],
   "source": [
    "done = add_time(start, duration)\n",
    "print_time(done)"
   ]
  },
  {
   "cell_type": "markdown",
   "id": "6991dd88-b6ca-420b-9217-0f566b8cc75b",
   "metadata": {
    "tags": []
   },
   "source": [
    "The result, `10:80:00` is not quite right. The problem is that this function does not address cases where the number of seconds or minutes adds up to more than sixty. "
   ]
  },
  {
   "cell_type": "code",
   "execution_count": 51,
   "id": "d26be030-94b8-4b18-bbd8-7845f276ad05",
   "metadata": {
    "slideshow": {
     "slide_type": "slide"
    },
    "tags": []
   },
   "outputs": [],
   "source": [
    "# patch\n",
    "def add_time(t1, t2):\n",
    "    sum = Time()\n",
    "    sum.hour = t1.hour + t2.hour\n",
    "    sum.minute = t1.minute + t2.minute\n",
    "    sum.second = t1.second + t2.second\n",
    "    if sum.second >= 60:\n",
    "        sum.second -= 60\n",
    "        sum.minute += 1\n",
    "    if sum.minute >= 60:\n",
    "        sum.minute -= 60\n",
    "        sum.hour += 1\n",
    "    return sum"
   ]
  },
  {
   "cell_type": "code",
   "execution_count": 52,
   "id": "d7005ae3-3f01-49b0-b080-8913be145f2c",
   "metadata": {
    "slideshow": {
     "slide_type": "fragment"
    },
    "tags": []
   },
   "outputs": [
    {
     "name": "stdout",
     "output_type": "stream",
     "text": [
      "11:20:00\n"
     ]
    }
   ],
   "source": [
    "done = add_time(start, duration)\n",
    "print_time(done)"
   ]
  },
  {
   "cell_type": "markdown",
   "id": "8ee5044c-6c95-4fcb-95c4-6f6f61c5dbc2",
   "metadata": {
    "slideshow": {
     "slide_type": "slide"
    }
   },
   "source": [
    "### Modifiers\n",
    "\n",
    "Sometimes it is useful for a function to modify the objects it receives as parameters. In that case, the changes are visible to the caller. Functions that work this way are called **modifiers**.\n",
    "\n",
    "`increment`, which adds a given number of seconds to a `Time` object, can be written as a modifier."
   ]
  },
  {
   "cell_type": "code",
   "execution_count": 53,
   "id": "5f7a3b69-d599-41c2-8074-3b00eaced0d0",
   "metadata": {
    "slideshow": {
     "slide_type": "fragment"
    }
   },
   "outputs": [],
   "source": [
    "def increment(time, seconds):\n",
    "    time.second += seconds\n",
    "    if time.second >= 60:\n",
    "        time.second -= 60\n",
    "        time.minute += 1\n",
    "    if time.minute >= 60:\n",
    "        time.minute -= 60\n",
    "        time.hour += 1"
   ]
  },
  {
   "cell_type": "code",
   "execution_count": 54,
   "id": "3b8887d6-5ddc-4422-9b22-83cba3fa9370",
   "metadata": {
    "slideshow": {
     "slide_type": "slide"
    }
   },
   "outputs": [
    {
     "name": "stdout",
     "output_type": "stream",
     "text": [
      "09:45:00\n"
     ]
    }
   ],
   "source": [
    "test_time = Time()\n",
    "test_time.hour = 9\n",
    "test_time.minute = 45\n",
    "test_time.second = 0\n",
    "print_time(test_time)"
   ]
  },
  {
   "cell_type": "code",
   "execution_count": 55,
   "id": "43dd718c-563a-4e84-b222-090f394eb2a2",
   "metadata": {
    "slideshow": {
     "slide_type": "fragment"
    }
   },
   "outputs": [
    {
     "name": "stdout",
     "output_type": "stream",
     "text": [
      "09:46:30\n"
     ]
    }
   ],
   "source": [
    "increment(test_time, 90)\n",
    "print_time(test_time)"
   ]
  },
  {
   "cell_type": "code",
   "execution_count": 56,
   "id": "baba2477-3a30-495d-8790-1ac70bd3e4f2",
   "metadata": {
    "slideshow": {
     "slide_type": "fragment"
    }
   },
   "outputs": [
    {
     "name": "stdout",
     "output_type": "stream",
     "text": [
      "09:47:155\n"
     ]
    }
   ],
   "source": [
    "increment(test_time, 185)\n",
    "print_time(test_time)"
   ]
  },
  {
   "cell_type": "markdown",
   "id": "b80f2b95-308a-4b58-97ad-4d54f82d5977",
   "metadata": {
    "slideshow": {
     "slide_type": "slide"
    },
    "tags": []
   },
   "source": [
    "The function doesn't quite work if seconds is much greater than sixty.\n",
    "\n",
    "In that case, it is not enough to carry once; we have to keep doing it until time.second is less than sixty. \n",
    "\n",
    "One solution is to replace the if statements with while statements. That would make the function correct, but not very efficient.\n",
    "\n",
    "Better to use modular division."
   ]
  },
  {
   "cell_type": "code",
   "execution_count": 57,
   "id": "52f3e1a4-512d-4950-b6b2-d171c5c6faac",
   "metadata": {
    "slideshow": {
     "slide_type": "fragment"
    },
    "tags": []
   },
   "outputs": [],
   "source": [
    "def increment(time, seconds):\n",
    "    minutes, seconds = divmod(seconds, 60)\n",
    "    hours, minutes = divmod(minutes, 60)\n",
    "    time.second += seconds\n",
    "    time.minute += minutes\n",
    "    time.hour += hours\n",
    "    if time.second >= 60:\n",
    "        time.second -= 60\n",
    "        time.minute += 1\n",
    "    if time.minute >= 60:\n",
    "        time.minute -= 60\n",
    "        time.hour += 1"
   ]
  },
  {
   "cell_type": "code",
   "execution_count": 58,
   "id": "6d29efc0-cbdc-4c64-87c5-0c585d1112b5",
   "metadata": {
    "slideshow": {
     "slide_type": "slide"
    },
    "tags": []
   },
   "outputs": [
    {
     "name": "stdout",
     "output_type": "stream",
     "text": [
      "09:45:00\n"
     ]
    }
   ],
   "source": [
    "test_time = Time()\n",
    "test_time.hour = 9\n",
    "test_time.minute = 45\n",
    "test_time.second = 0\n",
    "print_time(test_time)"
   ]
  },
  {
   "cell_type": "code",
   "execution_count": 59,
   "id": "dbfd7f4b-7612-4342-9d59-5ead68470693",
   "metadata": {
    "slideshow": {
     "slide_type": "fragment"
    }
   },
   "outputs": [
    {
     "name": "stdout",
     "output_type": "stream",
     "text": [
      "09:48:05\n"
     ]
    }
   ],
   "source": [
    "increment(test_time, 185)\n",
    "print_time(test_time)"
   ]
  },
  {
   "cell_type": "code",
   "execution_count": 60,
   "id": "08436411-2f26-404d-bccf-16f9c6c6657d",
   "metadata": {
    "slideshow": {
     "slide_type": "fragment"
    },
    "tags": []
   },
   "outputs": [
    {
     "name": "stdout",
     "output_type": "stream",
     "text": [
      "11:08:05\n"
     ]
    }
   ],
   "source": [
    "increment(test_time, 4800) # 4800 seconds is 1 hour 20 minutes\n",
    "print_time(test_time)"
   ]
  },
  {
   "cell_type": "markdown",
   "id": "3fa70b3a-09dc-463b-a588-e4533f1d7555",
   "metadata": {
    "slideshow": {
     "slide_type": "slide"
    }
   },
   "source": [
    "Anything that can be done with a modifier can also be done with a pure function.\n",
    "\n",
    "Modifiers are convenient, but can become difficult to debug.\n",
    "\n",
    "In contrast to Python, most of R only allows pure functions (exception is R6 and reference classes)."
   ]
  },
  {
   "cell_type": "markdown",
   "id": "a3f060c7-07ff-4470-b94f-5c6e2b2bbf62",
   "metadata": {
    "slideshow": {
     "slide_type": "slide"
    }
   },
   "source": [
    "## Prototyping versus planning\n",
    "\n",
    "\"prototype and patch\": For each function, we wrote a prototype that performed the basic calculation and then tested it, patching errors along the way.\n",
    "This approach can be effective, especially if you don’t yet have a deep understanding of the problem. But incremental corrections can generate code that is unnecessarily complicated—since it deals with many special cases.\n",
    "\n",
    "An alternative is **designed development**\n",
    "\n",
    "When applied to the time problem, we can convert all times into the integer number of seconds from midnight."
   ]
  },
  {
   "cell_type": "code",
   "execution_count": 61,
   "id": "2d37210d-bb94-4545-9953-88b58cf22c73",
   "metadata": {
    "slideshow": {
     "slide_type": "fragment"
    },
    "tags": []
   },
   "outputs": [],
   "source": [
    "def time_to_int(time):\n",
    "    minutes = time.hour * 60 + time.minute\n",
    "    seconds = minutes * 60 + time.second\n",
    "    return seconds"
   ]
  },
  {
   "cell_type": "markdown",
   "id": "a02a17c0-b5ef-436d-a3c6-305cc3d88838",
   "metadata": {
    "slideshow": {
     "slide_type": "fragment"
    }
   },
   "source": [
    "We then create a function that is able to convert from seconds back to a time:"
   ]
  },
  {
   "cell_type": "code",
   "execution_count": 62,
   "id": "d72fa834-4267-4075-8c6c-9ae6ec34988b",
   "metadata": {
    "slideshow": {
     "slide_type": "fragment"
    },
    "tags": []
   },
   "outputs": [],
   "source": [
    "def int_to_time(seconds):\n",
    "    time = Time()\n",
    "    minutes, time.second = divmod(seconds, 60)\n",
    "    time.hour, time.minute = divmod(minutes, 60)\n",
    "    return time"
   ]
  },
  {
   "cell_type": "code",
   "execution_count": 63,
   "id": "7daf2cc5-a1bb-4ac1-9e42-7a2be17809ba",
   "metadata": {
    "slideshow": {
     "slide_type": "slide"
    },
    "tags": []
   },
   "outputs": [
    {
     "name": "stdout",
     "output_type": "stream",
     "text": [
      "09:45:00\n"
     ]
    }
   ],
   "source": [
    "test_time = Time()\n",
    "test_time.hour = 9\n",
    "test_time.minute = 45\n",
    "test_time.second = 0\n",
    "print_time(test_time)"
   ]
  },
  {
   "cell_type": "code",
   "execution_count": 64,
   "id": "d460411a-91d6-4cf7-ad34-919a0cab2ecc",
   "metadata": {
    "slideshow": {
     "slide_type": "fragment"
    },
    "tags": []
   },
   "outputs": [
    {
     "data": {
      "text/plain": [
       "35100"
      ]
     },
     "execution_count": 64,
     "metadata": {},
     "output_type": "execute_result"
    }
   ],
   "source": [
    "time_to_int(test_time)"
   ]
  },
  {
   "cell_type": "code",
   "execution_count": 65,
   "id": "cc8af2a8-ed44-41e0-854d-4f5f88a268dd",
   "metadata": {
    "slideshow": {
     "slide_type": "fragment"
    },
    "tags": []
   },
   "outputs": [
    {
     "name": "stdout",
     "output_type": "stream",
     "text": [
      "09:45:00\n"
     ]
    }
   ],
   "source": [
    "print_time(int_to_time(35100))"
   ]
  },
  {
   "cell_type": "markdown",
   "id": "773a8afb-48d8-4feb-90c8-6103bc2a79d5",
   "metadata": {
    "slideshow": {
     "slide_type": "slide"
    }
   },
   "source": [
    "Now that we have the functions to conver time to integers and back, we can add times together easily. Convert the times both to integers, and then convert the sum back to a time."
   ]
  },
  {
   "cell_type": "code",
   "execution_count": 66,
   "id": "f5e43bfd-4433-4a58-8b9a-82bf9894a733",
   "metadata": {
    "slideshow": {
     "slide_type": "fragment"
    },
    "tags": []
   },
   "outputs": [],
   "source": [
    "def add_time(t1, t2):\n",
    "    seconds = time_to_int(t1) + time_to_int(t2)\n",
    "    return int_to_time(seconds)"
   ]
  },
  {
   "cell_type": "code",
   "execution_count": 67,
   "id": "02a104d2-f335-42f4-88c1-b87f488a2f1e",
   "metadata": {
    "tags": []
   },
   "outputs": [
    {
     "name": "stdout",
     "output_type": "stream",
     "text": [
      "11:20:00\n"
     ]
    }
   ],
   "source": [
    "done = add_time(start, duration)\n",
    "print_time(done)"
   ]
  },
  {
   "cell_type": "markdown",
   "id": "09fb4b93-0a3b-4b96-b242-7f032a894a75",
   "metadata": {
    "slideshow": {
     "slide_type": "slide"
    },
    "tags": []
   },
   "source": [
    "## Attributes and methods\n",
    "\n",
    "Attribute - a variable that belongs to a class instance (a physical realization of a class). It holds data.\n",
    "\n",
    "Method - a function that belongs to a class. Methods define the behavior of class instances, i.e., what operations can be performed on them or what actions they can take. \n",
    "\n",
    "Methods are the same as functions, but there are two key differences:\n",
    "\n",
    "+ Methods are defined inside a class definition.\n",
    "+ The syntax for invoking a method is different from the syntax for calling a function.\n",
    "\n",
    "Recall the Classroom class above, now suppose I'd like to incorporate attributes and a method that calculates distance from my office to a classroom."
   ]
  },
  {
   "cell_type": "markdown",
   "id": "0e5ac8bc-c4cf-4f85-aa2d-89102cea100c",
   "metadata": {
    "slideshow": {
     "slide_type": "slide"
    }
   },
   "source": [
    "## Adding attributes with special methods\n",
    "\n",
    "__\\_\\_init\\_\\___ is a special method called a constructor. It is automatically called when you create a new instance of the class. \n",
    "\n",
    "The parameters defined in the __\\_\\_init\\_\\___ method (like usage, seats, and location) become attributes of the instances of the class. \n",
    "\n",
    "__\\_\\_str\\_\\___ is the method that Python will call when it needs a string representation of our object.\n",
    "\n",
    "Special methods are called \"dunder\" (double underscore)"
   ]
  },
  {
   "cell_type": "code",
   "execution_count": 68,
   "id": "3d1ae51e-632c-43df-9379-ce22718ddfce",
   "metadata": {
    "slideshow": {
     "slide_type": "fragment"
    },
    "tags": []
   },
   "outputs": [],
   "source": [
    "class Classroom:\n",
    "    \n",
    "    def __init__(self, usage, seats, location):\n",
    "        self.usage = usage\n",
    "        self.seats = seats\n",
    "        self.location = location  # location should be a tuple like (lat, lon)\n",
    "\n",
    "    def __str__(self):\n",
    "        return f\"This classroom has {self.seats} seats and is {self.usage} percent utilized\"\n"
   ]
  },
  {
   "cell_type": "markdown",
   "id": "ac3741e9-c6b0-472e-bfb9-7c82fd1b1cae",
   "metadata": {
    "slideshow": {
     "slide_type": "slide"
    },
    "tags": []
   },
   "source": [
    "Now that we have redefined the class with two \"dunder\" method defined inside, we can call the method.  \n",
    "\n",
    "We will reinitialize Kaplan_169 to reflect all of these changes."
   ]
  },
  {
   "cell_type": "code",
   "execution_count": 69,
   "id": "a88feaff-b866-4586-afbe-b6691ac92d47",
   "metadata": {
    "tags": []
   },
   "outputs": [],
   "source": [
    "Kaplan_169 = Classroom(80, 115, (34.071667391381624, -118.44118103360428))"
   ]
  },
  {
   "cell_type": "code",
   "execution_count": 70,
   "id": "d9d99c3d-39ae-4d5d-9c2a-7520ee9b8f4f",
   "metadata": {
    "tags": []
   },
   "outputs": [
    {
     "name": "stdout",
     "output_type": "stream",
     "text": [
      "This classroom has 115 seats and is 80 percent utilized\n"
     ]
    }
   ],
   "source": [
    "print(Kaplan_169)"
   ]
  },
  {
   "cell_type": "markdown",
   "id": "4af1c43a-8293-4213-85a7-40a2d81370db",
   "metadata": {
    "slideshow": {
     "slide_type": "slide"
    }
   },
   "source": [
    "## Calling Attributes/Methods\n",
    "\n",
    "There are two ways to call a method, but in practice, it's simplest to remember to specify the object then the attributes or methods using dot notation.  Here we call the attribute location:"
   ]
  },
  {
   "cell_type": "code",
   "execution_count": 71,
   "id": "5a3fa5ea-8dcc-402d-945a-e083d1d52d2e",
   "metadata": {
    "slideshow": {
     "slide_type": "fragment"
    },
    "tags": []
   },
   "outputs": [
    {
     "data": {
      "text/plain": [
       "(34.071667391381624, -118.44118103360428)"
      ]
     },
     "execution_count": 71,
     "metadata": {},
     "output_type": "execute_result"
    }
   ],
   "source": [
    "Kaplan_169.location"
   ]
  },
  {
   "cell_type": "markdown",
   "id": "326e042e-d485-4f74-9e6b-672eba2867fd",
   "metadata": {
    "slideshow": {
     "slide_type": "slide"
    },
    "tags": []
   },
   "source": [
    "## Adding our own method\n",
    "\n",
    "To create a regular method, all we have to do is move a function definition inside of the class definition.   Suppose I have written a function named find_distance"
   ]
  },
  {
   "cell_type": "code",
   "execution_count": 72,
   "id": "b4b1db82-dc8a-4f26-b558-582cc0f6bb35",
   "metadata": {
    "tags": []
   },
   "outputs": [],
   "source": [
    "import numpy as np\n",
    "\n",
    "def find_distance(classroom):\n",
    "    lat1 = np.radians(34.06965666186298)  \n",
    "    lon1 = np.radians(-118.44317726762)  \n",
    "    lat2 = np.radians(classroom.location[0])  \n",
    "    lon2 = np.radians(classroom.location[1])  \n",
    "    R = 3956.0\n",
    "    dlong = lon2 - lon1\n",
    "    dlat = lat2 - lat1\n",
    "    a = np.sin(dlat/2)**2 + np.cos(lat1) * np.cos(lat2) * np.sin(dlong/2)**2\n",
    "    b = 2 * np.arcsin(min(1, np.sqrt(a))) \n",
    "    d = round(R * 5280 * b)\n",
    "    \n",
    "    return print(f\"The distance to the classroom is: {d} feet\")"
   ]
  },
  {
   "cell_type": "code",
   "execution_count": 73,
   "id": "aa1f1cab-094e-4c1d-8544-2fa55f4de214",
   "metadata": {
    "tags": []
   },
   "outputs": [
    {
     "name": "stdout",
     "output_type": "stream",
     "text": [
      "The distance to the classroom is: 949 feet\n"
     ]
    }
   ],
   "source": [
    "find_distance(Kaplan_169)"
   ]
  },
  {
   "cell_type": "markdown",
   "id": "d9222d96-be68-4c02-a58c-04af538f625f",
   "metadata": {
    "slideshow": {
     "slide_type": "slide"
    },
    "tags": []
   },
   "source": [
    "## Moving a user defined function inside a class"
   ]
  },
  {
   "cell_type": "code",
   "execution_count": 74,
   "id": "6383c02b-2261-4bb0-b103-bc899685a915",
   "metadata": {
    "tags": []
   },
   "outputs": [],
   "source": [
    "import numpy as np\n",
    "\n",
    "class Classroom:\n",
    "    EARTH_RADIUS_FEET = 3956.0 * 5280\n",
    "    \n",
    "    def __init__(self, usage, seats, location):\n",
    "        self.usage = usage\n",
    "        self.seats = seats\n",
    "        self.location = location  # location should be a tuple like (lat, lon)\n",
    "\n",
    "    def __str__(self):\n",
    "        return f\"The Classroom has {self.seats} seats and is {self.usage} percent utilized\"\n",
    "\n",
    "    def find_distance(self, ref_location=(34.06965666186298, -118.44317726762)):\n",
    "        \"\"\"\n",
    "        Calculate the distance between the classroom and my office.\n",
    "        \"\"\"\n",
    "        lat1, lon1 = np.radians(ref_location)  \n",
    "        lat2, lon2 = np.radians(self.location)\n",
    "        dlong = lon2 - lon1\n",
    "        dlat = lat2 - lat1\n",
    "        a = np.sin(dlat/2)**2 + np.cos(lat1) * np.cos(lat2) * np.sin(dlong/2)**2\n",
    "        b = 2 * np.arcsin(min(1, np.sqrt(a))) \n",
    "        d = round(self.EARTH_RADIUS_FEET * b)\n",
    "\n",
    "        print(f\"The distance to the classroom is: {d} feet\")\n"
   ]
  },
  {
   "cell_type": "markdown",
   "id": "8afae0a4-3baa-4296-8901-f18e90b141f0",
   "metadata": {
    "slideshow": {
     "slide_type": "slide"
    },
    "tags": []
   },
   "source": [
    "this got cut off from the bottom of the previous slide   \n",
    "print(f\"The distance to the classroom is: {d} feet\")\n",
    "\n",
    "Now that we have redefined the class with a method defined inside, we can call the method.  Note the use of self.EARTH_RADIUS_MILES instead of EARTH_RADIUS_MILES.  It is a *class attribute and not a local variable in the method.*\n",
    "\n",
    "We will reinitialize Kaplan_169 again to reflect all of these changes."
   ]
  },
  {
   "cell_type": "code",
   "execution_count": 75,
   "id": "970769ed-e8bf-42ce-985e-64d2e3c2685e",
   "metadata": {
    "tags": []
   },
   "outputs": [],
   "source": [
    "Kaplan_169 = Classroom(80, 115, (34.071667391381624, -118.44118103360428))"
   ]
  },
  {
   "cell_type": "code",
   "execution_count": 76,
   "id": "f13b191f-0094-48ec-8580-9671f65cfbbf",
   "metadata": {
    "tags": []
   },
   "outputs": [
    {
     "name": "stdout",
     "output_type": "stream",
     "text": [
      "The distance to the classroom is: 949 feet\n"
     ]
    }
   ],
   "source": [
    "Kaplan_169.find_distance()"
   ]
  },
  {
   "cell_type": "markdown",
   "id": "7a267667-3fb1-4704-b49e-02666ab0970b",
   "metadata": {
    "jp-MarkdownHeadingCollapsed": true,
    "slideshow": {
     "slide_type": "slide"
    },
    "tags": []
   },
   "source": [
    "## About self\n",
    "\n",
    "By convention, the first parameter in __\\_\\_init\\_\\___ is **always** self, this refers to the instance of the class. After self, we can define any number of parameters. \n",
    "\n",
    "By convention, the first argument of a method is also `self`.\n",
    "\n",
    "The idea is that when you call a method from an object with dot notation, you are applying to function to itself."
   ]
  },
  {
   "cell_type": "markdown",
   "id": "efa439a9-974f-4d19-b0fe-e19f547a0a1c",
   "metadata": {
    "slideshow": {
     "slide_type": "slide"
    }
   },
   "source": [
    "## Errors with method calls\n",
    "\n",
    "Keep in mind that when you call a method from an object, the object itself is always passed as the first argument of the method."
   ]
  },
  {
   "cell_type": "code",
   "execution_count": 77,
   "id": "0585e4d1-915e-4f7e-9826-cc37d2b95102",
   "metadata": {
    "slideshow": {
     "slide_type": "fragment"
    },
    "tags": [
     "raises-exception"
    ]
   },
   "outputs": [
    {
     "ename": "TypeError",
     "evalue": "Classroom.find_distance() takes from 1 to 2 positional arguments but 3 were given",
     "output_type": "error",
     "traceback": [
      "\u001b[0;31m---------------------------------------------------------------------------\u001b[0m",
      "\u001b[0;31mTypeError\u001b[0m                                 Traceback (most recent call last)",
      "Cell \u001b[0;32mIn[77], line 1\u001b[0m\n\u001b[0;32m----> 1\u001b[0m my_dist \u001b[38;5;241m=\u001b[39m \u001b[43mKaplan_169\u001b[49m\u001b[38;5;241;43m.\u001b[39;49m\u001b[43mfind_distance\u001b[49m\u001b[43m(\u001b[49m\u001b[38;5;241;43m34.071667391381624\u001b[39;49m\u001b[43m,\u001b[49m\u001b[43m \u001b[49m\u001b[38;5;241;43m-\u001b[39;49m\u001b[38;5;241;43m118.44118103360428\u001b[39;49m\u001b[43m)\u001b[49m\n",
      "\u001b[0;31mTypeError\u001b[0m: Classroom.find_distance() takes from 1 to 2 positional arguments but 3 were given"
     ]
    }
   ],
   "source": [
    "my_dist = Kaplan_169.find_distance(34.071667391381624, -118.44118103360428)"
   ]
  },
  {
   "cell_type": "markdown",
   "id": "86cab996-ad15-4d8e-a48d-dc9928533a2e",
   "metadata": {
    "slideshow": {
     "slide_type": "fragment"
    }
   },
   "source": [
    "The above call returns an error. \"find_distance() takes from 1 to 2 positional arguments but 3 were given\"\n",
    "\n",
    "It can be confusing because we see only two arguments in parentheses. We must remember that we have also passed `self` (the subject) as the first argument, so there really are three arguments."
   ]
  },
  {
   "cell_type": "markdown",
   "id": "542faf97-9392-4f13-9d13-fb647460e928",
   "metadata": {
    "slideshow": {
     "slide_type": "slide"
    }
   },
   "source": [
    "## Methods with other class objects\n",
    "\n",
    "We can see that we could pass self.location and self.EARTH_RADIUS_FEET to the class method find_distance.\n",
    "\n",
    "We can also pass the objects created by class methods to other methods in the same class.\n",
    "\n",
    "In Python the methods automatically have access to the instance of the class they're defined in so also have access to the other methods and properties of that instance. This is an application of self."
   ]
  },
  {
   "cell_type": "markdown",
   "id": "8fa05473-1ca8-4928-85ee-23ba9fb0ea25",
   "metadata": {
    "slideshow": {
     "slide_type": "slide"
    },
    "tags": []
   },
   "source": [
    "## Operator overloading\n",
    "\n",
    "There are even more special \"double-under\" methods that have special uses.\n",
    "\n",
    "One is the `__add__` method which will be invoked with the `+` operator.\n",
    "\n",
    "I'll need to rewrite my class definition a little bit unfortunately because I didn't think it through originally:"
   ]
  },
  {
   "cell_type": "code",
   "execution_count": 78,
   "id": "612d9d5e-8915-4640-b264-7f4e3fe86717",
   "metadata": {
    "slideshow": {
     "slide_type": "slide"
    },
    "tags": []
   },
   "outputs": [],
   "source": [
    "import numpy as np\n",
    "\n",
    "class Classroom:\n",
    "    EARTH_RADIUS_FEET = 3956.0 * 5280\n",
    "    \n",
    "    def __init__(self, usage, seats, location):\n",
    "        self.usage = usage\n",
    "        self.seats = seats\n",
    "        self.location = location  # location should be a tuple like (lat, lon)\n",
    "\n",
    "    def __str__(self):\n",
    "        return f\"The Classroom has {self.seats} seats and is {self.usage} percent utilized\"\n",
    "\n",
    "    def find_distance(self, ref_location=(34.06965666186298, -118.44317726762)):\n",
    "        \"\"\"\n",
    "        Calculate the distance between the classroom and my office.\n",
    "        \"\"\"\n",
    "        lat1, lon1 = np.radians(ref_location)  \n",
    "        lat2, lon2 = np.radians(self.location)\n",
    "        dlong = lon2 - lon1\n",
    "        dlat = lat2 - lat1\n",
    "        a = np.sin(dlat/2)**2 + np.cos(lat1) * np.cos(lat2) * np.sin(dlong/2)**2\n",
    "        b = 2 * np.arcsin(min(1, np.sqrt(a))) \n",
    "        d = round(self.EARTH_RADIUS_FEET * b)\n",
    "        \n",
    "        return d  # previously it printed an f string\n",
    "    \n",
    "    def __add__(self, other):\n",
    "        \"\"\"\n",
    "        Return the sum of two distances for two classrooms.\n",
    "        \"\"\"\n",
    "        return self.find_distance() + other.find_distance()"
   ]
  },
  {
   "cell_type": "markdown",
   "id": "1c700571-4e0f-40d0-a394-8d23597e4bcc",
   "metadata": {
    "slideshow": {
     "slide_type": "slide"
    },
    "tags": []
   },
   "source": [
    "This got cut off from the bottom of the previous slide  \n",
    "\n",
    "return self.find_distance() + other.find_distance()\n"
   ]
  },
  {
   "cell_type": "code",
   "execution_count": 79,
   "id": "90271029-7eec-413e-abbf-556769fc1739",
   "metadata": {
    "tags": []
   },
   "outputs": [
    {
     "name": "stdout",
     "output_type": "stream",
     "text": [
      "The total distance to both classrooms is: 2568 feet\n"
     ]
    }
   ],
   "source": [
    "Kaplan_169 = Classroom(80, 115, (34.071667391381624, -118.44118103360428))\n",
    "Rolfe_3126 = Classroom(82, 52, (34.07394979229613, -118.44180572851033))\n",
    "\n",
    "total_distance = Kaplan_169 + Rolfe_3126\n",
    "print(f\"The total distance to both classrooms is: {total_distance} feet\")"
   ]
  },
  {
   "cell_type": "markdown",
   "id": "9a1ab48c-10ae-48e1-a791-bb19417a0c69",
   "metadata": {},
   "source": [
    "And now, if I want the original distance message"
   ]
  },
  {
   "cell_type": "code",
   "execution_count": 80,
   "id": "7e5cb8d2-249a-4e14-827b-45d4fd1e1855",
   "metadata": {
    "tags": []
   },
   "outputs": [
    {
     "name": "stdout",
     "output_type": "stream",
     "text": [
      "The distance to the classroom is: 949 feet\n"
     ]
    }
   ],
   "source": [
    "distance = Kaplan_169.find_distance()\n",
    "print(f\"The distance to the classroom is: {distance} feet\")"
   ]
  },
  {
   "cell_type": "markdown",
   "id": "236e77a0-649c-4e40-81f2-32d3c9af65d8",
   "metadata": {
    "slideshow": {
     "slide_type": "slide"
    },
    "tags": []
   },
   "source": [
    "## Important tips\n",
    "\n",
    "It is legal to add attributes to objects at any time. But if you have objects of the same type that don't have the same attributes, it can cause problems.\n",
    "\n",
    "It is recommended to initialize all of the objects attributes inside the `__init__` method.\n",
    "\n",
    "A useful function for debugging is the `vars()` function which will print all of the attributes an object has as a dictionary."
   ]
  },
  {
   "cell_type": "code",
   "execution_count": 81,
   "id": "80fa655b-3e6b-4f5b-b96d-6fe1234ef152",
   "metadata": {
    "slideshow": {
     "slide_type": "fragment"
    },
    "tags": []
   },
   "outputs": [
    {
     "data": {
      "text/plain": [
       "{'usage': 82,\n",
       " 'seats': 52,\n",
       " 'location': (34.07394979229613, -118.44180572851033)}"
      ]
     },
     "execution_count": 81,
     "metadata": {},
     "output_type": "execute_result"
    }
   ],
   "source": [
    "vars(Rolfe_3126)"
   ]
  },
  {
   "cell_type": "markdown",
   "id": "ffd607e4-966d-44b1-98d4-64b9afcfa9e8",
   "metadata": {
    "slideshow": {
     "slide_type": "slide"
    },
    "tags": []
   },
   "source": [
    "<h1> Statistics 21 <br/> Have a Good Night! </h1>"
   ]
  },
  {
   "cell_type": "markdown",
   "id": "794d47f5-350f-4781-a486-03a9f97a2eb2",
   "metadata": {
    "slideshow": {
     "slide_type": "-"
    },
    "tags": []
   },
   "source": [
    "<script>\n",
    "    setBackgroundImage('Window1.jpg', 'black');\n",
    "</script>"
   ]
  }
 ],
 "metadata": {
  "kernelspec": {
   "display_name": "Python 3 (ipykernel)",
   "language": "python",
   "name": "python3"
  },
  "language_info": {
   "codemirror_mode": {
    "name": "ipython",
    "version": 3
   },
   "file_extension": ".py",
   "mimetype": "text/x-python",
   "name": "python",
   "nbconvert_exporter": "python",
   "pygments_lexer": "ipython3",
   "version": "3.10.8"
  }
 },
 "nbformat": 4,
 "nbformat_minor": 5
}
