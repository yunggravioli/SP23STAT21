{
 "cells": [
  {
   "cell_type": "markdown",
   "id": "d9e47c05-5d36-4fd6-9079-a2c2f856ab8f",
   "metadata": {},
   "source": [
    "<script>\n",
    "    function findAncestor (el, name) {\n",
    "        while ((el = el.parentElement) && el.nodeName.toLowerCase() !== name);\n",
    "        return el;\n",
    "    }\n",
    "    function colorAll(el, textColor) {\n",
    "        el.style.color = textColor;\n",
    "        Array.from(el.children).forEach((e) => {colorAll(e, textColor);});\n",
    "    }\n",
    "    function setBackgroundImage(src, textColor) {\n",
    "        var section = findAncestor(document.currentScript, 'section');\n",
    "        if (section) {\n",
    "            section.setAttribute('data-background-image', src);\n",
    "\t\t\tif (textColor) colorAll(section, textColor);\n",
    "        }\n",
    "    }\n",
    "</script>"
   ]
  },
  {
   "cell_type": "markdown",
   "id": "30ca0901-9ff9-48a4-9afc-2ac542605b15",
   "metadata": {},
   "source": [
    "<style>\n",
    "h1 {\n",
    "  border: 1.5px solid #333;\n",
    "  padding: 8px 12px;\n",
    "  background-image: linear-gradient(#2774AE,#ebf8e1, #FFD100);\n",
    "  position: static;\n",
    "}\n",
    "</style>"
   ]
  },
  {
   "cell_type": "markdown",
   "id": "da9e97bb-bbcc-4c05-a3ed-4ae3299f8964",
   "metadata": {
    "tags": []
   },
   "source": [
    "<h1 style='color:white'> Statistics 21 <br/> More Classes: Inheritance, Encapsulation, Polymorphism  </h1>\n",
    "\n",
    "<h3 style='color:white'>Vivian Lew, PhD - Friday, Week 9</h3>\n",
    "\n",
    "<h3 style='color:white'>Taken mostly from Chapter 18 of Think Python by Allen B Downey Think Python with thanks to Dr. Miles Chen</h3>"
   ]
  },
  {
   "cell_type": "markdown",
   "id": "f65282b7-8607-4a29-82a6-8497af681292",
   "metadata": {},
   "source": [
    "<script>\n",
    "    setBackgroundImage('Window1.jpg');\n",
    "</script>"
   ]
  },
  {
   "cell_type": "markdown",
   "id": "445d61ea-ba2f-4479-912c-9af28445185c",
   "metadata": {
    "slideshow": {
     "slide_type": "slide"
    }
   },
   "source": [
    "## Some Fundamental Principles of OOP\n",
    "## Inheritance\n",
    "\n",
    "**Encapsulation** is the practice of providing methods that allow the object's state to be manipulated in controlled ways (Python does not adhere strictly to the general principle of Encapsulation, it's more like a suggestion)  \n",
    "**Inheritance** is the ability to define a new class that is a modified version of an existing class.  \n",
    "**Polymorphism** is the principle of allowing a subclass (a class that inherits) to override a method of its superclass (the class that the subclass inherits from)  \n",
    "\n",
    "we will demonstrate these principles using classes to represent playing cards, decks of cards, and poker hands.\n",
    "\n",
    "https://en.wikipedia.org/wiki/List_of_poker_hands"
   ]
  },
  {
   "cell_type": "markdown",
   "id": "b0fb411b-80d8-407e-bb63-05f0354990a4",
   "metadata": {
    "slideshow": {
     "slide_type": "slide"
    }
   },
   "source": [
    "## Card objects\n",
    "\n",
    "There are 52 cards in a deck.\n",
    "\n",
    "There are 4 suits: Spades, Hearts, Diamonds, and Clubs (descending order in bridge).\n",
    "\n",
    "Each suit has 13 ranks: Ace, 2, 3, 4, 5, 6, 7, 8, 9, 10, Jack, Queen, King.\n",
    "\n",
    "If we define a new object to represent a playing card, the attributes will be `rank` and `suit`.\n",
    "\n",
    "How we should store the attributes is not obvious. If we use strings, it will not be easy to compare cards to see which has a higher rank or suit.\n",
    "\n",
    "Another option is to use integers to *encode* the ranks and suits. For example, we use the following for the suits:\n",
    "\n",
    "+ spades: 3\n",
    "+ hearts: 2\n",
    "+ diamonds: 1\n",
    "+ clubs: 0\n",
    "\n",
    "For the ranks, we'll use the numeric value, with Jacks: 11, Queens: 12, Kings: 13"
   ]
  },
  {
   "cell_type": "code",
   "execution_count": 1,
   "id": "4ecde943-42c3-4930-b27b-3271931d0033",
   "metadata": {
    "slideshow": {
     "slide_type": "slide"
    },
    "tags": []
   },
   "outputs": [],
   "source": [
    "class Card:\n",
    "    \"\"\"Represents a standard playing card.\"\"\"\n",
    "    \n",
    "    def __init__(self, suit = 0, rank = 2):\n",
    "        self.suit = suit\n",
    "        self.rank = rank"
   ]
  },
  {
   "cell_type": "markdown",
   "id": "042dd74f-7fe8-424a-9678-1c7b00a67c5e",
   "metadata": {
    "slideshow": {
     "slide_type": "fragment"
    }
   },
   "source": [
    "The default card would be a two of Clubs."
   ]
  },
  {
   "cell_type": "code",
   "execution_count": 2,
   "id": "2aa4ffd8-ffbd-40d6-8ed6-00ae081baf7f",
   "metadata": {
    "slideshow": {
     "slide_type": "fragment"
    },
    "tags": []
   },
   "outputs": [],
   "source": [
    "queen_of_diamonds = Card(1, 12)"
   ]
  },
  {
   "cell_type": "markdown",
   "id": "f8b9d219-0fd2-403e-8bdc-3d2865f17aac",
   "metadata": {
    "slideshow": {
     "slide_type": "slide"
    }
   },
   "source": [
    "We also want the card objects to be read easily by humans.\n",
    "\n",
    "So we need a way to go from the integer codes back to suits and ranks.\n",
    "\n",
    "We'll do this by creating a list of names and then defining the `__str__` method to represent the card.\n",
    "\n",
    "We should also define a  __repr__ method that represents the class objects as a string but its main purpose is to be unambiguous and used for debugging and development. \n",
    "\n",
    "If we don't define a __str__ method, Python will call __repr__ when it needs to convert the object to a string.\n",
    "\n",
    "Using __str__ and __repr__ is encapsulation in Python because we are manipulating Card objects in a controlled way."
   ]
  },
  {
   "cell_type": "code",
   "execution_count": 3,
   "id": "7b77289a-f34d-402b-af3c-d7cc075f8c4e",
   "metadata": {
    "slideshow": {
     "slide_type": "slide"
    },
    "tags": []
   },
   "outputs": [],
   "source": [
    "class Card:\n",
    "    def __init__(self, suit = 0, rank = 2):\n",
    "        self.suit = suit\n",
    "        self.rank = rank\n",
    "    \n",
    "    suit_names = ['Clubs', 'Diamonds', 'Hearts', 'Spades']\n",
    "    rank_names = [None, 'Ace', '2', '3', '4', '5', '6', '7',\n",
    "                 '8', '9', '10', 'Jack', 'Queen', 'King']\n",
    "    \n",
    "    def __str__(self):\n",
    "        return f\"{Card.rank_names[self.rank]} of {Card.suit_names[self.suit]}\"\n",
    "\n",
    "    def __repr__(self):\n",
    "        return f\"Card({self.suit}, {self.rank})\""
   ]
  },
  {
   "cell_type": "markdown",
   "id": "d957c957-3279-479b-8020-50779f21fed9",
   "metadata": {
    "slideshow": {
     "slide_type": "fragment"
    }
   },
   "source": [
    "Variables like `suit_names` and `rank_names`, which are defined inside a class but outside of any method, are called **class attributes** because they are associated with the class object `Card`. Note that in their definition, `suit_names` and `rank_names` could be preceeded by `self` BUT for clarity we can also use the name of the class `Card`.\n",
    "\n",
    "This term distinguishes them from variables like `suit` and `rank`, which are called **instance attributes** because they are associated with a particular instance. These attributes are preceeded by `self` "
   ]
  },
  {
   "cell_type": "markdown",
   "id": "28d219c7-c672-450e-818a-d344f06aef4e",
   "metadata": {
    "slideshow": {
     "slide_type": "slide"
    },
    "tags": []
   },
   "source": [
    "If we create multiple cards, every card has its own `suit` and `rank` but there is only one copy of `suit_names` and `rank_names`.\n",
    "\n",
    "The first value (index zero) in `rank_names` is `None` because there is no card with a rank zero."
   ]
  },
  {
   "cell_type": "code",
   "execution_count": 4,
   "id": "77d7abc1-9492-4fef-9bdd-9148d7784b10",
   "metadata": {
    "slideshow": {
     "slide_type": "slide"
    },
    "tags": []
   },
   "outputs": [
    {
     "name": "stdout",
     "output_type": "stream",
     "text": [
      "Jack of Hearts\n"
     ]
    }
   ],
   "source": [
    "card1 = Card(2, 11)\n",
    "print(card1)"
   ]
  },
  {
   "cell_type": "code",
   "execution_count": 5,
   "id": "9f5facef-c772-436e-b563-2c0884e2fea0",
   "metadata": {
    "tags": []
   },
   "outputs": [
    {
     "data": {
      "text/plain": [
       "['Clubs', 'Diamonds', 'Hearts', 'Spades']"
      ]
     },
     "execution_count": 5,
     "metadata": {},
     "output_type": "execute_result"
    }
   ],
   "source": [
    "card1.suit_names"
   ]
  },
  {
   "cell_type": "code",
   "execution_count": 6,
   "id": "2c6623c0-ef83-4a34-bab7-f86395d56767",
   "metadata": {
    "tags": []
   },
   "outputs": [
    {
     "name": "stdout",
     "output_type": "stream",
     "text": [
      "[None, 'Ace', '2', '3', '4', '5', '6', '7', '8', '9', '10', 'Jack', 'Queen', 'King'] "
     ]
    }
   ],
   "source": [
    "print(card1.rank_names, end = \" \")"
   ]
  },
  {
   "cell_type": "code",
   "execution_count": 7,
   "id": "c5977502-0e34-4236-b985-0b28beb756f9",
   "metadata": {
    "slideshow": {
     "slide_type": "fragment"
    },
    "tags": []
   },
   "outputs": [
    {
     "name": "stdout",
     "output_type": "stream",
     "text": [
      "Ace of Diamonds\n"
     ]
    }
   ],
   "source": [
    "card1 = Card(1, 1)\n",
    "print(card1)"
   ]
  },
  {
   "cell_type": "code",
   "execution_count": 8,
   "id": "bcef81f0-d1c9-4503-8f6b-510aa77fbadf",
   "metadata": {
    "slideshow": {
     "slide_type": "fragment"
    },
    "tags": []
   },
   "outputs": [
    {
     "name": "stdout",
     "output_type": "stream",
     "text": [
      "6 of Spades\n"
     ]
    }
   ],
   "source": [
    "card1 = Card(3, 6)\n",
    "print(card1)"
   ]
  },
  {
   "cell_type": "markdown",
   "id": "738eb335-d67f-4659-9995-9a0697d9bed2",
   "metadata": {
    "slideshow": {
     "slide_type": "slide"
    }
   },
   "source": [
    "## Comparing Cards\n",
    "\n",
    "For built-in types, we can use relational operators like >, <, == that compare values and determine when one is greater than, less than, or equal to another.\n",
    "\n",
    "For our own defined classes, we can use a special method `__lt__` which stands for 'less than'. Similarly, there is another dunder method `__eq__` that can be used to test equality.\n",
    "\n",
    "We'll arbitrarily choose to rank suits as more important, so all of the Spades will outrank all of the Diamonds.\n",
    "\n",
    "To perform the comparison, we'll use tuple comparison"
   ]
  },
  {
   "cell_type": "code",
   "execution_count": 9,
   "id": "913f92f7-fb2b-41dc-9cd7-77c7d442a75a",
   "metadata": {
    "slideshow": {
     "slide_type": "slide"
    },
    "tags": []
   },
   "outputs": [],
   "source": [
    "class Card:\n",
    "    def __init__(self, suit = 0, rank = 2):\n",
    "        self.suit = suit\n",
    "        self.rank = rank\n",
    "    \n",
    "    suit_names = ['Clubs', 'Diamonds', 'Hearts', 'Spades']\n",
    "    rank_names = [None, 'Ace', '2', '3', '4', '5', '6', '7',\n",
    "                 '8', '9', '10', 'Jack', 'Queen', 'King']\n",
    "    \n",
    "    def __str__(self):\n",
    "        return f\"{Card.rank_names[self.rank]} of {Card.suit_names[self.suit]}\"\n",
    "\n",
    "    def __repr__(self):\n",
    "        return f\"Card({self.suit}, {self.rank})\"\n",
    "        \n",
    "    def __lt__(self, other):\n",
    "        t1 = self.suit, self.rank\n",
    "        t2 = other.suit, other.rank\n",
    "        return t1 < t2\n",
    "    \n",
    "    def __eq__(self, other):\n",
    "        t1 = self.suit, self.rank\n",
    "        t2 = other.suit, other.rank\n",
    "        return t1 == t2"
   ]
  },
  {
   "cell_type": "code",
   "execution_count": 10,
   "id": "674723fb-ab87-4756-ab81-f198ef6c5945",
   "metadata": {
    "slideshow": {
     "slide_type": "slide"
    },
    "tags": []
   },
   "outputs": [
    {
     "name": "stdout",
     "output_type": "stream",
     "text": [
      "Queen of Diamonds\n"
     ]
    }
   ],
   "source": [
    "card1 = Card(1, 12)\n",
    "print(card1)"
   ]
  },
  {
   "cell_type": "code",
   "execution_count": 11,
   "id": "31420947-4368-49cc-9f7b-f42d42c80f32",
   "metadata": {
    "tags": []
   },
   "outputs": [],
   "source": [
    "card1.rank = 13"
   ]
  },
  {
   "cell_type": "code",
   "execution_count": 12,
   "id": "8324632b-845f-48d1-bc5d-7ebf5774a4ce",
   "metadata": {
    "tags": []
   },
   "outputs": [
    {
     "data": {
      "text/plain": [
       "13"
      ]
     },
     "execution_count": 12,
     "metadata": {},
     "output_type": "execute_result"
    }
   ],
   "source": [
    "card1.rank"
   ]
  },
  {
   "cell_type": "code",
   "execution_count": 13,
   "id": "9bc82752-74e2-4abf-abd3-7667026843da",
   "metadata": {
    "slideshow": {
     "slide_type": "fragment"
    },
    "tags": []
   },
   "outputs": [
    {
     "name": "stdout",
     "output_type": "stream",
     "text": [
      "Jack of Hearts\n"
     ]
    }
   ],
   "source": [
    "card2 = Card(2, 11)\n",
    "print(card2)"
   ]
  },
  {
   "cell_type": "code",
   "execution_count": 14,
   "id": "47435403-cf23-4516-95b4-15b07b19368f",
   "metadata": {
    "slideshow": {
     "slide_type": "fragment"
    },
    "tags": []
   },
   "outputs": [
    {
     "data": {
      "text/plain": [
       "True"
      ]
     },
     "execution_count": 14,
     "metadata": {},
     "output_type": "execute_result"
    }
   ],
   "source": [
    "# diamonds are ranked lower than Hearts\n",
    "card1 < card2"
   ]
  },
  {
   "cell_type": "code",
   "execution_count": 15,
   "id": "8944a074-ba94-4ae0-99ae-7dbd4c00cb90",
   "metadata": {
    "slideshow": {
     "slide_type": "fragment"
    },
    "tags": []
   },
   "outputs": [
    {
     "name": "stdout",
     "output_type": "stream",
     "text": [
      "Queen of Hearts\n"
     ]
    }
   ],
   "source": [
    "card3 = Card(2, 12)\n",
    "print(card3)"
   ]
  },
  {
   "cell_type": "code",
   "execution_count": 16,
   "id": "26c38c4d-8f70-4ebc-ae45-69caede6db52",
   "metadata": {
    "slideshow": {
     "slide_type": "slide"
    },
    "tags": []
   },
   "outputs": [
    {
     "data": {
      "text/plain": [
       "False"
      ]
     },
     "execution_count": 16,
     "metadata": {},
     "output_type": "execute_result"
    }
   ],
   "source": [
    "card3 < card2"
   ]
  },
  {
   "cell_type": "code",
   "execution_count": 17,
   "id": "3827d9a6-66ea-420e-9a3b-b8aa1ccb52af",
   "metadata": {
    "slideshow": {
     "slide_type": "fragment"
    },
    "tags": []
   },
   "outputs": [],
   "source": [
    "card4 = Card(1, 12)"
   ]
  },
  {
   "cell_type": "code",
   "execution_count": 18,
   "id": "90734146-02bc-47f0-9c89-a5e384d72fb7",
   "metadata": {
    "slideshow": {
     "slide_type": "fragment"
    },
    "tags": []
   },
   "outputs": [
    {
     "name": "stdout",
     "output_type": "stream",
     "text": [
      "King of Diamonds\n"
     ]
    }
   ],
   "source": [
    "print(card1)"
   ]
  },
  {
   "cell_type": "code",
   "execution_count": 19,
   "id": "1ea07527-0e7e-4bf2-bc4e-81669cf6e2b3",
   "metadata": {
    "slideshow": {
     "slide_type": "fragment"
    },
    "tags": []
   },
   "outputs": [
    {
     "name": "stdout",
     "output_type": "stream",
     "text": [
      "Queen of Diamonds\n"
     ]
    }
   ],
   "source": [
    "print(card4)"
   ]
  },
  {
   "cell_type": "code",
   "execution_count": 20,
   "id": "a8bc2a38-20fd-44b6-a79e-86005fc446a5",
   "metadata": {
    "slideshow": {
     "slide_type": "fragment"
    },
    "tags": []
   },
   "outputs": [
    {
     "data": {
      "text/plain": [
       "False"
      ]
     },
     "execution_count": 20,
     "metadata": {},
     "output_type": "execute_result"
    }
   ],
   "source": [
    "card1 == card4"
   ]
  },
  {
   "cell_type": "code",
   "execution_count": 21,
   "id": "a84837d8-75b6-4908-9683-8f0ee186470c",
   "metadata": {
    "slideshow": {
     "slide_type": "fragment"
    },
    "tags": []
   },
   "outputs": [
    {
     "name": "stdout",
     "output_type": "stream",
     "text": [
      "Queen of Hearts\n"
     ]
    }
   ],
   "source": [
    "print(card3)"
   ]
  },
  {
   "cell_type": "code",
   "execution_count": 22,
   "id": "331985a0-7c84-4703-aaff-0b5ccf06d589",
   "metadata": {
    "slideshow": {
     "slide_type": "fragment"
    },
    "tags": []
   },
   "outputs": [
    {
     "data": {
      "text/plain": [
       "False"
      ]
     },
     "execution_count": 22,
     "metadata": {},
     "output_type": "execute_result"
    }
   ],
   "source": [
    "card1 == card3"
   ]
  },
  {
   "cell_type": "markdown",
   "id": "06b6e236-2c00-4c6c-be11-234abc21fac4",
   "metadata": {
    "slideshow": {
     "slide_type": "slide"
    }
   },
   "source": [
    "## Building a Deck\n",
    "\n",
    "Now that we have Cards, the next step is to define Decks. Since a deck is made up of cards, it is natural for each Deck to contain a list of cards as an attribute.\n",
    "\n",
    "The following is a class definition for Deck. The `__init__` method creates the attribute cards and generates the standard set of fifty-two cards.\n",
    "\n",
    "The `__str__` method builds a list of the string representation of cards and uses the string method `join`"
   ]
  },
  {
   "cell_type": "code",
   "execution_count": 23,
   "id": "595c5f64-94a1-4471-be04-aa9231baca9d",
   "metadata": {
    "slideshow": {
     "slide_type": "slide"
    },
    "tags": []
   },
   "outputs": [],
   "source": [
    "class Deck:\n",
    "    def __init__(self):\n",
    "        self.cards = []\n",
    "        for suit in range(4):\n",
    "            for rank in range(1,14):\n",
    "                card = Card(suit, rank)\n",
    "                self.cards.append(card)\n",
    "    def __str__(self):\n",
    "        res = []\n",
    "        for card in self.cards:\n",
    "            res.append(str(card))\n",
    "        return '\\n'.join(res)"
   ]
  },
  {
   "cell_type": "code",
   "execution_count": 24,
   "id": "eed28b02-8710-4fbf-8de3-00324debfdf0",
   "metadata": {
    "slideshow": {
     "slide_type": "fragment"
    },
    "tags": []
   },
   "outputs": [],
   "source": [
    "deck = Deck()"
   ]
  },
  {
   "cell_type": "code",
   "execution_count": 25,
   "id": "74f2c2da-23ee-4d42-80df-ffc541083a78",
   "metadata": {
    "slideshow": {
     "slide_type": "slide"
    },
    "tags": []
   },
   "outputs": [
    {
     "name": "stdout",
     "output_type": "stream",
     "text": [
      "Ace of Clubs\n",
      "2 of Clubs\n",
      "3 of Clubs\n",
      "4 of Clubs\n",
      "5 of Clubs\n",
      "6 of Clubs\n",
      "7 of Clubs\n",
      "8 of Clubs\n",
      "9 of Clubs\n",
      "10 of Clubs\n",
      "Jack of Clubs\n",
      "Queen of Clubs\n",
      "King of Clubs\n",
      "Ace of Diamonds\n",
      "2 of Diamonds\n",
      "3 of Diamonds\n",
      "4 of Diamonds\n",
      "5 of Diamonds\n",
      "6 of Diamonds\n",
      "7 of Diamonds\n",
      "8 of Diamonds\n",
      "9 of Diamonds\n",
      "10 of Diamonds\n",
      "Jack of Diamonds\n",
      "Queen of Diamonds\n",
      "King of Diamonds\n",
      "Ace of Hearts\n",
      "2 of Hearts\n",
      "3 of Hearts\n",
      "4 of Hearts\n",
      "5 of Hearts\n",
      "6 of Hearts\n",
      "7 of Hearts\n",
      "8 of Hearts\n",
      "9 of Hearts\n",
      "10 of Hearts\n",
      "Jack of Hearts\n",
      "Queen of Hearts\n",
      "King of Hearts\n",
      "Ace of Spades\n",
      "2 of Spades\n",
      "3 of Spades\n",
      "4 of Spades\n",
      "5 of Spades\n",
      "6 of Spades\n",
      "7 of Spades\n",
      "8 of Spades\n",
      "9 of Spades\n",
      "10 of Spades\n",
      "Jack of Spades\n",
      "Queen of Spades\n",
      "King of Spades\n"
     ]
    }
   ],
   "source": [
    "print(deck)"
   ]
  },
  {
   "cell_type": "markdown",
   "id": "864622cc-0861-4d67-8993-dccda21f23dd",
   "metadata": {
    "slideshow": {
     "slide_type": "slide"
    }
   },
   "source": [
    "## Add, remove, shuffle, and sort\n",
    "\n",
    "To deal cards, we can create a method that removes a card from the deck and returns it. We can define the following method inside the class:\n",
    "\n",
    "~~~\n",
    "    def pop_card(self):\n",
    "        return self.cards.pop()\n",
    "~~~\n",
    "\n",
    "To add a card, we can use the list method `append`\n",
    "\n",
    "~~~\n",
    "    def add_card(self, card):\n",
    "        self.cards.append(card)\n",
    "~~~\n",
    "\n",
    "We can also add a `shuffle` method to mix the cards\n",
    "\n",
    "~~~\n",
    "    def shuffle(self):\n",
    "        random.shuffle(self.cards)\n",
    "~~~\n",
    "\n",
    "Because we have defined the method `__lt__` for the cards, we can perform `sort` operations to sort the cards\n",
    "\n",
    "~~~\n",
    "    def sort(self):\n",
    "        self.cards.sort()\n",
    "~~~"
   ]
  },
  {
   "cell_type": "code",
   "execution_count": 26,
   "id": "42b89943-7750-43cd-9416-305bdc845ff1",
   "metadata": {
    "slideshow": {
     "slide_type": "slide"
    },
    "tags": []
   },
   "outputs": [],
   "source": [
    "import random\n",
    "\n",
    "class Deck:\n",
    "    def __init__(self):\n",
    "        self.cards = []\n",
    "        for suit in range(4):\n",
    "            for rank in range(1,14):\n",
    "                card = Card(suit, rank)\n",
    "                self.cards.append(card)\n",
    "    def __str__(self):\n",
    "        res = []\n",
    "        for card in self.cards:\n",
    "            res.append(str(card))\n",
    "        return '\\n'.join(res)\n",
    "    \n",
    "    def __len__(self):\n",
    "        return len(self.cards)\n",
    "    \n",
    "    def pop_card(self):\n",
    "        return self.cards.pop()\n",
    "    \n",
    "    def add_card(self, card):\n",
    "        self.cards.append(card)\n",
    "    \n",
    "    def shuffle(self):\n",
    "        random.shuffle(self.cards)\n",
    "    \n",
    "    def sort(self):\n",
    "        self.cards.sort()"
   ]
  },
  {
   "cell_type": "code",
   "execution_count": 27,
   "id": "1579bc0e-5249-4255-812f-d723c5515afb",
   "metadata": {
    "slideshow": {
     "slide_type": "slide"
    },
    "tags": []
   },
   "outputs": [],
   "source": [
    "deck = Deck()"
   ]
  },
  {
   "cell_type": "code",
   "execution_count": 28,
   "id": "8ee91e76-f629-4b56-80a1-9e2d5f8e184d",
   "metadata": {
    "tags": []
   },
   "outputs": [
    {
     "data": {
      "text/plain": [
       "52"
      ]
     },
     "execution_count": 28,
     "metadata": {},
     "output_type": "execute_result"
    }
   ],
   "source": [
    "len(deck)"
   ]
  },
  {
   "cell_type": "code",
   "execution_count": 29,
   "id": "08ec334c-95b7-45dc-b943-1fa38beda8d8",
   "metadata": {
    "slideshow": {
     "slide_type": "fragment"
    },
    "tags": []
   },
   "outputs": [
    {
     "name": "stdout",
     "output_type": "stream",
     "text": [
      "Ace of Clubs\n",
      "2 of Clubs\n",
      "3 of Clubs\n",
      "4 of Clubs\n",
      "5 of Clubs\n",
      "6 of Clubs\n",
      "7 of Clubs\n",
      "8 of Clubs\n",
      "9 of Clubs\n",
      "10 of Clubs\n",
      "Jack of Clubs\n",
      "Queen of Clubs\n",
      "King of Clubs\n",
      "Ace of Diamonds\n",
      "2 of Diamonds\n",
      "3 of Diamonds\n",
      "4 of Diamonds\n",
      "5 of Diamonds\n",
      "6 of Diamonds\n",
      "7 of Diamonds\n",
      "8 of Diamonds\n",
      "9 of Diamonds\n",
      "10 of Diamonds\n",
      "Jack of Diamonds\n",
      "Queen of Diamonds\n",
      "King of Diamonds\n",
      "Ace of Hearts\n",
      "2 of Hearts\n",
      "3 of Hearts\n",
      "4 of Hearts\n",
      "5 of Hearts\n",
      "6 of Hearts\n",
      "7 of Hearts\n",
      "8 of Hearts\n",
      "9 of Hearts\n",
      "10 of Hearts\n",
      "Jack of Hearts\n",
      "Queen of Hearts\n",
      "King of Hearts\n",
      "Ace of Spades\n",
      "2 of Spades\n",
      "3 of Spades\n",
      "4 of Spades\n",
      "5 of Spades\n",
      "6 of Spades\n",
      "7 of Spades\n",
      "8 of Spades\n",
      "9 of Spades\n",
      "10 of Spades\n",
      "Jack of Spades\n",
      "Queen of Spades\n",
      "King of Spades\n"
     ]
    }
   ],
   "source": [
    "print(deck)"
   ]
  },
  {
   "cell_type": "code",
   "execution_count": 30,
   "id": "dbb97f4c-9b09-4268-9fcc-cc77ecc9ee45",
   "metadata": {
    "slideshow": {
     "slide_type": "slide"
    },
    "tags": []
   },
   "outputs": [],
   "source": [
    "deck.shuffle()"
   ]
  },
  {
   "cell_type": "code",
   "execution_count": 31,
   "id": "b8c46b9e-560a-40aa-a2aa-498d2739b652",
   "metadata": {
    "slideshow": {
     "slide_type": "fragment"
    },
    "tags": []
   },
   "outputs": [
    {
     "name": "stdout",
     "output_type": "stream",
     "text": [
      "8 of Hearts\n",
      "King of Clubs\n",
      "Ace of Hearts\n",
      "5 of Clubs\n",
      "Ace of Clubs\n",
      "6 of Diamonds\n",
      "8 of Spades\n",
      "2 of Spade\n",
      "...\n",
      "earts\n",
      "9 of Hearts\n",
      "2 of Hearts\n",
      "7 of Hearts\n",
      "10 of Diamonds\n",
      "4 of Diamonds\n",
      "8 of Diamonds\n",
      "Queen of Hearts\n"
     ]
    }
   ],
   "source": [
    "print(str(deck)[:100])\n",
    "print(\"...\")\n",
    "print(str(deck)[-100:])"
   ]
  },
  {
   "cell_type": "code",
   "execution_count": 32,
   "id": "e88dad69-2344-4b30-b74b-f9c478be4e9d",
   "metadata": {
    "slideshow": {
     "slide_type": "slide"
    },
    "tags": []
   },
   "outputs": [
    {
     "name": "stdout",
     "output_type": "stream",
     "text": [
      "Queen of Hearts\n"
     ]
    }
   ],
   "source": [
    "print(deck.pop_card())"
   ]
  },
  {
   "cell_type": "code",
   "execution_count": 33,
   "id": "8a6f45f5-d199-45d7-b09b-00a136251858",
   "metadata": {
    "slideshow": {
     "slide_type": "fragment"
    },
    "tags": []
   },
   "outputs": [
    {
     "name": "stdout",
     "output_type": "stream",
     "text": [
      "8 of Diamonds\n"
     ]
    }
   ],
   "source": [
    "print(deck.pop_card())"
   ]
  },
  {
   "cell_type": "code",
   "execution_count": 34,
   "id": "477a14da-0c37-49f8-a8c9-9d75db160200",
   "metadata": {
    "slideshow": {
     "slide_type": "fragment"
    },
    "tags": []
   },
   "outputs": [
    {
     "data": {
      "text/plain": [
       "50"
      ]
     },
     "execution_count": 34,
     "metadata": {},
     "output_type": "execute_result"
    }
   ],
   "source": [
    "len(deck.cards)"
   ]
  },
  {
   "cell_type": "code",
   "execution_count": 35,
   "id": "396a1c85-97d2-48ab-b135-084812a1f864",
   "metadata": {
    "slideshow": {
     "slide_type": "fragment"
    },
    "tags": []
   },
   "outputs": [
    {
     "name": "stdout",
     "output_type": "stream",
     "text": [
      "8 of Hearts\n",
      "King of Clubs\n",
      "Ace of Hearts\n",
      "5 of Clubs\n",
      "Ace of Clubs\n",
      "6 of Diamonds\n",
      "8 of Spades\n",
      "2 of Spade\n",
      "...\n",
      "Clubs\n",
      "King of Spades\n",
      "King of Hearts\n",
      "9 of Hearts\n",
      "2 of Hearts\n",
      "7 of Hearts\n",
      "10 of Diamonds\n",
      "4 of Diamonds\n"
     ]
    }
   ],
   "source": [
    "print(str(deck)[:100])\n",
    "print(\"...\")\n",
    "print(str(deck)[-100:])"
   ]
  },
  {
   "cell_type": "markdown",
   "id": "a8ce2678-c09b-4b9f-ba49-a51afa3f5b8c",
   "metadata": {
    "slideshow": {
     "slide_type": "slide"
    }
   },
   "source": [
    "## Inheritance\n",
    "\n",
    "Inheritance is the ability to define a new class that is a modified version of an existing class.\n",
    "\n",
    "For example, let's say we want a new class to represent a \"hand\", that is, the cards held by one player.\n",
    "\n",
    "A hand is similar to a deck: both are made up of a collection of cards, and both require operations like adding and removing cards.\n",
    "\n",
    "A hand is also different from a deck; there are operations we want for hands that don’t make sense for a deck. For example, in poker we might compare two hands to see which one wins. In bridge, we might compute a score for a hand in order to make a bid.\n",
    "\n",
    "This relationship between classes—similar, but different—lends itself to inheritance. \n",
    "\n",
    "To define a new class that inherits from an existing class, you put the name of the existing class in parentheses."
   ]
  },
  {
   "cell_type": "code",
   "execution_count": 36,
   "id": "775cb98d-d83e-480b-95a2-ef1b50dc036f",
   "metadata": {
    "slideshow": {
     "slide_type": "fragment"
    },
    "tags": []
   },
   "outputs": [],
   "source": [
    "class Hand(Deck):\n",
    "    \"\"\"Represents a hand of playing cards.\"\"\""
   ]
  },
  {
   "cell_type": "markdown",
   "id": "5334ae51-751e-47e4-8b3e-d6b81ae6957e",
   "metadata": {
    "slideshow": {
     "slide_type": "slide"
    }
   },
   "source": [
    "This definition indicates that Hand inherits from Deck; that means we can use methods like `pop_card` and `add_card` for Hands as well as Decks.\n",
    "\n",
    "When a new class inherits from an existing one, the existing one is called the **parent** and the new class is called the **child**.\n",
    "\n",
    "If we have nothing else defined, then `Hand` inherits `__init__` from `Deck`, which is not what we want.\n",
    "\n",
    "If we provide an `init` method in the `Hand` class, it overrides the one from `Deck`."
   ]
  },
  {
   "cell_type": "code",
   "execution_count": 37,
   "id": "30a9103a-4cd3-4cca-90ce-36a3d2deb8b6",
   "metadata": {
    "slideshow": {
     "slide_type": "fragment"
    },
    "tags": []
   },
   "outputs": [],
   "source": [
    "class Hand(Deck):\n",
    "    def __init__(self, label = \"\"):\n",
    "        self.cards = []\n",
    "        self.label = label"
   ]
  },
  {
   "cell_type": "markdown",
   "id": "bd221dec-33a8-423f-8ae1-63ace96826cc",
   "metadata": {
    "slideshow": {
     "slide_type": "slide"
    }
   },
   "source": [
    "When you create a Hand, Python invokes this init method, not the one in Deck."
   ]
  },
  {
   "cell_type": "code",
   "execution_count": 38,
   "id": "94207feb-6b46-4849-b73f-636b4d56070a",
   "metadata": {
    "slideshow": {
     "slide_type": "fragment"
    },
    "tags": []
   },
   "outputs": [
    {
     "data": {
      "text/plain": [
       "[]"
      ]
     },
     "execution_count": 38,
     "metadata": {},
     "output_type": "execute_result"
    }
   ],
   "source": [
    "hand = Hand('new hand')\n",
    "hand.cards"
   ]
  },
  {
   "cell_type": "code",
   "execution_count": 39,
   "id": "15a76d4a-3c2d-4d67-aa91-aac8dd6c44da",
   "metadata": {
    "slideshow": {
     "slide_type": "fragment"
    },
    "tags": []
   },
   "outputs": [
    {
     "data": {
      "text/plain": [
       "'new hand'"
      ]
     },
     "execution_count": 39,
     "metadata": {},
     "output_type": "execute_result"
    }
   ],
   "source": [
    "hand.label"
   ]
  },
  {
   "cell_type": "code",
   "execution_count": 40,
   "id": "84845cf5-a115-4740-bfef-452ea4902cb8",
   "metadata": {
    "slideshow": {
     "slide_type": "fragment"
    },
    "tags": []
   },
   "outputs": [],
   "source": [
    "deck = Deck()\n",
    "card = deck.pop_card()\n",
    "hand.add_card(card)"
   ]
  },
  {
   "cell_type": "code",
   "execution_count": 41,
   "id": "c4c38f4b-2e63-4b16-bb02-28e73a1bf0af",
   "metadata": {
    "slideshow": {
     "slide_type": "fragment"
    },
    "tags": []
   },
   "outputs": [
    {
     "name": "stdout",
     "output_type": "stream",
     "text": [
      "King of Spades\n"
     ]
    }
   ],
   "source": [
    "print(hand)"
   ]
  },
  {
   "cell_type": "markdown",
   "id": "af9c015c-0dbd-4ebc-a0cf-28239d008489",
   "metadata": {
    "slideshow": {
     "slide_type": "slide"
    }
   },
   "source": [
    "We can add these steps into a method called `move_cards` into the `Deck` class.\n",
    "\n",
    "~~~\n",
    "    def move_cards(self, hand, num):\n",
    "            for i in range(num):\n",
    "                hand.add_card(self.pop_card())\n",
    "~~~\n",
    "\n",
    "`move_cards` takes two arguments, a Hand object and the number of cards to deal. It modifies both `self` and `hand`, and returns `None`.\n",
    "\n",
    "In some games, cards are moved from one hand to another, or from a hand back to the deck. You can use `move_cards` for any of these operations: `self` can be either a Deck or a Hand, and `hand`, despite the name, can also be a Deck.\n",
    "\n",
    "Inheritance is a useful feature. Some programs that would be repetitive without inheritance can be written more elegantly with it. Inheritance can facilitate code reuse, since you can customize the behavior of parent classes without having to modify them. \n",
    "\n",
    "In some cases, the inheritance structure reflects the natural structure of the problem, which makes the design easier to understand.\n",
    "\n",
    "On the other hand, inheritance can make programs difﬁcult to read. When a method is invoked, it is sometimes not clear where to find its definition. The relevant code may be spread across several modules."
   ]
  },
  {
   "cell_type": "code",
   "execution_count": 42,
   "id": "7dc001c5-c4e3-4e5c-b4a3-a58eedd26b59",
   "metadata": {
    "slideshow": {
     "slide_type": "slide"
    },
    "tags": []
   },
   "outputs": [],
   "source": [
    "class Deck:\n",
    "    def __init__(self):\n",
    "        self.cards = []\n",
    "        for suit in range(4):\n",
    "            for rank in range(1,14):\n",
    "                card = Card(suit, rank)\n",
    "                self.cards.append(card)\n",
    "    def __str__(self):\n",
    "        res = []\n",
    "        for card in self.cards:\n",
    "            res.append(str(card))\n",
    "        return '\\n'.join(res)\n",
    "    \n",
    "    def pop_card(self):\n",
    "        return self.cards.pop()\n",
    "    \n",
    "    def add_card(self, card):\n",
    "        self.cards.append(card)\n",
    "    \n",
    "    def shuffle(self):\n",
    "        random.shuffle(self.cards)\n",
    "    \n",
    "    def sort(self):\n",
    "        self.cards.sort()\n",
    "        \n",
    "    def move_cards(self, hand, num):\n",
    "        for i in range(num):\n",
    "            hand.add_card(self.pop_card())"
   ]
  },
  {
   "cell_type": "code",
   "execution_count": 43,
   "id": "2847ebf9-3ee6-4fb7-956a-4af3eb880c84",
   "metadata": {
    "slideshow": {
     "slide_type": "slide"
    },
    "tags": []
   },
   "outputs": [],
   "source": [
    "deck = Deck()\n",
    "hand = Hand('new hand')"
   ]
  },
  {
   "cell_type": "code",
   "execution_count": 44,
   "id": "0c93bac4-464f-4907-a313-fe8afcd3128b",
   "metadata": {
    "slideshow": {
     "slide_type": "fragment"
    },
    "tags": []
   },
   "outputs": [],
   "source": [
    "deck.move_cards(hand, 5)"
   ]
  },
  {
   "cell_type": "code",
   "execution_count": 45,
   "id": "85811637-49a5-4a2c-8517-ddf9763d9bf6",
   "metadata": {
    "slideshow": {
     "slide_type": "fragment"
    },
    "tags": []
   },
   "outputs": [
    {
     "name": "stdout",
     "output_type": "stream",
     "text": [
      "King of Spades\n",
      "Queen of Spades\n",
      "Jack of Spades\n",
      "10 of Spades\n",
      "9 of Spades\n"
     ]
    }
   ],
   "source": [
    "print(hand)"
   ]
  },
  {
   "cell_type": "code",
   "execution_count": 46,
   "id": "2e75ac2e-851d-4d4f-8556-bcbf866ebd89",
   "metadata": {
    "slideshow": {
     "slide_type": "fragment"
    },
    "tags": []
   },
   "outputs": [],
   "source": [
    "deck = Deck()\n",
    "hand = Hand('new hand')"
   ]
  },
  {
   "cell_type": "code",
   "execution_count": 47,
   "id": "7268d02c-02d9-469f-86fe-553b05ca2182",
   "metadata": {
    "slideshow": {
     "slide_type": "slide"
    },
    "tags": []
   },
   "outputs": [
    {
     "name": "stdout",
     "output_type": "stream",
     "text": [
      "nds\n",
      "2 of Diamonds\n",
      "8 of Clubs\n",
      "Jack of Clubs\n",
      "3 of Spades\n",
      "Ace of Hearts\n",
      "King of Hearts\n",
      "5 of Diamonds\n",
      "10 of Hearts\n"
     ]
    }
   ],
   "source": [
    "deck.shuffle()\n",
    "print(str(deck)[-110:])\n",
    "deck.move_cards(hand, 5)"
   ]
  },
  {
   "cell_type": "code",
   "execution_count": 48,
   "id": "e1472d49-72dc-4013-a3bb-445df9828812",
   "metadata": {
    "slideshow": {
     "slide_type": "fragment"
    },
    "tags": []
   },
   "outputs": [
    {
     "name": "stdout",
     "output_type": "stream",
     "text": [
      "10 of Hearts\n",
      "5 of Diamonds\n",
      "King of Hearts\n",
      "Ace of Hearts\n",
      "3 of Spades\n"
     ]
    }
   ],
   "source": [
    "print(hand)"
   ]
  },
  {
   "cell_type": "code",
   "execution_count": 49,
   "id": "fd6202c1-6994-4ee3-9f39-7c16bcbacec2",
   "metadata": {
    "slideshow": {
     "slide_type": "fragment"
    },
    "tags": []
   },
   "outputs": [
    {
     "name": "stdout",
     "output_type": "stream",
     "text": [
      " Diamonds\n",
      "2 of Diamonds\n",
      "8 of Clubs\n",
      "Jack of Clubs\n"
     ]
    }
   ],
   "source": [
    "print(str(deck)[-48:])"
   ]
  },
  {
   "cell_type": "markdown",
   "id": "1346e58b-d7d8-41ae-ba1a-49008b59bfbf",
   "metadata": {
    "slideshow": {
     "slide_type": "slide"
    },
    "tags": []
   },
   "source": [
    "## Polymorphism\n",
    "\n",
    "This principle allows a subclass to override a method of its superclass, enabling it to behave in a way that's appropriate for its situation. The benefit of polymorphism is that you can write code that works on superclass objects (Card instances), but it will also work with any subclass objects (Deck and Hand). This makes the code more flexible and extensible.\n",
    "\n",
    "Let's add Jokers to the deck."
   ]
  },
  {
   "cell_type": "code",
   "execution_count": 50,
   "id": "c37c915a-2e00-481e-ac35-08d35a40cd0e",
   "metadata": {
    "slideshow": {
     "slide_type": "fragment"
    },
    "tags": []
   },
   "outputs": [],
   "source": [
    "class JokerCard(Card):\n",
    "    def __init__(self, suit=None):\n",
    "        super().__init__(suit, rank=15)  # Joker always ranks highest\n",
    "\n",
    "    def __str__(self):\n",
    "        return \"Joker\"\n",
    "\n",
    "    def __lt__(self, other):\n",
    "        return False  # Joker is never less than any card\n",
    "\n",
    "    def __eq__(self, other):\n",
    "        return isinstance(other, JokerCard)  # Joker is only equal to another Joker"
   ]
  },
  {
   "cell_type": "code",
   "execution_count": 51,
   "id": "c79b4aa6-c394-46aa-aec9-07ea0770f3df",
   "metadata": {
    "slideshow": {
     "slide_type": "slide"
    },
    "tags": []
   },
   "outputs": [
    {
     "name": "stdout",
     "output_type": "stream",
     "text": [
      "Joker 3 15\n"
     ]
    }
   ],
   "source": [
    "joker1 = JokerCard(3)\n",
    "joker2 = JokerCard(3)\n",
    "test_card = Card(3, 13) # King of Spades\n",
    "print(joker1, joker1.suit, joker1.rank)"
   ]
  },
  {
   "cell_type": "code",
   "execution_count": 52,
   "id": "243b8e73-9cfa-41ec-bd99-76678e84ee93",
   "metadata": {
    "slideshow": {
     "slide_type": "fragment"
    },
    "tags": []
   },
   "outputs": [
    {
     "data": {
      "text/plain": [
       "True"
      ]
     },
     "execution_count": 52,
     "metadata": {},
     "output_type": "execute_result"
    }
   ],
   "source": [
    "joker1 > test_card"
   ]
  },
  {
   "cell_type": "code",
   "execution_count": 53,
   "id": "e5261f27-e1a2-4e12-9c6d-e5967ac0603f",
   "metadata": {
    "slideshow": {
     "slide_type": "fragment"
    },
    "tags": []
   },
   "outputs": [
    {
     "data": {
      "text/plain": [
       "True"
      ]
     },
     "execution_count": 53,
     "metadata": {},
     "output_type": "execute_result"
    }
   ],
   "source": [
    "joker1 == joker2"
   ]
  },
  {
   "cell_type": "code",
   "execution_count": 54,
   "id": "4f77a1fb-baa6-4222-9d0c-5693215eecd8",
   "metadata": {
    "slideshow": {
     "slide_type": "fragment"
    },
    "tags": []
   },
   "outputs": [
    {
     "data": {
      "text/plain": [
       "['Clubs', 'Diamonds', 'Hearts', 'Spades']"
      ]
     },
     "execution_count": 54,
     "metadata": {},
     "output_type": "execute_result"
    }
   ],
   "source": [
    "joker1.suit_names"
   ]
  },
  {
   "cell_type": "code",
   "execution_count": 55,
   "id": "7f65b531-5dd7-4f66-9a54-b7ace79aaffa",
   "metadata": {
    "slideshow": {
     "slide_type": "slide"
    },
    "tags": []
   },
   "outputs": [],
   "source": [
    "class Deck:\n",
    "    def __init__(self):\n",
    "        self.cards = []\n",
    "        for suit in range(4):\n",
    "            for rank in range(1,14):\n",
    "                card = Card(suit, rank)\n",
    "                self.cards.append(card)\n",
    "        self.cards.append(JokerCard(3))  # Add first Joker\n",
    "        self.cards.append(JokerCard(3))  # Add a second Joker\n",
    "        \n",
    "    def __str__(self):\n",
    "        res = []\n",
    "        for card in self.cards:\n",
    "            res.append(str(card))\n",
    "        return '\\n'.join(res)\n",
    "    \n",
    "    def pop_card(self):\n",
    "        return self.cards.pop()\n",
    "    \n",
    "    def add_card(self, card):\n",
    "        self.cards.append(card)\n",
    "    \n",
    "    def shuffle(self):\n",
    "        random.shuffle(self.cards)\n",
    "    \n",
    "    def sort(self):\n",
    "        self.cards.sort()\n",
    "        \n",
    "    def move_cards(self, hand, num):\n",
    "        for i in range(num):\n",
    "            hand.add_card(self.pop_card())"
   ]
  },
  {
   "cell_type": "code",
   "execution_count": 56,
   "id": "4f7d4594-0aa9-43fb-aa5b-d399a8f2b9b3",
   "metadata": {
    "slideshow": {
     "slide_type": "slide"
    },
    "tags": []
   },
   "outputs": [],
   "source": [
    "deck = Deck()"
   ]
  },
  {
   "cell_type": "code",
   "execution_count": 57,
   "id": "36f96b90-719b-458e-8b65-1b914d1f6468",
   "metadata": {
    "slideshow": {
     "slide_type": "fragment"
    },
    "tags": []
   },
   "outputs": [
    {
     "data": {
      "text/plain": [
       "54"
      ]
     },
     "execution_count": 57,
     "metadata": {},
     "output_type": "execute_result"
    }
   ],
   "source": [
    "len(deck.cards)"
   ]
  },
  {
   "cell_type": "code",
   "execution_count": 58,
   "id": "7faf2f52-098d-45bf-98f9-87780ba0d59b",
   "metadata": {
    "tags": []
   },
   "outputs": [
    {
     "name": "stdout",
     "output_type": "stream",
     "text": [
      "8 of Spades\n",
      "9 of Spades\n",
      "10 of Spades\n",
      "Jack of Spades\n",
      "Queen of Spades\n",
      "King of Spades\n",
      "Joker\n",
      "Joker\n"
     ]
    }
   ],
   "source": [
    "print(str(deck)[-94:])"
   ]
  },
  {
   "cell_type": "code",
   "execution_count": 59,
   "id": "69245e2f-8f26-4e92-b77a-de095c6fc829",
   "metadata": {
    "slideshow": {
     "slide_type": "slide"
    },
    "tags": []
   },
   "outputs": [],
   "source": [
    "deck.shuffle()"
   ]
  },
  {
   "cell_type": "code",
   "execution_count": 60,
   "id": "22989dd4-dbfc-4ecf-8ae4-e5e487cf8ac5",
   "metadata": {
    "slideshow": {
     "slide_type": "fragment"
    },
    "tags": []
   },
   "outputs": [
    {
     "name": "stdout",
     "output_type": "stream",
     "text": [
      "Clubs\n",
      "Ace of Spades\n",
      "10 of Diamonds\n",
      "3 of Hearts\n",
      "3 of Clubs\n",
      "9 of Clubs\n",
      "Ace of Hearts\n",
      "5 of Hearts\n"
     ]
    }
   ],
   "source": [
    "print(str(deck)[-94:])"
   ]
  },
  {
   "cell_type": "code",
   "execution_count": 61,
   "id": "7f624c02-c10b-46b1-be69-09b046f52e2e",
   "metadata": {
    "slideshow": {
     "slide_type": "fragment"
    },
    "tags": []
   },
   "outputs": [
    {
     "name": "stdout",
     "output_type": "stream",
     "text": [
      "8 of Spades\n",
      "9 of Spades\n",
      "10 of Spades\n",
      "Jack of Spades\n",
      "Queen of Spades\n",
      "King of Spades\n",
      "Joker\n",
      "Joker\n"
     ]
    }
   ],
   "source": [
    "deck.sort()\n",
    "print(str(deck)[-94:])"
   ]
  },
  {
   "cell_type": "markdown",
   "id": "3f3c304b-e150-4c98-8ee5-59a15df8c61c",
   "metadata": {
    "slideshow": {
     "slide_type": "slide"
    },
    "tags": []
   },
   "source": [
    "## Making the class behave like a list or container:\n",
    "\n",
    "https://docs.python.org/3/reference/datamodel.html#emulating-container-types\n",
    "\n",
    "We can take the class and allow the user to slice the object as well as perform iteration.\n",
    "\n",
    "This is achieved with the dunder method: `__getitem__(self, key)` which tells Python what to do when a particular position is requested from the class object. It's purpose in a class is to access items using the square bracket notation (think list, tuple, dictionary for example)\n",
    "\n",
    "In our case, we will use the `key` as an index `position`. We return the card located in the requested `[position]` from the `self.cards` list.\n",
    "\n",
    "```\n",
    "    def __getitem__(self, position):\n",
    "        return self.cards[position]\n",
    "```"
   ]
  },
  {
   "cell_type": "code",
   "execution_count": 62,
   "id": "27bff7c9-0e35-4991-be4e-87cd5eb9b741",
   "metadata": {
    "slideshow": {
     "slide_type": "slide"
    }
   },
   "outputs": [],
   "source": [
    "class Deck:\n",
    "    def __init__(self):\n",
    "        self.cards = []\n",
    "        for suit in range(4):\n",
    "            for rank in range(1,14):\n",
    "                card = Card(suit, rank)\n",
    "                self.cards.append(card)\n",
    "    def __str__(self):\n",
    "        res = []\n",
    "        for card in self.cards:\n",
    "            res.append(str(card))\n",
    "        return '\\n'.join(res)\n",
    "    \n",
    "    def __len__(self):\n",
    "        return len(self.cards)\n",
    "    \n",
    "    def __getitem__(self, position):\n",
    "        return self.cards[position]\n",
    "    \n",
    "    def pop_card(self):\n",
    "        return self.cards.pop()\n",
    "    \n",
    "    def add_card(self, card):\n",
    "        self.cards.append(card)\n",
    "    \n",
    "    def shuffle(self):\n",
    "        random.shuffle(self.cards)\n",
    "    \n",
    "    def sort(self):\n",
    "        self.cards.sort()\n",
    "        \n",
    "    def move_cards(self, hand, num):\n",
    "        for i in range(num):\n",
    "            hand.add_card(self.pop_card())"
   ]
  },
  {
   "cell_type": "code",
   "execution_count": 63,
   "id": "cf6aec7c-1587-42f4-8451-0c0c1672fe73",
   "metadata": {
    "slideshow": {
     "slide_type": "slide"
    },
    "tags": []
   },
   "outputs": [
    {
     "name": "stdout",
     "output_type": "stream",
     "text": [
      "Ace of Clubs\n",
      "2 of Clubs\n",
      "3 of Clubs\n",
      "4 of Clubs\n",
      "5 of Clubs\n",
      "6 of Clubs\n",
      "7 of Clubs\n",
      "8 of Clubs\n",
      "9 of Clubs\n",
      "10 of Clubs\n",
      "Jack of Clubs\n",
      "Queen of Clubs\n",
      "King of Clubs\n",
      "Ace of Diamonds\n",
      "2 of Diamonds\n",
      "3 of Diamonds\n",
      "4 of Diamonds\n",
      "5 of Diamonds\n",
      "6 of Diamonds\n",
      "7 of Diamonds\n",
      "8 of Diamonds\n",
      "9 of Diamonds\n",
      "10 of Diamonds\n",
      "Jack of Diamonds\n",
      "Queen of Diamonds\n",
      "King of Diamonds\n",
      "Ace of Hearts\n",
      "2 of Hearts\n",
      "3 of Hearts\n",
      "4 of Hearts\n",
      "5 of Hearts\n",
      "6 of Hearts\n",
      "7 of Hearts\n",
      "8 of Hearts\n",
      "9 of Hearts\n",
      "10 of Hearts\n",
      "Jack of Hearts\n",
      "Queen of Hearts\n",
      "King of Hearts\n",
      "Ace of Spades\n",
      "2 of Spades\n",
      "3 of Spades\n",
      "4 of Spades\n",
      "5 of Spades\n",
      "6 of Spades\n",
      "7 of Spades\n",
      "8 of Spades\n",
      "9 of Spades\n",
      "10 of Spades\n",
      "Jack of Spades\n",
      "Queen of Spades\n",
      "King of Spades\n"
     ]
    }
   ],
   "source": [
    "deck = Deck()\n",
    "print(deck)"
   ]
  },
  {
   "cell_type": "code",
   "execution_count": 64,
   "id": "cfd4b0a7-ada6-469c-8de4-b919d1704403",
   "metadata": {
    "slideshow": {
     "slide_type": "slide"
    },
    "tags": []
   },
   "outputs": [
    {
     "data": {
      "text/plain": [
       "[Card(0, 1),\n",
       " Card(0, 2),\n",
       " Card(0, 3),\n",
       " Card(0, 4),\n",
       " Card(0, 5),\n",
       " Card(0, 6),\n",
       " Card(0, 7),\n",
       " Card(0, 8)]"
      ]
     },
     "execution_count": 64,
     "metadata": {},
     "output_type": "execute_result"
    }
   ],
   "source": [
    "# We can now perform slicing\n",
    "deck[0:8]"
   ]
  },
  {
   "cell_type": "code",
   "execution_count": 65,
   "id": "6551f140-216b-4d33-8a0b-b08a968a0563",
   "metadata": {
    "slideshow": {
     "slide_type": "fragment"
    },
    "tags": []
   },
   "outputs": [
    {
     "name": "stdout",
     "output_type": "stream",
     "text": [
      "Ace of Clubs\n",
      "2 of Clubs\n",
      "3 of Clubs\n",
      "4 of Clubs\n",
      "5 of Clubs\n",
      "6 of Clubs\n",
      "7 of Clubs\n",
      "8 of Clubs\n"
     ]
    }
   ],
   "source": [
    "# We can also perform iteration\n",
    "for item in deck[0:8]:\n",
    "    print(item)"
   ]
  },
  {
   "cell_type": "markdown",
   "id": "c7420b2f-89c8-4e7e-82f0-0e4bd5ae453c",
   "metadata": {
    "slideshow": {
     "slide_type": "slide"
    },
    "tags": []
   },
   "source": [
    "With `__getitem__` implemented, all of the slicing rules now work with our Class:"
   ]
  },
  {
   "cell_type": "code",
   "execution_count": 66,
   "id": "250ae642-8462-4d0c-bf9e-755d76295685",
   "metadata": {},
   "outputs": [
    {
     "data": {
      "text/plain": [
       "[Card(0, 13), Card(1, 13), Card(2, 13), Card(3, 13)]"
      ]
     },
     "execution_count": 66,
     "metadata": {},
     "output_type": "execute_result"
    }
   ],
   "source": [
    "# I select the index-12th card, the King of clubs and get every 13th card after:\n",
    "deck[12::13]"
   ]
  },
  {
   "cell_type": "code",
   "execution_count": 67,
   "id": "d64b0e27-f65b-4999-8b95-de7dc1384ae9",
   "metadata": {
    "slideshow": {
     "slide_type": "fragment"
    },
    "tags": []
   },
   "outputs": [
    {
     "name": "stdout",
     "output_type": "stream",
     "text": [
      "King of Clubs\n",
      "King of Diamonds\n",
      "King of Hearts\n",
      "King of Spades\n"
     ]
    }
   ],
   "source": [
    "for item in deck[12::13]:\n",
    "    print(item)"
   ]
  },
  {
   "cell_type": "code",
   "execution_count": 68,
   "id": "c53f6541-704e-489d-b62c-281763313712",
   "metadata": {
    "slideshow": {
     "slide_type": "slide"
    },
    "tags": []
   },
   "outputs": [],
   "source": [
    "class Hand(Deck):\n",
    "    def __init__(self, label = \"\"):\n",
    "        self.cards = []\n",
    "        self.label = label"
   ]
  },
  {
   "cell_type": "code",
   "execution_count": 69,
   "id": "10085652-f9d3-4c54-a616-f41033299b34",
   "metadata": {
    "slideshow": {
     "slide_type": "fragment"
    },
    "tags": []
   },
   "outputs": [],
   "source": [
    "deck = Deck()\n",
    "deck.shuffle()\n",
    "hand = Hand('new hand')\n",
    "deck.move_cards(hand, 5)"
   ]
  },
  {
   "cell_type": "code",
   "execution_count": 70,
   "id": "f9737cd9-5364-4fb7-9370-72f03a8ca80e",
   "metadata": {
    "slideshow": {
     "slide_type": "fragment"
    },
    "tags": []
   },
   "outputs": [
    {
     "name": "stdout",
     "output_type": "stream",
     "text": [
      "4 of Hearts\n",
      "8 of Hearts\n",
      "5 of Spades\n",
      "7 of Spades\n",
      "8 of Spades\n"
     ]
    }
   ],
   "source": [
    "# sorted arranges by suit\n",
    "for card in sorted(hand):\n",
    "    print(card)"
   ]
  },
  {
   "cell_type": "code",
   "execution_count": 71,
   "id": "391a84c6-2924-4f64-8ff3-4fcd8660f3f1",
   "metadata": {
    "slideshow": {
     "slide_type": "fragment"
    },
    "tags": []
   },
   "outputs": [
    {
     "name": "stdout",
     "output_type": "stream",
     "text": [
      "8 of Hearts\n",
      "5 of Spades\n",
      "7 of Spades\n",
      "4 of Hearts\n",
      "8 of Spades\n"
     ]
    }
   ],
   "source": [
    "print(hand) # original hand is left unchanged"
   ]
  },
  {
   "cell_type": "markdown",
   "id": "a1d99cbe-64be-4bbc-83bc-9a3be77471e0",
   "metadata": {
    "slideshow": {
     "slide_type": "slide"
    },
    "tags": []
   },
   "source": [
    "## set item\n",
    "\n",
    "The `__setitem__` method allows you to set items in the Class.\n",
    "\n",
    "In our case, we can use it to assign a particular Card object to a particular position in the list of cards. \n",
    "\n",
    "```\n",
    "    def __setitem__(self, key, value):\n",
    "        self.cards[key] = value\n",
    "```"
   ]
  },
  {
   "cell_type": "markdown",
   "id": "b43aad7e-d27f-46f7-a52f-6863ad247fbb",
   "metadata": {},
   "source": [
    "Functions like `random.shuffle()` use the `__setitem__` method to rearrange the objects.    Typically hen an item assignment is made using square bracket notation, Python calls the __setitem__ method. This allows your object to respond to statements like obj[index] = value.\n",
    "\n",
    "Now, with `__setitem__` implemented, we can get rid of our `deck.shuffle()` method and use instead the `shuffle()` function from the random module."
   ]
  },
  {
   "cell_type": "code",
   "execution_count": 72,
   "id": "fe7b00fc-ba28-40c1-b184-9f96315476e4",
   "metadata": {
    "slideshow": {
     "slide_type": "slide"
    }
   },
   "outputs": [],
   "source": [
    "class Deck:\n",
    "    def __init__(self):\n",
    "        self.cards = []\n",
    "        for suit in range(4):\n",
    "            for rank in range(1,14):\n",
    "                card = Card(suit, rank)\n",
    "                self.cards.append(card)\n",
    "    def __str__(self):\n",
    "        res = []\n",
    "        for card in self.cards:\n",
    "            res.append(str(card))\n",
    "        return '\\n'.join(res)\n",
    "    \n",
    "    def __len__(self):\n",
    "        return len(self.cards)\n",
    "    \n",
    "    def __getitem__(self, position):\n",
    "        return self.cards[position]\n",
    "    \n",
    "    def __setitem__(self, key, value):\n",
    "        self.cards[key] = value\n",
    "    \n",
    "    def pop_card(self):\n",
    "        return self.cards.pop()\n",
    "    \n",
    "    def add_card(self, card):\n",
    "        self.cards.append(card)\n",
    "    \n",
    "    # no longer needed:\n",
    "    # def shuffle(self):\n",
    "    #     random.shuffle(self.cards)\n",
    "    \n",
    "    def sort(self):\n",
    "         self.cards.sort()\n",
    "        \n",
    "    def move_cards(self, hand, num):\n",
    "        for i in range(num):\n",
    "            hand.add_card(self.pop_card())"
   ]
  },
  {
   "cell_type": "code",
   "execution_count": 73,
   "id": "66ff8ce9-025a-4518-806a-fb836fe7c880",
   "metadata": {
    "slideshow": {
     "slide_type": "slide"
    },
    "tags": []
   },
   "outputs": [],
   "source": [
    "deck = Deck()"
   ]
  },
  {
   "cell_type": "code",
   "execution_count": 74,
   "id": "9cbbda6d-4ade-4d32-8c8d-2854e3cd0c24",
   "metadata": {
    "slideshow": {
     "slide_type": "fragment"
    },
    "tags": []
   },
   "outputs": [
    {
     "name": "stdout",
     "output_type": "stream",
     "text": [
      "Ace of Clubs\n",
      "2 of Clubs\n",
      "3 of Clubs\n",
      "4 of Clubs\n",
      "5 of Clubs\n",
      "6 of Clubs\n",
      "7 of Clubs\n",
      "8 of Clubs\n",
      "9 of Clubs\n",
      "10 of Clubs\n"
     ]
    }
   ],
   "source": [
    "for card in deck[0:10]:\n",
    "    print(card)"
   ]
  },
  {
   "cell_type": "code",
   "execution_count": 75,
   "id": "7ce7df01-d994-4c7b-98b9-217ae10bd3ae",
   "metadata": {
    "slideshow": {
     "slide_type": "fragment"
    },
    "tags": []
   },
   "outputs": [],
   "source": [
    "random.shuffle(deck) # We can call random.shuffle() directly on deck instead of calling deck.shuffle()"
   ]
  },
  {
   "cell_type": "code",
   "execution_count": 76,
   "id": "b55f87d0-9684-4659-8a61-9c12ba01a02d",
   "metadata": {
    "slideshow": {
     "slide_type": "fragment"
    },
    "tags": []
   },
   "outputs": [
    {
     "name": "stdout",
     "output_type": "stream",
     "text": [
      "5 of Clubs\n",
      "Ace of Clubs\n",
      "5 of Diamonds\n",
      "King of Clubs\n",
      "Queen of Spades\n",
      "10 of Clubs\n",
      "10 of Hearts\n",
      "Jack of Clubs\n",
      "9 of Diamonds\n",
      "Jack of Hearts\n"
     ]
    }
   ],
   "source": [
    "for card in deck[0:10]:\n",
    "    print(card)"
   ]
  },
  {
   "cell_type": "markdown",
   "id": "03820204-b4f9-4836-b164-292a1ff9d113",
   "metadata": {
    "slideshow": {
     "slide_type": "slide"
    },
    "tags": []
   },
   "source": [
    "## Revisiting Errors\n",
    "\n",
    "- Syntax Errors are usually the result of a typo"
   ]
  },
  {
   "cell_type": "code",
   "execution_count": 77,
   "id": "48815952-6828-4fd3-8fb5-20b0edea5d42",
   "metadata": {},
   "outputs": [
    {
     "ename": "SyntaxError",
     "evalue": "invalid syntax (164501501.py, line 1)",
     "output_type": "error",
     "traceback": [
      "\u001b[0;36m  Cell \u001b[0;32mIn[77], line 1\u001b[0;36m\u001b[0m\n\u001b[0;31m    for x 10:\u001b[0m\n\u001b[0m          ^\u001b[0m\n\u001b[0;31mSyntaxError\u001b[0m\u001b[0;31m:\u001b[0m invalid syntax\n"
     ]
    }
   ],
   "source": [
    "for x 10:"
   ]
  },
  {
   "cell_type": "markdown",
   "id": "f7f2deef-fa5c-4e6c-a760-f21ec5993000",
   "metadata": {
    "slideshow": {
     "slide_type": "slide"
    },
    "tags": []
   },
   "source": [
    "or incomplete statements"
   ]
  },
  {
   "cell_type": "code",
   "execution_count": 78,
   "id": "5ab8a58c-01e2-4af6-afcd-58dcf369e461",
   "metadata": {},
   "outputs": [
    {
     "ename": "SyntaxError",
     "evalue": "incomplete input (3933446006.py, line 1)",
     "output_type": "error",
     "traceback": [
      "\u001b[0;36m  Cell \u001b[0;32mIn[78], line 1\u001b[0;36m\u001b[0m\n\u001b[0;31m    print('too dangerous'\u001b[0m\n\u001b[0m                         ^\u001b[0m\n\u001b[0;31mSyntaxError\u001b[0m\u001b[0;31m:\u001b[0m incomplete input\n"
     ]
    }
   ],
   "source": [
    "print('too dangerous'"
   ]
  },
  {
   "cell_type": "markdown",
   "id": "65758844-09da-4a6c-a2cf-d6aa84f6955e",
   "metadata": {
    "slideshow": {
     "slide_type": "slide"
    },
    "tags": []
   },
   "source": [
    "The previous slide shows us that Python can give us additional details abou the specifics of the error"
   ]
  },
  {
   "cell_type": "code",
   "execution_count": 79,
   "id": "103c1ab1-4d63-4f9f-8afa-b3982497928d",
   "metadata": {},
   "outputs": [
    {
     "ename": "SyntaxError",
     "evalue": "cannot assign to literal here. Maybe you meant '==' instead of '='? (1079947933.py, line 1)",
     "output_type": "error",
     "traceback": [
      "\u001b[0;36m  Cell \u001b[0;32mIn[79], line 1\u001b[0;36m\u001b[0m\n\u001b[0;31m    \"x\" = [1, 2, 3, 4]\u001b[0m\n\u001b[0m    ^\u001b[0m\n\u001b[0;31mSyntaxError\u001b[0m\u001b[0;31m:\u001b[0m cannot assign to literal here. Maybe you meant '==' instead of '='?\n"
     ]
    }
   ],
   "source": [
    "\"x\" = [1, 2, 3, 4]"
   ]
  },
  {
   "cell_type": "markdown",
   "id": "6991b48d-82d9-4d19-97e8-cc5942b9d511",
   "metadata": {},
   "source": [
    "Syntax Errors are returned before the code is actually run."
   ]
  },
  {
   "cell_type": "markdown",
   "id": "bd5e1c12-541c-472f-ae1a-37aea1ad052b",
   "metadata": {
    "slideshow": {
     "slide_type": "slide"
    },
    "tags": []
   },
   "source": [
    "- Execution related errors might be seen only after the Syntax Errors have been fixed"
   ]
  },
  {
   "cell_type": "code",
   "execution_count": 80,
   "id": "9f8477a4-c92a-4a4d-b47e-156fbdd4cfb0",
   "metadata": {},
   "outputs": [
    {
     "ename": "ZeroDivisionError",
     "evalue": "division by zero",
     "output_type": "error",
     "traceback": [
      "\u001b[0;31m---------------------------------------------------------------------------\u001b[0m",
      "\u001b[0;31mZeroDivisionError\u001b[0m                         Traceback (most recent call last)",
      "Cell \u001b[0;32mIn[80], line 1\u001b[0m\n\u001b[0;32m----> 1\u001b[0m price \u001b[38;5;241m=\u001b[39m \u001b[38;5;241;43m100\u001b[39;49m\u001b[38;5;241;43m/\u001b[39;49m\u001b[38;5;241;43m0\u001b[39;49m\n",
      "\u001b[0;31mZeroDivisionError\u001b[0m: division by zero"
     ]
    }
   ],
   "source": [
    "price = 100/0"
   ]
  },
  {
   "cell_type": "code",
   "execution_count": null,
   "id": "8d241707-4d09-4865-932f-7d17ffd8218a",
   "metadata": {
    "slideshow": {
     "slide_type": "slide"
    },
    "tags": []
   },
   "outputs": [],
   "source": [
    "price = 100/discount\n",
    "price = 100/0"
   ]
  },
  {
   "cell_type": "markdown",
   "id": "cdc5de81-f9cc-4cf5-8bb9-7dd8be5da6de",
   "metadata": {},
   "source": [
    "https://docs.python.org/3/library/exceptions.html#exception-hierarchy"
   ]
  },
  {
   "cell_type": "code",
   "execution_count": 81,
   "id": "781efe7a-35f1-42e8-bdc4-7a19a07f6933",
   "metadata": {
    "slideshow": {
     "slide_type": "slide"
    },
    "tags": []
   },
   "outputs": [
    {
     "ename": "NameError",
     "evalue": "name 'x' is not defined",
     "output_type": "error",
     "traceback": [
      "\u001b[0;31m---------------------------------------------------------------------------\u001b[0m",
      "\u001b[0;31mNameError\u001b[0m                                 Traceback (most recent call last)",
      "Cell \u001b[0;32mIn[81], line 1\u001b[0m\n\u001b[0;32m----> 1\u001b[0m y \u001b[38;5;241m=\u001b[39m \u001b[43mx\u001b[49m \u001b[38;5;241m+\u001b[39m \u001b[38;5;124m\"\u001b[39m\u001b[38;5;124m is my favorite number\u001b[39m\u001b[38;5;124m\"\u001b[39m\n",
      "\u001b[0;31mNameError\u001b[0m: name 'x' is not defined"
     ]
    }
   ],
   "source": [
    "y = x + \" is my favorite number\""
   ]
  },
  {
   "cell_type": "code",
   "execution_count": 82,
   "id": "fbc80427-a6cf-4969-b47a-ebb3100c1889",
   "metadata": {
    "slideshow": {
     "slide_type": "slide"
    },
    "tags": []
   },
   "outputs": [
    {
     "ename": "IndexError",
     "evalue": "list index out of range",
     "output_type": "error",
     "traceback": [
      "\u001b[0;31m---------------------------------------------------------------------------\u001b[0m",
      "\u001b[0;31mIndexError\u001b[0m                                Traceback (most recent call last)",
      "Cell \u001b[0;32mIn[82], line 2\u001b[0m\n\u001b[1;32m      1\u001b[0m x \u001b[38;5;241m=\u001b[39m [\u001b[38;5;241m1\u001b[39m, \u001b[38;5;241m2\u001b[39m, \u001b[38;5;241m3\u001b[39m, \u001b[38;5;241m4\u001b[39m]\n\u001b[0;32m----> 2\u001b[0m \u001b[43mx\u001b[49m\u001b[43m[\u001b[49m\u001b[38;5;241;43m4\u001b[39;49m\u001b[43m]\u001b[49m  \u001b[38;5;66;03m# forgetting i'm in Python...\u001b[39;00m\n",
      "\u001b[0;31mIndexError\u001b[0m: list index out of range"
     ]
    }
   ],
   "source": [
    "x = [1, 2, 3, 4]\n",
    "x[4]  # forgetting i'm in Python..."
   ]
  },
  {
   "cell_type": "code",
   "execution_count": 83,
   "id": "ac58c275-8228-495b-92ed-cd9efad977cf",
   "metadata": {
    "jupyter": {
     "source_hidden": true
    },
    "slideshow": {
     "slide_type": "slide"
    },
    "tags": []
   },
   "outputs": [
    {
     "ename": "SyntaxError",
     "evalue": "invalid syntax (2804193263.py, line 1)",
     "output_type": "error",
     "traceback": [
      "\u001b[0;36m  Cell \u001b[0;32mIn[83], line 1\u001b[0;36m\u001b[0m\n\u001b[0;31m    - Indentation error\u001b[0m\n\u001b[0m                  ^\u001b[0m\n\u001b[0;31mSyntaxError\u001b[0m\u001b[0;31m:\u001b[0m invalid syntax\n"
     ]
    }
   ],
   "source": [
    "- Indentation error"
   ]
  },
  {
   "cell_type": "code",
   "execution_count": 84,
   "id": "ff0e1ab5-b82a-44fd-b7a9-179a0a48a279",
   "metadata": {
    "slideshow": {
     "slide_type": "slide"
    },
    "tags": []
   },
   "outputs": [
    {
     "ename": "IndentationError",
     "evalue": "expected an indented block after 'if' statement on line 1 (1398940082.py, line 2)",
     "output_type": "error",
     "traceback": [
      "\u001b[0;36m  Cell \u001b[0;32mIn[84], line 2\u001b[0;36m\u001b[0m\n\u001b[0;31m    print('too dangerous')\u001b[0m\n\u001b[0m    ^\u001b[0m\n\u001b[0;31mIndentationError\u001b[0m\u001b[0;31m:\u001b[0m expected an indented block after 'if' statement on line 1\n"
     ]
    }
   ],
   "source": [
    "if x > 50:\n",
    "print('too dangerous')"
   ]
  },
  {
   "cell_type": "markdown",
   "id": "06d32796-e1d1-4c1e-b35e-c640525747b8",
   "metadata": {
    "slideshow": {
     "slide_type": "slide"
    },
    "tags": []
   },
   "source": [
    "- attribute or method related errors"
   ]
  },
  {
   "cell_type": "code",
   "execution_count": 85,
   "id": "6f532cf2-797a-4b08-a236-68943e7df9e0",
   "metadata": {},
   "outputs": [
    {
     "ename": "AttributeError",
     "evalue": "'list' object has no attribute 'mean'",
     "output_type": "error",
     "traceback": [
      "\u001b[0;31m---------------------------------------------------------------------------\u001b[0m",
      "\u001b[0;31mAttributeError\u001b[0m                            Traceback (most recent call last)",
      "Cell \u001b[0;32mIn[85], line 2\u001b[0m\n\u001b[1;32m      1\u001b[0m x \u001b[38;5;241m=\u001b[39m [\u001b[38;5;241m1\u001b[39m, \u001b[38;5;241m2\u001b[39m, \u001b[38;5;241m3\u001b[39m, \u001b[38;5;241m4\u001b[39m]\n\u001b[0;32m----> 2\u001b[0m \u001b[43mx\u001b[49m\u001b[38;5;241;43m.\u001b[39;49m\u001b[43mmean\u001b[49m()\n",
      "\u001b[0;31mAttributeError\u001b[0m: 'list' object has no attribute 'mean'"
     ]
    }
   ],
   "source": [
    "x = [1, 2, 3, 4]\n",
    "x.mean()"
   ]
  },
  {
   "cell_type": "markdown",
   "id": "716dcfd0-52a5-4889-a21a-fde731d0c3f9",
   "metadata": {
    "slideshow": {
     "slide_type": "slide"
    },
    "tags": []
   },
   "source": [
    "- traceback - this can help us diagnose the problem\n",
    "- typically read from the end to the start"
   ]
  },
  {
   "cell_type": "code",
   "execution_count": 86,
   "id": "775636fb-bff5-4d6e-91a7-e3edaf80dd99",
   "metadata": {},
   "outputs": [
    {
     "ename": "KeyError",
     "evalue": "'name'",
     "output_type": "error",
     "traceback": [
      "\u001b[0;31m---------------------------------------------------------------------------\u001b[0m",
      "\u001b[0;31mKeyError\u001b[0m                                  Traceback (most recent call last)",
      "Cell \u001b[0;32mIn[86], line 3\u001b[0m\n\u001b[1;32m      1\u001b[0m my_dict \u001b[38;5;241m=\u001b[39m {\u001b[38;5;124m\"\u001b[39m\u001b[38;5;124mid\u001b[39m\u001b[38;5;124m\"\u001b[39m: \u001b[38;5;124m\"\u001b[39m\u001b[38;5;124m000-000-000\u001b[39m\u001b[38;5;124m\"\u001b[39m,\n\u001b[1;32m      2\u001b[0m            \u001b[38;5;124m\"\u001b[39m\u001b[38;5;124myr\u001b[39m\u001b[38;5;124m\"\u001b[39m: \u001b[38;5;124m\"\u001b[39m\u001b[38;5;124m4th\u001b[39m\u001b[38;5;124m\"\u001b[39m}\n\u001b[0;32m----> 3\u001b[0m \u001b[43mmy_dict\u001b[49m\u001b[43m[\u001b[49m\u001b[38;5;124;43m\"\u001b[39;49m\u001b[38;5;124;43mname\u001b[39;49m\u001b[38;5;124;43m\"\u001b[39;49m\u001b[43m]\u001b[49m\n",
      "\u001b[0;31mKeyError\u001b[0m: 'name'"
     ]
    }
   ],
   "source": [
    "my_dict = {\"id\": \"000-000-000\",\n",
    "           \"yr\": \"4th\"}\n",
    "my_dict[\"name\"]"
   ]
  },
  {
   "cell_type": "markdown",
   "id": "99bd1481-5ca1-40e0-adf6-c6bca60a95af",
   "metadata": {
    "slideshow": {
     "slide_type": "slide"
    },
    "tags": []
   },
   "source": [
    "- here is a file reference error"
   ]
  },
  {
   "cell_type": "code",
   "execution_count": 87,
   "id": "f13e99f0-e982-4ac4-9b66-50bf085b6e67",
   "metadata": {},
   "outputs": [
    {
     "ename": "FileNotFoundError",
     "evalue": "[Errno 2] No such file or directory: 'my_prog.py'",
     "output_type": "error",
     "traceback": [
      "\u001b[0;31m---------------------------------------------------------------------------\u001b[0m",
      "\u001b[0;31mFileNotFoundError\u001b[0m                         Traceback (most recent call last)",
      "Cell \u001b[0;32mIn[87], line 1\u001b[0m\n\u001b[0;32m----> 1\u001b[0m \u001b[38;5;28;01mwith\u001b[39;00m \u001b[38;5;28;43mopen\u001b[39;49m\u001b[43m(\u001b[49m\u001b[38;5;124;43m\"\u001b[39;49m\u001b[38;5;124;43mmy_prog.py\u001b[39;49m\u001b[38;5;124;43m\"\u001b[39;49m\u001b[43m)\u001b[49m:\n\u001b[1;32m      2\u001b[0m     \u001b[38;5;28mprint\u001b[39m(prog)\n",
      "File \u001b[0;32m~/my_venv/lib/python3.10/site-packages/IPython/core/interactiveshell.py:284\u001b[0m, in \u001b[0;36m_modified_open\u001b[0;34m(file, *args, **kwargs)\u001b[0m\n\u001b[1;32m    277\u001b[0m \u001b[38;5;28;01mif\u001b[39;00m file \u001b[38;5;129;01min\u001b[39;00m {\u001b[38;5;241m0\u001b[39m, \u001b[38;5;241m1\u001b[39m, \u001b[38;5;241m2\u001b[39m}:\n\u001b[1;32m    278\u001b[0m     \u001b[38;5;28;01mraise\u001b[39;00m \u001b[38;5;167;01mValueError\u001b[39;00m(\n\u001b[1;32m    279\u001b[0m         \u001b[38;5;124mf\u001b[39m\u001b[38;5;124m\"\u001b[39m\u001b[38;5;124mIPython won\u001b[39m\u001b[38;5;124m'\u001b[39m\u001b[38;5;124mt let you open fd=\u001b[39m\u001b[38;5;132;01m{\u001b[39;00mfile\u001b[38;5;132;01m}\u001b[39;00m\u001b[38;5;124m by default \u001b[39m\u001b[38;5;124m\"\u001b[39m\n\u001b[1;32m    280\u001b[0m         \u001b[38;5;124m\"\u001b[39m\u001b[38;5;124mas it is likely to crash IPython. If you know what you are doing, \u001b[39m\u001b[38;5;124m\"\u001b[39m\n\u001b[1;32m    281\u001b[0m         \u001b[38;5;124m\"\u001b[39m\u001b[38;5;124myou can use builtins\u001b[39m\u001b[38;5;124m'\u001b[39m\u001b[38;5;124m open.\u001b[39m\u001b[38;5;124m\"\u001b[39m\n\u001b[1;32m    282\u001b[0m     )\n\u001b[0;32m--> 284\u001b[0m \u001b[38;5;28;01mreturn\u001b[39;00m \u001b[43mio_open\u001b[49m\u001b[43m(\u001b[49m\u001b[43mfile\u001b[49m\u001b[43m,\u001b[49m\u001b[43m \u001b[49m\u001b[38;5;241;43m*\u001b[39;49m\u001b[43margs\u001b[49m\u001b[43m,\u001b[49m\u001b[43m \u001b[49m\u001b[38;5;241;43m*\u001b[39;49m\u001b[38;5;241;43m*\u001b[39;49m\u001b[43mkwargs\u001b[49m\u001b[43m)\u001b[49m\n",
      "\u001b[0;31mFileNotFoundError\u001b[0m: [Errno 2] No such file or directory: 'my_prog.py'"
     ]
    }
   ],
   "source": [
    "with open(\"my_prog.py\"):\n",
    "    print(prog)"
   ]
  },
  {
   "cell_type": "code",
   "execution_count": 88,
   "id": "ebbad1fd-f4af-4116-9784-ae3141a7a71d",
   "metadata": {
    "slideshow": {
     "slide_type": "slide"
    },
    "tags": []
   },
   "outputs": [
    {
     "ename": "ModuleNotFoundError",
     "evalue": "No module named 'numpi'",
     "output_type": "error",
     "traceback": [
      "\u001b[0;31m---------------------------------------------------------------------------\u001b[0m",
      "\u001b[0;31mModuleNotFoundError\u001b[0m                       Traceback (most recent call last)",
      "Cell \u001b[0;32mIn[88], line 1\u001b[0m\n\u001b[0;32m----> 1\u001b[0m \u001b[38;5;28;01mimport\u001b[39;00m \u001b[38;5;21;01mnumpi\u001b[39;00m\n",
      "\u001b[0;31mModuleNotFoundError\u001b[0m: No module named 'numpi'"
     ]
    }
   ],
   "source": [
    "import numpi"
   ]
  },
  {
   "cell_type": "markdown",
   "id": "d336e9ac-47d3-46e6-b736-f984fadbb608",
   "metadata": {
    "slideshow": {
     "slide_type": "slide"
    }
   },
   "source": [
    "## Catching Exceptions\n",
    "\n",
    "- When dealing with files, and also just in programming in general, a lot of things can go wrong and Python will throw an exception.\n",
    "\n",
    "- Exceptions allow us to focus on programming in a larger organization, as opposed to building the error-handling into every function.\n",
    "\n",
    "- You can often catch many of the exceptions with `try ... except` which works in a manner similar to `if ... else`"
   ]
  },
  {
   "cell_type": "code",
   "execution_count": 89,
   "id": "d3067f34-8f85-4636-bb67-b1e92b816adb",
   "metadata": {
    "slideshow": {
     "slide_type": "fragment"
    },
    "tags": [
     "raises-exception"
    ]
   },
   "outputs": [
    {
     "ename": "FileNotFoundError",
     "evalue": "[Errno 2] No such file or directory: 'bad_file'",
     "output_type": "error",
     "traceback": [
      "\u001b[0;31m---------------------------------------------------------------------------\u001b[0m",
      "\u001b[0;31mFileNotFoundError\u001b[0m                         Traceback (most recent call last)",
      "Cell \u001b[0;32mIn[89], line 1\u001b[0m\n\u001b[0;32m----> 1\u001b[0m fin \u001b[38;5;241m=\u001b[39m \u001b[38;5;28;43mopen\u001b[39;49m\u001b[43m(\u001b[49m\u001b[38;5;124;43m'\u001b[39;49m\u001b[38;5;124;43mbad_file\u001b[39;49m\u001b[38;5;124;43m'\u001b[39;49m\u001b[43m)\u001b[49m\n",
      "File \u001b[0;32m~/my_venv/lib/python3.10/site-packages/IPython/core/interactiveshell.py:284\u001b[0m, in \u001b[0;36m_modified_open\u001b[0;34m(file, *args, **kwargs)\u001b[0m\n\u001b[1;32m    277\u001b[0m \u001b[38;5;28;01mif\u001b[39;00m file \u001b[38;5;129;01min\u001b[39;00m {\u001b[38;5;241m0\u001b[39m, \u001b[38;5;241m1\u001b[39m, \u001b[38;5;241m2\u001b[39m}:\n\u001b[1;32m    278\u001b[0m     \u001b[38;5;28;01mraise\u001b[39;00m \u001b[38;5;167;01mValueError\u001b[39;00m(\n\u001b[1;32m    279\u001b[0m         \u001b[38;5;124mf\u001b[39m\u001b[38;5;124m\"\u001b[39m\u001b[38;5;124mIPython won\u001b[39m\u001b[38;5;124m'\u001b[39m\u001b[38;5;124mt let you open fd=\u001b[39m\u001b[38;5;132;01m{\u001b[39;00mfile\u001b[38;5;132;01m}\u001b[39;00m\u001b[38;5;124m by default \u001b[39m\u001b[38;5;124m\"\u001b[39m\n\u001b[1;32m    280\u001b[0m         \u001b[38;5;124m\"\u001b[39m\u001b[38;5;124mas it is likely to crash IPython. If you know what you are doing, \u001b[39m\u001b[38;5;124m\"\u001b[39m\n\u001b[1;32m    281\u001b[0m         \u001b[38;5;124m\"\u001b[39m\u001b[38;5;124myou can use builtins\u001b[39m\u001b[38;5;124m'\u001b[39m\u001b[38;5;124m open.\u001b[39m\u001b[38;5;124m\"\u001b[39m\n\u001b[1;32m    282\u001b[0m     )\n\u001b[0;32m--> 284\u001b[0m \u001b[38;5;28;01mreturn\u001b[39;00m \u001b[43mio_open\u001b[49m\u001b[43m(\u001b[49m\u001b[43mfile\u001b[49m\u001b[43m,\u001b[49m\u001b[43m \u001b[49m\u001b[38;5;241;43m*\u001b[39;49m\u001b[43margs\u001b[49m\u001b[43m,\u001b[49m\u001b[43m \u001b[49m\u001b[38;5;241;43m*\u001b[39;49m\u001b[38;5;241;43m*\u001b[39;49m\u001b[43mkwargs\u001b[49m\u001b[43m)\u001b[49m\n",
      "\u001b[0;31mFileNotFoundError\u001b[0m: [Errno 2] No such file or directory: 'bad_file'"
     ]
    }
   ],
   "source": [
    "fin = open('bad_file')"
   ]
  },
  {
   "cell_type": "code",
   "execution_count": 90,
   "id": "d8a94268-a030-437a-8152-97f0f71e629d",
   "metadata": {
    "slideshow": {
     "slide_type": "slide"
    },
    "tags": []
   },
   "outputs": [
    {
     "name": "stdout",
     "output_type": "stream",
     "text": [
      "Something went wrong.\n"
     ]
    }
   ],
   "source": [
    "try:\n",
    "    fin = open('bad_file')\n",
    "except:\n",
    "    print('Something went wrong.')"
   ]
  },
  {
   "cell_type": "markdown",
   "id": "d61a2d71-ecf4-419f-962c-db044f1eb045",
   "metadata": {
    "slideshow": {
     "slide_type": "fragment"
    }
   },
   "source": [
    "Python first tries the commands in the `try:` block. If everything goes well, it skips the commands in the `except:` block. If it encounters an exception in the `try` block, it immediately exits the block and executes the code in the `except` block.\n"
   ]
  },
  {
   "cell_type": "markdown",
   "id": "ffd607e4-966d-44b1-98d4-64b9afcfa9e8",
   "metadata": {
    "slideshow": {
     "slide_type": "slide"
    },
    "tags": []
   },
   "source": [
    "<h1> Statistics 21 <br/> Have an Excellent Weekend! </h1>"
   ]
  },
  {
   "cell_type": "markdown",
   "id": "794d47f5-350f-4781-a486-03a9f97a2eb2",
   "metadata": {
    "slideshow": {
     "slide_type": "-"
    },
    "tags": []
   },
   "source": [
    "<script>\n",
    "    setBackgroundImage('Window1.jpg', 'black');\n",
    "</script>"
   ]
  }
 ],
 "metadata": {
  "kernelspec": {
   "display_name": "Python 3 (ipykernel)",
   "language": "python",
   "name": "python3"
  },
  "language_info": {
   "codemirror_mode": {
    "name": "ipython",
    "version": 3
   },
   "file_extension": ".py",
   "mimetype": "text/x-python",
   "name": "python",
   "nbconvert_exporter": "python",
   "pygments_lexer": "ipython3",
   "version": "3.10.8"
  }
 },
 "nbformat": 4,
 "nbformat_minor": 5
}
