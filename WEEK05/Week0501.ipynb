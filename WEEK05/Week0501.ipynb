{
 "cells": [
  {
   "cell_type": "raw",
   "metadata": {},
   "source": [
    "<script>\n",
    "    function findAncestor (el, name) {\n",
    "        while ((el = el.parentElement) && el.nodeName.toLowerCase() !== name);\n",
    "        return el;\n",
    "    }\n",
    "    function colorAll(el, textColor) {\n",
    "        el.style.color = textColor;\n",
    "        Array.from(el.children).forEach((e) => {colorAll(e, textColor);});\n",
    "    }\n",
    "    function setBackgroundImage(src, textColor) {\n",
    "        var section = findAncestor(document.currentScript, \"section\");\n",
    "        if (section) {\n",
    "            section.setAttribute(\"data-background-image\", src);\n",
    "\t\t\tif (textColor) colorAll(section, textColor);\n",
    "        }\n",
    "    }\n",
    "</script>"
   ]
  },
  {
   "cell_type": "raw",
   "metadata": {},
   "source": [
    "<style>\n",
    "h1 {\n",
    "  border: 1.5px solid #333;\n",
    "  padding: 8px 12px;\n",
    "  background-image: linear-gradient(#2774AE,#ebf8e1, #FFD100);\n",
    "  position: static;\n",
    "}\n",
    "</style>"
   ]
  },
  {
   "cell_type": "markdown",
   "metadata": {},
   "source": [
    "<h1 style='color:white'> Statistics 21 <br/> Python & Other Technologies for Data Science </h1>\n",
    "\n",
    "<h3 style='color:white'>Vivian Lew, PhD - Wednesday, Week 5</h3>"
   ]
  },
  {
   "cell_type": "raw",
   "metadata": {},
   "source": [
    "<script>\n",
    "    setBackgroundImage(\"Window1.jpg\");\n",
    "</script>"
   ]
  },
  {
   "cell_type": "markdown",
   "metadata": {
    "slideshow": {
     "slide_type": "slide"
    }
   },
   "source": [
    "# Pandas Basics\n",
    "\n",
    "## Week 5 Wednesday\n",
    "\n",
    "## Adapted from Pandas in Action by B.Pashkaver and Python for Data Analysis by W. McKinney"
   ]
  },
  {
   "cell_type": "markdown",
   "metadata": {
    "slideshow": {
     "slide_type": "slide"
    },
    "tags": []
   },
   "source": [
    "# Pandas\n",
    "\n",
    "- Started in 2008 with a developer's frustration with both Excel and R.  Released in December 2009.\n",
    "- Wanted to address two problems: data cleaning and aggregation\n",
    "- Selected Python - needed little code to express a complex idea and it was easy to read\n",
    "- Others have built extensively on top of that beginning\n",
    "- Many believe the growth of Python is rooted in Pandas\n",
    "\n"
   ]
  },
  {
   "cell_type": "markdown",
   "metadata": {
    "slideshow": {
     "slide_type": "slide"
    },
    "tags": []
   },
   "source": [
    "## Pandas (cont'd)\n",
    "\n",
    "- The skill set for using something like dplyr in R is the same so the move to Pandas is easy\n",
    "- Have a plan\n",
    "- Program the correct inputs in the proper order\n",
    "- Identify the correct function you need to complete an action\n",
    "- Pandas is powerful and flexible\n"
   ]
  },
  {
   "cell_type": "markdown",
   "metadata": {
    "slideshow": {
     "slide_type": "slide"
    },
    "tags": []
   },
   "source": [
    "## Pandas (cont'd)\n",
    "\n",
    "- Pandas is built on top of NumPy, we will circle back and learn more about NumPy\n",
    "- NumPy is a numerical computing library for Python\n",
    "- Pandas was developed to extend NumPy's capabilities to include higher-level data analysis tasks\n",
    "- It allows us to have traditional tables of data where each column can be a different data type.\n",
    "\n",
    "https://pandas.pydata.org/pandas-docs/stable/reference/series.html\n",
    "\n",
    "https://pandas.pydata.org/pandas-docs/stable/reference/api/pandas.DataFrame.html"
   ]
  },
  {
   "cell_type": "markdown",
   "metadata": {
    "slideshow": {
     "slide_type": "slide"
    },
    "tags": []
   },
   "source": [
    "## Pandas (cont'd)\n",
    "\n",
    "- Pandas provides two primary data structures: Series and DataFrame. \n",
    "- A Pandas Series is a one-dimensional NumPy array with an index that can hold any data type but it must be single type. \n",
    "- A Panda Series index is just labels for each element in the Panda Series.\n",
    "- A Pandas DataFrame is a two-dimensional NumPy array with column and row labels. It is mutable and heterogenous (like R's data frames)\n",
    "- Pandas provides many functions that allow you to manipulate and analyze data in these structures and these functions are mostly built on NumPy functions."
   ]
  },
  {
   "cell_type": "markdown",
   "metadata": {
    "slideshow": {
     "slide_type": "slide"
    },
    "tags": []
   },
   "source": [
    "## an aside, SQL\n",
    "\n",
    "- SQL shares features with Pandas but has a different purpose\n",
    "- SQL is used to communicate with relational databases\n",
    "- Relational databases always great in a multi-user simultaneous access/editing environment.\n",
    "- Pandas complements a knowledge of SQL - your knowledge of SQL allows you to access the company's data and then you use Pandas to analyze it."
   ]
  },
  {
   "cell_type": "markdown",
   "metadata": {
    "slideshow": {
     "slide_type": "slide"
    },
    "tags": []
   },
   "source": [
    "## Startup\n",
    "\n",
    "ALWAYS (community agreed)"
   ]
  },
  {
   "cell_type": "code",
   "execution_count": 1,
   "metadata": {
    "tags": []
   },
   "outputs": [],
   "source": [
    "import numpy as np\n",
    "import pandas as pd"
   ]
  },
  {
   "cell_type": "markdown",
   "metadata": {},
   "source": [
    "please download the Fortune_1000_2020.csv file from the Week 5 module of BruinLearn into the same folder as your current working Jupyter notebook"
   ]
  },
  {
   "cell_type": "code",
   "execution_count": 2,
   "metadata": {
    "tags": []
   },
   "outputs": [],
   "source": [
    "# useful options\n",
    "pd.set_option('display.float_format', '{:.2f}'.format)\n",
    "#pd.set_option('display.max_rows', None) # defaults to 10\n"
   ]
  },
  {
   "cell_type": "markdown",
   "metadata": {
    "slideshow": {
     "slide_type": "slide"
    },
    "tags": []
   },
   "source": [
    "## Reading Data\n",
    "\n",
    "read_csv( ) is the basics for reading text "
   ]
  },
  {
   "cell_type": "code",
   "execution_count": 3,
   "metadata": {
    "tags": []
   },
   "outputs": [
    {
     "data": {
      "text/plain": [
       "pandas.core.frame.DataFrame"
      ]
     },
     "execution_count": 3,
     "metadata": {},
     "output_type": "execute_result"
    }
   ],
   "source": [
    "Fort_1K_20 = pd.read_csv('Fortune_1000_2020.csv')\n",
    "type(Fort_1K_20)"
   ]
  },
  {
   "cell_type": "markdown",
   "metadata": {},
   "source": [
    "- During import pandas infers the most appropriate data type for each column. \n",
    "- Sometimes it avoids making assumptions though. \n",
    "- When that happens, the data is asssigned to string.\n",
    "- String is a versatile data type as it can represent any value\n",
    "- We will work on converting things - it's part of data cleaning."
   ]
  },
  {
   "cell_type": "code",
   "execution_count": 4,
   "metadata": {
    "slideshow": {
     "slide_type": "slide"
    },
    "tags": []
   },
   "outputs": [
    {
     "data": {
      "text/html": [
       "<div>\n",
       "<style scoped>\n",
       "    .dataframe tbody tr th:only-of-type {\n",
       "        vertical-align: middle;\n",
       "    }\n",
       "\n",
       "    .dataframe tbody tr th {\n",
       "        vertical-align: top;\n",
       "    }\n",
       "\n",
       "    .dataframe thead th {\n",
       "        text-align: right;\n",
       "    }\n",
       "</style>\n",
       "<table border=\"1\" class=\"dataframe\">\n",
       "  <thead>\n",
       "    <tr style=\"text-align: right;\">\n",
       "      <th></th>\n",
       "      <th>Rank</th>\n",
       "      <th>Name</th>\n",
       "      <th>Number Of Employees</th>\n",
       "      <th>Change In Rank</th>\n",
       "      <th>Industry</th>\n",
       "      <th>Company Description</th>\n",
       "      <th>Revenues_millions</th>\n",
       "      <th>Revenue_Change</th>\n",
       "      <th>Profits_millions</th>\n",
       "      <th>Profit_Change</th>\n",
       "      <th>Assets\\n($millions)</th>\n",
       "      <th>Market Value\\nAs of 3/31/20 ($m)</th>\n",
       "    </tr>\n",
       "  </thead>\n",
       "  <tbody>\n",
       "    <tr>\n",
       "      <th>0</th>\n",
       "      <td>1</td>\n",
       "      <td>Walmart</td>\n",
       "      <td>2200000</td>\n",
       "      <td>-</td>\n",
       "      <td>Retail Company</td>\n",
       "      <td>Walmart Inc. Is An American Multinational Reta...</td>\n",
       "      <td>$523,964</td>\n",
       "      <td>1.90%</td>\n",
       "      <td>$14,881.00</td>\n",
       "      <td>123.10%</td>\n",
       "      <td>$236,495</td>\n",
       "      <td>$321,803</td>\n",
       "    </tr>\n",
       "    <tr>\n",
       "      <th>1</th>\n",
       "      <td>2</td>\n",
       "      <td>Amazon.com</td>\n",
       "      <td>798000</td>\n",
       "      <td>3</td>\n",
       "      <td>E-commerce Company</td>\n",
       "      <td>Amazon.com, Inc. Is An American Multinational ...</td>\n",
       "      <td>$280,522</td>\n",
       "      <td>20.50%</td>\n",
       "      <td>$11,588.00</td>\n",
       "      <td>15.00%</td>\n",
       "      <td>$225,248</td>\n",
       "      <td>$970,680</td>\n",
       "    </tr>\n",
       "    <tr>\n",
       "      <th>2</th>\n",
       "      <td>3</td>\n",
       "      <td>Exxon Mobil</td>\n",
       "      <td>74900</td>\n",
       "      <td>-1</td>\n",
       "      <td>Corporation</td>\n",
       "      <td>Exxon Mobil Corp. engages in the exploration, ...</td>\n",
       "      <td>$264,938</td>\n",
       "      <td>-8.70%</td>\n",
       "      <td>$14,340.00</td>\n",
       "      <td>-31.20%</td>\n",
       "      <td>$362,597</td>\n",
       "      <td>$160,696</td>\n",
       "    </tr>\n",
       "    <tr>\n",
       "      <th>3</th>\n",
       "      <td>4</td>\n",
       "      <td>Apple</td>\n",
       "      <td>137000</td>\n",
       "      <td>-1</td>\n",
       "      <td>Technology Company</td>\n",
       "      <td>Apple Inc. Is An American Multinational Techno...</td>\n",
       "      <td>$260,174</td>\n",
       "      <td>-2.00%</td>\n",
       "      <td>$55,256.00</td>\n",
       "      <td>-7.20%</td>\n",
       "      <td>$338,516</td>\n",
       "      <td>$1,112,641</td>\n",
       "    </tr>\n",
       "    <tr>\n",
       "      <th>4</th>\n",
       "      <td>5</td>\n",
       "      <td>Cvs Health</td>\n",
       "      <td>290000</td>\n",
       "      <td>3</td>\n",
       "      <td>Healthcare Company</td>\n",
       "      <td>Cvs Health Is An American Healthcare Company T...</td>\n",
       "      <td>$256,776</td>\n",
       "      <td>32.00%</td>\n",
       "      <td>$6,634.00</td>\n",
       "      <td>-</td>\n",
       "      <td>$222,449</td>\n",
       "      <td>$77,376</td>\n",
       "    </tr>\n",
       "    <tr>\n",
       "      <th>...</th>\n",
       "      <td>...</td>\n",
       "      <td>...</td>\n",
       "      <td>...</td>\n",
       "      <td>...</td>\n",
       "      <td>...</td>\n",
       "      <td>...</td>\n",
       "      <td>...</td>\n",
       "      <td>...</td>\n",
       "      <td>...</td>\n",
       "      <td>...</td>\n",
       "      <td>...</td>\n",
       "      <td>...</td>\n",
       "    </tr>\n",
       "    <tr>\n",
       "      <th>995</th>\n",
       "      <td>996</td>\n",
       "      <td>Mr. Cooper Group</td>\n",
       "      <td>9100</td>\n",
       "      <td>-</td>\n",
       "      <td>Home Loan Servicers</td>\n",
       "      <td>Mr. Cooper Group Inc. Provides Quality Servici...</td>\n",
       "      <td>$2,007</td>\n",
       "      <td>-</td>\n",
       "      <td>$274.00</td>\n",
       "      <td>-</td>\n",
       "      <td>$18,305</td>\n",
       "      <td>$674</td>\n",
       "    </tr>\n",
       "    <tr>\n",
       "      <th>996</th>\n",
       "      <td>997</td>\n",
       "      <td>Herc Holdings</td>\n",
       "      <td>5100</td>\n",
       "      <td>-4</td>\n",
       "      <td>Equipment Rental</td>\n",
       "      <td>They Are One Of The Largest Equipment Rental C...</td>\n",
       "      <td>$1,999</td>\n",
       "      <td>1.10%</td>\n",
       "      <td>$47.50</td>\n",
       "      <td>-31.30%</td>\n",
       "      <td>$3,817</td>\n",
       "      <td>$591</td>\n",
       "    </tr>\n",
       "    <tr>\n",
       "      <th>997</th>\n",
       "      <td>998</td>\n",
       "      <td>Healthpeak Properties</td>\n",
       "      <td>204</td>\n",
       "      <td>-</td>\n",
       "      <td>Real Estate Investment</td>\n",
       "      <td>Healthpeak Properties, Inc. Is A Real Estate I...</td>\n",
       "      <td>$1,997</td>\n",
       "      <td>8.20%</td>\n",
       "      <td>$45.50</td>\n",
       "      <td>-95.70%</td>\n",
       "      <td>$14,033</td>\n",
       "      <td>$12,059</td>\n",
       "    </tr>\n",
       "    <tr>\n",
       "      <th>998</th>\n",
       "      <td>999</td>\n",
       "      <td>Spx Flow</td>\n",
       "      <td>5000</td>\n",
       "      <td>-37</td>\n",
       "      <td>Pumps And Pumping Equipment</td>\n",
       "      <td>It Is A World Leader In Sustainable Solutions ...</td>\n",
       "      <td>$1,996</td>\n",
       "      <td>-4.50%</td>\n",
       "      <td>-$95.10</td>\n",
       "      <td>-316.10%</td>\n",
       "      <td>$2,437</td>\n",
       "      <td>$1,212</td>\n",
       "    </tr>\n",
       "    <tr>\n",
       "      <th>999</th>\n",
       "      <td>1000</td>\n",
       "      <td>Liberty Oilfield Services</td>\n",
       "      <td>2571</td>\n",
       "      <td>-58</td>\n",
       "      <td>Oil And Gas</td>\n",
       "      <td>Liberty Is An Innovative Service Company Provi...</td>\n",
       "      <td>$1,990</td>\n",
       "      <td>-7.60%</td>\n",
       "      <td>$39.00</td>\n",
       "      <td>-69.20%</td>\n",
       "      <td>$1,283</td>\n",
       "      <td>$303</td>\n",
       "    </tr>\n",
       "  </tbody>\n",
       "</table>\n",
       "<p>1000 rows × 12 columns</p>\n",
       "</div>"
      ],
      "text/plain": [
       "     Rank                       Name  Number Of Employees Change In Rank   \n",
       "0       1                    Walmart              2200000              -  \\\n",
       "1       2                 Amazon.com               798000              3   \n",
       "2       3                Exxon Mobil                74900             -1   \n",
       "3       4                      Apple               137000             -1   \n",
       "4       5                 Cvs Health               290000              3   \n",
       "..    ...                        ...                  ...            ...   \n",
       "995   996           Mr. Cooper Group                 9100              -   \n",
       "996   997              Herc Holdings                 5100             -4   \n",
       "997   998      Healthpeak Properties                  204              -   \n",
       "998   999                   Spx Flow                 5000            -37   \n",
       "999  1000  Liberty Oilfield Services                 2571            -58   \n",
       "\n",
       "                        Industry   \n",
       "0                 Retail Company  \\\n",
       "1             E-commerce Company   \n",
       "2                    Corporation   \n",
       "3             Technology Company   \n",
       "4             Healthcare Company   \n",
       "..                           ...   \n",
       "995          Home Loan Servicers   \n",
       "996             Equipment Rental   \n",
       "997       Real Estate Investment   \n",
       "998  Pumps And Pumping Equipment   \n",
       "999                  Oil And Gas   \n",
       "\n",
       "                                   Company Description Revenues_millions   \n",
       "0    Walmart Inc. Is An American Multinational Reta...          $523,964  \\\n",
       "1    Amazon.com, Inc. Is An American Multinational ...          $280,522   \n",
       "2    Exxon Mobil Corp. engages in the exploration, ...          $264,938   \n",
       "3    Apple Inc. Is An American Multinational Techno...          $260,174   \n",
       "4    Cvs Health Is An American Healthcare Company T...          $256,776   \n",
       "..                                                 ...               ...   \n",
       "995  Mr. Cooper Group Inc. Provides Quality Servici...            $2,007   \n",
       "996  They Are One Of The Largest Equipment Rental C...            $1,999   \n",
       "997  Healthpeak Properties, Inc. Is A Real Estate I...            $1,997   \n",
       "998  It Is A World Leader In Sustainable Solutions ...            $1,996   \n",
       "999  Liberty Is An Innovative Service Company Provi...            $1,990   \n",
       "\n",
       "    Revenue_Change Profits_millions Profit_Change Assets\\n($millions)   \n",
       "0            1.90%       $14,881.00       123.10%            $236,495  \\\n",
       "1           20.50%       $11,588.00        15.00%            $225,248   \n",
       "2           -8.70%       $14,340.00       -31.20%            $362,597   \n",
       "3           -2.00%       $55,256.00        -7.20%            $338,516   \n",
       "4           32.00%        $6,634.00             -            $222,449   \n",
       "..             ...              ...           ...                 ...   \n",
       "995              -          $274.00             -             $18,305   \n",
       "996          1.10%           $47.50       -31.30%              $3,817   \n",
       "997          8.20%           $45.50       -95.70%             $14,033   \n",
       "998         -4.50%          -$95.10      -316.10%              $2,437   \n",
       "999         -7.60%           $39.00       -69.20%              $1,283   \n",
       "\n",
       "    Market Value\\nAs of 3/31/20 ($m)  \n",
       "0                           $321,803  \n",
       "1                           $970,680  \n",
       "2                           $160,696  \n",
       "3                         $1,112,641  \n",
       "4                            $77,376  \n",
       "..                               ...  \n",
       "995                             $674  \n",
       "996                             $591  \n",
       "997                          $12,059  \n",
       "998                           $1,212  \n",
       "999                             $303  \n",
       "\n",
       "[1000 rows x 12 columns]"
      ]
     },
     "execution_count": 4,
     "metadata": {},
     "output_type": "execute_result"
    }
   ],
   "source": [
    "Fort_1K_20 # reveals about 10 columns by default"
   ]
  },
  {
   "cell_type": "markdown",
   "metadata": {
    "slideshow": {
     "slide_type": "slide"
    },
    "tags": []
   },
   "source": [
    "## DataFrame - basic details\n",
    "\n",
    "- This object is a DataFrame for multicolumn data.\n",
    "- Roughly equivalent to the Data Frame in R\n",
    "- There are 12 columns of the data 1000 rows with zero indexed row labels\n",
    "- We could have set any column as the index but we did not set one so Pandas generated an index for us.\n",
    "- An index could be any column which can act as a primary identifier or reference for each row."
   ]
  },
  {
   "cell_type": "code",
   "execution_count": 5,
   "metadata": {
    "slideshow": {
     "slide_type": "slide"
    },
    "tags": []
   },
   "outputs": [],
   "source": [
    "Fort_1K_20 = pd.read_csv('Fortune_1000_2020.csv', index_col = 'Name')"
   ]
  },
  {
   "cell_type": "code",
   "execution_count": 6,
   "metadata": {
    "tags": []
   },
   "outputs": [
    {
     "data": {
      "text/html": [
       "<div>\n",
       "<style scoped>\n",
       "    .dataframe tbody tr th:only-of-type {\n",
       "        vertical-align: middle;\n",
       "    }\n",
       "\n",
       "    .dataframe tbody tr th {\n",
       "        vertical-align: top;\n",
       "    }\n",
       "\n",
       "    .dataframe thead th {\n",
       "        text-align: right;\n",
       "    }\n",
       "</style>\n",
       "<table border=\"1\" class=\"dataframe\">\n",
       "  <thead>\n",
       "    <tr style=\"text-align: right;\">\n",
       "      <th></th>\n",
       "      <th>Rank</th>\n",
       "      <th>Number Of Employees</th>\n",
       "      <th>Change In Rank</th>\n",
       "      <th>Industry</th>\n",
       "      <th>Company Description</th>\n",
       "      <th>Revenues_millions</th>\n",
       "      <th>Revenue_Change</th>\n",
       "      <th>Profits_millions</th>\n",
       "      <th>Profit_Change</th>\n",
       "      <th>Assets\\n($millions)</th>\n",
       "      <th>Market Value\\nAs of 3/31/20 ($m)</th>\n",
       "    </tr>\n",
       "    <tr>\n",
       "      <th>Name</th>\n",
       "      <th></th>\n",
       "      <th></th>\n",
       "      <th></th>\n",
       "      <th></th>\n",
       "      <th></th>\n",
       "      <th></th>\n",
       "      <th></th>\n",
       "      <th></th>\n",
       "      <th></th>\n",
       "      <th></th>\n",
       "      <th></th>\n",
       "    </tr>\n",
       "  </thead>\n",
       "  <tbody>\n",
       "    <tr>\n",
       "      <th>Walmart</th>\n",
       "      <td>1</td>\n",
       "      <td>2200000</td>\n",
       "      <td>-</td>\n",
       "      <td>Retail Company</td>\n",
       "      <td>Walmart Inc. Is An American Multinational Reta...</td>\n",
       "      <td>$523,964</td>\n",
       "      <td>1.90%</td>\n",
       "      <td>$14,881.00</td>\n",
       "      <td>123.10%</td>\n",
       "      <td>$236,495</td>\n",
       "      <td>$321,803</td>\n",
       "    </tr>\n",
       "    <tr>\n",
       "      <th>Amazon.com</th>\n",
       "      <td>2</td>\n",
       "      <td>798000</td>\n",
       "      <td>3</td>\n",
       "      <td>E-commerce Company</td>\n",
       "      <td>Amazon.com, Inc. Is An American Multinational ...</td>\n",
       "      <td>$280,522</td>\n",
       "      <td>20.50%</td>\n",
       "      <td>$11,588.00</td>\n",
       "      <td>15.00%</td>\n",
       "      <td>$225,248</td>\n",
       "      <td>$970,680</td>\n",
       "    </tr>\n",
       "    <tr>\n",
       "      <th>Exxon Mobil</th>\n",
       "      <td>3</td>\n",
       "      <td>74900</td>\n",
       "      <td>-1</td>\n",
       "      <td>Corporation</td>\n",
       "      <td>Exxon Mobil Corp. engages in the exploration, ...</td>\n",
       "      <td>$264,938</td>\n",
       "      <td>-8.70%</td>\n",
       "      <td>$14,340.00</td>\n",
       "      <td>-31.20%</td>\n",
       "      <td>$362,597</td>\n",
       "      <td>$160,696</td>\n",
       "    </tr>\n",
       "    <tr>\n",
       "      <th>Apple</th>\n",
       "      <td>4</td>\n",
       "      <td>137000</td>\n",
       "      <td>-1</td>\n",
       "      <td>Technology Company</td>\n",
       "      <td>Apple Inc. Is An American Multinational Techno...</td>\n",
       "      <td>$260,174</td>\n",
       "      <td>-2.00%</td>\n",
       "      <td>$55,256.00</td>\n",
       "      <td>-7.20%</td>\n",
       "      <td>$338,516</td>\n",
       "      <td>$1,112,641</td>\n",
       "    </tr>\n",
       "    <tr>\n",
       "      <th>Cvs Health</th>\n",
       "      <td>5</td>\n",
       "      <td>290000</td>\n",
       "      <td>3</td>\n",
       "      <td>Healthcare Company</td>\n",
       "      <td>Cvs Health Is An American Healthcare Company T...</td>\n",
       "      <td>$256,776</td>\n",
       "      <td>32.00%</td>\n",
       "      <td>$6,634.00</td>\n",
       "      <td>-</td>\n",
       "      <td>$222,449</td>\n",
       "      <td>$77,376</td>\n",
       "    </tr>\n",
       "  </tbody>\n",
       "</table>\n",
       "</div>"
      ],
      "text/plain": [
       "             Rank  Number Of Employees Change In Rank            Industry   \n",
       "Name                                                                        \n",
       "Walmart         1              2200000              -      Retail Company  \\\n",
       "Amazon.com      2               798000              3  E-commerce Company   \n",
       "Exxon Mobil     3                74900             -1         Corporation   \n",
       "Apple           4               137000             -1  Technology Company   \n",
       "Cvs Health      5               290000              3  Healthcare Company   \n",
       "\n",
       "                                           Company Description   \n",
       "Name                                                             \n",
       "Walmart      Walmart Inc. Is An American Multinational Reta...  \\\n",
       "Amazon.com   Amazon.com, Inc. Is An American Multinational ...   \n",
       "Exxon Mobil  Exxon Mobil Corp. engages in the exploration, ...   \n",
       "Apple        Apple Inc. Is An American Multinational Techno...   \n",
       "Cvs Health   Cvs Health Is An American Healthcare Company T...   \n",
       "\n",
       "            Revenues_millions Revenue_Change Profits_millions Profit_Change   \n",
       "Name                                                                          \n",
       "Walmart              $523,964          1.90%       $14,881.00       123.10%  \\\n",
       "Amazon.com           $280,522         20.50%       $11,588.00        15.00%   \n",
       "Exxon Mobil          $264,938         -8.70%       $14,340.00       -31.20%   \n",
       "Apple                $260,174         -2.00%       $55,256.00        -7.20%   \n",
       "Cvs Health           $256,776         32.00%        $6,634.00             -   \n",
       "\n",
       "            Assets\\n($millions) Market Value\\nAs of 3/31/20 ($m)  \n",
       "Name                                                              \n",
       "Walmart                $236,495                         $321,803  \n",
       "Amazon.com             $225,248                         $970,680  \n",
       "Exxon Mobil            $362,597                         $160,696  \n",
       "Apple                  $338,516                       $1,112,641  \n",
       "Cvs Health             $222,449                          $77,376  "
      ]
     },
     "execution_count": 6,
     "metadata": {},
     "output_type": "execute_result"
    }
   ],
   "source": [
    "Fort_1K_20.head() # bottom is Fort_1K_20.tail()"
   ]
  },
  {
   "cell_type": "code",
   "execution_count": 7,
   "metadata": {
    "slideshow": {
     "slide_type": "slide"
    },
    "tags": []
   },
   "outputs": [
    {
     "data": {
      "text/plain": [
       "(1000, (1000, 11), 11000)"
      ]
     },
     "execution_count": 7,
     "metadata": {},
     "output_type": "execute_result"
    }
   ],
   "source": [
    "len(Fort_1K_20),  Fort_1K_20.shape, Fort_1K_20.size"
   ]
  },
  {
   "cell_type": "code",
   "execution_count": 8,
   "metadata": {
    "tags": []
   },
   "outputs": [
    {
     "data": {
      "text/plain": [
       "Index(['Walmart', 'Amazon.com', 'Exxon Mobil', 'Apple', 'Cvs Health',\n",
       "       'Berkshire Hathaway', 'Unitedhealth Group', 'Mckesson', 'At&t',\n",
       "       'Amerisourcebergen',\n",
       "       ...\n",
       "       'Hovnanian Enterprises', 'Air Lease', 'Rollins', 'Sba Communications',\n",
       "       'Deluxe', 'Mr. Cooper Group', 'Herc Holdings', 'Healthpeak Properties',\n",
       "       'Spx Flow', 'Liberty Oilfield Services'],\n",
       "      dtype='object', name='Name', length=1000)"
      ]
     },
     "execution_count": 8,
     "metadata": {},
     "output_type": "execute_result"
    }
   ],
   "source": [
    "Fort_1K_20.index"
   ]
  },
  {
   "cell_type": "code",
   "execution_count": 9,
   "metadata": {
    "slideshow": {
     "slide_type": "slide"
    },
    "tags": []
   },
   "outputs": [
    {
     "data": {
      "text/plain": [
       "Index(['Rank', 'Number Of Employees', 'Change In Rank', 'Industry',\n",
       "       'Company Description', 'Revenues_millions', 'Revenue_Change',\n",
       "       'Profits_millions', 'Profit_Change', 'Assets\\n($millions)',\n",
       "       'Market Value\\nAs of 3/31/20 ($m)'],\n",
       "      dtype='object')"
      ]
     },
     "execution_count": 9,
     "metadata": {},
     "output_type": "execute_result"
    }
   ],
   "source": [
    "Fort_1K_20.columns"
   ]
  },
  {
   "cell_type": "code",
   "execution_count": 10,
   "metadata": {
    "tags": []
   },
   "outputs": [
    {
     "data": {
      "text/html": [
       "<div>\n",
       "<style scoped>\n",
       "    .dataframe tbody tr th:only-of-type {\n",
       "        vertical-align: middle;\n",
       "    }\n",
       "\n",
       "    .dataframe tbody tr th {\n",
       "        vertical-align: top;\n",
       "    }\n",
       "\n",
       "    .dataframe thead th {\n",
       "        text-align: right;\n",
       "    }\n",
       "</style>\n",
       "<table border=\"1\" class=\"dataframe\">\n",
       "  <thead>\n",
       "    <tr style=\"text-align: right;\">\n",
       "      <th></th>\n",
       "      <th>Rank</th>\n",
       "      <th>Number Of Employees</th>\n",
       "    </tr>\n",
       "  </thead>\n",
       "  <tbody>\n",
       "    <tr>\n",
       "      <th>count</th>\n",
       "      <td>1000.00</td>\n",
       "      <td>1000.00</td>\n",
       "    </tr>\n",
       "    <tr>\n",
       "      <th>mean</th>\n",
       "      <td>500.50</td>\n",
       "      <td>34615.98</td>\n",
       "    </tr>\n",
       "    <tr>\n",
       "      <th>std</th>\n",
       "      <td>288.82</td>\n",
       "      <td>92024.01</td>\n",
       "    </tr>\n",
       "    <tr>\n",
       "      <th>min</th>\n",
       "      <td>1.00</td>\n",
       "      <td>51.00</td>\n",
       "    </tr>\n",
       "    <tr>\n",
       "      <th>25%</th>\n",
       "      <td>250.75</td>\n",
       "      <td>6400.00</td>\n",
       "    </tr>\n",
       "    <tr>\n",
       "      <th>50%</th>\n",
       "      <td>500.50</td>\n",
       "      <td>13000.00</td>\n",
       "    </tr>\n",
       "    <tr>\n",
       "      <th>75%</th>\n",
       "      <td>750.25</td>\n",
       "      <td>29192.00</td>\n",
       "    </tr>\n",
       "    <tr>\n",
       "      <th>max</th>\n",
       "      <td>1000.00</td>\n",
       "      <td>2200000.00</td>\n",
       "    </tr>\n",
       "  </tbody>\n",
       "</table>\n",
       "</div>"
      ],
      "text/plain": [
       "         Rank  Number Of Employees\n",
       "count 1000.00              1000.00\n",
       "mean   500.50             34615.98\n",
       "std    288.82             92024.01\n",
       "min      1.00                51.00\n",
       "25%    250.75              6400.00\n",
       "50%    500.50             13000.00\n",
       "75%    750.25             29192.00\n",
       "max   1000.00           2200000.00"
      ]
     },
     "execution_count": 10,
     "metadata": {},
     "output_type": "execute_result"
    }
   ],
   "source": [
    "Fort_1K_20.describe() #  like summary in R"
   ]
  },
  {
   "cell_type": "code",
   "execution_count": 11,
   "metadata": {
    "slideshow": {
     "slide_type": "slide"
    },
    "tags": []
   },
   "outputs": [
    {
     "data": {
      "text/plain": [
       "Rank                                 int64\n",
       "Number Of Employees                  int64\n",
       "Change In Rank                      object\n",
       "Industry                            object\n",
       "Company Description                 object\n",
       "Revenues_millions                   object\n",
       "Revenue_Change                      object\n",
       "Profits_millions                    object\n",
       "Profit_Change                       object\n",
       "Assets\\n($millions)                 object\n",
       "Market Value\\nAs of 3/31/20 ($m)    object\n",
       "dtype: object"
      ]
     },
     "execution_count": 11,
     "metadata": {},
     "output_type": "execute_result"
    }
   ],
   "source": [
    "Fort_1K_20.dtypes"
   ]
  },
  {
   "cell_type": "markdown",
   "metadata": {
    "slideshow": {
     "slide_type": "slide"
    },
    "tags": []
   },
   "source": [
    "Pandas dtypes are  \n",
    "- object (for text or mixed numeric/non), \n",
    "- int64 and float64, \n",
    "- bool, \n",
    "- datetime64 (date and time values), timedelta (difference between datetime) \n",
    "- category (list of text values)"
   ]
  },
  {
   "cell_type": "markdown",
   "metadata": {},
   "source": [
    "![](dtypes.png)"
   ]
  },
  {
   "cell_type": "markdown",
   "metadata": {
    "slideshow": {
     "slide_type": "slide"
    },
    "tags": []
   },
   "source": [
    "## Indexing and Selecting\n",
    "\n",
    "- Pandas Series uses series[label] for selection\n",
    "- Pandas Series can also be indexed - series.iloc[n]\n",
    "- Pandas Series can be sliced - e.g., series[label1:labeln] or using series.iloc[0:n]\n",
    "- Pandas Series can use boolean condition - e.g., series[series_example > 4]) or a boolean array series[[True, False, True, False]]\n",
    "\n"
   ]
  },
  {
   "cell_type": "markdown",
   "metadata": {
    "slideshow": {
     "slide_type": "slide"
    },
    "tags": []
   },
   "source": [
    "## Pandas Series Indexing\n",
    "\n",
    "We can index parts of a dataframe to generate a Series."
   ]
  },
  {
   "cell_type": "code",
   "execution_count": 12,
   "metadata": {
    "tags": []
   },
   "outputs": [
    {
     "data": {
      "text/plain": [
       "count      1000.00\n",
       "mean      34615.98\n",
       "std       92024.01\n",
       "min          51.00\n",
       "25%        6400.00\n",
       "50%       13000.00\n",
       "75%       29192.00\n",
       "max     2200000.00\n",
       "Name: Number Of Employees, dtype: float64"
      ]
     },
     "execution_count": 12,
     "metadata": {},
     "output_type": "execute_result"
    }
   ],
   "source": [
    "Fort_1K_20['Number Of Employees'].describe()"
   ]
  },
  {
   "cell_type": "code",
   "execution_count": 13,
   "metadata": {
    "tags": []
   },
   "outputs": [
    {
     "data": {
      "text/plain": [
       "pandas.core.series.Series"
      ]
     },
     "execution_count": 13,
     "metadata": {},
     "output_type": "execute_result"
    }
   ],
   "source": [
    "type(Fort_1K_20['Number Of Employees'])"
   ]
  },
  {
   "cell_type": "code",
   "execution_count": 14,
   "metadata": {
    "slideshow": {
     "slide_type": "slide"
    },
    "tags": []
   },
   "outputs": [
    {
     "data": {
      "text/plain": [
       "Name\n",
       "Walmart                         1\n",
       "Amazon.com                      2\n",
       "Exxon Mobil                     3\n",
       "Apple                           4\n",
       "Cvs Health                      5\n",
       "                             ... \n",
       "Mr. Cooper Group              996\n",
       "Herc Holdings                 997\n",
       "Healthpeak Properties         998\n",
       "Spx Flow                      999\n",
       "Liberty Oilfield Services    1000\n",
       "Name: Rank, Length: 1000, dtype: int64"
      ]
     },
     "execution_count": 14,
     "metadata": {},
     "output_type": "execute_result"
    }
   ],
   "source": [
    "Fort_1K_20['Rank']"
   ]
  },
  {
   "cell_type": "code",
   "execution_count": 15,
   "metadata": {
    "tags": []
   },
   "outputs": [
    {
     "data": {
      "text/plain": [
       "285"
      ]
     },
     "execution_count": 15,
     "metadata": {},
     "output_type": "execute_result"
    }
   ],
   "source": [
    "# using a label\n",
    "Fort_1K_20['Rank']['Adobe']"
   ]
  },
  {
   "cell_type": "code",
   "execution_count": 16,
   "metadata": {
    "tags": []
   },
   "outputs": [
    {
     "data": {
      "text/plain": [
       "Name\n",
       "Walmart        1\n",
       "Amazon.com     2\n",
       "Exxon Mobil    3\n",
       "Apple          4\n",
       "Cvs Health     5\n",
       "Name: Rank, dtype: int64"
      ]
     },
     "execution_count": 16,
     "metadata": {},
     "output_type": "execute_result"
    }
   ],
   "source": [
    "# slicing with label\n",
    "Fort_1K_20['Rank']['Walmart':'Cvs Health']"
   ]
  },
  {
   "cell_type": "markdown",
   "metadata": {
    "slideshow": {
     "slide_type": "slide"
    },
    "tags": []
   },
   "source": [
    "## Pandas Series using iloc"
   ]
  },
  {
   "cell_type": "code",
   "execution_count": 17,
   "metadata": {
    "tags": []
   },
   "outputs": [
    {
     "data": {
      "text/plain": [
       "Rank                                                                                1\n",
       "Number Of Employees                                                           2200000\n",
       "Change In Rank                                                                      -\n",
       "Industry                                                               Retail Company\n",
       "Company Description                 Walmart Inc. Is An American Multinational Reta...\n",
       "Revenues_millions                                                            $523,964\n",
       "Revenue_Change                                                                  1.90%\n",
       "Profits_millions                                                           $14,881.00\n",
       "Profit_Change                                                                 123.10%\n",
       "Assets\\n($millions)                                                          $236,495\n",
       "Market Value\\nAs of 3/31/20 ($m)                                             $321,803\n",
       "Name: Walmart, dtype: object"
      ]
     },
     "execution_count": 17,
     "metadata": {},
     "output_type": "execute_result"
    }
   ],
   "source": [
    "Fort_1K_20.iloc[0] # access the first row"
   ]
  },
  {
   "cell_type": "code",
   "execution_count": 18,
   "metadata": {
    "slideshow": {
     "slide_type": "slide"
    },
    "tags": []
   },
   "outputs": [
    {
     "data": {
      "text/plain": [
       "pandas.core.series.Series"
      ]
     },
     "execution_count": 18,
     "metadata": {},
     "output_type": "execute_result"
    }
   ],
   "source": [
    "type(Fort_1K_20.iloc[0])"
   ]
  },
  {
   "cell_type": "markdown",
   "metadata": {},
   "source": [
    "In Pandas, the .iloc indexer is used to select data from a DataFrame or Series by using integer-based indexing."
   ]
  },
  {
   "cell_type": "code",
   "execution_count": 19,
   "metadata": {
    "tags": []
   },
   "outputs": [
    {
     "data": {
      "text/plain": [
       "'Walmart Inc. Is An American Multinational Retail Corporation That Operates A Chain Of Hypermarkets, Discount Department Stores, And Grocery Stores, Headquartered In Bentonville, Arkansas.'"
      ]
     },
     "execution_count": 19,
     "metadata": {},
     "output_type": "execute_result"
    }
   ],
   "source": [
    "Fort_1K_20.iloc[0,4] # access the first row, fifth column"
   ]
  },
  {
   "cell_type": "code",
   "execution_count": 20,
   "metadata": {
    "slideshow": {
     "slide_type": "slide"
    },
    "tags": []
   },
   "outputs": [
    {
     "data": {
      "text/plain": [
       "Name\n",
       "Walmart                                   Retail Company\n",
       "Amazon.com                            E-commerce Company\n",
       "Exxon Mobil                                  Corporation\n",
       "Apple                                 Technology Company\n",
       "Cvs Health                            Healthcare Company\n",
       "                                        ...             \n",
       "Mr. Cooper Group                     Home Loan Servicers\n",
       "Herc Holdings                           Equipment Rental\n",
       "Healthpeak Properties             Real Estate Investment\n",
       "Spx Flow                     Pumps And Pumping Equipment\n",
       "Liberty Oilfield Services                    Oil And Gas\n",
       "Name: Industry, Length: 1000, dtype: object"
      ]
     },
     "execution_count": 20,
     "metadata": {},
     "output_type": "execute_result"
    }
   ],
   "source": [
    "Fort_1K_20.iloc[:,3] # access the fourth column"
   ]
  },
  {
   "cell_type": "markdown",
   "metadata": {
    "slideshow": {
     "slide_type": "slide"
    },
    "tags": []
   },
   "source": [
    "## Pandas Series (cont'd)"
   ]
  },
  {
   "cell_type": "code",
   "execution_count": 21,
   "metadata": {
    "tags": []
   },
   "outputs": [
    {
     "data": {
      "text/plain": [
       "Index(['Rank', 'Number Of Employees', 'Change In Rank', 'Industry',\n",
       "       'Company Description', 'Revenues_millions', 'Revenue_Change',\n",
       "       'Profits_millions', 'Profit_Change', 'Assets\\n($millions)',\n",
       "       'Market Value\\nAs of 3/31/20 ($m)'],\n",
       "      dtype='object')"
      ]
     },
     "execution_count": 21,
     "metadata": {},
     "output_type": "execute_result"
    }
   ],
   "source": [
    "Fort_1K_20.iloc[0].index"
   ]
  },
  {
   "cell_type": "markdown",
   "metadata": {},
   "source": [
    "- We can also access a row with a label\n",
    "\n",
    "- the .loc indexer is used to select data from a DataFrame or Series using label-based indexing.\n",
    "\n",
    "- The syntax for using .loc is df.loc[row_label, column_label], where df is the DataFrame or Series that you want to select data from, and row_label and column_label are the labels of the rows and columns.\n",
    "\n"
   ]
  },
  {
   "cell_type": "code",
   "execution_count": 22,
   "metadata": {
    "slideshow": {
     "slide_type": "slide"
    },
    "tags": []
   },
   "outputs": [
    {
     "data": {
      "text/plain": [
       "Rank                                                                                4\n",
       "Number Of Employees                                                            137000\n",
       "Change In Rank                                                                     -1\n",
       "Industry                                                           Technology Company\n",
       "Company Description                 Apple Inc. Is An American Multinational Techno...\n",
       "Revenues_millions                                                            $260,174\n",
       "Revenue_Change                                                                 -2.00%\n",
       "Profits_millions                                                           $55,256.00\n",
       "Profit_Change                                                                  -7.20%\n",
       "Assets\\n($millions)                                                          $338,516\n",
       "Market Value\\nAs of 3/31/20 ($m)                                           $1,112,641\n",
       "Name: Apple, dtype: object"
      ]
     },
     "execution_count": 22,
     "metadata": {},
     "output_type": "execute_result"
    }
   ],
   "source": [
    "Fort_1K_20.loc['Apple']"
   ]
  },
  {
   "cell_type": "code",
   "execution_count": 23,
   "metadata": {
    "slideshow": {
     "slide_type": "slide"
    },
    "tags": []
   },
   "outputs": [
    {
     "data": {
      "text/html": [
       "<div>\n",
       "<style scoped>\n",
       "    .dataframe tbody tr th:only-of-type {\n",
       "        vertical-align: middle;\n",
       "    }\n",
       "\n",
       "    .dataframe tbody tr th {\n",
       "        vertical-align: top;\n",
       "    }\n",
       "\n",
       "    .dataframe thead th {\n",
       "        text-align: right;\n",
       "    }\n",
       "</style>\n",
       "<table border=\"1\" class=\"dataframe\">\n",
       "  <thead>\n",
       "    <tr style=\"text-align: right;\">\n",
       "      <th></th>\n",
       "      <th>Rank</th>\n",
       "      <th>Number Of Employees</th>\n",
       "      <th>Change In Rank</th>\n",
       "      <th>Industry</th>\n",
       "      <th>Company Description</th>\n",
       "      <th>Revenues_millions</th>\n",
       "      <th>Revenue_Change</th>\n",
       "      <th>Profits_millions</th>\n",
       "      <th>Profit_Change</th>\n",
       "      <th>Assets\\n($millions)</th>\n",
       "      <th>Market Value\\nAs of 3/31/20 ($m)</th>\n",
       "    </tr>\n",
       "    <tr>\n",
       "      <th>Name</th>\n",
       "      <th></th>\n",
       "      <th></th>\n",
       "      <th></th>\n",
       "      <th></th>\n",
       "      <th></th>\n",
       "      <th></th>\n",
       "      <th></th>\n",
       "      <th></th>\n",
       "      <th></th>\n",
       "      <th></th>\n",
       "      <th></th>\n",
       "    </tr>\n",
       "  </thead>\n",
       "  <tbody>\n",
       "    <tr>\n",
       "      <th>Apple</th>\n",
       "      <td>4</td>\n",
       "      <td>137000</td>\n",
       "      <td>-1</td>\n",
       "      <td>Technology Company</td>\n",
       "      <td>Apple Inc. Is An American Multinational Techno...</td>\n",
       "      <td>$260,174</td>\n",
       "      <td>-2.00%</td>\n",
       "      <td>$55,256.00</td>\n",
       "      <td>-7.20%</td>\n",
       "      <td>$338,516</td>\n",
       "      <td>$1,112,641</td>\n",
       "    </tr>\n",
       "    <tr>\n",
       "      <th>Microsoft</th>\n",
       "      <td>21</td>\n",
       "      <td>144000</td>\n",
       "      <td>5</td>\n",
       "      <td>Technology Company</td>\n",
       "      <td>Microsoft Corporation Is An American Multinati...</td>\n",
       "      <td>$125,843</td>\n",
       "      <td>14.00%</td>\n",
       "      <td>$39,240.00</td>\n",
       "      <td>136.80%</td>\n",
       "      <td>$286,556</td>\n",
       "      <td>$1,199,550</td>\n",
       "    </tr>\n",
       "    <tr>\n",
       "      <th>Corning</th>\n",
       "      <td>277</td>\n",
       "      <td>49500</td>\n",
       "      <td>2</td>\n",
       "      <td>Technology Company</td>\n",
       "      <td>Corning Incorporated Is An American Multinatio...</td>\n",
       "      <td>$11,503</td>\n",
       "      <td>1.90%</td>\n",
       "      <td>$960.00</td>\n",
       "      <td>-9.90%</td>\n",
       "      <td>$28,898</td>\n",
       "      <td>$15,664</td>\n",
       "    </tr>\n",
       "    <tr>\n",
       "      <th>Intercontinental Exchange</th>\n",
       "      <td>459</td>\n",
       "      <td>5989</td>\n",
       "      <td>10</td>\n",
       "      <td>Technology Company</td>\n",
       "      <td>Intercontinental Exchange Builds, Operates And...</td>\n",
       "      <td>$6,547</td>\n",
       "      <td>4.30%</td>\n",
       "      <td>$1,933.00</td>\n",
       "      <td>-2.80%</td>\n",
       "      <td>$94,493</td>\n",
       "      <td>$44,343</td>\n",
       "    </tr>\n",
       "    <tr>\n",
       "      <th>Diebold Nixdorf</th>\n",
       "      <td>607</td>\n",
       "      <td>22000</td>\n",
       "      <td>-39</td>\n",
       "      <td>Technology Company</td>\n",
       "      <td>Diebold Nixdorf Is A Multinational Financial A...</td>\n",
       "      <td>$4,409</td>\n",
       "      <td>-3.70%</td>\n",
       "      <td>-$341.30</td>\n",
       "      <td>-</td>\n",
       "      <td>$3,791</td>\n",
       "      <td>$273</td>\n",
       "    </tr>\n",
       "    <tr>\n",
       "      <th>Itron</th>\n",
       "      <td>870</td>\n",
       "      <td>7300</td>\n",
       "      <td>16</td>\n",
       "      <td>Technology Company</td>\n",
       "      <td>Itron Is An American Technology Company That O...</td>\n",
       "      <td>$2,503</td>\n",
       "      <td>5.30%</td>\n",
       "      <td>$49.00</td>\n",
       "      <td>-</td>\n",
       "      <td>$2,708</td>\n",
       "      <td>$2,242</td>\n",
       "    </tr>\n",
       "    <tr>\n",
       "      <th>F5 Networks</th>\n",
       "      <td>932</td>\n",
       "      <td>5325</td>\n",
       "      <td>7</td>\n",
       "      <td>Technology Company</td>\n",
       "      <td>F5, Inc. Is An American Company That Specializ...</td>\n",
       "      <td>$2,242</td>\n",
       "      <td>3.70%</td>\n",
       "      <td>$427.70</td>\n",
       "      <td>-5.70%</td>\n",
       "      <td>$3,390</td>\n",
       "      <td>$6,484</td>\n",
       "    </tr>\n",
       "  </tbody>\n",
       "</table>\n",
       "</div>"
      ],
      "text/plain": [
       "                           Rank  Number Of Employees Change In Rank   \n",
       "Name                                                                  \n",
       "Apple                         4               137000             -1  \\\n",
       "Microsoft                    21               144000              5   \n",
       "Corning                     277                49500              2   \n",
       "Intercontinental Exchange   459                 5989             10   \n",
       "Diebold Nixdorf             607                22000            -39   \n",
       "Itron                       870                 7300             16   \n",
       "F5 Networks                 932                 5325              7   \n",
       "\n",
       "                                     Industry   \n",
       "Name                                            \n",
       "Apple                      Technology Company  \\\n",
       "Microsoft                  Technology Company   \n",
       "Corning                    Technology Company   \n",
       "Intercontinental Exchange  Technology Company   \n",
       "Diebold Nixdorf            Technology Company   \n",
       "Itron                      Technology Company   \n",
       "F5 Networks                Technology Company   \n",
       "\n",
       "                                                         Company Description   \n",
       "Name                                                                           \n",
       "Apple                      Apple Inc. Is An American Multinational Techno...  \\\n",
       "Microsoft                  Microsoft Corporation Is An American Multinati...   \n",
       "Corning                    Corning Incorporated Is An American Multinatio...   \n",
       "Intercontinental Exchange  Intercontinental Exchange Builds, Operates And...   \n",
       "Diebold Nixdorf            Diebold Nixdorf Is A Multinational Financial A...   \n",
       "Itron                      Itron Is An American Technology Company That O...   \n",
       "F5 Networks                F5, Inc. Is An American Company That Specializ...   \n",
       "\n",
       "                          Revenues_millions Revenue_Change Profits_millions   \n",
       "Name                                                                          \n",
       "Apple                              $260,174         -2.00%       $55,256.00  \\\n",
       "Microsoft                          $125,843         14.00%       $39,240.00   \n",
       "Corning                             $11,503          1.90%          $960.00   \n",
       "Intercontinental Exchange            $6,547          4.30%        $1,933.00   \n",
       "Diebold Nixdorf                      $4,409         -3.70%         -$341.30   \n",
       "Itron                                $2,503          5.30%           $49.00   \n",
       "F5 Networks                          $2,242          3.70%          $427.70   \n",
       "\n",
       "                          Profit_Change Assets\\n($millions)   \n",
       "Name                                                          \n",
       "Apple                            -7.20%            $338,516  \\\n",
       "Microsoft                       136.80%            $286,556   \n",
       "Corning                          -9.90%             $28,898   \n",
       "Intercontinental Exchange        -2.80%             $94,493   \n",
       "Diebold Nixdorf                       -              $3,791   \n",
       "Itron                                 -              $2,708   \n",
       "F5 Networks                      -5.70%              $3,390   \n",
       "\n",
       "                          Market Value\\nAs of 3/31/20 ($m)  \n",
       "Name                                                        \n",
       "Apple                                           $1,112,641  \n",
       "Microsoft                                       $1,199,550  \n",
       "Corning                                            $15,664  \n",
       "Intercontinental Exchange                          $44,343  \n",
       "Diebold Nixdorf                                       $273  \n",
       "Itron                                               $2,242  \n",
       "F5 Networks                                         $6,484  "
      ]
     },
     "execution_count": 23,
     "metadata": {},
     "output_type": "execute_result"
    }
   ],
   "source": [
    "Fort_1K_20.loc[Fort_1K_20['Industry'] == 'Technology Company']"
   ]
  },
  {
   "cell_type": "code",
   "execution_count": 24,
   "metadata": {
    "slideshow": {
     "slide_type": "slide"
    },
    "tags": []
   },
   "outputs": [
    {
     "data": {
      "text/html": [
       "<div>\n",
       "<style scoped>\n",
       "    .dataframe tbody tr th:only-of-type {\n",
       "        vertical-align: middle;\n",
       "    }\n",
       "\n",
       "    .dataframe tbody tr th {\n",
       "        vertical-align: top;\n",
       "    }\n",
       "\n",
       "    .dataframe thead th {\n",
       "        text-align: right;\n",
       "    }\n",
       "</style>\n",
       "<table border=\"1\" class=\"dataframe\">\n",
       "  <thead>\n",
       "    <tr style=\"text-align: right;\">\n",
       "      <th></th>\n",
       "      <th>Rank</th>\n",
       "      <th>Number Of Employees</th>\n",
       "      <th>Change In Rank</th>\n",
       "      <th>Industry</th>\n",
       "      <th>Company Description</th>\n",
       "      <th>Revenues_millions</th>\n",
       "      <th>Revenue_Change</th>\n",
       "      <th>Profits_millions</th>\n",
       "      <th>Profit_Change</th>\n",
       "      <th>Assets\\n($millions)</th>\n",
       "      <th>Market Value\\nAs of 3/31/20 ($m)</th>\n",
       "    </tr>\n",
       "    <tr>\n",
       "      <th>Name</th>\n",
       "      <th></th>\n",
       "      <th></th>\n",
       "      <th></th>\n",
       "      <th></th>\n",
       "      <th></th>\n",
       "      <th></th>\n",
       "      <th></th>\n",
       "      <th></th>\n",
       "      <th></th>\n",
       "      <th></th>\n",
       "      <th></th>\n",
       "    </tr>\n",
       "  </thead>\n",
       "  <tbody>\n",
       "    <tr>\n",
       "      <th>Host Hotels &amp; Resorts</th>\n",
       "      <td>514</td>\n",
       "      <td>175</td>\n",
       "      <td>-12</td>\n",
       "      <td>Real Estate</td>\n",
       "      <td>The Trust Provides Equity Holdings, Asset Mana...</td>\n",
       "      <td>$5,469</td>\n",
       "      <td>-1.00%</td>\n",
       "      <td>$920.00</td>\n",
       "      <td>-15.40%</td>\n",
       "      <td>$12,305</td>\n",
       "      <td>$7,793</td>\n",
       "    </tr>\n",
       "    <tr>\n",
       "      <th>A-mark Precious Metals</th>\n",
       "      <td>565</td>\n",
       "      <td>183</td>\n",
       "      <td>-164</td>\n",
       "      <td>Metals Trading Company</td>\n",
       "      <td>A Mark Coin Company -- Is A Precious Metals Tr...</td>\n",
       "      <td>$4,783</td>\n",
       "      <td>-37.10%</td>\n",
       "      <td>$2.20</td>\n",
       "      <td>-</td>\n",
       "      <td>$705</td>\n",
       "      <td>$86</td>\n",
       "    </tr>\n",
       "    <tr>\n",
       "      <th>Agnc Investment</th>\n",
       "      <td>798</td>\n",
       "      <td>51</td>\n",
       "      <td>-</td>\n",
       "      <td>Real Estate Investment Trust Company</td>\n",
       "      <td>We Invest Predominately In Agency Residential ...</td>\n",
       "      <td>$2,920</td>\n",
       "      <td>108.30%</td>\n",
       "      <td>$688.00</td>\n",
       "      <td>433.30%</td>\n",
       "      <td>$113,082</td>\n",
       "      <td>$5,723</td>\n",
       "    </tr>\n",
       "    <tr>\n",
       "      <th>Air Lease</th>\n",
       "      <td>992</td>\n",
       "      <td>117</td>\n",
       "      <td>-</td>\n",
       "      <td>Aircraft Leasing</td>\n",
       "      <td>Air Lease Corporation Is A Leading Aircraft Le...</td>\n",
       "      <td>$2,017</td>\n",
       "      <td>20.10%</td>\n",
       "      <td>$587.10</td>\n",
       "      <td>14.90%</td>\n",
       "      <td>$21,709</td>\n",
       "      <td>$2,516</td>\n",
       "    </tr>\n",
       "    <tr>\n",
       "      <th>Healthpeak Properties</th>\n",
       "      <td>998</td>\n",
       "      <td>204</td>\n",
       "      <td>-</td>\n",
       "      <td>Real Estate Investment</td>\n",
       "      <td>Healthpeak Properties, Inc. Is A Real Estate I...</td>\n",
       "      <td>$1,997</td>\n",
       "      <td>8.20%</td>\n",
       "      <td>$45.50</td>\n",
       "      <td>-95.70%</td>\n",
       "      <td>$14,033</td>\n",
       "      <td>$12,059</td>\n",
       "    </tr>\n",
       "  </tbody>\n",
       "</table>\n",
       "</div>"
      ],
      "text/plain": [
       "                        Rank  Number Of Employees Change In Rank   \n",
       "Name                                                               \n",
       "Host Hotels & Resorts    514                  175            -12  \\\n",
       "A-mark Precious Metals   565                  183           -164   \n",
       "Agnc Investment          798                   51              -   \n",
       "Air Lease                992                  117              -   \n",
       "Healthpeak Properties    998                  204              -   \n",
       "\n",
       "                                                    Industry   \n",
       "Name                                                           \n",
       "Host Hotels & Resorts                            Real Estate  \\\n",
       "A-mark Precious Metals                Metals Trading Company   \n",
       "Agnc Investment         Real Estate Investment Trust Company   \n",
       "Air Lease                                   Aircraft Leasing   \n",
       "Healthpeak Properties                 Real Estate Investment   \n",
       "\n",
       "                                                      Company Description   \n",
       "Name                                                                        \n",
       "Host Hotels & Resorts   The Trust Provides Equity Holdings, Asset Mana...  \\\n",
       "A-mark Precious Metals  A Mark Coin Company -- Is A Precious Metals Tr...   \n",
       "Agnc Investment         We Invest Predominately In Agency Residential ...   \n",
       "Air Lease               Air Lease Corporation Is A Leading Aircraft Le...   \n",
       "Healthpeak Properties   Healthpeak Properties, Inc. Is A Real Estate I...   \n",
       "\n",
       "                       Revenues_millions Revenue_Change Profits_millions   \n",
       "Name                                                                       \n",
       "Host Hotels & Resorts             $5,469         -1.00%          $920.00  \\\n",
       "A-mark Precious Metals            $4,783        -37.10%            $2.20   \n",
       "Agnc Investment                   $2,920        108.30%          $688.00   \n",
       "Air Lease                         $2,017         20.10%          $587.10   \n",
       "Healthpeak Properties             $1,997          8.20%           $45.50   \n",
       "\n",
       "                       Profit_Change Assets\\n($millions)   \n",
       "Name                                                       \n",
       "Host Hotels & Resorts        -15.40%             $12,305  \\\n",
       "A-mark Precious Metals             -                $705   \n",
       "Agnc Investment              433.30%            $113,082   \n",
       "Air Lease                     14.90%             $21,709   \n",
       "Healthpeak Properties        -95.70%             $14,033   \n",
       "\n",
       "                       Market Value\\nAs of 3/31/20 ($m)  \n",
       "Name                                                     \n",
       "Host Hotels & Resorts                            $7,793  \n",
       "A-mark Precious Metals                              $86  \n",
       "Agnc Investment                                  $5,723  \n",
       "Air Lease                                        $2,516  \n",
       "Healthpeak Properties                           $12,059  "
      ]
     },
     "execution_count": 24,
     "metadata": {},
     "output_type": "execute_result"
    }
   ],
   "source": [
    "Fort_1K_20.loc[Fort_1K_20['Number Of Employees'] < 250]"
   ]
  },
  {
   "cell_type": "markdown",
   "metadata": {
    "slideshow": {
     "slide_type": "slide"
    },
    "tags": []
   },
   "source": [
    "## Pandas Series conversions\n",
    "\n",
    "- We can convert Pandas series into lists or Numpy arrays"
   ]
  },
  {
   "cell_type": "code",
   "execution_count": 25,
   "metadata": {
    "tags": []
   },
   "outputs": [
    {
     "name": "stdout",
     "output_type": "stream",
     "text": [
      "<class 'list'> [4, 137000, '-1', 'Technology Company', 'Apple Inc. Is An American Multinational Technology Company Headquartered In Cupertino, California, That Designs, Develops And Sells Consumer Electronics, Computer Software, And Online Services.', '$260,174', '-2.00%', '$55,256.00', '-7.20%', '$338,516', '$1,112,641']\n"
     ]
    }
   ],
   "source": [
    "row_list = pd.Series.to_list(Fort_1K_20.loc['Apple'])\n",
    "print(type(row_list), row_list)"
   ]
  },
  {
   "cell_type": "code",
   "execution_count": 26,
   "metadata": {
    "tags": []
   },
   "outputs": [
    {
     "name": "stdout",
     "output_type": "stream",
     "text": [
      "<class 'numpy.ndarray'> [ 1  2  3  4  5  6  7  8  9 10]\n"
     ]
    }
   ],
   "source": [
    "rank_np = pd.Series.to_numpy(Fort_1K_20['Rank'])\n",
    "print(type(rank_np), rank_np[0:10])"
   ]
  },
  {
   "cell_type": "markdown",
   "metadata": {
    "tags": []
   },
   "source": [
    "also can convert to csv, Excel, json etc."
   ]
  },
  {
   "cell_type": "markdown",
   "metadata": {
    "slideshow": {
     "slide_type": "slide"
    },
    "tags": []
   },
   "source": [
    "## Pandas Series conversions - object to float"
   ]
  },
  {
   "cell_type": "code",
   "execution_count": 27,
   "metadata": {
    "tags": []
   },
   "outputs": [],
   "source": [
    "def convert_dash_to_NaN(df):\n",
    "    df.replace('^-$', np.nan, inplace=True, regex=True)\n",
    "    return df\n",
    "\n",
    "def convert_currency_to_numeric(df, column):\n",
    "    df[column] = df[column].str.replace(',', '').str.replace('$', '').astype(float)\n",
    "    return df\n",
    "\n",
    "def convert_percent_to_numeric(df, column):\n",
    "    df[column] = df[column].str.replace('%', '').astype(float)\n",
    "    return df\n",
    "\n"
   ]
  },
  {
   "cell_type": "code",
   "execution_count": 28,
   "metadata": {
    "tags": []
   },
   "outputs": [],
   "source": [
    "Fort_1K_20_no_dash = convert_dash_to_NaN(Fort_1K_20)\n",
    "\n",
    "curr_objs = ['Revenues_millions', 'Profits_millions',\n",
    "             'Assets\\n($millions)', 'Market Value\\nAs of 3/31/20 ($m)']\n",
    "for i in curr_objs:\n",
    "    Fort_1K_20_no_dash = convert_currency_to_numeric(Fort_1K_20_no_dash, i )\n",
    "\n",
    "percent_objs = ['Revenue_Change', 'Profit_Change']\n",
    "\n",
    "for i in percent_objs:\n",
    "    Fort_1K_20_no_dash = convert_percent_to_numeric(Fort_1K_20_no_dash, i )"
   ]
  },
  {
   "cell_type": "code",
   "execution_count": 29,
   "metadata": {
    "slideshow": {
     "slide_type": "slide"
    },
    "tags": []
   },
   "outputs": [
    {
     "data": {
      "text/html": [
       "<div>\n",
       "<style scoped>\n",
       "    .dataframe tbody tr th:only-of-type {\n",
       "        vertical-align: middle;\n",
       "    }\n",
       "\n",
       "    .dataframe tbody tr th {\n",
       "        vertical-align: top;\n",
       "    }\n",
       "\n",
       "    .dataframe thead th {\n",
       "        text-align: right;\n",
       "    }\n",
       "</style>\n",
       "<table border=\"1\" class=\"dataframe\">\n",
       "  <thead>\n",
       "    <tr style=\"text-align: right;\">\n",
       "      <th></th>\n",
       "      <th>Rank</th>\n",
       "      <th>Number Of Employees</th>\n",
       "      <th>Change In Rank</th>\n",
       "      <th>Industry</th>\n",
       "      <th>Company Description</th>\n",
       "      <th>Revenues_millions</th>\n",
       "      <th>Revenue_Change</th>\n",
       "      <th>Profits_millions</th>\n",
       "      <th>Profit_Change</th>\n",
       "      <th>Assets\\n($millions)</th>\n",
       "      <th>Market Value\\nAs of 3/31/20 ($m)</th>\n",
       "    </tr>\n",
       "    <tr>\n",
       "      <th>Name</th>\n",
       "      <th></th>\n",
       "      <th></th>\n",
       "      <th></th>\n",
       "      <th></th>\n",
       "      <th></th>\n",
       "      <th></th>\n",
       "      <th></th>\n",
       "      <th></th>\n",
       "      <th></th>\n",
       "      <th></th>\n",
       "      <th></th>\n",
       "    </tr>\n",
       "  </thead>\n",
       "  <tbody>\n",
       "    <tr>\n",
       "      <th>Walmart</th>\n",
       "      <td>1</td>\n",
       "      <td>2200000</td>\n",
       "      <td>NaN</td>\n",
       "      <td>Retail Company</td>\n",
       "      <td>Walmart Inc. Is An American Multinational Reta...</td>\n",
       "      <td>523964.00</td>\n",
       "      <td>1.90</td>\n",
       "      <td>14881.00</td>\n",
       "      <td>123.10</td>\n",
       "      <td>236495.00</td>\n",
       "      <td>321803.00</td>\n",
       "    </tr>\n",
       "    <tr>\n",
       "      <th>Amazon.com</th>\n",
       "      <td>2</td>\n",
       "      <td>798000</td>\n",
       "      <td>3</td>\n",
       "      <td>E-commerce Company</td>\n",
       "      <td>Amazon.com, Inc. Is An American Multinational ...</td>\n",
       "      <td>280522.00</td>\n",
       "      <td>20.50</td>\n",
       "      <td>11588.00</td>\n",
       "      <td>15.00</td>\n",
       "      <td>225248.00</td>\n",
       "      <td>970680.00</td>\n",
       "    </tr>\n",
       "    <tr>\n",
       "      <th>Exxon Mobil</th>\n",
       "      <td>3</td>\n",
       "      <td>74900</td>\n",
       "      <td>-1</td>\n",
       "      <td>Corporation</td>\n",
       "      <td>Exxon Mobil Corp. engages in the exploration, ...</td>\n",
       "      <td>264938.00</td>\n",
       "      <td>-8.70</td>\n",
       "      <td>14340.00</td>\n",
       "      <td>-31.20</td>\n",
       "      <td>362597.00</td>\n",
       "      <td>160696.00</td>\n",
       "    </tr>\n",
       "    <tr>\n",
       "      <th>Apple</th>\n",
       "      <td>4</td>\n",
       "      <td>137000</td>\n",
       "      <td>-1</td>\n",
       "      <td>Technology Company</td>\n",
       "      <td>Apple Inc. Is An American Multinational Techno...</td>\n",
       "      <td>260174.00</td>\n",
       "      <td>-2.00</td>\n",
       "      <td>55256.00</td>\n",
       "      <td>-7.20</td>\n",
       "      <td>338516.00</td>\n",
       "      <td>1112641.00</td>\n",
       "    </tr>\n",
       "    <tr>\n",
       "      <th>Cvs Health</th>\n",
       "      <td>5</td>\n",
       "      <td>290000</td>\n",
       "      <td>3</td>\n",
       "      <td>Healthcare Company</td>\n",
       "      <td>Cvs Health Is An American Healthcare Company T...</td>\n",
       "      <td>256776.00</td>\n",
       "      <td>32.00</td>\n",
       "      <td>6634.00</td>\n",
       "      <td>NaN</td>\n",
       "      <td>222449.00</td>\n",
       "      <td>77376.00</td>\n",
       "    </tr>\n",
       "    <tr>\n",
       "      <th>...</th>\n",
       "      <td>...</td>\n",
       "      <td>...</td>\n",
       "      <td>...</td>\n",
       "      <td>...</td>\n",
       "      <td>...</td>\n",
       "      <td>...</td>\n",
       "      <td>...</td>\n",
       "      <td>...</td>\n",
       "      <td>...</td>\n",
       "      <td>...</td>\n",
       "      <td>...</td>\n",
       "    </tr>\n",
       "    <tr>\n",
       "      <th>Mr. Cooper Group</th>\n",
       "      <td>996</td>\n",
       "      <td>9100</td>\n",
       "      <td>NaN</td>\n",
       "      <td>Home Loan Servicers</td>\n",
       "      <td>Mr. Cooper Group Inc. Provides Quality Servici...</td>\n",
       "      <td>2007.00</td>\n",
       "      <td>NaN</td>\n",
       "      <td>274.00</td>\n",
       "      <td>NaN</td>\n",
       "      <td>18305.00</td>\n",
       "      <td>674.00</td>\n",
       "    </tr>\n",
       "    <tr>\n",
       "      <th>Herc Holdings</th>\n",
       "      <td>997</td>\n",
       "      <td>5100</td>\n",
       "      <td>-4</td>\n",
       "      <td>Equipment Rental</td>\n",
       "      <td>They Are One Of The Largest Equipment Rental C...</td>\n",
       "      <td>1999.00</td>\n",
       "      <td>1.10</td>\n",
       "      <td>47.50</td>\n",
       "      <td>-31.30</td>\n",
       "      <td>3817.00</td>\n",
       "      <td>591.00</td>\n",
       "    </tr>\n",
       "    <tr>\n",
       "      <th>Healthpeak Properties</th>\n",
       "      <td>998</td>\n",
       "      <td>204</td>\n",
       "      <td>NaN</td>\n",
       "      <td>Real Estate Investment</td>\n",
       "      <td>Healthpeak Properties, Inc. Is A Real Estate I...</td>\n",
       "      <td>1997.00</td>\n",
       "      <td>8.20</td>\n",
       "      <td>45.50</td>\n",
       "      <td>-95.70</td>\n",
       "      <td>14033.00</td>\n",
       "      <td>12059.00</td>\n",
       "    </tr>\n",
       "    <tr>\n",
       "      <th>Spx Flow</th>\n",
       "      <td>999</td>\n",
       "      <td>5000</td>\n",
       "      <td>-37</td>\n",
       "      <td>Pumps And Pumping Equipment</td>\n",
       "      <td>It Is A World Leader In Sustainable Solutions ...</td>\n",
       "      <td>1996.00</td>\n",
       "      <td>-4.50</td>\n",
       "      <td>-95.10</td>\n",
       "      <td>-316.10</td>\n",
       "      <td>2437.00</td>\n",
       "      <td>1212.00</td>\n",
       "    </tr>\n",
       "    <tr>\n",
       "      <th>Liberty Oilfield Services</th>\n",
       "      <td>1000</td>\n",
       "      <td>2571</td>\n",
       "      <td>-58</td>\n",
       "      <td>Oil And Gas</td>\n",
       "      <td>Liberty Is An Innovative Service Company Provi...</td>\n",
       "      <td>1990.00</td>\n",
       "      <td>-7.60</td>\n",
       "      <td>39.00</td>\n",
       "      <td>-69.20</td>\n",
       "      <td>1283.00</td>\n",
       "      <td>303.00</td>\n",
       "    </tr>\n",
       "  </tbody>\n",
       "</table>\n",
       "<p>1000 rows × 11 columns</p>\n",
       "</div>"
      ],
      "text/plain": [
       "                           Rank  Number Of Employees Change In Rank   \n",
       "Name                                                                  \n",
       "Walmart                       1              2200000            NaN  \\\n",
       "Amazon.com                    2               798000              3   \n",
       "Exxon Mobil                   3                74900             -1   \n",
       "Apple                         4               137000             -1   \n",
       "Cvs Health                    5               290000              3   \n",
       "...                         ...                  ...            ...   \n",
       "Mr. Cooper Group            996                 9100            NaN   \n",
       "Herc Holdings               997                 5100             -4   \n",
       "Healthpeak Properties       998                  204            NaN   \n",
       "Spx Flow                    999                 5000            -37   \n",
       "Liberty Oilfield Services  1000                 2571            -58   \n",
       "\n",
       "                                              Industry   \n",
       "Name                                                     \n",
       "Walmart                                 Retail Company  \\\n",
       "Amazon.com                          E-commerce Company   \n",
       "Exxon Mobil                                Corporation   \n",
       "Apple                               Technology Company   \n",
       "Cvs Health                          Healthcare Company   \n",
       "...                                                ...   \n",
       "Mr. Cooper Group                   Home Loan Servicers   \n",
       "Herc Holdings                         Equipment Rental   \n",
       "Healthpeak Properties           Real Estate Investment   \n",
       "Spx Flow                   Pumps And Pumping Equipment   \n",
       "Liberty Oilfield Services                  Oil And Gas   \n",
       "\n",
       "                                                         Company Description   \n",
       "Name                                                                           \n",
       "Walmart                    Walmart Inc. Is An American Multinational Reta...  \\\n",
       "Amazon.com                 Amazon.com, Inc. Is An American Multinational ...   \n",
       "Exxon Mobil                Exxon Mobil Corp. engages in the exploration, ...   \n",
       "Apple                      Apple Inc. Is An American Multinational Techno...   \n",
       "Cvs Health                 Cvs Health Is An American Healthcare Company T...   \n",
       "...                                                                      ...   \n",
       "Mr. Cooper Group           Mr. Cooper Group Inc. Provides Quality Servici...   \n",
       "Herc Holdings              They Are One Of The Largest Equipment Rental C...   \n",
       "Healthpeak Properties      Healthpeak Properties, Inc. Is A Real Estate I...   \n",
       "Spx Flow                   It Is A World Leader In Sustainable Solutions ...   \n",
       "Liberty Oilfield Services  Liberty Is An Innovative Service Company Provi...   \n",
       "\n",
       "                           Revenues_millions  Revenue_Change   \n",
       "Name                                                           \n",
       "Walmart                            523964.00            1.90  \\\n",
       "Amazon.com                         280522.00           20.50   \n",
       "Exxon Mobil                        264938.00           -8.70   \n",
       "Apple                              260174.00           -2.00   \n",
       "Cvs Health                         256776.00           32.00   \n",
       "...                                      ...             ...   \n",
       "Mr. Cooper Group                     2007.00             NaN   \n",
       "Herc Holdings                        1999.00            1.10   \n",
       "Healthpeak Properties                1997.00            8.20   \n",
       "Spx Flow                             1996.00           -4.50   \n",
       "Liberty Oilfield Services            1990.00           -7.60   \n",
       "\n",
       "                           Profits_millions  Profit_Change   \n",
       "Name                                                         \n",
       "Walmart                            14881.00         123.10  \\\n",
       "Amazon.com                         11588.00          15.00   \n",
       "Exxon Mobil                        14340.00         -31.20   \n",
       "Apple                              55256.00          -7.20   \n",
       "Cvs Health                          6634.00            NaN   \n",
       "...                                     ...            ...   \n",
       "Mr. Cooper Group                     274.00            NaN   \n",
       "Herc Holdings                         47.50         -31.30   \n",
       "Healthpeak Properties                 45.50         -95.70   \n",
       "Spx Flow                             -95.10        -316.10   \n",
       "Liberty Oilfield Services             39.00         -69.20   \n",
       "\n",
       "                           Assets\\n($millions)   \n",
       "Name                                             \n",
       "Walmart                              236495.00  \\\n",
       "Amazon.com                           225248.00   \n",
       "Exxon Mobil                          362597.00   \n",
       "Apple                                338516.00   \n",
       "Cvs Health                           222449.00   \n",
       "...                                        ...   \n",
       "Mr. Cooper Group                      18305.00   \n",
       "Herc Holdings                          3817.00   \n",
       "Healthpeak Properties                 14033.00   \n",
       "Spx Flow                               2437.00   \n",
       "Liberty Oilfield Services              1283.00   \n",
       "\n",
       "                           Market Value\\nAs of 3/31/20 ($m)  \n",
       "Name                                                         \n",
       "Walmart                                           321803.00  \n",
       "Amazon.com                                        970680.00  \n",
       "Exxon Mobil                                       160696.00  \n",
       "Apple                                            1112641.00  \n",
       "Cvs Health                                         77376.00  \n",
       "...                                                     ...  \n",
       "Mr. Cooper Group                                     674.00  \n",
       "Herc Holdings                                        591.00  \n",
       "Healthpeak Properties                              12059.00  \n",
       "Spx Flow                                            1212.00  \n",
       "Liberty Oilfield Services                            303.00  \n",
       "\n",
       "[1000 rows x 11 columns]"
      ]
     },
     "execution_count": 29,
     "metadata": {},
     "output_type": "execute_result"
    }
   ],
   "source": [
    "Fort_1K_20_no_dash"
   ]
  },
  {
   "cell_type": "code",
   "execution_count": 30,
   "metadata": {
    "slideshow": {
     "slide_type": "slide"
    },
    "tags": []
   },
   "outputs": [
    {
     "data": {
      "text/plain": [
       "Rank                                   int64\n",
       "Number Of Employees                    int64\n",
       "Change In Rank                       float64\n",
       "Industry                            category\n",
       "Company Description                   object\n",
       "Revenues_millions                    float64\n",
       "Revenue_Change                       float64\n",
       "Profits_millions                     float64\n",
       "Profit_Change                        float64\n",
       "Assets\\n($millions)                  float64\n",
       "Market Value\\nAs of 3/31/20 ($m)     float64\n",
       "dtype: object"
      ]
     },
     "execution_count": 30,
     "metadata": {},
     "output_type": "execute_result"
    }
   ],
   "source": [
    "Fort_1K_20_no_dash['Change In Rank'] = pd.to_numeric(Fort_1K_20_no_dash['Change In Rank'], errors='coerce')\n",
    "Fort_1K_20_no_dash['Industry'] = Fort_1K_20_no_dash['Industry'].astype('category')\n",
    "Fort_1K_20_no_dash.dtypes"
   ]
  },
  {
   "cell_type": "markdown",
   "metadata": {
    "slideshow": {
     "slide_type": "slide"
    },
    "tags": []
   },
   "source": [
    "## Pandas Series attributes and methods\n",
    "\n",
    "- Series have attributes (properties and characteristics) and methods\n",
    "- Too many to list but\n",
    "\n",
    "https://pandas.pydata.org/docs/reference/api/pandas.Series.html#pandas.Series\n",
    "\n",
    "- statistical functions are in the methods"
   ]
  },
  {
   "cell_type": "markdown",
   "metadata": {
    "slideshow": {
     "slide_type": "slide"
    },
    "tags": []
   },
   "source": [
    "## Pandas Series - attributes"
   ]
  },
  {
   "cell_type": "code",
   "execution_count": 31,
   "metadata": {
    "tags": []
   },
   "outputs": [
    {
     "name": "stdout",
     "output_type": "stream",
     "text": [
      "Index: Index(['Walmart', 'Amazon.com', 'Exxon Mobil', 'Apple', 'Cvs Health',\n",
      "       'Berkshire Hathaway', 'Unitedhealth Group', 'Mckesson', 'At&t',\n",
      "       'Amerisourcebergen'],\n",
      "      dtype='object', name='Name')\n",
      "Values: [2200000  798000   74900  137000  290000  391500  325000   70000  247800\n",
      "   21500]\n",
      "Name: Number Of Employees\n",
      "Data type: int64\n",
      "Shape: (1000,)\n",
      "Size: 1000\n",
      "Empty: False\n"
     ]
    }
   ],
   "source": [
    "print(\"Index:\", Fort_1K_20['Number Of Employees'].index[0:10])\n",
    "print(\"Values:\", Fort_1K_20['Number Of Employees'].values[0:10])\n",
    "print(\"Name:\", Fort_1K_20['Number Of Employees'].name)\n",
    "print(\"Data type:\", Fort_1K_20['Number Of Employees'].dtype)\n",
    "print(\"Shape:\", Fort_1K_20['Number Of Employees'].shape)\n",
    "print(\"Size:\", Fort_1K_20['Number Of Employees'].size)\n",
    "print(\"Empty:\", Fort_1K_20['Number Of Employees'].empty)"
   ]
  },
  {
   "cell_type": "markdown",
   "metadata": {
    "slideshow": {
     "slide_type": "slide"
    },
    "tags": []
   },
   "source": [
    "## Pandas Series - methods"
   ]
  },
  {
   "cell_type": "code",
   "execution_count": 32,
   "metadata": {
    "tags": []
   },
   "outputs": [
    {
     "name": "stdout",
     "output_type": "stream",
     "text": [
      "15902.36\n",
      "5647.0\n",
      "1990.0\n",
      "523964.0\n",
      "1000\n"
     ]
    }
   ],
   "source": [
    "print(Fort_1K_20_no_dash['Revenues_millions'].mean())\n",
    "print(Fort_1K_20_no_dash['Revenues_millions'].median())\n",
    "print(Fort_1K_20_no_dash['Revenues_millions'].min())\n",
    "print(Fort_1K_20_no_dash['Revenues_millions'].max())\n",
    "print(Fort_1K_20_no_dash['Revenues_millions'].count())"
   ]
  },
  {
   "cell_type": "markdown",
   "metadata": {
    "slideshow": {
     "slide_type": "slide"
    },
    "tags": []
   },
   "source": [
    "## Pandas Series - methods (cont'd)"
   ]
  },
  {
   "cell_type": "code",
   "execution_count": 33,
   "metadata": {
    "tags": []
   },
   "outputs": [
    {
     "name": "stdout",
     "output_type": "stream",
     "text": [
      "5.181415534310747\n",
      "44.357991774174444\n",
      "407\n",
      "21.843378093907916\n",
      "477.1331665534162\n"
     ]
    }
   ],
   "source": [
    "print(Fort_1K_20['Revenue_Change'].skew())\n",
    "print(Fort_1K_20['Revenue_Change'].kurtosis())\n",
    "print(Fort_1K_20['Revenue_Change'].nunique())\n",
    "print(Fort_1K_20['Revenue_Change'].std())\n",
    "print(Fort_1K_20['Revenue_Change'].var())"
   ]
  },
  {
   "cell_type": "code",
   "execution_count": 34,
   "metadata": {
    "slideshow": {
     "slide_type": "slide"
    },
    "tags": []
   },
   "outputs": [
    {
     "name": "stdout",
     "output_type": "stream",
     "text": [
      "24655.229473684212\n",
      "24653.229473684212\n",
      "49308.458947368425\n",
      "12327.114736842106\n",
      "12700.0\n"
     ]
    }
   ],
   "source": [
    "# standard operators work too\n",
    "print(Fort_1K_20['Market Value\\nAs of 3/31/20 ($m)'].add(1).mean())\n",
    "print(Fort_1K_20['Market Value\\nAs of 3/31/20 ($m)'].subtract(1).mean())\n",
    "print(Fort_1K_20['Market Value\\nAs of 3/31/20 ($m)'].multiply(2).mean())\n",
    "print(Fort_1K_20['Market Value\\nAs of 3/31/20 ($m)'].divide(2).mean())\n",
    "print(Fort_1K_20['Market Value\\nAs of 3/31/20 ($m)'].quantile(.75) - \\\n",
    "      Fort_1K_20['Market Value\\nAs of 3/31/20 ($m)'].quantile(.50))"
   ]
  },
  {
   "cell_type": "code",
   "execution_count": 35,
   "metadata": {
    "slideshow": {
     "slide_type": "slide"
    },
    "tags": []
   },
   "outputs": [
    {
     "name": "stdout",
     "output_type": "stream",
     "text": [
      "Industry\n",
      "Insurance Company               38\n",
      "Manufacturing Company           24\n",
      "Financial Services Company      23\n",
      "Retail Company                  19\n",
      "Financial Services              15\n",
      "                                ..\n",
      "Food Processing                  1\n",
      "Food & Beverages                 1\n",
      "Food                             1\n",
      "Financial Technology Company     1\n",
      "wholesalers: Diversified         1\n",
      "Name: count, Length: 479, dtype: int64\n"
     ]
    }
   ],
   "source": [
    "# type category\n",
    "print(Fort_1K_20_no_dash['Industry'].value_counts())"
   ]
  },
  {
   "cell_type": "markdown",
   "metadata": {
    "slideshow": {
     "slide_type": "slide"
    },
    "tags": []
   },
   "source": [
    "- The value_counts method returns a new Series object. \n",
    "- The index labels are the values \n",
    "- The values are the counts. \n",
    "- The length is equal to the number of unique values"
   ]
  },
  {
   "cell_type": "code",
   "execution_count": 36,
   "metadata": {
    "slideshow": {
     "slide_type": "slide"
    },
    "tags": []
   },
   "outputs": [
    {
     "name": "stdout",
     "output_type": "stream",
     "text": [
      "Index(['Adhesive Manufacturing Company', 'Advertising Company', 'Aerospace',\n",
      "       'Aerospace And Defense', 'Aerospace And Defense Company',\n",
      "       'Aerospace And ‎defense', 'Aerospace Company', 'Aerospace Components',\n",
      "       'Agricultural Chemical Company', 'Agricultural Machinery Company',\n",
      "       ...\n",
      "       'Well Drilling', 'Wholesale', 'Wholesale Company', 'Wholesalers',\n",
      "       'Wireless Handsets', 'Wood Office Furniture Manufacturing Company',\n",
      "       'Wood Window And Door Manufacturing Company', 'petroleum Industry',\n",
      "       'software & Tech Services', 'wholesalers: Diversified'],\n",
      "      dtype='object', length=479)\n"
     ]
    }
   ],
   "source": [
    "print(Fort_1K_20_no_dash['Industry'].cat.categories)"
   ]
  },
  {
   "cell_type": "code",
   "execution_count": 37,
   "metadata": {
    "slideshow": {
     "slide_type": "slide"
    },
    "tags": []
   },
   "outputs": [
    {
     "name": "stdout",
     "output_type": "stream",
     "text": [
      "Index(['Adhesive Manufacturing Company', 'Advertising Company', 'Aerospace',\n",
      "       'Aerospace And Defense', 'Aerospace Company', 'Aerospace Components',\n",
      "       'Agricultural Chemical Company', 'Agricultural Machinery Company',\n",
      "       'Agriculture And Shipping', 'Agriculture Company',\n",
      "       ...\n",
      "       'Video Game Series', 'Waste Management', 'Well Drilling', 'Wholesale',\n",
      "       'Wireless Handsets', 'Wood Office Furniture Manufacturing Company',\n",
      "       'Wood Window And Door Manufacturing Company', 'petroleum Industry',\n",
      "       'software & Tech Services', 'wholesalers: Diversified'],\n",
      "      dtype='object', length=474)\n"
     ]
    }
   ],
   "source": [
    "Fort_1K_20_no_dash['Industry'].replace({'Aerospace And ‎defense':'Aerospace And Defense',\n",
    "                                        'Aerospace And Defense Company':'Aerospace And Defense',\n",
    "                                        'Waste Management Company': 'Waste Management',\n",
    "                                        'Wholesale Company': 'Wholesale',\n",
    "                                        'Wholesalers': 'Wholesale'}, inplace = True)\n",
    "print(Fort_1K_20_no_dash['Industry'].cat.categories)"
   ]
  },
  {
   "cell_type": "markdown",
   "metadata": {
    "slideshow": {
     "slide_type": "slide"
    },
    "tags": []
   },
   "source": [
    "## Please Break into teams\n",
    "\n",
    "- Use Fortune_1000_2022.csv to populate a new Dataframe object\n",
    "- Make certain your teammates can all do this\n",
    "- Try to correct some of the errors in the data"
   ]
  },
  {
   "cell_type": "markdown",
   "metadata": {
    "slideshow": {
     "slide_type": "slide"
    },
    "tags": []
   },
   "source": [
    "## Try these\n",
    "\n",
    "- Extract the first two rows.\n",
    "\n",
    "- Calculate the average revenues, how did it compare to 2020?.\n",
    "\n",
    "- Calculate a five number summary for any field."
   ]
  },
  {
   "cell_type": "markdown",
   "metadata": {
    "slideshow": {
     "slide_type": "slide"
    },
    "tags": []
   },
   "source": [
    "## Sorting a series"
   ]
  },
  {
   "cell_type": "code",
   "execution_count": 38,
   "metadata": {
    "tags": []
   },
   "outputs": [
    {
     "data": {
      "text/plain": [
       "Name\n",
       "Liberty Oilfield Services     1990.00\n",
       "Spx Flow                      1996.00\n",
       "Healthpeak Properties         1997.00\n",
       "Herc Holdings                 1999.00\n",
       "Mr. Cooper Group              2007.00\n",
       "                               ...   \n",
       "Cvs Health                  256776.00\n",
       "Apple                       260174.00\n",
       "Exxon Mobil                 264938.00\n",
       "Amazon.com                  280522.00\n",
       "Walmart                     523964.00\n",
       "Name: Revenues_millions, Length: 1000, dtype: float64"
      ]
     },
     "execution_count": 38,
     "metadata": {},
     "output_type": "execute_result"
    }
   ],
   "source": [
    "Fort_1K_20_no_dash['Revenues_millions'].sort_values()"
   ]
  },
  {
   "cell_type": "markdown",
   "metadata": {
    "slideshow": {
     "slide_type": "slide"
    },
    "tags": []
   },
   "source": [
    "## Descending sort"
   ]
  },
  {
   "cell_type": "code",
   "execution_count": 39,
   "metadata": {
    "tags": []
   },
   "outputs": [
    {
     "data": {
      "text/plain": [
       "Name\n",
       "Walmart                     523964.00\n",
       "Amazon.com                  280522.00\n",
       "Exxon Mobil                 264938.00\n",
       "Apple                       260174.00\n",
       "Cvs Health                  256776.00\n",
       "                               ...   \n",
       "Mr. Cooper Group              2007.00\n",
       "Herc Holdings                 1999.00\n",
       "Healthpeak Properties         1997.00\n",
       "Spx Flow                      1996.00\n",
       "Liberty Oilfield Services     1990.00\n",
       "Name: Revenues_millions, Length: 1000, dtype: float64"
      ]
     },
     "execution_count": 39,
     "metadata": {},
     "output_type": "execute_result"
    }
   ],
   "source": [
    "Fort_1K_20_no_dash['Revenues_millions'].sort_values(ascending = False)"
   ]
  },
  {
   "cell_type": "markdown",
   "metadata": {
    "slideshow": {
     "slide_type": "slide"
    },
    "tags": []
   },
   "source": [
    "## Sorting with None or NaN"
   ]
  },
  {
   "cell_type": "code",
   "execution_count": 40,
   "metadata": {
    "tags": []
   },
   "outputs": [
    {
     "data": {
      "text/plain": [
       "Wednesday    yeast bread\n",
       "Tuesday      sweet bread\n",
       "Monday         flatbread\n",
       "Thursday            None\n",
       "Name: breads, dtype: object"
      ]
     },
     "execution_count": 40,
     "metadata": {},
     "output_type": "execute_result"
    }
   ],
   "source": [
    "breads = pd.Series(data = [\"flatbread\", \"sweet bread\", \n",
    "                           \"yeast bread\", None], \n",
    "                   index = [\"Monday\", \"Tuesday\", \"Wednesday\", \"Thursday\"],\\\n",
    "                   name = \"breads\")\n",
    "breads.sort_values(ascending = False) # None and NaN are last"
   ]
  },
  {
   "cell_type": "code",
   "execution_count": 41,
   "metadata": {
    "tags": []
   },
   "outputs": [
    {
     "data": {
      "text/plain": [
       "Monday         flatbread\n",
       "Tuesday      sweet bread\n",
       "Wednesday    yeast bread\n",
       "Name: breads, dtype: object"
      ]
     },
     "execution_count": 41,
     "metadata": {},
     "output_type": "execute_result"
    }
   ],
   "source": [
    "breads.dropna().sort_values()"
   ]
  },
  {
   "cell_type": "markdown",
   "metadata": {
    "slideshow": {
     "slide_type": "slide"
    },
    "tags": []
   },
   "source": [
    "## Sorting on the index"
   ]
  },
  {
   "cell_type": "code",
   "execution_count": 42,
   "metadata": {
    "tags": []
   },
   "outputs": [
    {
     "data": {
      "text/html": [
       "<div>\n",
       "<style scoped>\n",
       "    .dataframe tbody tr th:only-of-type {\n",
       "        vertical-align: middle;\n",
       "    }\n",
       "\n",
       "    .dataframe tbody tr th {\n",
       "        vertical-align: top;\n",
       "    }\n",
       "\n",
       "    .dataframe thead th {\n",
       "        text-align: right;\n",
       "    }\n",
       "</style>\n",
       "<table border=\"1\" class=\"dataframe\">\n",
       "  <thead>\n",
       "    <tr style=\"text-align: right;\">\n",
       "      <th></th>\n",
       "      <th>Rank</th>\n",
       "      <th>Number Of Employees</th>\n",
       "      <th>Change In Rank</th>\n",
       "      <th>Industry</th>\n",
       "      <th>Company Description</th>\n",
       "      <th>Revenues_millions</th>\n",
       "      <th>Revenue_Change</th>\n",
       "      <th>Profits_millions</th>\n",
       "      <th>Profit_Change</th>\n",
       "      <th>Assets\\n($millions)</th>\n",
       "      <th>Market Value\\nAs of 3/31/20 ($m)</th>\n",
       "    </tr>\n",
       "    <tr>\n",
       "      <th>Name</th>\n",
       "      <th></th>\n",
       "      <th></th>\n",
       "      <th></th>\n",
       "      <th></th>\n",
       "      <th></th>\n",
       "      <th></th>\n",
       "      <th></th>\n",
       "      <th></th>\n",
       "      <th></th>\n",
       "      <th></th>\n",
       "      <th></th>\n",
       "    </tr>\n",
       "  </thead>\n",
       "  <tbody>\n",
       "    <tr>\n",
       "      <th>3m</th>\n",
       "      <td>103</td>\n",
       "      <td>96163</td>\n",
       "      <td>-8.00</td>\n",
       "      <td>Multinational Conglomerate Company</td>\n",
       "      <td>The 3m Company Is An American Multinational Co...</td>\n",
       "      <td>32136.00</td>\n",
       "      <td>-1.90</td>\n",
       "      <td>4570.00</td>\n",
       "      <td>-14.60</td>\n",
       "      <td>44659.00</td>\n",
       "      <td>78529.00</td>\n",
       "    </tr>\n",
       "    <tr>\n",
       "      <th>A-mark Precious Metals</th>\n",
       "      <td>565</td>\n",
       "      <td>183</td>\n",
       "      <td>-164.00</td>\n",
       "      <td>Metals Trading Company</td>\n",
       "      <td>A Mark Coin Company -- Is A Precious Metals Tr...</td>\n",
       "      <td>4783.00</td>\n",
       "      <td>-37.10</td>\n",
       "      <td>2.20</td>\n",
       "      <td>NaN</td>\n",
       "      <td>705.00</td>\n",
       "      <td>86.00</td>\n",
       "    </tr>\n",
       "    <tr>\n",
       "      <th>A.o. Smith</th>\n",
       "      <td>785</td>\n",
       "      <td>15100</td>\n",
       "      <td>-54.00</td>\n",
       "      <td>Manufacturing Company</td>\n",
       "      <td>A. O. Smith Corporation Is An American Manufac...</td>\n",
       "      <td>2993.00</td>\n",
       "      <td>-6.10</td>\n",
       "      <td>370.00</td>\n",
       "      <td>-16.70</td>\n",
       "      <td>3058.00</td>\n",
       "      <td>6125.00</td>\n",
       "    </tr>\n",
       "    <tr>\n",
       "      <th>Aar</th>\n",
       "      <td>956</td>\n",
       "      <td>5650</td>\n",
       "      <td>NaN</td>\n",
       "      <td>Aviation; Aerospace &amp; Defense</td>\n",
       "      <td>Aar Corp. Supplies Aftermarket Products And Se...</td>\n",
       "      <td>2148.00</td>\n",
       "      <td>16.40</td>\n",
       "      <td>7.50</td>\n",
       "      <td>-51.90</td>\n",
       "      <td>1517.00</td>\n",
       "      <td>623.00</td>\n",
       "    </tr>\n",
       "    <tr>\n",
       "      <th>Aaron's</th>\n",
       "      <td>649</td>\n",
       "      <td>12100</td>\n",
       "      <td>-2.00</td>\n",
       "      <td>Furniture Company</td>\n",
       "      <td>Aaron's, Inc. Is A Lease-to-own Retailer. The ...</td>\n",
       "      <td>3948.00</td>\n",
       "      <td>3.10</td>\n",
       "      <td>31.50</td>\n",
       "      <td>-84.00</td>\n",
       "      <td>3298.00</td>\n",
       "      <td>1520.00</td>\n",
       "    </tr>\n",
       "    <tr>\n",
       "      <th>...</th>\n",
       "      <td>...</td>\n",
       "      <td>...</td>\n",
       "      <td>...</td>\n",
       "      <td>...</td>\n",
       "      <td>...</td>\n",
       "      <td>...</td>\n",
       "      <td>...</td>\n",
       "      <td>...</td>\n",
       "      <td>...</td>\n",
       "      <td>...</td>\n",
       "      <td>...</td>\n",
       "    </tr>\n",
       "    <tr>\n",
       "      <th>Zimmer Biomet Holdings</th>\n",
       "      <td>399</td>\n",
       "      <td>19900</td>\n",
       "      <td>-12.00</td>\n",
       "      <td>Medical Device</td>\n",
       "      <td>Leading Medical Device Manufacturers, Zimmer A...</td>\n",
       "      <td>7982.00</td>\n",
       "      <td>0.60</td>\n",
       "      <td>1131.60</td>\n",
       "      <td>NaN</td>\n",
       "      <td>24639.00</td>\n",
       "      <td>20891.00</td>\n",
       "    </tr>\n",
       "    <tr>\n",
       "      <th>Zions Bancorp.</th>\n",
       "      <td>740</td>\n",
       "      <td>10188</td>\n",
       "      <td>20.00</td>\n",
       "      <td>Financial</td>\n",
       "      <td>The Company Also Offers An Array Of Investment...</td>\n",
       "      <td>3245.00</td>\n",
       "      <td>7.00</td>\n",
       "      <td>816.00</td>\n",
       "      <td>-7.70</td>\n",
       "      <td>69172.00</td>\n",
       "      <td>4389.00</td>\n",
       "    </tr>\n",
       "    <tr>\n",
       "      <th>Zoetis</th>\n",
       "      <td>472</td>\n",
       "      <td>10600</td>\n",
       "      <td>15.00</td>\n",
       "      <td>Pharmaceuticals</td>\n",
       "      <td>Zoetis Inc. Is An American Drug Company, The W...</td>\n",
       "      <td>6260.00</td>\n",
       "      <td>7.50</td>\n",
       "      <td>1500.00</td>\n",
       "      <td>5.00</td>\n",
       "      <td>11545.00</td>\n",
       "      <td>55895.00</td>\n",
       "    </tr>\n",
       "    <tr>\n",
       "      <th>performance Food Group</th>\n",
       "      <td>168</td>\n",
       "      <td>18000</td>\n",
       "      <td>8.00</td>\n",
       "      <td>Food Products</td>\n",
       "      <td>The Company Distributes A Range Of Food Produc...</td>\n",
       "      <td>19744.00</td>\n",
       "      <td>12.10</td>\n",
       "      <td>166.80</td>\n",
       "      <td>-16.10</td>\n",
       "      <td>4654.00</td>\n",
       "      <td>2897.00</td>\n",
       "    </tr>\n",
       "    <tr>\n",
       "      <th>ross Stores</th>\n",
       "      <td>202</td>\n",
       "      <td>92500</td>\n",
       "      <td>7.00</td>\n",
       "      <td>Departmental Store</td>\n",
       "      <td>It Is An American Chain Of Discount Department...</td>\n",
       "      <td>16039.00</td>\n",
       "      <td>7.00</td>\n",
       "      <td>1660.90</td>\n",
       "      <td>4.60</td>\n",
       "      <td>9348.00</td>\n",
       "      <td>30952.00</td>\n",
       "    </tr>\n",
       "  </tbody>\n",
       "</table>\n",
       "<p>1000 rows × 11 columns</p>\n",
       "</div>"
      ],
      "text/plain": [
       "                        Rank  Number Of Employees  Change In Rank   \n",
       "Name                                                                \n",
       "3m                       103                96163           -8.00  \\\n",
       "A-mark Precious Metals   565                  183         -164.00   \n",
       "A.o. Smith               785                15100          -54.00   \n",
       "Aar                      956                 5650             NaN   \n",
       "Aaron's                  649                12100           -2.00   \n",
       "...                      ...                  ...             ...   \n",
       "Zimmer Biomet Holdings   399                19900          -12.00   \n",
       "Zions Bancorp.           740                10188           20.00   \n",
       "Zoetis                   472                10600           15.00   \n",
       "performance Food Group   168                18000            8.00   \n",
       "ross Stores              202                92500            7.00   \n",
       "\n",
       "                                                  Industry   \n",
       "Name                                                         \n",
       "3m                      Multinational Conglomerate Company  \\\n",
       "A-mark Precious Metals              Metals Trading Company   \n",
       "A.o. Smith                           Manufacturing Company   \n",
       "Aar                          Aviation; Aerospace & Defense   \n",
       "Aaron's                                  Furniture Company   \n",
       "...                                                    ...   \n",
       "Zimmer Biomet Holdings                      Medical Device   \n",
       "Zions Bancorp.                                   Financial   \n",
       "Zoetis                                     Pharmaceuticals   \n",
       "performance Food Group                       Food Products   \n",
       "ross Stores                             Departmental Store   \n",
       "\n",
       "                                                      Company Description   \n",
       "Name                                                                        \n",
       "3m                      The 3m Company Is An American Multinational Co...  \\\n",
       "A-mark Precious Metals  A Mark Coin Company -- Is A Precious Metals Tr...   \n",
       "A.o. Smith              A. O. Smith Corporation Is An American Manufac...   \n",
       "Aar                     Aar Corp. Supplies Aftermarket Products And Se...   \n",
       "Aaron's                 Aaron's, Inc. Is A Lease-to-own Retailer. The ...   \n",
       "...                                                                   ...   \n",
       "Zimmer Biomet Holdings  Leading Medical Device Manufacturers, Zimmer A...   \n",
       "Zions Bancorp.          The Company Also Offers An Array Of Investment...   \n",
       "Zoetis                  Zoetis Inc. Is An American Drug Company, The W...   \n",
       "performance Food Group  The Company Distributes A Range Of Food Produc...   \n",
       "ross Stores             It Is An American Chain Of Discount Department...   \n",
       "\n",
       "                        Revenues_millions  Revenue_Change  Profits_millions   \n",
       "Name                                                                          \n",
       "3m                               32136.00           -1.90           4570.00  \\\n",
       "A-mark Precious Metals            4783.00          -37.10              2.20   \n",
       "A.o. Smith                        2993.00           -6.10            370.00   \n",
       "Aar                               2148.00           16.40              7.50   \n",
       "Aaron's                           3948.00            3.10             31.50   \n",
       "...                                   ...             ...               ...   \n",
       "Zimmer Biomet Holdings            7982.00            0.60           1131.60   \n",
       "Zions Bancorp.                    3245.00            7.00            816.00   \n",
       "Zoetis                            6260.00            7.50           1500.00   \n",
       "performance Food Group           19744.00           12.10            166.80   \n",
       "ross Stores                      16039.00            7.00           1660.90   \n",
       "\n",
       "                        Profit_Change  Assets\\n($millions)   \n",
       "Name                                                         \n",
       "3m                             -14.60             44659.00  \\\n",
       "A-mark Precious Metals            NaN               705.00   \n",
       "A.o. Smith                     -16.70              3058.00   \n",
       "Aar                            -51.90              1517.00   \n",
       "Aaron's                        -84.00              3298.00   \n",
       "...                               ...                  ...   \n",
       "Zimmer Biomet Holdings            NaN             24639.00   \n",
       "Zions Bancorp.                  -7.70             69172.00   \n",
       "Zoetis                           5.00             11545.00   \n",
       "performance Food Group         -16.10              4654.00   \n",
       "ross Stores                      4.60              9348.00   \n",
       "\n",
       "                        Market Value\\nAs of 3/31/20 ($m)  \n",
       "Name                                                      \n",
       "3m                                              78529.00  \n",
       "A-mark Precious Metals                             86.00  \n",
       "A.o. Smith                                       6125.00  \n",
       "Aar                                               623.00  \n",
       "Aaron's                                          1520.00  \n",
       "...                                                  ...  \n",
       "Zimmer Biomet Holdings                          20891.00  \n",
       "Zions Bancorp.                                   4389.00  \n",
       "Zoetis                                          55895.00  \n",
       "performance Food Group                           2897.00  \n",
       "ross Stores                                     30952.00  \n",
       "\n",
       "[1000 rows x 11 columns]"
      ]
     },
     "execution_count": 42,
     "metadata": {},
     "output_type": "execute_result"
    }
   ],
   "source": [
    "Fort_1K_20_no_dash.sort_index()"
   ]
  },
  {
   "cell_type": "markdown",
   "metadata": {
    "slideshow": {
     "slide_type": "slide"
    },
    "tags": []
   },
   "source": [
    "## Helpers\n",
    "\n",
    "Frequently we sort to determine the highest/lowest etc. It's done enough that there are helper methods"
   ]
  },
  {
   "cell_type": "code",
   "execution_count": 43,
   "metadata": {
    "tags": []
   },
   "outputs": [
    {
     "data": {
      "text/plain": [
       "Name\n",
       "Centric Brands             259.80\n",
       "Apollo Global Management   223.50\n",
       "Cigna                      215.70\n",
       "Name: Revenue_Change, dtype: float64"
      ]
     },
     "execution_count": 43,
     "metadata": {},
     "output_type": "execute_result"
    }
   ],
   "source": [
    "Fort_1K_20_no_dash['Revenue_Change'].nlargest(3)"
   ]
  },
  {
   "cell_type": "code",
   "execution_count": 44,
   "metadata": {
    "tags": []
   },
   "outputs": [
    {
     "data": {
      "text/plain": [
       "Name\n",
       "Dupont                      -75.00\n",
       "Icahn Enterprises           -52.60\n",
       "Iheartmedia                 -41.80\n",
       "A-mark Precious Metals      -37.10\n",
       "Jefferies Financial Group   -34.30\n",
       "Name: Revenue_Change, dtype: float64"
      ]
     },
     "execution_count": 44,
     "metadata": {},
     "output_type": "execute_result"
    }
   ],
   "source": [
    "Fort_1K_20_no_dash['Revenue_Change'].nsmallest() # defaults to 5"
   ]
  },
  {
   "cell_type": "code",
   "execution_count": 45,
   "metadata": {
    "slideshow": {
     "slide_type": "slide"
    },
    "tags": []
   },
   "outputs": [
    {
     "name": "stdout",
     "output_type": "stream",
     "text": [
      "Name\n",
      "Walmart                      False\n",
      "Amazon.com                   False\n",
      "Exxon Mobil                  False\n",
      "Apple                        False\n",
      "Cvs Health                   False\n",
      "                             ...  \n",
      "Mr. Cooper Group              True\n",
      "Herc Holdings                False\n",
      "Healthpeak Properties        False\n",
      "Spx Flow                     False\n",
      "Liberty Oilfield Services    False\n",
      "Name: Revenue_Change, Length: 1000, dtype: bool\n",
      "8\n"
     ]
    }
   ],
   "source": [
    "# finding NAs\n",
    "print(Fort_1K_20_no_dash['Revenue_Change'].isna())\n",
    "\n",
    "# could save the sum to a new object\n",
    "# output_count_NaN = Fort_1K_20_no_dash['Revenue_Change'].isna().sum()\n",
    "\n",
    "print(Fort_1K_20_no_dash['Revenue_Change'].isna().sum())\n",
    "\n"
   ]
  },
  {
   "cell_type": "markdown",
   "metadata": {
    "slideshow": {
     "slide_type": "slide"
    },
    "tags": []
   },
   "source": [
    "## Proportion and percentage "
   ]
  },
  {
   "cell_type": "code",
   "execution_count": 46,
   "metadata": {
    "tags": []
   },
   "outputs": [
    {
     "data": {
      "text/plain": [
       "Industry\n",
       "Insurance Company            0.04\n",
       "Manufacturing Company        0.02\n",
       "Financial Services Company   0.02\n",
       "Name: proportion, dtype: float64"
      ]
     },
     "execution_count": 46,
     "metadata": {},
     "output_type": "execute_result"
    }
   ],
   "source": [
    "Fort_1K_20_no_dash['Industry'].value_counts(normalize = True).nlargest(3)"
   ]
  },
  {
   "cell_type": "code",
   "execution_count": 47,
   "metadata": {
    "tags": []
   },
   "outputs": [
    {
     "data": {
      "text/plain": [
       "Industry\n",
       "Insurance Company            3.80\n",
       "Manufacturing Company        2.40\n",
       "Financial Services Company   2.30\n",
       "Name: proportion, dtype: float64"
      ]
     },
     "execution_count": 47,
     "metadata": {},
     "output_type": "execute_result"
    }
   ],
   "source": [
    "(Fort_1K_20_no_dash['Industry'].value_counts(normalize = True).nlargest(3) * 100).round(1)"
   ]
  },
  {
   "cell_type": "markdown",
   "metadata": {
    "slideshow": {
     "slide_type": "slide"
    },
    "tags": []
   },
   "source": [
    "## Reading CSVs (not in Pandas)"
   ]
  },
  {
   "cell_type": "code",
   "execution_count": 48,
   "metadata": {},
   "outputs": [],
   "source": [
    "import csv\n",
    "\n",
    "pokemon = []\n",
    "with open('pokemon.csv', newline='') as f:\n",
    "    next(f)\n",
    "    ff = csv.reader(f)\n",
    "    for row in ff:\n",
    "        pokemon.append(row[0])\n",
    "hp = []\n",
    "with open('hp.csv', newline='') as f:\n",
    "    next(f)\n",
    "    ff = csv.reader(f)\n",
    "    for row in ff:\n",
    "        hp.append(int(row[0]))\n",
    "type1 = []\n",
    "with open('type_1.csv', newline='') as f:\n",
    "    next(f)\n",
    "    ff = csv.reader(f)\n",
    "    for row in ff:\n",
    "        type1.append(row[0])"
   ]
  },
  {
   "cell_type": "markdown",
   "metadata": {
    "slideshow": {
     "slide_type": "slide"
    },
    "tags": []
   },
   "source": [
    "## From Dictionary to DataFrame"
   ]
  },
  {
   "cell_type": "code",
   "execution_count": 49,
   "metadata": {},
   "outputs": [
    {
     "data": {
      "text/plain": [
       "[('Name', ['Bulbasaur', 'Ivysaur', 'Venusaur', 'Charmander', 'Charmeleon']),\n",
       " ('hp', [45, 60, 80, 39, 58]),\n",
       " ('Type', ['grass', 'grass', 'grass', 'fire', 'fire'])]"
      ]
     },
     "execution_count": 49,
     "metadata": {},
     "output_type": "execute_result"
    }
   ],
   "source": [
    "p = {\"Name\": pokemon[0:5], \"hp\": hp[0:5], \"Type\": type1[0:5]}\n",
    "list(p.items())[:3]"
   ]
  },
  {
   "cell_type": "code",
   "execution_count": 50,
   "metadata": {
    "tags": []
   },
   "outputs": [
    {
     "data": {
      "text/html": [
       "<div>\n",
       "<style scoped>\n",
       "    .dataframe tbody tr th:only-of-type {\n",
       "        vertical-align: middle;\n",
       "    }\n",
       "\n",
       "    .dataframe tbody tr th {\n",
       "        vertical-align: top;\n",
       "    }\n",
       "\n",
       "    .dataframe thead th {\n",
       "        text-align: right;\n",
       "    }\n",
       "</style>\n",
       "<table border=\"1\" class=\"dataframe\">\n",
       "  <thead>\n",
       "    <tr style=\"text-align: right;\">\n",
       "      <th></th>\n",
       "      <th>Name</th>\n",
       "      <th>hp</th>\n",
       "      <th>Type</th>\n",
       "    </tr>\n",
       "  </thead>\n",
       "  <tbody>\n",
       "    <tr>\n",
       "      <th>0</th>\n",
       "      <td>Bulbasaur</td>\n",
       "      <td>45</td>\n",
       "      <td>grass</td>\n",
       "    </tr>\n",
       "    <tr>\n",
       "      <th>1</th>\n",
       "      <td>Ivysaur</td>\n",
       "      <td>60</td>\n",
       "      <td>grass</td>\n",
       "    </tr>\n",
       "    <tr>\n",
       "      <th>2</th>\n",
       "      <td>Venusaur</td>\n",
       "      <td>80</td>\n",
       "      <td>grass</td>\n",
       "    </tr>\n",
       "    <tr>\n",
       "      <th>3</th>\n",
       "      <td>Charmander</td>\n",
       "      <td>39</td>\n",
       "      <td>fire</td>\n",
       "    </tr>\n",
       "    <tr>\n",
       "      <th>4</th>\n",
       "      <td>Charmeleon</td>\n",
       "      <td>58</td>\n",
       "      <td>fire</td>\n",
       "    </tr>\n",
       "    <tr>\n",
       "      <th>...</th>\n",
       "      <td>...</td>\n",
       "      <td>...</td>\n",
       "      <td>...</td>\n",
       "    </tr>\n",
       "    <tr>\n",
       "      <th>893</th>\n",
       "      <td>Regieleki</td>\n",
       "      <td>80</td>\n",
       "      <td>electric</td>\n",
       "    </tr>\n",
       "    <tr>\n",
       "      <th>894</th>\n",
       "      <td>Regidrago</td>\n",
       "      <td>200</td>\n",
       "      <td>dragon</td>\n",
       "    </tr>\n",
       "    <tr>\n",
       "      <th>895</th>\n",
       "      <td>Glastrier</td>\n",
       "      <td>100</td>\n",
       "      <td>ice</td>\n",
       "    </tr>\n",
       "    <tr>\n",
       "      <th>896</th>\n",
       "      <td>Spectrier</td>\n",
       "      <td>100</td>\n",
       "      <td>ghost</td>\n",
       "    </tr>\n",
       "    <tr>\n",
       "      <th>897</th>\n",
       "      <td>Calyrex</td>\n",
       "      <td>100</td>\n",
       "      <td>psychic</td>\n",
       "    </tr>\n",
       "  </tbody>\n",
       "</table>\n",
       "<p>898 rows × 3 columns</p>\n",
       "</div>"
      ],
      "text/plain": [
       "           Name   hp      Type\n",
       "0     Bulbasaur   45     grass\n",
       "1       Ivysaur   60     grass\n",
       "2      Venusaur   80     grass\n",
       "3    Charmander   39      fire\n",
       "4    Charmeleon   58      fire\n",
       "..          ...  ...       ...\n",
       "893   Regieleki   80  electric\n",
       "894   Regidrago  200    dragon\n",
       "895   Glastrier  100       ice\n",
       "896   Spectrier  100     ghost\n",
       "897     Calyrex  100   psychic\n",
       "\n",
       "[898 rows x 3 columns]"
      ]
     },
     "execution_count": 50,
     "metadata": {},
     "output_type": "execute_result"
    }
   ],
   "source": [
    "Pokemon = pd.DataFrame({\"Name\": pokemon, \"hp\": hp, \"Type\": type1})\n",
    "Pokemon"
   ]
  },
  {
   "cell_type": "markdown",
   "metadata": {
    "slideshow": {
     "slide_type": "slide"
    },
    "tags": []
   },
   "source": [
    "<h1> Statistics 21 <br/> Have a good night! </h1>"
   ]
  },
  {
   "cell_type": "raw",
   "metadata": {
    "slideshow": {
     "slide_type": "-"
    },
    "tags": []
   },
   "source": [
    "<script>\n",
    "    setBackgroundImage(\"Window1.jpg\", \"black\");\n",
    "</script>"
   ]
  }
 ],
 "metadata": {
  "kernelspec": {
   "display_name": "Python 3 (ipykernel)",
   "language": "python",
   "name": "python3"
  },
  "language_info": {
   "codemirror_mode": {
    "name": "ipython",
    "version": 3
   },
   "file_extension": ".py",
   "mimetype": "text/x-python",
   "name": "python",
   "nbconvert_exporter": "python",
   "pygments_lexer": "ipython3",
   "version": "3.10.8"
  }
 },
 "nbformat": 4,
 "nbformat_minor": 4
}
