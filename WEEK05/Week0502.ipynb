{
 "cells": [
  {
   "cell_type": "markdown",
   "metadata": {},
   "source": [
    "<script>\n",
    "    function findAncestor (el, name) {\n",
    "        while ((el = el.parentElement) && el.nodeName.toLowerCase() !== name);\n",
    "        return el;\n",
    "    }\n",
    "    function colorAll(el, textColor) {\n",
    "        el.style.color = textColor;\n",
    "        Array.from(el.children).forEach((e) => {colorAll(e, textColor);});\n",
    "    }\n",
    "    function setBackgroundImage(src, textColor) {\n",
    "        var section = findAncestor(document.currentScript, \"section\");\n",
    "        if (section) {\n",
    "            section.setAttribute(\"data-background-image\", src);\n",
    "\t\t\tif (textColor) colorAll(section, textColor);\n",
    "        }\n",
    "    }\n",
    "</script>"
   ]
  },
  {
   "cell_type": "markdown",
   "metadata": {},
   "source": [
    "<style>\n",
    "h1 {\n",
    "  border: 1.5px solid #333;\n",
    "  padding: 8px 12px;\n",
    "  background-image: linear-gradient(#2774AE,#ebf8e1, #FFD100);\n",
    "  position: static;\n",
    "}\n",
    "</style>"
   ]
  },
  {
   "cell_type": "markdown",
   "metadata": {},
   "source": [
    "<h1 style='color:white'> Statistics 21 <br/> Python & Other Technologies for Data Science </h1>\n",
    "\n",
    "<h3 style='color:white'>Vivian Lew, PhD - Friday, Week 5</h3>"
   ]
  },
  {
   "cell_type": "markdown",
   "metadata": {},
   "source": [
    "<script>\n",
    "    setBackgroundImage(\"Window1.jpg\");\n",
    "</script>"
   ]
  },
  {
   "cell_type": "markdown",
   "metadata": {
    "slideshow": {
     "slide_type": "slide"
    }
   },
   "source": [
    "# Pandas DataFrames\n",
    "\n",
    "## Week 5 Friday\n",
    "\n",
    "## Adapted from Pandas in Action by B.Pashkaver and Python for Data Analysis by W. McKinney"
   ]
  },
  {
   "cell_type": "markdown",
   "metadata": {
    "slideshow": {
     "slide_type": "slide"
    },
    "tags": []
   },
   "source": [
    "We will be using the following today:"
   ]
  },
  {
   "cell_type": "code",
   "execution_count": 1,
   "metadata": {
    "tags": []
   },
   "outputs": [],
   "source": [
    "import numpy as np\n",
    "import pandas as pd\n",
    "import pyreadstat # you may need to install it\n",
    "import datetime"
   ]
  },
  {
   "cell_type": "markdown",
   "metadata": {},
   "source": [
    "and various datasets "
   ]
  },
  {
   "cell_type": "markdown",
   "metadata": {
    "slideshow": {
     "slide_type": "slide"
    },
    "tags": []
   },
   "source": [
    "## Intro\n",
    "\n",
    "- A pandas DataFrame is a two-dimensional table of data with rows and columns \n",
    "- pandas assigns an index label and an index position to each DataFrame row\n",
    "- pandas also assigns a label and a position to each column\n",
    "\n",
    "The DataFrame is two-dimensional because it requires two points of reference to specify a data value. \n",
    "\n",
    "`pd.DataFrame( )` is the basic constructor, ideally it likes a dictionary data structure but is adaptable."
   ]
  },
  {
   "cell_type": "markdown",
   "metadata": {
    "slideshow": {
     "slide_type": "slide"
    },
    "tags": []
   },
   "source": [
    "## Direct read to DataFrame from different sources\n",
    "\n",
    "- the read_ functions can transform data from a variety of sources (e.g., csv, SAS, SPSS, json)\n",
    "- and can do so remotely URL:"
   ]
  },
  {
   "cell_type": "code",
   "execution_count": 2,
   "metadata": {
    "tags": []
   },
   "outputs": [],
   "source": [
    "DIS = pd.read_csv('http://www.stat.ucla.edu/~vlew/datasets/DISNEY.csv')"
   ]
  },
  {
   "cell_type": "code",
   "execution_count": 3,
   "metadata": {
    "slideshow": {
     "slide_type": "fragment"
    },
    "tags": []
   },
   "outputs": [
    {
     "data": {
      "text/html": [
       "<div>\n",
       "<style scoped>\n",
       "    .dataframe tbody tr th:only-of-type {\n",
       "        vertical-align: middle;\n",
       "    }\n",
       "\n",
       "    .dataframe tbody tr th {\n",
       "        vertical-align: top;\n",
       "    }\n",
       "\n",
       "    .dataframe thead th {\n",
       "        text-align: right;\n",
       "    }\n",
       "</style>\n",
       "<table border=\"1\" class=\"dataframe\">\n",
       "  <thead>\n",
       "    <tr style=\"text-align: right;\">\n",
       "      <th></th>\n",
       "      <th>Date</th>\n",
       "      <th>Open</th>\n",
       "      <th>High</th>\n",
       "      <th>Low</th>\n",
       "      <th>Close</th>\n",
       "      <th>Adj Close</th>\n",
       "      <th>Volume</th>\n",
       "      <th>YM</th>\n",
       "    </tr>\n",
       "  </thead>\n",
       "  <tbody>\n",
       "    <tr>\n",
       "      <th>0</th>\n",
       "      <td>2019-07-01</td>\n",
       "      <td>140.449997</td>\n",
       "      <td>141.949997</td>\n",
       "      <td>139.220001</td>\n",
       "      <td>141.649994</td>\n",
       "      <td>139.939774</td>\n",
       "      <td>8996500</td>\n",
       "      <td>19/07</td>\n",
       "    </tr>\n",
       "    <tr>\n",
       "      <th>1</th>\n",
       "      <td>2019-07-02</td>\n",
       "      <td>141.399994</td>\n",
       "      <td>142.860001</td>\n",
       "      <td>141.270004</td>\n",
       "      <td>142.529999</td>\n",
       "      <td>140.809143</td>\n",
       "      <td>7554100</td>\n",
       "      <td>19/07</td>\n",
       "    </tr>\n",
       "    <tr>\n",
       "      <th>2</th>\n",
       "      <td>2019-07-03</td>\n",
       "      <td>142.699997</td>\n",
       "      <td>143.000000</td>\n",
       "      <td>142.000000</td>\n",
       "      <td>142.979996</td>\n",
       "      <td>141.253708</td>\n",
       "      <td>4150900</td>\n",
       "      <td>19/07</td>\n",
       "    </tr>\n",
       "    <tr>\n",
       "      <th>3</th>\n",
       "      <td>2019-07-05</td>\n",
       "      <td>141.419998</td>\n",
       "      <td>142.889999</td>\n",
       "      <td>140.699997</td>\n",
       "      <td>142.449997</td>\n",
       "      <td>141.601624</td>\n",
       "      <td>5596000</td>\n",
       "      <td>19/07</td>\n",
       "    </tr>\n",
       "    <tr>\n",
       "      <th>4</th>\n",
       "      <td>2019-07-08</td>\n",
       "      <td>142.179993</td>\n",
       "      <td>142.229996</td>\n",
       "      <td>140.970001</td>\n",
       "      <td>141.020004</td>\n",
       "      <td>140.180145</td>\n",
       "      <td>4993900</td>\n",
       "      <td>19/07</td>\n",
       "    </tr>\n",
       "    <tr>\n",
       "      <th>...</th>\n",
       "      <td>...</td>\n",
       "      <td>...</td>\n",
       "      <td>...</td>\n",
       "      <td>...</td>\n",
       "      <td>...</td>\n",
       "      <td>...</td>\n",
       "      <td>...</td>\n",
       "      <td>...</td>\n",
       "    </tr>\n",
       "    <tr>\n",
       "      <th>248</th>\n",
       "      <td>2020-06-24</td>\n",
       "      <td>115.849998</td>\n",
       "      <td>116.000000</td>\n",
       "      <td>110.029999</td>\n",
       "      <td>112.070000</td>\n",
       "      <td>112.070000</td>\n",
       "      <td>22252500</td>\n",
       "      <td>20/06</td>\n",
       "    </tr>\n",
       "    <tr>\n",
       "      <th>249</th>\n",
       "      <td>2020-06-25</td>\n",
       "      <td>108.989998</td>\n",
       "      <td>111.510002</td>\n",
       "      <td>108.500000</td>\n",
       "      <td>111.360001</td>\n",
       "      <td>111.360001</td>\n",
       "      <td>17240400</td>\n",
       "      <td>20/06</td>\n",
       "    </tr>\n",
       "    <tr>\n",
       "      <th>250</th>\n",
       "      <td>2020-06-26</td>\n",
       "      <td>110.949997</td>\n",
       "      <td>111.199997</td>\n",
       "      <td>108.019997</td>\n",
       "      <td>109.099998</td>\n",
       "      <td>109.099998</td>\n",
       "      <td>15270900</td>\n",
       "      <td>20/06</td>\n",
       "    </tr>\n",
       "    <tr>\n",
       "      <th>251</th>\n",
       "      <td>2020-06-29</td>\n",
       "      <td>109.000000</td>\n",
       "      <td>111.570000</td>\n",
       "      <td>108.099998</td>\n",
       "      <td>111.519997</td>\n",
       "      <td>111.519997</td>\n",
       "      <td>12584300</td>\n",
       "      <td>20/06</td>\n",
       "    </tr>\n",
       "    <tr>\n",
       "      <th>252</th>\n",
       "      <td>2020-06-30</td>\n",
       "      <td>111.500000</td>\n",
       "      <td>112.050003</td>\n",
       "      <td>109.930000</td>\n",
       "      <td>111.510002</td>\n",
       "      <td>111.510002</td>\n",
       "      <td>10565900</td>\n",
       "      <td>20/06</td>\n",
       "    </tr>\n",
       "  </tbody>\n",
       "</table>\n",
       "<p>253 rows × 8 columns</p>\n",
       "</div>"
      ],
      "text/plain": [
       "           Date        Open        High         Low       Close   Adj Close   \n",
       "0    2019-07-01  140.449997  141.949997  139.220001  141.649994  139.939774  \\\n",
       "1    2019-07-02  141.399994  142.860001  141.270004  142.529999  140.809143   \n",
       "2    2019-07-03  142.699997  143.000000  142.000000  142.979996  141.253708   \n",
       "3    2019-07-05  141.419998  142.889999  140.699997  142.449997  141.601624   \n",
       "4    2019-07-08  142.179993  142.229996  140.970001  141.020004  140.180145   \n",
       "..          ...         ...         ...         ...         ...         ...   \n",
       "248  2020-06-24  115.849998  116.000000  110.029999  112.070000  112.070000   \n",
       "249  2020-06-25  108.989998  111.510002  108.500000  111.360001  111.360001   \n",
       "250  2020-06-26  110.949997  111.199997  108.019997  109.099998  109.099998   \n",
       "251  2020-06-29  109.000000  111.570000  108.099998  111.519997  111.519997   \n",
       "252  2020-06-30  111.500000  112.050003  109.930000  111.510002  111.510002   \n",
       "\n",
       "       Volume     YM  \n",
       "0     8996500  19/07  \n",
       "1     7554100  19/07  \n",
       "2     4150900  19/07  \n",
       "3     5596000  19/07  \n",
       "4     4993900  19/07  \n",
       "..        ...    ...  \n",
       "248  22252500  20/06  \n",
       "249  17240400  20/06  \n",
       "250  15270900  20/06  \n",
       "251  12584300  20/06  \n",
       "252  10565900  20/06  \n",
       "\n",
       "[253 rows x 8 columns]"
      ]
     },
     "execution_count": 3,
     "metadata": {},
     "output_type": "execute_result"
    }
   ],
   "source": [
    "DIS"
   ]
  },
  {
   "cell_type": "markdown",
   "metadata": {
    "slideshow": {
     "slide_type": "slide"
    },
    "tags": []
   },
   "source": [
    "## Generated data from Numpy to Pandas"
   ]
  },
  {
   "cell_type": "code",
   "execution_count": 4,
   "metadata": {
    "slideshow": {
     "slide_type": "fragment"
    },
    "tags": []
   },
   "outputs": [
    {
     "data": {
      "text/plain": [
       "array([[38, 13, 73, 10, 76],\n",
       "       [ 6, 80, 65, 17,  2],\n",
       "       [77, 72,  7, 26, 51]])"
      ]
     },
     "execution_count": 4,
     "metadata": {},
     "output_type": "execute_result"
    }
   ],
   "source": [
    "np.random.seed(1)\n",
    "random_data = np.random.randint(1, 101, [3, 5])\n",
    "random_data"
   ]
  },
  {
   "cell_type": "code",
   "execution_count": 5,
   "metadata": {
    "tags": []
   },
   "outputs": [
    {
     "data": {
      "text/html": [
       "<div>\n",
       "<style scoped>\n",
       "    .dataframe tbody tr th:only-of-type {\n",
       "        vertical-align: middle;\n",
       "    }\n",
       "\n",
       "    .dataframe tbody tr th {\n",
       "        vertical-align: top;\n",
       "    }\n",
       "\n",
       "    .dataframe thead th {\n",
       "        text-align: right;\n",
       "    }\n",
       "</style>\n",
       "<table border=\"1\" class=\"dataframe\">\n",
       "  <thead>\n",
       "    <tr style=\"text-align: right;\">\n",
       "      <th></th>\n",
       "      <th>0</th>\n",
       "      <th>1</th>\n",
       "      <th>2</th>\n",
       "      <th>3</th>\n",
       "      <th>4</th>\n",
       "    </tr>\n",
       "  </thead>\n",
       "  <tbody>\n",
       "    <tr>\n",
       "      <th>0</th>\n",
       "      <td>38</td>\n",
       "      <td>13</td>\n",
       "      <td>73</td>\n",
       "      <td>10</td>\n",
       "      <td>76</td>\n",
       "    </tr>\n",
       "    <tr>\n",
       "      <th>1</th>\n",
       "      <td>6</td>\n",
       "      <td>80</td>\n",
       "      <td>65</td>\n",
       "      <td>17</td>\n",
       "      <td>2</td>\n",
       "    </tr>\n",
       "    <tr>\n",
       "      <th>2</th>\n",
       "      <td>77</td>\n",
       "      <td>72</td>\n",
       "      <td>7</td>\n",
       "      <td>26</td>\n",
       "      <td>51</td>\n",
       "    </tr>\n",
       "  </tbody>\n",
       "</table>\n",
       "</div>"
      ],
      "text/plain": [
       "    0   1   2   3   4\n",
       "0  38  13  73  10  76\n",
       "1   6  80  65  17   2\n",
       "2  77  72   7  26  51"
      ]
     },
     "execution_count": 5,
     "metadata": {},
     "output_type": "execute_result"
    }
   ],
   "source": [
    "pd.DataFrame(data = random_data)"
   ]
  },
  {
   "cell_type": "code",
   "execution_count": 6,
   "metadata": {
    "slideshow": {
     "slide_type": "slide"
    },
    "tags": []
   },
   "outputs": [
    {
     "data": {
      "text/html": [
       "<div>\n",
       "<style scoped>\n",
       "    .dataframe tbody tr th:only-of-type {\n",
       "        vertical-align: middle;\n",
       "    }\n",
       "\n",
       "    .dataframe tbody tr th {\n",
       "        vertical-align: top;\n",
       "    }\n",
       "\n",
       "    .dataframe thead th {\n",
       "        text-align: right;\n",
       "    }\n",
       "</style>\n",
       "<table border=\"1\" class=\"dataframe\">\n",
       "  <thead>\n",
       "    <tr style=\"text-align: right;\">\n",
       "      <th></th>\n",
       "      <th>t1</th>\n",
       "      <th>t2</th>\n",
       "      <th>t3</th>\n",
       "      <th>t4</th>\n",
       "      <th>t5</th>\n",
       "    </tr>\n",
       "  </thead>\n",
       "  <tbody>\n",
       "    <tr>\n",
       "      <th>s1</th>\n",
       "      <td>38</td>\n",
       "      <td>13</td>\n",
       "      <td>73</td>\n",
       "      <td>10</td>\n",
       "      <td>76</td>\n",
       "    </tr>\n",
       "    <tr>\n",
       "      <th>s2</th>\n",
       "      <td>6</td>\n",
       "      <td>80</td>\n",
       "      <td>65</td>\n",
       "      <td>17</td>\n",
       "      <td>2</td>\n",
       "    </tr>\n",
       "    <tr>\n",
       "      <th>s3</th>\n",
       "      <td>77</td>\n",
       "      <td>72</td>\n",
       "      <td>7</td>\n",
       "      <td>26</td>\n",
       "      <td>51</td>\n",
       "    </tr>\n",
       "  </tbody>\n",
       "</table>\n",
       "</div>"
      ],
      "text/plain": [
       "    t1  t2  t3  t4  t5\n",
       "s1  38  13  73  10  76\n",
       "s2   6  80  65  17   2\n",
       "s3  77  72   7  26  51"
      ]
     },
     "execution_count": 6,
     "metadata": {},
     "output_type": "execute_result"
    }
   ],
   "source": [
    "scores = pd.DataFrame(\n",
    "            data = random_data, \n",
    "            index = ['s1', 's2', 's3'], \n",
    "            columns = ['t1', 't2', 't3', 't4', 't5']\n",
    "        )\n",
    "scores"
   ]
  },
  {
   "cell_type": "markdown",
   "metadata": {
    "slideshow": {
     "slide_type": "slide"
    },
    "tags": []
   },
   "source": [
    "## For Practice (you will need to install & import pyreadstat)\n",
    "\n",
    "SPSS (IBM's stat software)"
   ]
  },
  {
   "cell_type": "code",
   "execution_count": 7,
   "metadata": {
    "tags": []
   },
   "outputs": [
    {
     "data": {
      "text/html": [
       "<div>\n",
       "<style scoped>\n",
       "    .dataframe tbody tr th:only-of-type {\n",
       "        vertical-align: middle;\n",
       "    }\n",
       "\n",
       "    .dataframe tbody tr th {\n",
       "        vertical-align: top;\n",
       "    }\n",
       "\n",
       "    .dataframe thead th {\n",
       "        text-align: right;\n",
       "    }\n",
       "</style>\n",
       "<table border=\"1\" class=\"dataframe\">\n",
       "  <thead>\n",
       "    <tr style=\"text-align: right;\">\n",
       "      <th></th>\n",
       "      <th>U_S_</th>\n",
       "      <th>reside_spouse</th>\n",
       "      <th>reside_child</th>\n",
       "      <th>cookBR</th>\n",
       "      <th>laundryBR</th>\n",
       "      <th>shopBR</th>\n",
       "      <th>dishesBR</th>\n",
       "      <th>cleanBR</th>\n",
       "      <th>driveBR</th>\n",
       "      <th>cookAR</th>\n",
       "      <th>...</th>\n",
       "      <th>reltext</th>\n",
       "      <th>evan</th>\n",
       "      <th>attend</th>\n",
       "      <th>married</th>\n",
       "      <th>prevmar</th>\n",
       "      <th>prevmarP</th>\n",
       "      <th>prevchild</th>\n",
       "      <th>extend</th>\n",
       "      <th>state</th>\n",
       "      <th>CPSweightW1</th>\n",
       "    </tr>\n",
       "    <tr>\n",
       "      <th>ID</th>\n",
       "      <th></th>\n",
       "      <th></th>\n",
       "      <th></th>\n",
       "      <th></th>\n",
       "      <th></th>\n",
       "      <th></th>\n",
       "      <th></th>\n",
       "      <th></th>\n",
       "      <th></th>\n",
       "      <th></th>\n",
       "      <th></th>\n",
       "      <th></th>\n",
       "      <th></th>\n",
       "      <th></th>\n",
       "      <th></th>\n",
       "      <th></th>\n",
       "      <th></th>\n",
       "      <th></th>\n",
       "      <th></th>\n",
       "      <th></th>\n",
       "      <th></th>\n",
       "    </tr>\n",
       "  </thead>\n",
       "  <tbody>\n",
       "    <tr>\n",
       "      <th>1.0</th>\n",
       "      <td>Yes</td>\n",
       "      <td>Yes</td>\n",
       "      <td>Yes</td>\n",
       "      <td>I did more of it</td>\n",
       "      <td>I did more of it</td>\n",
       "      <td>I did it all</td>\n",
       "      <td>My partner did more of it</td>\n",
       "      <td>We shared it equally</td>\n",
       "      <td>We shared it equally</td>\n",
       "      <td>I do more of it</td>\n",
       "      <td>...</td>\n",
       "      <td></td>\n",
       "      <td>Yes</td>\n",
       "      <td>Green</td>\n",
       "      <td>Married</td>\n",
       "      <td>No</td>\n",
       "      <td>No</td>\n",
       "      <td>No</td>\n",
       "      <td>No</td>\n",
       "      <td>Michigan</td>\n",
       "      <td>0.419133</td>\n",
       "    </tr>\n",
       "    <tr>\n",
       "      <th>2.0</th>\n",
       "      <td>Yes</td>\n",
       "      <td>Yes</td>\n",
       "      <td>Yes</td>\n",
       "      <td>I did more of it</td>\n",
       "      <td>I did more of it</td>\n",
       "      <td>I did more of it</td>\n",
       "      <td>I did more of it</td>\n",
       "      <td>We shared it equally</td>\n",
       "      <td>We shared it equally</td>\n",
       "      <td>I do it all</td>\n",
       "      <td>...</td>\n",
       "      <td></td>\n",
       "      <td>No</td>\n",
       "      <td>Green</td>\n",
       "      <td>Married</td>\n",
       "      <td>No</td>\n",
       "      <td>No</td>\n",
       "      <td>No</td>\n",
       "      <td>No</td>\n",
       "      <td>Kentucky</td>\n",
       "      <td>0.599348</td>\n",
       "    </tr>\n",
       "    <tr>\n",
       "      <th>3.0</th>\n",
       "      <td>Yes</td>\n",
       "      <td>Yes</td>\n",
       "      <td>Yes</td>\n",
       "      <td>We shared it equally</td>\n",
       "      <td>We shared it equally</td>\n",
       "      <td>My partner did more of it</td>\n",
       "      <td>We shared it equally</td>\n",
       "      <td>We shared it equally</td>\n",
       "      <td>N/A</td>\n",
       "      <td>I do more of it</td>\n",
       "      <td>...</td>\n",
       "      <td>spiritual</td>\n",
       "      <td>No</td>\n",
       "      <td>Green</td>\n",
       "      <td>Married</td>\n",
       "      <td>No</td>\n",
       "      <td>No</td>\n",
       "      <td>No</td>\n",
       "      <td>No</td>\n",
       "      <td>Maryland</td>\n",
       "      <td>0.419133</td>\n",
       "    </tr>\n",
       "    <tr>\n",
       "      <th>4.0</th>\n",
       "      <td>Yes</td>\n",
       "      <td>Yes</td>\n",
       "      <td>Yes</td>\n",
       "      <td>My partner did more of it</td>\n",
       "      <td>We shared it equally</td>\n",
       "      <td>I did more of it</td>\n",
       "      <td>I did more of it</td>\n",
       "      <td>We shared it equally</td>\n",
       "      <td>We shared it equally</td>\n",
       "      <td>My partner does more of it</td>\n",
       "      <td>...</td>\n",
       "      <td></td>\n",
       "      <td>No</td>\n",
       "      <td>Green</td>\n",
       "      <td>Married</td>\n",
       "      <td>No</td>\n",
       "      <td>No</td>\n",
       "      <td>No</td>\n",
       "      <td>No</td>\n",
       "      <td>California</td>\n",
       "      <td>1.791661</td>\n",
       "    </tr>\n",
       "    <tr>\n",
       "      <th>5.0</th>\n",
       "      <td>Yes</td>\n",
       "      <td>Yes</td>\n",
       "      <td>Yes</td>\n",
       "      <td>I did more of it</td>\n",
       "      <td>I did more of it</td>\n",
       "      <td>We shared it equally</td>\n",
       "      <td>I did it all</td>\n",
       "      <td>I did it all</td>\n",
       "      <td>We shared it equally</td>\n",
       "      <td>My partner does more of it</td>\n",
       "      <td>...</td>\n",
       "      <td></td>\n",
       "      <td>NaN</td>\n",
       "      <td>Green</td>\n",
       "      <td>Married</td>\n",
       "      <td>No</td>\n",
       "      <td>No</td>\n",
       "      <td>No</td>\n",
       "      <td>No</td>\n",
       "      <td>Mississippi</td>\n",
       "      <td>0.419133</td>\n",
       "    </tr>\n",
       "  </tbody>\n",
       "</table>\n",
       "<p>5 rows × 275 columns</p>\n",
       "</div>"
      ],
      "text/plain": [
       "    U_S_ reside_spouse reside_child                     cookBR   \n",
       "ID                                                               \n",
       "1.0  Yes           Yes          Yes           I did more of it  \\\n",
       "2.0  Yes           Yes          Yes           I did more of it   \n",
       "3.0  Yes           Yes          Yes       We shared it equally   \n",
       "4.0  Yes           Yes          Yes  My partner did more of it   \n",
       "5.0  Yes           Yes          Yes           I did more of it   \n",
       "\n",
       "                laundryBR                     shopBR   \n",
       "ID                                                     \n",
       "1.0      I did more of it               I did it all  \\\n",
       "2.0      I did more of it           I did more of it   \n",
       "3.0  We shared it equally  My partner did more of it   \n",
       "4.0  We shared it equally           I did more of it   \n",
       "5.0      I did more of it       We shared it equally   \n",
       "\n",
       "                      dishesBR               cleanBR               driveBR   \n",
       "ID                                                                           \n",
       "1.0  My partner did more of it  We shared it equally  We shared it equally  \\\n",
       "2.0           I did more of it  We shared it equally  We shared it equally   \n",
       "3.0       We shared it equally  We shared it equally                   N/A   \n",
       "4.0           I did more of it  We shared it equally  We shared it equally   \n",
       "5.0               I did it all          I did it all  We shared it equally   \n",
       "\n",
       "                         cookAR  ...    reltext evan attend  married prevmar   \n",
       "ID                               ...                                           \n",
       "1.0             I do more of it  ...             Yes  Green  Married      No  \\\n",
       "2.0                 I do it all  ...              No  Green  Married      No   \n",
       "3.0             I do more of it  ...  spiritual   No  Green  Married      No   \n",
       "4.0  My partner does more of it  ...              No  Green  Married      No   \n",
       "5.0  My partner does more of it  ...             NaN  Green  Married      No   \n",
       "\n",
       "    prevmarP prevchild extend        state CPSweightW1  \n",
       "ID                                                      \n",
       "1.0       No        No     No     Michigan    0.419133  \n",
       "2.0       No        No     No     Kentucky    0.599348  \n",
       "3.0       No        No     No     Maryland    0.419133  \n",
       "4.0       No        No     No   California    1.791661  \n",
       "5.0       No        No     No  Mississippi    0.419133  \n",
       "\n",
       "[5 rows x 275 columns]"
      ]
     },
     "execution_count": 7,
     "metadata": {},
     "output_type": "execute_result"
    }
   ],
   "source": [
    "cc = pd.read_spss('SPDLCWave1Data.sav')\n",
    "# Set the desired column as the index\n",
    "index_column = 'ID'  \n",
    "cc.set_index(index_column, inplace=True)\n",
    "cc.head()"
   ]
  },
  {
   "cell_type": "markdown",
   "metadata": {
    "slideshow": {
     "slide_type": "slide"
    },
    "tags": []
   },
   "source": [
    "## more practice\n",
    "\n",
    "SAS - widely used in high places (e.g., federal government) mostly used for advanced analytics."
   ]
  },
  {
   "cell_type": "code",
   "execution_count": 8,
   "metadata": {
    "tags": []
   },
   "outputs": [],
   "source": [
    "d = pd.read_sas(\"http://www.principlesofeconometrics.com/sas/usa.sas7bdat\")"
   ]
  },
  {
   "cell_type": "code",
   "execution_count": 9,
   "metadata": {
    "tags": []
   },
   "outputs": [
    {
     "data": {
      "text/html": [
       "<div>\n",
       "<style scoped>\n",
       "    .dataframe tbody tr th:only-of-type {\n",
       "        vertical-align: middle;\n",
       "    }\n",
       "\n",
       "    .dataframe tbody tr th {\n",
       "        vertical-align: top;\n",
       "    }\n",
       "\n",
       "    .dataframe thead th {\n",
       "        text-align: right;\n",
       "    }\n",
       "</style>\n",
       "<table border=\"1\" class=\"dataframe\">\n",
       "  <thead>\n",
       "    <tr style=\"text-align: right;\">\n",
       "      <th></th>\n",
       "      <th>GDP</th>\n",
       "      <th>INF</th>\n",
       "      <th>F</th>\n",
       "      <th>B</th>\n",
       "    </tr>\n",
       "  </thead>\n",
       "  <tbody>\n",
       "    <tr>\n",
       "      <th>0</th>\n",
       "      <td>4119.500000</td>\n",
       "      <td>3.548619</td>\n",
       "      <td>8.47667</td>\n",
       "      <td>10.67670</td>\n",
       "    </tr>\n",
       "    <tr>\n",
       "      <th>1</th>\n",
       "      <td>4178.399902</td>\n",
       "      <td>3.645685</td>\n",
       "      <td>7.92333</td>\n",
       "      <td>9.76333</td>\n",
       "    </tr>\n",
       "    <tr>\n",
       "      <th>2</th>\n",
       "      <td>4261.299805</td>\n",
       "      <td>3.309139</td>\n",
       "      <td>7.90000</td>\n",
       "      <td>9.28667</td>\n",
       "    </tr>\n",
       "    <tr>\n",
       "      <th>3</th>\n",
       "      <td>4321.799805</td>\n",
       "      <td>3.469453</td>\n",
       "      <td>8.10333</td>\n",
       "      <td>8.84333</td>\n",
       "    </tr>\n",
       "    <tr>\n",
       "      <th>4</th>\n",
       "      <td>4385.600098</td>\n",
       "      <td>3.060950</td>\n",
       "      <td>7.82667</td>\n",
       "      <td>7.93667</td>\n",
       "    </tr>\n",
       "  </tbody>\n",
       "</table>\n",
       "</div>"
      ],
      "text/plain": [
       "           GDP       INF        F         B\n",
       "0  4119.500000  3.548619  8.47667  10.67670\n",
       "1  4178.399902  3.645685  7.92333   9.76333\n",
       "2  4261.299805  3.309139  7.90000   9.28667\n",
       "3  4321.799805  3.469453  8.10333   8.84333\n",
       "4  4385.600098  3.060950  7.82667   7.93667"
      ]
     },
     "execution_count": 9,
     "metadata": {},
     "output_type": "execute_result"
    }
   ],
   "source": [
    "d.head()"
   ]
  },
  {
   "cell_type": "markdown",
   "metadata": {
    "slideshow": {
     "slide_type": "slide"
    },
    "tags": []
   },
   "source": [
    "## still more practice\n",
    "\n",
    "Stata - \"boutique\" software favored by Economists."
   ]
  },
  {
   "cell_type": "code",
   "execution_count": 10,
   "metadata": {
    "tags": []
   },
   "outputs": [
    {
     "data": {
      "text/html": [
       "<div>\n",
       "<style scoped>\n",
       "    .dataframe tbody tr th:only-of-type {\n",
       "        vertical-align: middle;\n",
       "    }\n",
       "\n",
       "    .dataframe tbody tr th {\n",
       "        vertical-align: top;\n",
       "    }\n",
       "\n",
       "    .dataframe thead th {\n",
       "        text-align: right;\n",
       "    }\n",
       "</style>\n",
       "<table border=\"1\" class=\"dataframe\">\n",
       "  <thead>\n",
       "    <tr style=\"text-align: right;\">\n",
       "      <th></th>\n",
       "      <th>statefips</th>\n",
       "      <th>state</th>\n",
       "      <th>zipcode</th>\n",
       "      <th>agi_stub</th>\n",
       "      <th>n1</th>\n",
       "      <th>mars1</th>\n",
       "      <th>mars2</th>\n",
       "      <th>mars4</th>\n",
       "      <th>elf</th>\n",
       "      <th>cprep</th>\n",
       "      <th>...</th>\n",
       "      <th>a85300</th>\n",
       "      <th>n11901</th>\n",
       "      <th>a11901</th>\n",
       "      <th>n11900</th>\n",
       "      <th>a11900</th>\n",
       "      <th>n11902</th>\n",
       "      <th>a11902</th>\n",
       "      <th>n12000</th>\n",
       "      <th>a12000</th>\n",
       "      <th>year</th>\n",
       "    </tr>\n",
       "  </thead>\n",
       "  <tbody>\n",
       "    <tr>\n",
       "      <th>0</th>\n",
       "      <td>1</td>\n",
       "      <td>AL</td>\n",
       "      <td>0</td>\n",
       "      <td>$1 under $25,000</td>\n",
       "      <td>785000.0</td>\n",
       "      <td>519980.0</td>\n",
       "      <td>85690.0</td>\n",
       "      <td>165290.0</td>\n",
       "      <td>724170.0</td>\n",
       "      <td>22560.0</td>\n",
       "      <td>...</td>\n",
       "      <td>0.0</td>\n",
       "      <td>57720.0</td>\n",
       "      <td>46577.0</td>\n",
       "      <td>674840.0</td>\n",
       "      <td>1827202.0</td>\n",
       "      <td>672200.0</td>\n",
       "      <td>1818867.0</td>\n",
       "      <td>2900.0</td>\n",
       "      <td>6089.0</td>\n",
       "      <td>2020.0</td>\n",
       "    </tr>\n",
       "    <tr>\n",
       "      <th>1</th>\n",
       "      <td>1</td>\n",
       "      <td>AL</td>\n",
       "      <td>0</td>\n",
       "      <td>$25,000 under $50,000</td>\n",
       "      <td>554310.0</td>\n",
       "      <td>270870.0</td>\n",
       "      <td>121420.0</td>\n",
       "      <td>146470.0</td>\n",
       "      <td>515150.0</td>\n",
       "      <td>13260.0</td>\n",
       "      <td>...</td>\n",
       "      <td>0.0</td>\n",
       "      <td>81770.0</td>\n",
       "      <td>112540.0</td>\n",
       "      <td>470410.0</td>\n",
       "      <td>1445383.0</td>\n",
       "      <td>466960.0</td>\n",
       "      <td>1432458.0</td>\n",
       "      <td>4660.0</td>\n",
       "      <td>11648.0</td>\n",
       "      <td>2020.0</td>\n",
       "    </tr>\n",
       "    <tr>\n",
       "      <th>2</th>\n",
       "      <td>1</td>\n",
       "      <td>AL</td>\n",
       "      <td>0</td>\n",
       "      <td>$50,000 under $75,000</td>\n",
       "      <td>290630.0</td>\n",
       "      <td>113280.0</td>\n",
       "      <td>124770.0</td>\n",
       "      <td>44570.0</td>\n",
       "      <td>269700.0</td>\n",
       "      <td>6420.0</td>\n",
       "      <td>...</td>\n",
       "      <td>0.0</td>\n",
       "      <td>70360.0</td>\n",
       "      <td>144380.0</td>\n",
       "      <td>220710.0</td>\n",
       "      <td>626662.0</td>\n",
       "      <td>216530.0</td>\n",
       "      <td>610170.0</td>\n",
       "      <td>5760.0</td>\n",
       "      <td>16235.0</td>\n",
       "      <td>2020.0</td>\n",
       "    </tr>\n",
       "    <tr>\n",
       "      <th>3</th>\n",
       "      <td>1</td>\n",
       "      <td>AL</td>\n",
       "      <td>0</td>\n",
       "      <td>$75,000 under $100,000</td>\n",
       "      <td>181010.0</td>\n",
       "      <td>42010.0</td>\n",
       "      <td>120820.0</td>\n",
       "      <td>14410.0</td>\n",
       "      <td>168830.0</td>\n",
       "      <td>2570.0</td>\n",
       "      <td>...</td>\n",
       "      <td>0.0</td>\n",
       "      <td>49500.0</td>\n",
       "      <td>135429.0</td>\n",
       "      <td>130670.0</td>\n",
       "      <td>437179.0</td>\n",
       "      <td>126790.0</td>\n",
       "      <td>419324.0</td>\n",
       "      <td>3730.0</td>\n",
       "      <td>14903.0</td>\n",
       "      <td>2020.0</td>\n",
       "    </tr>\n",
       "    <tr>\n",
       "      <th>4</th>\n",
       "      <td>1</td>\n",
       "      <td>AL</td>\n",
       "      <td>0</td>\n",
       "      <td>$100,000 under $200,000</td>\n",
       "      <td>269080.0</td>\n",
       "      <td>31310.0</td>\n",
       "      <td>224330.0</td>\n",
       "      <td>8270.0</td>\n",
       "      <td>252360.0</td>\n",
       "      <td>3250.0</td>\n",
       "      <td>...</td>\n",
       "      <td>20.0</td>\n",
       "      <td>103250.0</td>\n",
       "      <td>470206.0</td>\n",
       "      <td>165650.0</td>\n",
       "      <td>724529.0</td>\n",
       "      <td>156910.0</td>\n",
       "      <td>642895.0</td>\n",
       "      <td>11280.0</td>\n",
       "      <td>80064.0</td>\n",
       "      <td>2020.0</td>\n",
       "    </tr>\n",
       "  </tbody>\n",
       "</table>\n",
       "<p>5 rows × 166 columns</p>\n",
       "</div>"
      ],
      "text/plain": [
       "   statefips state  zipcode                 agi_stub        n1     mars1   \n",
       "0          1    AL        0         $1 under $25,000  785000.0  519980.0  \\\n",
       "1          1    AL        0    $25,000 under $50,000  554310.0  270870.0   \n",
       "2          1    AL        0    $50,000 under $75,000  290630.0  113280.0   \n",
       "3          1    AL        0   $75,000 under $100,000  181010.0   42010.0   \n",
       "4          1    AL        0  $100,000 under $200,000  269080.0   31310.0   \n",
       "\n",
       "      mars2     mars4       elf    cprep  ...  a85300    n11901    a11901   \n",
       "0   85690.0  165290.0  724170.0  22560.0  ...     0.0   57720.0   46577.0  \\\n",
       "1  121420.0  146470.0  515150.0  13260.0  ...     0.0   81770.0  112540.0   \n",
       "2  124770.0   44570.0  269700.0   6420.0  ...     0.0   70360.0  144380.0   \n",
       "3  120820.0   14410.0  168830.0   2570.0  ...     0.0   49500.0  135429.0   \n",
       "4  224330.0    8270.0  252360.0   3250.0  ...    20.0  103250.0  470206.0   \n",
       "\n",
       "     n11900     a11900    n11902     a11902   n12000   a12000    year  \n",
       "0  674840.0  1827202.0  672200.0  1818867.0   2900.0   6089.0  2020.0  \n",
       "1  470410.0  1445383.0  466960.0  1432458.0   4660.0  11648.0  2020.0  \n",
       "2  220710.0   626662.0  216530.0   610170.0   5760.0  16235.0  2020.0  \n",
       "3  130670.0   437179.0  126790.0   419324.0   3730.0  14903.0  2020.0  \n",
       "4  165650.0   724529.0  156910.0   642895.0  11280.0  80064.0  2020.0  \n",
       "\n",
       "[5 rows x 166 columns]"
      ]
     },
     "execution_count": 10,
     "metadata": {},
     "output_type": "execute_result"
    }
   ],
   "source": [
    "cps = pd.read_stata('20zpallagi.dta')\n",
    "cps.head()"
   ]
  },
  {
   "cell_type": "code",
   "execution_count": 11,
   "metadata": {
    "slideshow": {
     "slide_type": "slide"
    },
    "tags": []
   },
   "outputs": [
    {
     "data": {
      "text/plain": [
       "float64     161\n",
       "int32         2\n",
       "object        1\n",
       "category      1\n",
       "float32       1\n",
       "Name: count, dtype: int64"
      ]
     },
     "execution_count": 11,
     "metadata": {},
     "output_type": "execute_result"
    }
   ],
   "source": [
    "cps.dtypes.value_counts() "
   ]
  },
  {
   "cell_type": "markdown",
   "metadata": {
    "slideshow": {
     "slide_type": "slide"
    },
    "tags": []
   },
   "source": [
    "## yet more practice\n",
    "\n",
    "JSON - JavaScript Object Notation. lightweight, text-based format for representing data. It is human readable. Easy for Python to write and to parse and generate. "
   ]
  },
  {
   "cell_type": "code",
   "execution_count": 12,
   "metadata": {
    "tags": []
   },
   "outputs": [
    {
     "data": {
      "text/html": [
       "<div>\n",
       "<style scoped>\n",
       "    .dataframe tbody tr th:only-of-type {\n",
       "        vertical-align: middle;\n",
       "    }\n",
       "\n",
       "    .dataframe tbody tr th {\n",
       "        vertical-align: top;\n",
       "    }\n",
       "\n",
       "    .dataframe thead th {\n",
       "        text-align: right;\n",
       "    }\n",
       "</style>\n",
       "<table border=\"1\" class=\"dataframe\">\n",
       "  <thead>\n",
       "    <tr style=\"text-align: right;\">\n",
       "      <th></th>\n",
       "      <th>name</th>\n",
       "      <th>address</th>\n",
       "      <th>city</th>\n",
       "      <th>state</th>\n",
       "      <th>postal_code</th>\n",
       "      <th>latitude</th>\n",
       "      <th>longitude</th>\n",
       "      <th>stars</th>\n",
       "      <th>review_count</th>\n",
       "      <th>is_open</th>\n",
       "      <th>attributes</th>\n",
       "      <th>categories</th>\n",
       "      <th>hours</th>\n",
       "    </tr>\n",
       "    <tr>\n",
       "      <th>business_id</th>\n",
       "      <th></th>\n",
       "      <th></th>\n",
       "      <th></th>\n",
       "      <th></th>\n",
       "      <th></th>\n",
       "      <th></th>\n",
       "      <th></th>\n",
       "      <th></th>\n",
       "      <th></th>\n",
       "      <th></th>\n",
       "      <th></th>\n",
       "      <th></th>\n",
       "      <th></th>\n",
       "    </tr>\n",
       "  </thead>\n",
       "  <tbody>\n",
       "    <tr>\n",
       "      <th>Pns2l4eNsfO8kk83dixA6A</th>\n",
       "      <td>Abby Rappoport, LAC, CMQ</td>\n",
       "      <td>1616 Chapala St, Ste 2</td>\n",
       "      <td>Santa Barbara</td>\n",
       "      <td>CA</td>\n",
       "      <td>93101</td>\n",
       "      <td>34.426679</td>\n",
       "      <td>-119.711197</td>\n",
       "      <td>5.0</td>\n",
       "      <td>7</td>\n",
       "      <td>0</td>\n",
       "      <td>{'ByAppointmentOnly': 'True'}</td>\n",
       "      <td>Doctors, Traditional Chinese Medicine, Naturop...</td>\n",
       "      <td>None</td>\n",
       "    </tr>\n",
       "    <tr>\n",
       "      <th>mpf3x-BjTdTEA3yCZrAYPw</th>\n",
       "      <td>The UPS Store</td>\n",
       "      <td>87 Grasso Plaza Shopping Center</td>\n",
       "      <td>Affton</td>\n",
       "      <td>MO</td>\n",
       "      <td>63123</td>\n",
       "      <td>38.551126</td>\n",
       "      <td>-90.335695</td>\n",
       "      <td>3.0</td>\n",
       "      <td>15</td>\n",
       "      <td>1</td>\n",
       "      <td>{'BusinessAcceptsCreditCards': 'True'}</td>\n",
       "      <td>Shipping Centers, Local Services, Notaries, Ma...</td>\n",
       "      <td>{'Monday': '0:0-0:0', 'Tuesday': '8:0-18:30', ...</td>\n",
       "    </tr>\n",
       "    <tr>\n",
       "      <th>tUFrWirKiKi_TAnsVWINQQ</th>\n",
       "      <td>Target</td>\n",
       "      <td>5255 E Broadway Blvd</td>\n",
       "      <td>Tucson</td>\n",
       "      <td>AZ</td>\n",
       "      <td>85711</td>\n",
       "      <td>32.223236</td>\n",
       "      <td>-110.880452</td>\n",
       "      <td>3.5</td>\n",
       "      <td>22</td>\n",
       "      <td>0</td>\n",
       "      <td>{'BikeParking': 'True', 'BusinessAcceptsCredit...</td>\n",
       "      <td>Department Stores, Shopping, Fashion, Home &amp; G...</td>\n",
       "      <td>{'Monday': '8:0-22:0', 'Tuesday': '8:0-22:0', ...</td>\n",
       "    </tr>\n",
       "    <tr>\n",
       "      <th>MTSW4McQd7CbVtyjqoe9mw</th>\n",
       "      <td>St Honore Pastries</td>\n",
       "      <td>935 Race St</td>\n",
       "      <td>Philadelphia</td>\n",
       "      <td>PA</td>\n",
       "      <td>19107</td>\n",
       "      <td>39.955505</td>\n",
       "      <td>-75.155564</td>\n",
       "      <td>4.0</td>\n",
       "      <td>80</td>\n",
       "      <td>1</td>\n",
       "      <td>{'RestaurantsDelivery': 'False', 'OutdoorSeati...</td>\n",
       "      <td>Restaurants, Food, Bubble Tea, Coffee &amp; Tea, B...</td>\n",
       "      <td>{'Monday': '7:0-20:0', 'Tuesday': '7:0-20:0', ...</td>\n",
       "    </tr>\n",
       "    <tr>\n",
       "      <th>mWMc6_wTdE0EUBKIGXDVfA</th>\n",
       "      <td>Perkiomen Valley Brewery</td>\n",
       "      <td>101 Walnut St</td>\n",
       "      <td>Green Lane</td>\n",
       "      <td>PA</td>\n",
       "      <td>18054</td>\n",
       "      <td>40.338183</td>\n",
       "      <td>-75.471659</td>\n",
       "      <td>4.5</td>\n",
       "      <td>13</td>\n",
       "      <td>1</td>\n",
       "      <td>{'BusinessAcceptsCreditCards': 'True', 'Wheelc...</td>\n",
       "      <td>Brewpubs, Breweries, Food</td>\n",
       "      <td>{'Wednesday': '14:0-22:0', 'Thursday': '16:0-2...</td>\n",
       "    </tr>\n",
       "  </tbody>\n",
       "</table>\n",
       "</div>"
      ],
      "text/plain": [
       "                                            name   \n",
       "business_id                                        \n",
       "Pns2l4eNsfO8kk83dixA6A  Abby Rappoport, LAC, CMQ  \\\n",
       "mpf3x-BjTdTEA3yCZrAYPw             The UPS Store   \n",
       "tUFrWirKiKi_TAnsVWINQQ                    Target   \n",
       "MTSW4McQd7CbVtyjqoe9mw        St Honore Pastries   \n",
       "mWMc6_wTdE0EUBKIGXDVfA  Perkiomen Valley Brewery   \n",
       "\n",
       "                                                address           city state   \n",
       "business_id                                                                    \n",
       "Pns2l4eNsfO8kk83dixA6A           1616 Chapala St, Ste 2  Santa Barbara    CA  \\\n",
       "mpf3x-BjTdTEA3yCZrAYPw  87 Grasso Plaza Shopping Center         Affton    MO   \n",
       "tUFrWirKiKi_TAnsVWINQQ             5255 E Broadway Blvd         Tucson    AZ   \n",
       "MTSW4McQd7CbVtyjqoe9mw                      935 Race St   Philadelphia    PA   \n",
       "mWMc6_wTdE0EUBKIGXDVfA                    101 Walnut St     Green Lane    PA   \n",
       "\n",
       "                       postal_code   latitude   longitude  stars   \n",
       "business_id                                                        \n",
       "Pns2l4eNsfO8kk83dixA6A       93101  34.426679 -119.711197    5.0  \\\n",
       "mpf3x-BjTdTEA3yCZrAYPw       63123  38.551126  -90.335695    3.0   \n",
       "tUFrWirKiKi_TAnsVWINQQ       85711  32.223236 -110.880452    3.5   \n",
       "MTSW4McQd7CbVtyjqoe9mw       19107  39.955505  -75.155564    4.0   \n",
       "mWMc6_wTdE0EUBKIGXDVfA       18054  40.338183  -75.471659    4.5   \n",
       "\n",
       "                        review_count  is_open   \n",
       "business_id                                     \n",
       "Pns2l4eNsfO8kk83dixA6A             7        0  \\\n",
       "mpf3x-BjTdTEA3yCZrAYPw            15        1   \n",
       "tUFrWirKiKi_TAnsVWINQQ            22        0   \n",
       "MTSW4McQd7CbVtyjqoe9mw            80        1   \n",
       "mWMc6_wTdE0EUBKIGXDVfA            13        1   \n",
       "\n",
       "                                                               attributes   \n",
       "business_id                                                                 \n",
       "Pns2l4eNsfO8kk83dixA6A                      {'ByAppointmentOnly': 'True'}  \\\n",
       "mpf3x-BjTdTEA3yCZrAYPw             {'BusinessAcceptsCreditCards': 'True'}   \n",
       "tUFrWirKiKi_TAnsVWINQQ  {'BikeParking': 'True', 'BusinessAcceptsCredit...   \n",
       "MTSW4McQd7CbVtyjqoe9mw  {'RestaurantsDelivery': 'False', 'OutdoorSeati...   \n",
       "mWMc6_wTdE0EUBKIGXDVfA  {'BusinessAcceptsCreditCards': 'True', 'Wheelc...   \n",
       "\n",
       "                                                               categories   \n",
       "business_id                                                                 \n",
       "Pns2l4eNsfO8kk83dixA6A  Doctors, Traditional Chinese Medicine, Naturop...  \\\n",
       "mpf3x-BjTdTEA3yCZrAYPw  Shipping Centers, Local Services, Notaries, Ma...   \n",
       "tUFrWirKiKi_TAnsVWINQQ  Department Stores, Shopping, Fashion, Home & G...   \n",
       "MTSW4McQd7CbVtyjqoe9mw  Restaurants, Food, Bubble Tea, Coffee & Tea, B...   \n",
       "mWMc6_wTdE0EUBKIGXDVfA                          Brewpubs, Breweries, Food   \n",
       "\n",
       "                                                                    hours  \n",
       "business_id                                                                \n",
       "Pns2l4eNsfO8kk83dixA6A                                               None  \n",
       "mpf3x-BjTdTEA3yCZrAYPw  {'Monday': '0:0-0:0', 'Tuesday': '8:0-18:30', ...  \n",
       "tUFrWirKiKi_TAnsVWINQQ  {'Monday': '8:0-22:0', 'Tuesday': '8:0-22:0', ...  \n",
       "MTSW4McQd7CbVtyjqoe9mw  {'Monday': '7:0-20:0', 'Tuesday': '7:0-20:0', ...  \n",
       "mWMc6_wTdE0EUBKIGXDVfA  {'Wednesday': '14:0-22:0', 'Thursday': '16:0-2...  "
      ]
     },
     "execution_count": 12,
     "metadata": {},
     "output_type": "execute_result"
    }
   ],
   "source": [
    "yelp = pd.read_json('Yelp/yelp_academic_dataset_business.json', lines = True)\n",
    "# Set the desired column as the index\n",
    "index_column = 'business_id'  \n",
    "yelp.set_index(index_column, inplace=True)\n",
    "\n",
    "yelp.head()"
   ]
  },
  {
   "cell_type": "code",
   "execution_count": 13,
   "metadata": {
    "tags": []
   },
   "outputs": [
    {
     "data": {
      "text/plain": [
       "object     8\n",
       "float64    3\n",
       "int64      2\n",
       "Name: count, dtype: int64"
      ]
     },
     "execution_count": 13,
     "metadata": {},
     "output_type": "execute_result"
    }
   ],
   "source": [
    "yelp.dtypes.value_counts() "
   ]
  },
  {
   "cell_type": "markdown",
   "metadata": {
    "slideshow": {
     "slide_type": "slide"
    },
    "tags": []
   },
   "source": [
    "## Interview example \n",
    "\n",
    "Even these can be read, there are other ways, but this one is perhaps most understandable."
   ]
  },
  {
   "cell_type": "code",
   "execution_count": 14,
   "metadata": {
    "tags": []
   },
   "outputs": [
    {
     "data": {
      "text/html": [
       "<div>\n",
       "<style scoped>\n",
       "    .dataframe tbody tr th:only-of-type {\n",
       "        vertical-align: middle;\n",
       "    }\n",
       "\n",
       "    .dataframe tbody tr th {\n",
       "        vertical-align: top;\n",
       "    }\n",
       "\n",
       "    .dataframe thead th {\n",
       "        text-align: right;\n",
       "    }\n",
       "</style>\n",
       "<table border=\"1\" class=\"dataframe\">\n",
       "  <thead>\n",
       "    <tr style=\"text-align: right;\">\n",
       "      <th></th>\n",
       "      <th>count</th>\n",
       "      <th>hash</th>\n",
       "      <th>hash_type</th>\n",
       "      <th>id</th>\n",
       "      <th>delivered_at</th>\n",
       "      <th>interactions</th>\n",
       "    </tr>\n",
       "  </thead>\n",
       "  <tbody>\n",
       "    <tr>\n",
       "      <th>0</th>\n",
       "      <td>18</td>\n",
       "      <td>2f07e6e5e408d2a2988e</td>\n",
       "      <td>historic</td>\n",
       "      <td>49de7967b29ac130ab49248db140d634</td>\n",
       "      <td>2014-01-09 23:53:55+00:00</td>\n",
       "      <td>[{'interaction': {'author': {'avatar': 'http:/...</td>\n",
       "    </tr>\n",
       "  </tbody>\n",
       "</table>\n",
       "</div>"
      ],
      "text/plain": [
       "   count                  hash hash_type                                id   \n",
       "0     18  2f07e6e5e408d2a2988e  historic  49de7967b29ac130ab49248db140d634  \\\n",
       "\n",
       "               delivered_at                                       interactions  \n",
       "0 2014-01-09 23:53:55+00:00  [{'interaction': {'author': {'avatar': 'http:/...  "
      ]
     },
     "execution_count": 14,
     "metadata": {},
     "output_type": "execute_result"
    }
   ],
   "source": [
    "datasift = pd.read_json('http://www.stat.ucla.edu/~vlew/datasets/DataSift.json', \n",
    "                        lines = True)\n",
    "datasift"
   ]
  },
  {
   "cell_type": "code",
   "execution_count": 15,
   "metadata": {
    "slideshow": {
     "slide_type": "slide"
    },
    "tags": []
   },
   "outputs": [
    {
     "data": {
      "text/plain": [
       "{'interaction': {'author': {'avatar': 'http://a0.twimg.com/profile_images/1833467114/oxford_2_normal.jpg',\n",
       "   'id': 494925931,\n",
       "   'link': 'http://twitter.com/OxfordFreegle',\n",
       "   'name': 'Oxford Freegle',\n",
       "   'username': 'OxfordFreegle'},\n",
       "  'content': 'WANTED: Blue Brooches - Any style or condition (Abingdon Ox14) http://t.co/cETDGisx',\n",
       "  'created_at': 'Sun, 13 Jan 2013 23:08:04 +0000',\n",
       "  'id': '1e25dd61585aa200e07405b0f7d6e7ec',\n",
       "  'link': 'http://twitter.com/OxfordFreegle/statuses/290596104419041280',\n",
       "  'schema': {'version': 3},\n",
       "  'source': 'Freegle',\n",
       "  'type': 'twitter'},\n",
       " 'klout': {'score': 25},\n",
       " 'language': {'confidence': 62, 'tag': 'en'},\n",
       " 'links': {'code': [200],\n",
       "  'created_at': ['Sun, 13 Jan 2013 23:08:05 +0000'],\n",
       "  'hops': [[]],\n",
       "  'meta': {'charset': ['UTF-8'],\n",
       "   'content_type': ['text/html'],\n",
       "   'lang': ['unknown']},\n",
       "  'normalized_url': ['http://go.frgl.it/Z39rd'],\n",
       "  'retweet_count': [0],\n",
       "  'title': [None],\n",
       "  'url': ['http://go.frgl.it/Z39rd']},\n",
       " 'salience': {'content': {'sentiment': 0}},\n",
       " 'twitter': {'created_at': 'Sun, 13 Jan 2013 23:08:04 +0000',\n",
       "  'domains': ['go.frgl.it'],\n",
       "  'id': '290596104419041280',\n",
       "  'links': ['http://go.frgl.it/Z39rd'],\n",
       "  'source': '<a href=\"http://ilovefreegle.org\" rel=\"nofollow\">Freegle</a>',\n",
       "  'text': 'WANTED: Blue Brooches - Any style or condition (Abingdon Ox14) http://t.co/cETDGisx',\n",
       "  'user': {'created_at': 'Fri, 17 Feb 2012 12:08:40 +0000',\n",
       "   'description': 'An online reuse community group, which aims to save stuff being thrown away which could be reused by local people.',\n",
       "   'followers_count': 167,\n",
       "   'friends_count': 134,\n",
       "   'id': 494925931,\n",
       "   'id_str': '494925931',\n",
       "   'lang': 'en',\n",
       "   'listed_count': 1,\n",
       "   'location': 'Oxford, England',\n",
       "   'name': 'Oxford Freegle',\n",
       "   'profile_image_url': 'http://a0.twimg.com/profile_images/1833467114/oxford_2_normal.jpg',\n",
       "   'screen_name': 'OxfordFreegle',\n",
       "   'statuses_count': 11339,\n",
       "   'time_zone': 'London',\n",
       "   'url': 'http://www.freegle.in/oxford'}}}"
      ]
     },
     "execution_count": 15,
     "metadata": {},
     "output_type": "execute_result"
    }
   ],
   "source": [
    "datasift['interactions'][0][0]"
   ]
  },
  {
   "cell_type": "code",
   "execution_count": 16,
   "metadata": {
    "slideshow": {
     "slide_type": "slide"
    },
    "tags": []
   },
   "outputs": [
    {
     "name": "stdout",
     "output_type": "stream",
     "text": [
      "Tweet 1: WANTED: Blue Brooches - Any style or condition (Abingdon Ox14) http://t.co/cETDGisx\n",
      "Tweet 2: I uploaded a @YouTube video http://t.co/X1aUIU7k Relevence - Player - Neyo Style Beat\n",
      "Tweet 3: Ya estamos en el 2013. Ya déjen de poner el puto Gangnam Style por favor!\n",
      "Tweet 4: Watching the Golden Globes red carpet on E! I'll definitely be tweeting my personal commentary #ERedCarpet\n",
      "Tweet 5: I alwaaayyss have to pick out my outfit the night before school. #girlproblems\n",
      "Tweet 6: so sick of how i look and what i dress like\n",
      "Tweet 7: @DonnaNewcross I'd have to wear net knickers. At least plenty of supplies on ward, toiletries etc!\n",
      "Tweet 8: Watching #thegoldenblobes #redcarpet\n",
      "Tweet 9: #eredcarpet is the hashtag to use if you want to send comments to the social team\n",
      "Tweet 10: Its my favorite time if year, red carpet season!! #GoldenGlobes #Eredcarpet\n",
      "Tweet 11: Red Carpet #GoldenGlobes\n",
      "Tweet 12: @GiulianaRancic love your second outfit. You look absolutely stunning!!!\n",
      "Tweet 13: RT @_IFB: Best description ever RT @fuggirls I really cannot with the color of Kelly's dress. It's like dirty mop bucket water #goldenglobes\n",
      "Tweet 14: My cat has stopped suffocating me. #GoldenGlobes red carpet time.\n",
      "Tweet 15: Holy OMG Zooey Deschanel looks Fabulous!!!! AHHH the red is the new trend calling it #Eredcarpet #GoldenGlobes\n",
      "Tweet 16: RT @OfficialMerveeG: seeing girls still wearing Pauls Boutique.. http://t.co/Wfw6rreG\n",
      "Tweet 17: Multitasking hard. Watching @eonline #GoldenGlobeAwards #ERedCarpet and catching up on #Bachelor\n",
      "Tweet 18: #ERedCarpet Jennifer Lawrence &lt;333\n"
     ]
    }
   ],
   "source": [
    "# list comprehension\n",
    "texts = [datasift['interactions'][0][i]['interaction']['content'] for i in range(18)]\n",
    "\n",
    "# tuple and the built-in enumerate\n",
    "for i, text in enumerate(texts):\n",
    "    print(f\"Tweet {i + 1}: {text}\")"
   ]
  },
  {
   "cell_type": "markdown",
   "metadata": {
    "slideshow": {
     "slide_type": "slide"
    },
    "tags": []
   },
   "source": [
    "## Fixed Width File\n",
    "\n",
    "The columns and data are orderly (lined up nicely) but a little messy due to comments and unconventional (Python violating) naming"
   ]
  },
  {
   "cell_type": "code",
   "execution_count": 17,
   "metadata": {
    "tags": []
   },
   "outputs": [],
   "source": [
    "# Define column names (when needed)\n",
    "column_names = ['DATE', 'TIME', 'ET', 'GT', 'MAG',  'M', 'LAT',  'LON', 'DEPTH', 'Q',  'EVID', 'NPH', 'NGRM']\n",
    "\n",
    "eq2023 = pd.read_fwf(\"https://service.scedc.caltech.edu/ftp/catalogs/SCEC_DC/2023.catalog\", \n",
    "                 names=column_names, skiprows=10)\n"
   ]
  },
  {
   "cell_type": "code",
   "execution_count": 18,
   "metadata": {
    "tags": []
   },
   "outputs": [
    {
     "data": {
      "text/html": [
       "<div>\n",
       "<style scoped>\n",
       "    .dataframe tbody tr th:only-of-type {\n",
       "        vertical-align: middle;\n",
       "    }\n",
       "\n",
       "    .dataframe tbody tr th {\n",
       "        vertical-align: top;\n",
       "    }\n",
       "\n",
       "    .dataframe thead th {\n",
       "        text-align: right;\n",
       "    }\n",
       "</style>\n",
       "<table border=\"1\" class=\"dataframe\">\n",
       "  <thead>\n",
       "    <tr style=\"text-align: right;\">\n",
       "      <th></th>\n",
       "      <th>DATE</th>\n",
       "      <th>TIME</th>\n",
       "      <th>ET</th>\n",
       "      <th>GT</th>\n",
       "      <th>MAG</th>\n",
       "      <th>M</th>\n",
       "      <th>LAT</th>\n",
       "      <th>LON</th>\n",
       "      <th>DEPTH</th>\n",
       "      <th>Q</th>\n",
       "      <th>EVID</th>\n",
       "      <th>NPH</th>\n",
       "      <th>NGRM</th>\n",
       "    </tr>\n",
       "  </thead>\n",
       "  <tbody>\n",
       "    <tr>\n",
       "      <th>0</th>\n",
       "      <td>2023/01/01</td>\n",
       "      <td>00:32:22.63</td>\n",
       "      <td>eq</td>\n",
       "      <td>l</td>\n",
       "      <td>0.84</td>\n",
       "      <td>l</td>\n",
       "      <td>33.408</td>\n",
       "      <td>-116.617</td>\n",
       "      <td>7.5</td>\n",
       "      <td>A</td>\n",
       "      <td>40152455.0</td>\n",
       "      <td>71.0</td>\n",
       "      <td>1270.0</td>\n",
       "    </tr>\n",
       "    <tr>\n",
       "      <th>1</th>\n",
       "      <td>2023/01/01</td>\n",
       "      <td>00:57:36.51</td>\n",
       "      <td>eq</td>\n",
       "      <td>l</td>\n",
       "      <td>0.47</td>\n",
       "      <td>l</td>\n",
       "      <td>33.556</td>\n",
       "      <td>-116.613</td>\n",
       "      <td>15.2</td>\n",
       "      <td>A</td>\n",
       "      <td>40152463.0</td>\n",
       "      <td>36.0</td>\n",
       "      <td>1453.0</td>\n",
       "    </tr>\n",
       "    <tr>\n",
       "      <th>2</th>\n",
       "      <td>2023/01/01</td>\n",
       "      <td>01:00:24.86</td>\n",
       "      <td>eq</td>\n",
       "      <td>l</td>\n",
       "      <td>1.93</td>\n",
       "      <td>l</td>\n",
       "      <td>34.401</td>\n",
       "      <td>-118.713</td>\n",
       "      <td>6.7</td>\n",
       "      <td>A</td>\n",
       "      <td>40152471.0</td>\n",
       "      <td>87.0</td>\n",
       "      <td>2922.0</td>\n",
       "    </tr>\n",
       "    <tr>\n",
       "      <th>3</th>\n",
       "      <td>2023/01/01</td>\n",
       "      <td>01:07:57.96</td>\n",
       "      <td>eq</td>\n",
       "      <td>l</td>\n",
       "      <td>0.84</td>\n",
       "      <td>l</td>\n",
       "      <td>33.403</td>\n",
       "      <td>-116.370</td>\n",
       "      <td>4.2</td>\n",
       "      <td>A</td>\n",
       "      <td>40152479.0</td>\n",
       "      <td>51.0</td>\n",
       "      <td>1283.0</td>\n",
       "    </tr>\n",
       "    <tr>\n",
       "      <th>4</th>\n",
       "      <td>2023/01/01</td>\n",
       "      <td>02:10:25.56</td>\n",
       "      <td>eq</td>\n",
       "      <td>l</td>\n",
       "      <td>1.00</td>\n",
       "      <td>l</td>\n",
       "      <td>33.013</td>\n",
       "      <td>-116.429</td>\n",
       "      <td>6.7</td>\n",
       "      <td>A</td>\n",
       "      <td>40152487.0</td>\n",
       "      <td>69.0</td>\n",
       "      <td>1342.0</td>\n",
       "    </tr>\n",
       "  </tbody>\n",
       "</table>\n",
       "</div>"
      ],
      "text/plain": [
       "         DATE         TIME  ET GT   MAG  M     LAT      LON  DEPTH  Q   \n",
       "0  2023/01/01  00:32:22.63  eq  l  0.84  l  33.408 -116.617    7.5  A  \\\n",
       "1  2023/01/01  00:57:36.51  eq  l  0.47  l  33.556 -116.613   15.2  A   \n",
       "2  2023/01/01  01:00:24.86  eq  l  1.93  l  34.401 -118.713    6.7  A   \n",
       "3  2023/01/01  01:07:57.96  eq  l  0.84  l  33.403 -116.370    4.2  A   \n",
       "4  2023/01/01  02:10:25.56  eq  l  1.00  l  33.013 -116.429    6.7  A   \n",
       "\n",
       "         EVID   NPH    NGRM  \n",
       "0  40152455.0  71.0  1270.0  \n",
       "1  40152463.0  36.0  1453.0  \n",
       "2  40152471.0  87.0  2922.0  \n",
       "3  40152479.0  51.0  1283.0  \n",
       "4  40152487.0  69.0  1342.0  "
      ]
     },
     "execution_count": 18,
     "metadata": {},
     "output_type": "execute_result"
    }
   ],
   "source": [
    "eq2023.head()"
   ]
  },
  {
   "cell_type": "markdown",
   "metadata": {
    "slideshow": {
     "slide_type": "slide"
    },
    "tags": []
   },
   "source": [
    "## Reading & Converting Dates"
   ]
  },
  {
   "cell_type": "code",
   "execution_count": 19,
   "metadata": {
    "tags": []
   },
   "outputs": [
    {
     "data": {
      "text/html": [
       "<div>\n",
       "<style scoped>\n",
       "    .dataframe tbody tr th:only-of-type {\n",
       "        vertical-align: middle;\n",
       "    }\n",
       "\n",
       "    .dataframe tbody tr th {\n",
       "        vertical-align: top;\n",
       "    }\n",
       "\n",
       "    .dataframe thead th {\n",
       "        text-align: right;\n",
       "    }\n",
       "</style>\n",
       "<table border=\"1\" class=\"dataframe\">\n",
       "  <thead>\n",
       "    <tr style=\"text-align: right;\">\n",
       "      <th></th>\n",
       "      <th>Date</th>\n",
       "      <th>Open</th>\n",
       "      <th>High</th>\n",
       "      <th>Low</th>\n",
       "      <th>Close</th>\n",
       "      <th>Adj Close</th>\n",
       "      <th>Volume</th>\n",
       "      <th>YM</th>\n",
       "    </tr>\n",
       "  </thead>\n",
       "  <tbody>\n",
       "    <tr>\n",
       "      <th>0</th>\n",
       "      <td>2019-07-01</td>\n",
       "      <td>140.449997</td>\n",
       "      <td>141.949997</td>\n",
       "      <td>139.220001</td>\n",
       "      <td>141.649994</td>\n",
       "      <td>139.939774</td>\n",
       "      <td>8996500</td>\n",
       "      <td>19/07</td>\n",
       "    </tr>\n",
       "    <tr>\n",
       "      <th>1</th>\n",
       "      <td>2019-07-02</td>\n",
       "      <td>141.399994</td>\n",
       "      <td>142.860001</td>\n",
       "      <td>141.270004</td>\n",
       "      <td>142.529999</td>\n",
       "      <td>140.809143</td>\n",
       "      <td>7554100</td>\n",
       "      <td>19/07</td>\n",
       "    </tr>\n",
       "    <tr>\n",
       "      <th>2</th>\n",
       "      <td>2019-07-03</td>\n",
       "      <td>142.699997</td>\n",
       "      <td>143.000000</td>\n",
       "      <td>142.000000</td>\n",
       "      <td>142.979996</td>\n",
       "      <td>141.253708</td>\n",
       "      <td>4150900</td>\n",
       "      <td>19/07</td>\n",
       "    </tr>\n",
       "    <tr>\n",
       "      <th>3</th>\n",
       "      <td>2019-07-05</td>\n",
       "      <td>141.419998</td>\n",
       "      <td>142.889999</td>\n",
       "      <td>140.699997</td>\n",
       "      <td>142.449997</td>\n",
       "      <td>141.601624</td>\n",
       "      <td>5596000</td>\n",
       "      <td>19/07</td>\n",
       "    </tr>\n",
       "    <tr>\n",
       "      <th>4</th>\n",
       "      <td>2019-07-08</td>\n",
       "      <td>142.179993</td>\n",
       "      <td>142.229996</td>\n",
       "      <td>140.970001</td>\n",
       "      <td>141.020004</td>\n",
       "      <td>140.180145</td>\n",
       "      <td>4993900</td>\n",
       "      <td>19/07</td>\n",
       "    </tr>\n",
       "  </tbody>\n",
       "</table>\n",
       "</div>"
      ],
      "text/plain": [
       "         Date        Open        High         Low       Close   Adj Close   \n",
       "0  2019-07-01  140.449997  141.949997  139.220001  141.649994  139.939774  \\\n",
       "1  2019-07-02  141.399994  142.860001  141.270004  142.529999  140.809143   \n",
       "2  2019-07-03  142.699997  143.000000  142.000000  142.979996  141.253708   \n",
       "3  2019-07-05  141.419998  142.889999  140.699997  142.449997  141.601624   \n",
       "4  2019-07-08  142.179993  142.229996  140.970001  141.020004  140.180145   \n",
       "\n",
       "    Volume     YM  \n",
       "0  8996500  19/07  \n",
       "1  7554100  19/07  \n",
       "2  4150900  19/07  \n",
       "3  5596000  19/07  \n",
       "4  4993900  19/07  "
      ]
     },
     "execution_count": 19,
     "metadata": {},
     "output_type": "execute_result"
    }
   ],
   "source": [
    "DIS = pd.read_csv('http://www.stat.ucla.edu/~vlew/datasets/DISNEY.csv')\n",
    "DIS.head()"
   ]
  },
  {
   "cell_type": "code",
   "execution_count": 20,
   "metadata": {
    "slideshow": {
     "slide_type": "slide"
    },
    "tags": []
   },
   "outputs": [
    {
     "data": {
      "text/plain": [
       "Date          object\n",
       "Open         float64\n",
       "High         float64\n",
       "Low          float64\n",
       "Close        float64\n",
       "Adj Close    float64\n",
       "Volume         int64\n",
       "YM            object\n",
       "dtype: object"
      ]
     },
     "execution_count": 20,
     "metadata": {},
     "output_type": "execute_result"
    }
   ],
   "source": [
    "DIS.dtypes"
   ]
  },
  {
   "cell_type": "markdown",
   "metadata": {
    "slideshow": {
     "slide_type": "slide"
    },
    "tags": []
   },
   "source": [
    "## Reading instead with Date immediately identified"
   ]
  },
  {
   "cell_type": "code",
   "execution_count": 21,
   "metadata": {
    "tags": []
   },
   "outputs": [],
   "source": [
    "DIS = pd.read_csv(\"http://www.stat.ucla.edu/~vlew/datasets/DISNEY.csv\", \n",
    "                  parse_dates = [\"Date\"])"
   ]
  },
  {
   "cell_type": "code",
   "execution_count": 22,
   "metadata": {
    "tags": []
   },
   "outputs": [
    {
     "data": {
      "text/plain": [
       "Date         datetime64[ns]\n",
       "Open                float64\n",
       "High                float64\n",
       "Low                 float64\n",
       "Close               float64\n",
       "Adj Close           float64\n",
       "Volume                int64\n",
       "YM                period[M]\n",
       "dtype: object"
      ]
     },
     "execution_count": 22,
     "metadata": {},
     "output_type": "execute_result"
    }
   ],
   "source": [
    "# create a more usable date field, perhaps\n",
    "DIS['YM'] = DIS['Date'].dt.to_period('M')\n",
    "DIS.dtypes"
   ]
  },
  {
   "cell_type": "code",
   "execution_count": 23,
   "metadata": {
    "slideshow": {
     "slide_type": "slide"
    },
    "tags": []
   },
   "outputs": [
    {
     "data": {
      "text/html": [
       "<div>\n",
       "<style scoped>\n",
       "    .dataframe tbody tr th:only-of-type {\n",
       "        vertical-align: middle;\n",
       "    }\n",
       "\n",
       "    .dataframe tbody tr th {\n",
       "        vertical-align: top;\n",
       "    }\n",
       "\n",
       "    .dataframe thead th {\n",
       "        text-align: right;\n",
       "    }\n",
       "</style>\n",
       "<table border=\"1\" class=\"dataframe\">\n",
       "  <thead>\n",
       "    <tr style=\"text-align: right;\">\n",
       "      <th></th>\n",
       "      <th>Date</th>\n",
       "      <th>Open</th>\n",
       "      <th>High</th>\n",
       "      <th>Low</th>\n",
       "      <th>Close</th>\n",
       "      <th>Adj Close</th>\n",
       "      <th>Volume</th>\n",
       "      <th>YM</th>\n",
       "    </tr>\n",
       "  </thead>\n",
       "  <tbody>\n",
       "    <tr>\n",
       "      <th>0</th>\n",
       "      <td>2019-07-01</td>\n",
       "      <td>140.449997</td>\n",
       "      <td>141.949997</td>\n",
       "      <td>139.220001</td>\n",
       "      <td>141.649994</td>\n",
       "      <td>139.939774</td>\n",
       "      <td>8996500</td>\n",
       "      <td>2019-07</td>\n",
       "    </tr>\n",
       "    <tr>\n",
       "      <th>1</th>\n",
       "      <td>2019-07-02</td>\n",
       "      <td>141.399994</td>\n",
       "      <td>142.860001</td>\n",
       "      <td>141.270004</td>\n",
       "      <td>142.529999</td>\n",
       "      <td>140.809143</td>\n",
       "      <td>7554100</td>\n",
       "      <td>2019-07</td>\n",
       "    </tr>\n",
       "    <tr>\n",
       "      <th>2</th>\n",
       "      <td>2019-07-03</td>\n",
       "      <td>142.699997</td>\n",
       "      <td>143.000000</td>\n",
       "      <td>142.000000</td>\n",
       "      <td>142.979996</td>\n",
       "      <td>141.253708</td>\n",
       "      <td>4150900</td>\n",
       "      <td>2019-07</td>\n",
       "    </tr>\n",
       "    <tr>\n",
       "      <th>3</th>\n",
       "      <td>2019-07-05</td>\n",
       "      <td>141.419998</td>\n",
       "      <td>142.889999</td>\n",
       "      <td>140.699997</td>\n",
       "      <td>142.449997</td>\n",
       "      <td>141.601624</td>\n",
       "      <td>5596000</td>\n",
       "      <td>2019-07</td>\n",
       "    </tr>\n",
       "    <tr>\n",
       "      <th>4</th>\n",
       "      <td>2019-07-08</td>\n",
       "      <td>142.179993</td>\n",
       "      <td>142.229996</td>\n",
       "      <td>140.970001</td>\n",
       "      <td>141.020004</td>\n",
       "      <td>140.180145</td>\n",
       "      <td>4993900</td>\n",
       "      <td>2019-07</td>\n",
       "    </tr>\n",
       "  </tbody>\n",
       "</table>\n",
       "</div>"
      ],
      "text/plain": [
       "        Date        Open        High         Low       Close   Adj Close   \n",
       "0 2019-07-01  140.449997  141.949997  139.220001  141.649994  139.939774  \\\n",
       "1 2019-07-02  141.399994  142.860001  141.270004  142.529999  140.809143   \n",
       "2 2019-07-03  142.699997  143.000000  142.000000  142.979996  141.253708   \n",
       "3 2019-07-05  141.419998  142.889999  140.699997  142.449997  141.601624   \n",
       "4 2019-07-08  142.179993  142.229996  140.970001  141.020004  140.180145   \n",
       "\n",
       "    Volume       YM  \n",
       "0  8996500  2019-07  \n",
       "1  7554100  2019-07  \n",
       "2  4150900  2019-07  \n",
       "3  5596000  2019-07  \n",
       "4  4993900  2019-07  "
      ]
     },
     "execution_count": 23,
     "metadata": {},
     "output_type": "execute_result"
    }
   ],
   "source": [
    "DIS.head()"
   ]
  },
  {
   "cell_type": "markdown",
   "metadata": {
    "slideshow": {
     "slide_type": "slide"
    },
    "tags": []
   },
   "source": [
    "## Application"
   ]
  },
  {
   "cell_type": "code",
   "execution_count": 24,
   "metadata": {
    "tags": []
   },
   "outputs": [
    {
     "name": "stdout",
     "output_type": "stream",
     "text": [
      "           min    max  median\n",
      "YM                           \n",
      "2019-07  139.9  146.4   143.0\n",
      "2019-08  131.7  141.9   136.0\n",
      "2019-09  130.0  139.6   136.0\n",
      "2019-10  128.1  132.4   130.0\n",
      "2019-11  131.3  151.6   147.0\n",
      "2019-12  143.8  150.6   146.0\n",
      "2020-01  135.9  148.2   144.0\n",
      "2020-02  117.7  144.7   141.0\n",
      "2020-03   85.8  120.0   100.0\n",
      "2020-04   93.9  112.2   102.0\n",
      "2020-05  100.9  121.5   109.0\n",
      "2020-06  109.1  127.3   117.0\n"
     ]
    }
   ],
   "source": [
    "# Group the DataFrame by the time period variable YM and \n",
    "# compute the min and max for the 'Close' variable by chaining\n",
    "result = DIS.groupby('YM')['Close'].agg(['min', 'max', 'median'])\n",
    "\n",
    "# Round multiple columns at once using a dictionary\n",
    "round_dict = {'min': 1, 'max': 1, 'median': 0}\n",
    "result = result.round(round_dict)\n",
    "\n",
    "print(result)"
   ]
  },
  {
   "cell_type": "code",
   "execution_count": 25,
   "metadata": {
    "tags": []
   },
   "outputs": [
    {
     "data": {
      "text/plain": [
       "pandas.core.frame.DataFrame"
      ]
     },
     "execution_count": 25,
     "metadata": {},
     "output_type": "execute_result"
    }
   ],
   "source": [
    "type(result)"
   ]
  },
  {
   "cell_type": "markdown",
   "metadata": {
    "slideshow": {
     "slide_type": "slide"
    },
    "tags": []
   },
   "source": [
    "## value_counts() answers a different question"
   ]
  },
  {
   "cell_type": "code",
   "execution_count": 26,
   "metadata": {
    "tags": []
   },
   "outputs": [
    {
     "data": {
      "text/plain": [
       "YM\n",
       "2019-07    22\n",
       "2019-08    22\n",
       "2019-09    20\n",
       "2019-10    23\n",
       "2019-11    20\n",
       "2019-12    21\n",
       "2020-01    21\n",
       "2020-02    19\n",
       "2020-03    22\n",
       "2020-04    21\n",
       "2020-05    20\n",
       "2020-06    22\n",
       "Freq: M, Name: count, dtype: int64"
      ]
     },
     "execution_count": 26,
     "metadata": {},
     "output_type": "execute_result"
    }
   ],
   "source": [
    "DIS['YM'].value_counts().sort_index()"
   ]
  },
  {
   "cell_type": "code",
   "execution_count": 27,
   "metadata": {
    "tags": []
   },
   "outputs": [
    {
     "data": {
      "text/plain": [
       "pandas.core.series.Series"
      ]
     },
     "execution_count": 27,
     "metadata": {},
     "output_type": "execute_result"
    }
   ],
   "source": [
    "type(DIS['YM'].value_counts())"
   ]
  },
  {
   "cell_type": "markdown",
   "metadata": {
    "slideshow": {
     "slide_type": "slide"
    },
    "tags": []
   },
   "source": [
    "## Rearranging value\n",
    "\n",
    "Both Series and DataFrames have the `.sort_index()` and `.sort_values()` methods which can be used to rearrange the value."
   ]
  },
  {
   "cell_type": "code",
   "execution_count": 28,
   "metadata": {
    "slideshow": {
     "slide_type": "fragment"
    },
    "tags": []
   },
   "outputs": [
    {
     "data": {
      "text/html": [
       "<div>\n",
       "<style scoped>\n",
       "    .dataframe tbody tr th:only-of-type {\n",
       "        vertical-align: middle;\n",
       "    }\n",
       "\n",
       "    .dataframe tbody tr th {\n",
       "        vertical-align: top;\n",
       "    }\n",
       "\n",
       "    .dataframe thead th {\n",
       "        text-align: right;\n",
       "    }\n",
       "</style>\n",
       "<table border=\"1\" class=\"dataframe\">\n",
       "  <thead>\n",
       "    <tr style=\"text-align: right;\">\n",
       "      <th></th>\n",
       "      <th>Date</th>\n",
       "      <th>Open</th>\n",
       "      <th>High</th>\n",
       "      <th>Low</th>\n",
       "      <th>Close</th>\n",
       "      <th>Adj Close</th>\n",
       "      <th>Volume</th>\n",
       "      <th>YM</th>\n",
       "    </tr>\n",
       "  </thead>\n",
       "  <tbody>\n",
       "    <tr>\n",
       "      <th>183</th>\n",
       "      <td>2020-03-23</td>\n",
       "      <td>84.489998</td>\n",
       "      <td>87.279999</td>\n",
       "      <td>81.089996</td>\n",
       "      <td>85.760002</td>\n",
       "      <td>85.760002</td>\n",
       "      <td>32246600</td>\n",
       "      <td>2020-03</td>\n",
       "    </tr>\n",
       "    <tr>\n",
       "      <th>182</th>\n",
       "      <td>2020-03-20</td>\n",
       "      <td>95.989998</td>\n",
       "      <td>96.989998</td>\n",
       "      <td>85.839996</td>\n",
       "      <td>85.980003</td>\n",
       "      <td>85.980003</td>\n",
       "      <td>31957800</td>\n",
       "      <td>2020-03</td>\n",
       "    </tr>\n",
       "    <tr>\n",
       "      <th>180</th>\n",
       "      <td>2020-03-18</td>\n",
       "      <td>87.589996</td>\n",
       "      <td>89.339996</td>\n",
       "      <td>79.070000</td>\n",
       "      <td>88.800003</td>\n",
       "      <td>88.800003</td>\n",
       "      <td>43592500</td>\n",
       "      <td>2020-03</td>\n",
       "    </tr>\n",
       "    <tr>\n",
       "      <th>176</th>\n",
       "      <td>2020-03-12</td>\n",
       "      <td>97.620003</td>\n",
       "      <td>100.000000</td>\n",
       "      <td>91.639999</td>\n",
       "      <td>91.809998</td>\n",
       "      <td>91.809998</td>\n",
       "      <td>40392900</td>\n",
       "      <td>2020-03</td>\n",
       "    </tr>\n",
       "    <tr>\n",
       "      <th>179</th>\n",
       "      <td>2020-03-17</td>\n",
       "      <td>95.800003</td>\n",
       "      <td>97.459999</td>\n",
       "      <td>91.150002</td>\n",
       "      <td>93.529999</td>\n",
       "      <td>93.529999</td>\n",
       "      <td>27526200</td>\n",
       "      <td>2020-03</td>\n",
       "    </tr>\n",
       "    <tr>\n",
       "      <th>...</th>\n",
       "      <td>...</td>\n",
       "      <td>...</td>\n",
       "      <td>...</td>\n",
       "      <td>...</td>\n",
       "      <td>...</td>\n",
       "      <td>...</td>\n",
       "      <td>...</td>\n",
       "      <td>...</td>\n",
       "    </tr>\n",
       "    <tr>\n",
       "      <th>103</th>\n",
       "      <td>2019-11-25</td>\n",
       "      <td>148.800003</td>\n",
       "      <td>150.210007</td>\n",
       "      <td>147.699997</td>\n",
       "      <td>149.690002</td>\n",
       "      <td>148.798508</td>\n",
       "      <td>11316800</td>\n",
       "      <td>2019-11</td>\n",
       "    </tr>\n",
       "    <tr>\n",
       "      <th>107</th>\n",
       "      <td>2019-12-02</td>\n",
       "      <td>152.940002</td>\n",
       "      <td>152.970001</td>\n",
       "      <td>149.100006</td>\n",
       "      <td>150.619995</td>\n",
       "      <td>149.722961</td>\n",
       "      <td>10351000</td>\n",
       "      <td>2019-12</td>\n",
       "    </tr>\n",
       "    <tr>\n",
       "      <th>105</th>\n",
       "      <td>2019-11-27</td>\n",
       "      <td>152.300003</td>\n",
       "      <td>152.570007</td>\n",
       "      <td>151.149994</td>\n",
       "      <td>151.479996</td>\n",
       "      <td>150.577850</td>\n",
       "      <td>6155400</td>\n",
       "      <td>2019-11</td>\n",
       "    </tr>\n",
       "    <tr>\n",
       "      <th>106</th>\n",
       "      <td>2019-11-29</td>\n",
       "      <td>151.479996</td>\n",
       "      <td>152.470001</td>\n",
       "      <td>151.009995</td>\n",
       "      <td>151.580002</td>\n",
       "      <td>150.677261</td>\n",
       "      <td>6284900</td>\n",
       "      <td>2019-11</td>\n",
       "    </tr>\n",
       "    <tr>\n",
       "      <th>104</th>\n",
       "      <td>2019-11-26</td>\n",
       "      <td>151.750000</td>\n",
       "      <td>153.410004</td>\n",
       "      <td>150.610001</td>\n",
       "      <td>151.639999</td>\n",
       "      <td>150.736893</td>\n",
       "      <td>24949900</td>\n",
       "      <td>2019-11</td>\n",
       "    </tr>\n",
       "  </tbody>\n",
       "</table>\n",
       "<p>253 rows × 8 columns</p>\n",
       "</div>"
      ],
      "text/plain": [
       "          Date        Open        High         Low       Close   Adj Close   \n",
       "183 2020-03-23   84.489998   87.279999   81.089996   85.760002   85.760002  \\\n",
       "182 2020-03-20   95.989998   96.989998   85.839996   85.980003   85.980003   \n",
       "180 2020-03-18   87.589996   89.339996   79.070000   88.800003   88.800003   \n",
       "176 2020-03-12   97.620003  100.000000   91.639999   91.809998   91.809998   \n",
       "179 2020-03-17   95.800003   97.459999   91.150002   93.529999   93.529999   \n",
       "..         ...         ...         ...         ...         ...         ...   \n",
       "103 2019-11-25  148.800003  150.210007  147.699997  149.690002  148.798508   \n",
       "107 2019-12-02  152.940002  152.970001  149.100006  150.619995  149.722961   \n",
       "105 2019-11-27  152.300003  152.570007  151.149994  151.479996  150.577850   \n",
       "106 2019-11-29  151.479996  152.470001  151.009995  151.580002  150.677261   \n",
       "104 2019-11-26  151.750000  153.410004  150.610001  151.639999  150.736893   \n",
       "\n",
       "       Volume       YM  \n",
       "183  32246600  2020-03  \n",
       "182  31957800  2020-03  \n",
       "180  43592500  2020-03  \n",
       "176  40392900  2020-03  \n",
       "179  27526200  2020-03  \n",
       "..        ...      ...  \n",
       "103  11316800  2019-11  \n",
       "107  10351000  2019-12  \n",
       "105   6155400  2019-11  \n",
       "106   6284900  2019-11  \n",
       "104  24949900  2019-11  \n",
       "\n",
       "[253 rows x 8 columns]"
      ]
     },
     "execution_count": 28,
     "metadata": {},
     "output_type": "execute_result"
    }
   ],
   "source": [
    "DIS.sort_values(by = \"Close\", ascending = True)"
   ]
  },
  {
   "cell_type": "markdown",
   "metadata": {
    "slideshow": {
     "slide_type": "slide"
    },
    "tags": []
   },
   "source": [
    "## DataFrame Attributes"
   ]
  },
  {
   "cell_type": "code",
   "execution_count": 29,
   "metadata": {
    "tags": []
   },
   "outputs": [
    {
     "data": {
      "text/plain": [
       "PeriodIndex(['2019-07', '2019-08', '2019-09', '2019-10', '2019-11', '2019-12',\n",
       "             '2020-01', '2020-02', '2020-03', '2020-04', '2020-05', '2020-06'],\n",
       "            dtype='period[M]', name='YM')"
      ]
     },
     "execution_count": 29,
     "metadata": {},
     "output_type": "execute_result"
    }
   ],
   "source": [
    "result.index"
   ]
  },
  {
   "cell_type": "code",
   "execution_count": 30,
   "metadata": {
    "tags": []
   },
   "outputs": [
    {
     "data": {
      "text/plain": [
       "(2, (12, 3), 36)"
      ]
     },
     "execution_count": 30,
     "metadata": {},
     "output_type": "execute_result"
    }
   ],
   "source": [
    "result.ndim, result.shape, result.size"
   ]
  },
  {
   "cell_type": "markdown",
   "metadata": {
    "slideshow": {
     "slide_type": "slide"
    },
    "tags": []
   },
   "source": [
    "## Filtering/Subsetting"
   ]
  },
  {
   "cell_type": "code",
   "execution_count": 31,
   "metadata": {},
   "outputs": [
    {
     "data": {
      "text/plain": [
       "pandas.core.frame.DataFrame"
      ]
     },
     "execution_count": 31,
     "metadata": {},
     "output_type": "execute_result"
    }
   ],
   "source": [
    "# multiple conditions use bitwise & and |\n",
    "yelp_bad = yelp[(yelp[\"review_count\"] > 100) & (yelp[\"stars\"] < 2)]\n",
    "type(yelp_bad)"
   ]
  },
  {
   "cell_type": "code",
   "execution_count": 32,
   "metadata": {
    "tags": []
   },
   "outputs": [
    {
     "data": {
      "text/html": [
       "<div>\n",
       "<style scoped>\n",
       "    .dataframe tbody tr th:only-of-type {\n",
       "        vertical-align: middle;\n",
       "    }\n",
       "\n",
       "    .dataframe tbody tr th {\n",
       "        vertical-align: top;\n",
       "    }\n",
       "\n",
       "    .dataframe thead th {\n",
       "        text-align: right;\n",
       "    }\n",
       "</style>\n",
       "<table border=\"1\" class=\"dataframe\">\n",
       "  <thead>\n",
       "    <tr style=\"text-align: right;\">\n",
       "      <th></th>\n",
       "      <th>name</th>\n",
       "      <th>address</th>\n",
       "      <th>city</th>\n",
       "      <th>state</th>\n",
       "      <th>postal_code</th>\n",
       "      <th>latitude</th>\n",
       "      <th>longitude</th>\n",
       "      <th>stars</th>\n",
       "      <th>review_count</th>\n",
       "      <th>is_open</th>\n",
       "      <th>attributes</th>\n",
       "      <th>categories</th>\n",
       "      <th>hours</th>\n",
       "    </tr>\n",
       "    <tr>\n",
       "      <th>business_id</th>\n",
       "      <th></th>\n",
       "      <th></th>\n",
       "      <th></th>\n",
       "      <th></th>\n",
       "      <th></th>\n",
       "      <th></th>\n",
       "      <th></th>\n",
       "      <th></th>\n",
       "      <th></th>\n",
       "      <th></th>\n",
       "      <th></th>\n",
       "      <th></th>\n",
       "      <th></th>\n",
       "    </tr>\n",
       "  </thead>\n",
       "  <tbody>\n",
       "    <tr>\n",
       "      <th>1fy9fS3UH2k4TfQcryNKkA</th>\n",
       "      <td>Goedeker's</td>\n",
       "      <td>13850 Manchester Rd</td>\n",
       "      <td>Ballwin</td>\n",
       "      <td>MO</td>\n",
       "      <td>63011</td>\n",
       "      <td>38.595703</td>\n",
       "      <td>-90.483721</td>\n",
       "      <td>1.5</td>\n",
       "      <td>747</td>\n",
       "      <td>1</td>\n",
       "      <td>{'BusinessAcceptsCreditCards': 'True', 'Restau...</td>\n",
       "      <td>Appliances &amp; Repair, Local Services, Appliance...</td>\n",
       "      <td>{'Monday': '10:0-18:0', 'Tuesday': '10:0-18:0'...</td>\n",
       "    </tr>\n",
       "    <tr>\n",
       "      <th>ONuqtwn8euUIWumg3U_4DQ</th>\n",
       "      <td>Sears Home Services</td>\n",
       "      <td>639 B Gravios Bluffs Blvd</td>\n",
       "      <td>Fenton</td>\n",
       "      <td>MO</td>\n",
       "      <td>63026</td>\n",
       "      <td>38.507848</td>\n",
       "      <td>-90.435434</td>\n",
       "      <td>1.0</td>\n",
       "      <td>575</td>\n",
       "      <td>0</td>\n",
       "      <td>{'BusinessAcceptsCreditCards': 'True'}</td>\n",
       "      <td>Local Services, Home Services, Appliances &amp; Re...</td>\n",
       "      <td>{'Monday': '9:30-17:30', 'Tuesday': '9:30-17:3...</td>\n",
       "    </tr>\n",
       "    <tr>\n",
       "      <th>-jsmtvdoUI-GJRSklYmEuA</th>\n",
       "      <td>Pets Best</td>\n",
       "      <td>2323 S Vista Ave, Ste 100</td>\n",
       "      <td>Boise</td>\n",
       "      <td>ID</td>\n",
       "      <td>83705</td>\n",
       "      <td>43.581395</td>\n",
       "      <td>-116.214277</td>\n",
       "      <td>1.5</td>\n",
       "      <td>461</td>\n",
       "      <td>1</td>\n",
       "      <td>None</td>\n",
       "      <td>Pet Services, Pets, Pet Insurance</td>\n",
       "      <td>{'Monday': '6:0-19:0', 'Tuesday': '6:0-19:0', ...</td>\n",
       "    </tr>\n",
       "    <tr>\n",
       "      <th>xDLh8Rgh1nL-JZW7wYQF8A</th>\n",
       "      <td>Defender Security Company</td>\n",
       "      <td>3750 Priority Way South Dr, Ste 200</td>\n",
       "      <td>Indianapolis</td>\n",
       "      <td>IN</td>\n",
       "      <td>46240</td>\n",
       "      <td>39.920326</td>\n",
       "      <td>-86.102723</td>\n",
       "      <td>1.0</td>\n",
       "      <td>413</td>\n",
       "      <td>1</td>\n",
       "      <td>{'ByAppointmentOnly': 'True', 'BusinessAccepts...</td>\n",
       "      <td>Security Systems, Heating &amp; Air Conditioning/H...</td>\n",
       "      <td>{'Monday': '9:0-17:0', 'Tuesday': '9:0-17:0', ...</td>\n",
       "    </tr>\n",
       "    <tr>\n",
       "      <th>uLp_wwemUq6cAuxPwaZF3Q</th>\n",
       "      <td>Zatarain's Kitchen</td>\n",
       "      <td>900 Airline Dr, Cocourse D, Louis Armstrong Ne...</td>\n",
       "      <td>Kenner</td>\n",
       "      <td>LA</td>\n",
       "      <td>70062</td>\n",
       "      <td>29.985551</td>\n",
       "      <td>-90.254249</td>\n",
       "      <td>1.5</td>\n",
       "      <td>412</td>\n",
       "      <td>0</td>\n",
       "      <td>{'RestaurantsReservations': 'False', 'Business...</td>\n",
       "      <td>Seafood, Restaurants, Food, Desserts, Cajun/Cr...</td>\n",
       "      <td>{'Monday': '10:0-20:0', 'Tuesday': '10:0-20:0'...</td>\n",
       "    </tr>\n",
       "  </tbody>\n",
       "</table>\n",
       "</div>"
      ],
      "text/plain": [
       "                                             name   \n",
       "business_id                                         \n",
       "1fy9fS3UH2k4TfQcryNKkA                 Goedeker's  \\\n",
       "ONuqtwn8euUIWumg3U_4DQ        Sears Home Services   \n",
       "-jsmtvdoUI-GJRSklYmEuA                  Pets Best   \n",
       "xDLh8Rgh1nL-JZW7wYQF8A  Defender Security Company   \n",
       "uLp_wwemUq6cAuxPwaZF3Q         Zatarain's Kitchen   \n",
       "\n",
       "                                                                  address   \n",
       "business_id                                                                 \n",
       "1fy9fS3UH2k4TfQcryNKkA                                13850 Manchester Rd  \\\n",
       "ONuqtwn8euUIWumg3U_4DQ                          639 B Gravios Bluffs Blvd   \n",
       "-jsmtvdoUI-GJRSklYmEuA                          2323 S Vista Ave, Ste 100   \n",
       "xDLh8Rgh1nL-JZW7wYQF8A                3750 Priority Way South Dr, Ste 200   \n",
       "uLp_wwemUq6cAuxPwaZF3Q  900 Airline Dr, Cocourse D, Louis Armstrong Ne...   \n",
       "\n",
       "                                city state postal_code   latitude   longitude   \n",
       "business_id                                                                     \n",
       "1fy9fS3UH2k4TfQcryNKkA       Ballwin    MO       63011  38.595703  -90.483721  \\\n",
       "ONuqtwn8euUIWumg3U_4DQ        Fenton    MO       63026  38.507848  -90.435434   \n",
       "-jsmtvdoUI-GJRSklYmEuA         Boise    ID       83705  43.581395 -116.214277   \n",
       "xDLh8Rgh1nL-JZW7wYQF8A  Indianapolis    IN       46240  39.920326  -86.102723   \n",
       "uLp_wwemUq6cAuxPwaZF3Q        Kenner    LA       70062  29.985551  -90.254249   \n",
       "\n",
       "                        stars  review_count  is_open   \n",
       "business_id                                            \n",
       "1fy9fS3UH2k4TfQcryNKkA    1.5           747        1  \\\n",
       "ONuqtwn8euUIWumg3U_4DQ    1.0           575        0   \n",
       "-jsmtvdoUI-GJRSklYmEuA    1.5           461        1   \n",
       "xDLh8Rgh1nL-JZW7wYQF8A    1.0           413        1   \n",
       "uLp_wwemUq6cAuxPwaZF3Q    1.5           412        0   \n",
       "\n",
       "                                                               attributes   \n",
       "business_id                                                                 \n",
       "1fy9fS3UH2k4TfQcryNKkA  {'BusinessAcceptsCreditCards': 'True', 'Restau...  \\\n",
       "ONuqtwn8euUIWumg3U_4DQ             {'BusinessAcceptsCreditCards': 'True'}   \n",
       "-jsmtvdoUI-GJRSklYmEuA                                               None   \n",
       "xDLh8Rgh1nL-JZW7wYQF8A  {'ByAppointmentOnly': 'True', 'BusinessAccepts...   \n",
       "uLp_wwemUq6cAuxPwaZF3Q  {'RestaurantsReservations': 'False', 'Business...   \n",
       "\n",
       "                                                               categories   \n",
       "business_id                                                                 \n",
       "1fy9fS3UH2k4TfQcryNKkA  Appliances & Repair, Local Services, Appliance...  \\\n",
       "ONuqtwn8euUIWumg3U_4DQ  Local Services, Home Services, Appliances & Re...   \n",
       "-jsmtvdoUI-GJRSklYmEuA                  Pet Services, Pets, Pet Insurance   \n",
       "xDLh8Rgh1nL-JZW7wYQF8A  Security Systems, Heating & Air Conditioning/H...   \n",
       "uLp_wwemUq6cAuxPwaZF3Q  Seafood, Restaurants, Food, Desserts, Cajun/Cr...   \n",
       "\n",
       "                                                                    hours  \n",
       "business_id                                                                \n",
       "1fy9fS3UH2k4TfQcryNKkA  {'Monday': '10:0-18:0', 'Tuesday': '10:0-18:0'...  \n",
       "ONuqtwn8euUIWumg3U_4DQ  {'Monday': '9:30-17:30', 'Tuesday': '9:30-17:3...  \n",
       "-jsmtvdoUI-GJRSklYmEuA  {'Monday': '6:0-19:0', 'Tuesday': '6:0-19:0', ...  \n",
       "xDLh8Rgh1nL-JZW7wYQF8A  {'Monday': '9:0-17:0', 'Tuesday': '9:0-17:0', ...  \n",
       "uLp_wwemUq6cAuxPwaZF3Q  {'Monday': '10:0-20:0', 'Tuesday': '10:0-20:0'...  "
      ]
     },
     "execution_count": 32,
     "metadata": {},
     "output_type": "execute_result"
    }
   ],
   "source": [
    "yelp_bad_sorted = yelp_bad.sort_values(by='review_count', ascending=False)\n",
    "yelp_bad_sorted.head()"
   ]
  },
  {
   "cell_type": "markdown",
   "metadata": {
    "slideshow": {
     "slide_type": "slide"
    },
    "tags": []
   },
   "source": [
    "## Filtering/Subsetting (cont'd)"
   ]
  },
  {
   "cell_type": "code",
   "execution_count": 33,
   "metadata": {
    "tags": []
   },
   "outputs": [
    {
     "data": {
      "text/html": [
       "<div>\n",
       "<style scoped>\n",
       "    .dataframe tbody tr th:only-of-type {\n",
       "        vertical-align: middle;\n",
       "    }\n",
       "\n",
       "    .dataframe tbody tr th {\n",
       "        vertical-align: top;\n",
       "    }\n",
       "\n",
       "    .dataframe thead th {\n",
       "        text-align: right;\n",
       "    }\n",
       "</style>\n",
       "<table border=\"1\" class=\"dataframe\">\n",
       "  <thead>\n",
       "    <tr style=\"text-align: right;\">\n",
       "      <th></th>\n",
       "      <th>name</th>\n",
       "      <th>address</th>\n",
       "      <th>city</th>\n",
       "      <th>state</th>\n",
       "      <th>postal_code</th>\n",
       "      <th>latitude</th>\n",
       "      <th>longitude</th>\n",
       "      <th>stars</th>\n",
       "      <th>review_count</th>\n",
       "      <th>is_open</th>\n",
       "      <th>attributes</th>\n",
       "      <th>categories</th>\n",
       "      <th>hours</th>\n",
       "    </tr>\n",
       "    <tr>\n",
       "      <th>business_id</th>\n",
       "      <th></th>\n",
       "      <th></th>\n",
       "      <th></th>\n",
       "      <th></th>\n",
       "      <th></th>\n",
       "      <th></th>\n",
       "      <th></th>\n",
       "      <th></th>\n",
       "      <th></th>\n",
       "      <th></th>\n",
       "      <th></th>\n",
       "      <th></th>\n",
       "      <th></th>\n",
       "    </tr>\n",
       "  </thead>\n",
       "  <tbody>\n",
       "    <tr>\n",
       "      <th>l_7TW_Ix58-QvhQgpJi_Xw</th>\n",
       "      <td>SUGARED + BRONZED</td>\n",
       "      <td>1120 Walnut St</td>\n",
       "      <td>Philadelphia</td>\n",
       "      <td>PA</td>\n",
       "      <td>19107</td>\n",
       "      <td>39.948570</td>\n",
       "      <td>-75.160072</td>\n",
       "      <td>5.0</td>\n",
       "      <td>513</td>\n",
       "      <td>1</td>\n",
       "      <td>{'BusinessParking': '{'garage': True, 'street'...</td>\n",
       "      <td>Beauty &amp; Spas, Shopping, Waxing, Cosmetics &amp; B...</td>\n",
       "      <td>{'Monday': '0:0-0:0', 'Tuesday': '9:0-23:0', '...</td>\n",
       "    </tr>\n",
       "    <tr>\n",
       "      <th>tARR9jhv5gi9TjsfSVmjmw</th>\n",
       "      <td>Kaffe Crepe</td>\n",
       "      <td>1300 East Plumb Ln, Ste C4</td>\n",
       "      <td>Reno</td>\n",
       "      <td>NV</td>\n",
       "      <td>89502</td>\n",
       "      <td>39.504208</td>\n",
       "      <td>-119.782768</td>\n",
       "      <td>5.0</td>\n",
       "      <td>454</td>\n",
       "      <td>1</td>\n",
       "      <td>{'Caters': 'False', 'HasTV': 'False', 'GoodFor...</td>\n",
       "      <td>Food, Restaurants, Cafes, Creperies, Coffee &amp; Tea</td>\n",
       "      <td>{'Monday': '9:0-15:0', 'Tuesday': '8:0-16:0', ...</td>\n",
       "    </tr>\n",
       "    <tr>\n",
       "      <th>_aKr7POnacW_VizRKBpCiA</th>\n",
       "      <td>Blues City Deli</td>\n",
       "      <td>2438 McNair Ave</td>\n",
       "      <td>Saint Louis</td>\n",
       "      <td>MO</td>\n",
       "      <td>63104</td>\n",
       "      <td>38.605024</td>\n",
       "      <td>-90.218110</td>\n",
       "      <td>5.0</td>\n",
       "      <td>991</td>\n",
       "      <td>1</td>\n",
       "      <td>{'BikeParking': 'True', 'RestaurantsAttire': '...</td>\n",
       "      <td>Delis, Bars, Restaurants, Nightlife, Pubs, Ame...</td>\n",
       "      <td>{'Monday': '0:0-0:0', 'Tuesday': '10:30-15:0',...</td>\n",
       "    </tr>\n",
       "    <tr>\n",
       "      <th>FHDuu5Mv1bEkusxEuhptZQ</th>\n",
       "      <td>Barracuda Deli Cafe St. Pete Beach</td>\n",
       "      <td>6640 Gulf Blvd</td>\n",
       "      <td>St Pete Beach</td>\n",
       "      <td>FL</td>\n",
       "      <td>33706</td>\n",
       "      <td>27.736694</td>\n",
       "      <td>-82.748189</td>\n",
       "      <td>5.0</td>\n",
       "      <td>521</td>\n",
       "      <td>1</td>\n",
       "      <td>{'RestaurantsAttire': 'u'casual'', 'Restaurant...</td>\n",
       "      <td>Caribbean, Latin American, Restaurants, Breakf...</td>\n",
       "      <td>{'Tuesday': '11:0-20:30', 'Wednesday': '11:0-2...</td>\n",
       "    </tr>\n",
       "    <tr>\n",
       "      <th>8QqnRpM-QxGsjDNuu0E57A</th>\n",
       "      <td>Carlillos Cocina</td>\n",
       "      <td>415 S Rock Blvd</td>\n",
       "      <td>Sparks</td>\n",
       "      <td>NV</td>\n",
       "      <td>89431</td>\n",
       "      <td>39.530096</td>\n",
       "      <td>-119.766608</td>\n",
       "      <td>5.0</td>\n",
       "      <td>799</td>\n",
       "      <td>1</td>\n",
       "      <td>{'NoiseLevel': 'u'average'', 'GoodForMeal': '{...</td>\n",
       "      <td>Bars, Mexican, Breakfast &amp; Brunch, Restaurants...</td>\n",
       "      <td>{'Monday': '7:0-14:0', 'Tuesday': '7:0-14:0', ...</td>\n",
       "    </tr>\n",
       "    <tr>\n",
       "      <th>...</th>\n",
       "      <td>...</td>\n",
       "      <td>...</td>\n",
       "      <td>...</td>\n",
       "      <td>...</td>\n",
       "      <td>...</td>\n",
       "      <td>...</td>\n",
       "      <td>...</td>\n",
       "      <td>...</td>\n",
       "      <td>...</td>\n",
       "      <td>...</td>\n",
       "      <td>...</td>\n",
       "      <td>...</td>\n",
       "      <td>...</td>\n",
       "    </tr>\n",
       "    <tr>\n",
       "      <th>uLp_wwemUq6cAuxPwaZF3Q</th>\n",
       "      <td>Zatarain's Kitchen</td>\n",
       "      <td>900 Airline Dr, Cocourse D, Louis Armstrong Ne...</td>\n",
       "      <td>Kenner</td>\n",
       "      <td>LA</td>\n",
       "      <td>70062</td>\n",
       "      <td>29.985551</td>\n",
       "      <td>-90.254249</td>\n",
       "      <td>1.5</td>\n",
       "      <td>412</td>\n",
       "      <td>0</td>\n",
       "      <td>{'RestaurantsReservations': 'False', 'Business...</td>\n",
       "      <td>Seafood, Restaurants, Food, Desserts, Cajun/Cr...</td>\n",
       "      <td>{'Monday': '10:0-20:0', 'Tuesday': '10:0-20:0'...</td>\n",
       "    </tr>\n",
       "    <tr>\n",
       "      <th>-jsmtvdoUI-GJRSklYmEuA</th>\n",
       "      <td>Pets Best</td>\n",
       "      <td>2323 S Vista Ave, Ste 100</td>\n",
       "      <td>Boise</td>\n",
       "      <td>ID</td>\n",
       "      <td>83705</td>\n",
       "      <td>43.581395</td>\n",
       "      <td>-116.214277</td>\n",
       "      <td>1.5</td>\n",
       "      <td>461</td>\n",
       "      <td>1</td>\n",
       "      <td>None</td>\n",
       "      <td>Pet Services, Pets, Pet Insurance</td>\n",
       "      <td>{'Monday': '6:0-19:0', 'Tuesday': '6:0-19:0', ...</td>\n",
       "    </tr>\n",
       "    <tr>\n",
       "      <th>1fy9fS3UH2k4TfQcryNKkA</th>\n",
       "      <td>Goedeker's</td>\n",
       "      <td>13850 Manchester Rd</td>\n",
       "      <td>Ballwin</td>\n",
       "      <td>MO</td>\n",
       "      <td>63011</td>\n",
       "      <td>38.595703</td>\n",
       "      <td>-90.483721</td>\n",
       "      <td>1.5</td>\n",
       "      <td>747</td>\n",
       "      <td>1</td>\n",
       "      <td>{'BusinessAcceptsCreditCards': 'True', 'Restau...</td>\n",
       "      <td>Appliances &amp; Repair, Local Services, Appliance...</td>\n",
       "      <td>{'Monday': '10:0-18:0', 'Tuesday': '10:0-18:0'...</td>\n",
       "    </tr>\n",
       "    <tr>\n",
       "      <th>ONuqtwn8euUIWumg3U_4DQ</th>\n",
       "      <td>Sears Home Services</td>\n",
       "      <td>639 B Gravios Bluffs Blvd</td>\n",
       "      <td>Fenton</td>\n",
       "      <td>MO</td>\n",
       "      <td>63026</td>\n",
       "      <td>38.507848</td>\n",
       "      <td>-90.435434</td>\n",
       "      <td>1.0</td>\n",
       "      <td>575</td>\n",
       "      <td>0</td>\n",
       "      <td>{'BusinessAcceptsCreditCards': 'True'}</td>\n",
       "      <td>Local Services, Home Services, Appliances &amp; Re...</td>\n",
       "      <td>{'Monday': '9:30-17:30', 'Tuesday': '9:30-17:3...</td>\n",
       "    </tr>\n",
       "    <tr>\n",
       "      <th>xDLh8Rgh1nL-JZW7wYQF8A</th>\n",
       "      <td>Defender Security Company</td>\n",
       "      <td>3750 Priority Way South Dr, Ste 200</td>\n",
       "      <td>Indianapolis</td>\n",
       "      <td>IN</td>\n",
       "      <td>46240</td>\n",
       "      <td>39.920326</td>\n",
       "      <td>-86.102723</td>\n",
       "      <td>1.0</td>\n",
       "      <td>413</td>\n",
       "      <td>1</td>\n",
       "      <td>{'ByAppointmentOnly': 'True', 'BusinessAccepts...</td>\n",
       "      <td>Security Systems, Heating &amp; Air Conditioning/H...</td>\n",
       "      <td>{'Monday': '9:0-17:0', 'Tuesday': '9:0-17:0', ...</td>\n",
       "    </tr>\n",
       "  </tbody>\n",
       "</table>\n",
       "<p>539 rows × 13 columns</p>\n",
       "</div>"
      ],
      "text/plain": [
       "                                                      name   \n",
       "business_id                                                  \n",
       "l_7TW_Ix58-QvhQgpJi_Xw                   SUGARED + BRONZED  \\\n",
       "tARR9jhv5gi9TjsfSVmjmw                         Kaffe Crepe   \n",
       "_aKr7POnacW_VizRKBpCiA                     Blues City Deli   \n",
       "FHDuu5Mv1bEkusxEuhptZQ  Barracuda Deli Cafe St. Pete Beach   \n",
       "8QqnRpM-QxGsjDNuu0E57A                    Carlillos Cocina   \n",
       "...                                                    ...   \n",
       "uLp_wwemUq6cAuxPwaZF3Q                  Zatarain's Kitchen   \n",
       "-jsmtvdoUI-GJRSklYmEuA                           Pets Best   \n",
       "1fy9fS3UH2k4TfQcryNKkA                          Goedeker's   \n",
       "ONuqtwn8euUIWumg3U_4DQ                 Sears Home Services   \n",
       "xDLh8Rgh1nL-JZW7wYQF8A           Defender Security Company   \n",
       "\n",
       "                                                                  address   \n",
       "business_id                                                                 \n",
       "l_7TW_Ix58-QvhQgpJi_Xw                                     1120 Walnut St  \\\n",
       "tARR9jhv5gi9TjsfSVmjmw                         1300 East Plumb Ln, Ste C4   \n",
       "_aKr7POnacW_VizRKBpCiA                                    2438 McNair Ave   \n",
       "FHDuu5Mv1bEkusxEuhptZQ                                     6640 Gulf Blvd   \n",
       "8QqnRpM-QxGsjDNuu0E57A                                    415 S Rock Blvd   \n",
       "...                                                                   ...   \n",
       "uLp_wwemUq6cAuxPwaZF3Q  900 Airline Dr, Cocourse D, Louis Armstrong Ne...   \n",
       "-jsmtvdoUI-GJRSklYmEuA                          2323 S Vista Ave, Ste 100   \n",
       "1fy9fS3UH2k4TfQcryNKkA                                13850 Manchester Rd   \n",
       "ONuqtwn8euUIWumg3U_4DQ                          639 B Gravios Bluffs Blvd   \n",
       "xDLh8Rgh1nL-JZW7wYQF8A                3750 Priority Way South Dr, Ste 200   \n",
       "\n",
       "                                 city state postal_code   latitude   \n",
       "business_id                                                          \n",
       "l_7TW_Ix58-QvhQgpJi_Xw   Philadelphia    PA       19107  39.948570  \\\n",
       "tARR9jhv5gi9TjsfSVmjmw           Reno    NV       89502  39.504208   \n",
       "_aKr7POnacW_VizRKBpCiA    Saint Louis    MO       63104  38.605024   \n",
       "FHDuu5Mv1bEkusxEuhptZQ  St Pete Beach    FL       33706  27.736694   \n",
       "8QqnRpM-QxGsjDNuu0E57A         Sparks    NV       89431  39.530096   \n",
       "...                               ...   ...         ...        ...   \n",
       "uLp_wwemUq6cAuxPwaZF3Q         Kenner    LA       70062  29.985551   \n",
       "-jsmtvdoUI-GJRSklYmEuA          Boise    ID       83705  43.581395   \n",
       "1fy9fS3UH2k4TfQcryNKkA        Ballwin    MO       63011  38.595703   \n",
       "ONuqtwn8euUIWumg3U_4DQ         Fenton    MO       63026  38.507848   \n",
       "xDLh8Rgh1nL-JZW7wYQF8A   Indianapolis    IN       46240  39.920326   \n",
       "\n",
       "                         longitude  stars  review_count  is_open   \n",
       "business_id                                                        \n",
       "l_7TW_Ix58-QvhQgpJi_Xw  -75.160072    5.0           513        1  \\\n",
       "tARR9jhv5gi9TjsfSVmjmw -119.782768    5.0           454        1   \n",
       "_aKr7POnacW_VizRKBpCiA  -90.218110    5.0           991        1   \n",
       "FHDuu5Mv1bEkusxEuhptZQ  -82.748189    5.0           521        1   \n",
       "8QqnRpM-QxGsjDNuu0E57A -119.766608    5.0           799        1   \n",
       "...                            ...    ...           ...      ...   \n",
       "uLp_wwemUq6cAuxPwaZF3Q  -90.254249    1.5           412        0   \n",
       "-jsmtvdoUI-GJRSklYmEuA -116.214277    1.5           461        1   \n",
       "1fy9fS3UH2k4TfQcryNKkA  -90.483721    1.5           747        1   \n",
       "ONuqtwn8euUIWumg3U_4DQ  -90.435434    1.0           575        0   \n",
       "xDLh8Rgh1nL-JZW7wYQF8A  -86.102723    1.0           413        1   \n",
       "\n",
       "                                                               attributes   \n",
       "business_id                                                                 \n",
       "l_7TW_Ix58-QvhQgpJi_Xw  {'BusinessParking': '{'garage': True, 'street'...  \\\n",
       "tARR9jhv5gi9TjsfSVmjmw  {'Caters': 'False', 'HasTV': 'False', 'GoodFor...   \n",
       "_aKr7POnacW_VizRKBpCiA  {'BikeParking': 'True', 'RestaurantsAttire': '...   \n",
       "FHDuu5Mv1bEkusxEuhptZQ  {'RestaurantsAttire': 'u'casual'', 'Restaurant...   \n",
       "8QqnRpM-QxGsjDNuu0E57A  {'NoiseLevel': 'u'average'', 'GoodForMeal': '{...   \n",
       "...                                                                   ...   \n",
       "uLp_wwemUq6cAuxPwaZF3Q  {'RestaurantsReservations': 'False', 'Business...   \n",
       "-jsmtvdoUI-GJRSklYmEuA                                               None   \n",
       "1fy9fS3UH2k4TfQcryNKkA  {'BusinessAcceptsCreditCards': 'True', 'Restau...   \n",
       "ONuqtwn8euUIWumg3U_4DQ             {'BusinessAcceptsCreditCards': 'True'}   \n",
       "xDLh8Rgh1nL-JZW7wYQF8A  {'ByAppointmentOnly': 'True', 'BusinessAccepts...   \n",
       "\n",
       "                                                               categories   \n",
       "business_id                                                                 \n",
       "l_7TW_Ix58-QvhQgpJi_Xw  Beauty & Spas, Shopping, Waxing, Cosmetics & B...  \\\n",
       "tARR9jhv5gi9TjsfSVmjmw  Food, Restaurants, Cafes, Creperies, Coffee & Tea   \n",
       "_aKr7POnacW_VizRKBpCiA  Delis, Bars, Restaurants, Nightlife, Pubs, Ame...   \n",
       "FHDuu5Mv1bEkusxEuhptZQ  Caribbean, Latin American, Restaurants, Breakf...   \n",
       "8QqnRpM-QxGsjDNuu0E57A  Bars, Mexican, Breakfast & Brunch, Restaurants...   \n",
       "...                                                                   ...   \n",
       "uLp_wwemUq6cAuxPwaZF3Q  Seafood, Restaurants, Food, Desserts, Cajun/Cr...   \n",
       "-jsmtvdoUI-GJRSklYmEuA                  Pet Services, Pets, Pet Insurance   \n",
       "1fy9fS3UH2k4TfQcryNKkA  Appliances & Repair, Local Services, Appliance...   \n",
       "ONuqtwn8euUIWumg3U_4DQ  Local Services, Home Services, Appliances & Re...   \n",
       "xDLh8Rgh1nL-JZW7wYQF8A  Security Systems, Heating & Air Conditioning/H...   \n",
       "\n",
       "                                                                    hours  \n",
       "business_id                                                                \n",
       "l_7TW_Ix58-QvhQgpJi_Xw  {'Monday': '0:0-0:0', 'Tuesday': '9:0-23:0', '...  \n",
       "tARR9jhv5gi9TjsfSVmjmw  {'Monday': '9:0-15:0', 'Tuesday': '8:0-16:0', ...  \n",
       "_aKr7POnacW_VizRKBpCiA  {'Monday': '0:0-0:0', 'Tuesday': '10:30-15:0',...  \n",
       "FHDuu5Mv1bEkusxEuhptZQ  {'Tuesday': '11:0-20:30', 'Wednesday': '11:0-2...  \n",
       "8QqnRpM-QxGsjDNuu0E57A  {'Monday': '7:0-14:0', 'Tuesday': '7:0-14:0', ...  \n",
       "...                                                                   ...  \n",
       "uLp_wwemUq6cAuxPwaZF3Q  {'Monday': '10:0-20:0', 'Tuesday': '10:0-20:0'...  \n",
       "-jsmtvdoUI-GJRSklYmEuA  {'Monday': '6:0-19:0', 'Tuesday': '6:0-19:0', ...  \n",
       "1fy9fS3UH2k4TfQcryNKkA  {'Monday': '10:0-18:0', 'Tuesday': '10:0-18:0'...  \n",
       "ONuqtwn8euUIWumg3U_4DQ  {'Monday': '9:30-17:30', 'Tuesday': '9:30-17:3...  \n",
       "xDLh8Rgh1nL-JZW7wYQF8A  {'Monday': '9:0-17:0', 'Tuesday': '9:0-17:0', ...  \n",
       "\n",
       "[539 rows x 13 columns]"
      ]
     },
     "execution_count": 33,
     "metadata": {},
     "output_type": "execute_result"
    }
   ],
   "source": [
    "# or \\ and & use parentheses for clarity\n",
    "yelp_high_low = yelp[((yelp[\"stars\"] < 2) | (yelp[\"stars\"] > 4.25)) & (yelp[\"review_count\"] > 400)]\n",
    "yelp_high_low_sorted = yelp_high_low.sort_values(by='stars', ascending=False)\n",
    "yelp_high_low_sorted"
   ]
  },
  {
   "cell_type": "markdown",
   "metadata": {
    "slideshow": {
     "slide_type": "slide"
    },
    "tags": []
   },
   "source": [
    "## Filtering/Subsetting (cont'd)"
   ]
  },
  {
   "cell_type": "code",
   "execution_count": 34,
   "metadata": {},
   "outputs": [
    {
     "data": {
      "text/plain": [
       "stars\n",
       "1.0      28\n",
       "1.5      88\n",
       "2.0     237\n",
       "2.5     576\n",
       "3.0    1403\n",
       "3.5    3364\n",
       "4.0    5403\n",
       "4.5    3269\n",
       "5.0     279\n",
       "Name: count, dtype: int64"
      ]
     },
     "execution_count": 34,
     "metadata": {},
     "output_type": "execute_result"
    }
   ],
   "source": [
    "# \n",
    "yelp_big = yelp[yelp[\"review_count\"].between(100, max(yelp[\"review_count\"]))] # inclusive\n",
    "yelp_big[\"stars\"].value_counts().sort_index()"
   ]
  },
  {
   "cell_type": "markdown",
   "metadata": {
    "slideshow": {
     "slide_type": "slide"
    },
    "tags": []
   },
   "source": [
    "## Filtering/Subsetting (cont'd)"
   ]
  },
  {
   "cell_type": "code",
   "execution_count": 35,
   "metadata": {
    "tags": []
   },
   "outputs": [
    {
     "data": {
      "text/html": [
       "<div>\n",
       "<style scoped>\n",
       "    .dataframe tbody tr th:only-of-type {\n",
       "        vertical-align: middle;\n",
       "    }\n",
       "\n",
       "    .dataframe tbody tr th {\n",
       "        vertical-align: top;\n",
       "    }\n",
       "\n",
       "    .dataframe thead th {\n",
       "        text-align: right;\n",
       "    }\n",
       "</style>\n",
       "<table border=\"1\" class=\"dataframe\">\n",
       "  <thead>\n",
       "    <tr style=\"text-align: right;\">\n",
       "      <th></th>\n",
       "      <th>name</th>\n",
       "      <th>address</th>\n",
       "      <th>city</th>\n",
       "      <th>state</th>\n",
       "      <th>postal_code</th>\n",
       "      <th>latitude</th>\n",
       "      <th>longitude</th>\n",
       "      <th>stars</th>\n",
       "      <th>review_count</th>\n",
       "      <th>is_open</th>\n",
       "      <th>attributes</th>\n",
       "      <th>categories</th>\n",
       "      <th>hours</th>\n",
       "    </tr>\n",
       "    <tr>\n",
       "      <th>business_id</th>\n",
       "      <th></th>\n",
       "      <th></th>\n",
       "      <th></th>\n",
       "      <th></th>\n",
       "      <th></th>\n",
       "      <th></th>\n",
       "      <th></th>\n",
       "      <th></th>\n",
       "      <th></th>\n",
       "      <th></th>\n",
       "      <th></th>\n",
       "      <th></th>\n",
       "      <th></th>\n",
       "    </tr>\n",
       "  </thead>\n",
       "  <tbody>\n",
       "    <tr>\n",
       "      <th>rR30b1XWbxZFFgLyGbfNAw</th>\n",
       "      <td>BODHI : Craft Bar + Thai Bistro</td>\n",
       "      <td>922 Massachusetts Ave</td>\n",
       "      <td>Indianapolis</td>\n",
       "      <td>IN</td>\n",
       "      <td>46202</td>\n",
       "      <td>39.780220</td>\n",
       "      <td>-86.141803</td>\n",
       "      <td>4.5</td>\n",
       "      <td>132</td>\n",
       "      <td>1</td>\n",
       "      <td>{'Ambience': '{u'divey': False, u'hipster': Fa...</td>\n",
       "      <td>Gastropubs, Nightlife, Restaurants, Thai, Bars...</td>\n",
       "      <td>{'Monday': '0:0-0:0', 'Wednesday': '17:0-22:0'...</td>\n",
       "    </tr>\n",
       "    <tr>\n",
       "      <th>2ahg0y3bmn8gRo0aGrFiEQ</th>\n",
       "      <td>Wink Lash Studio + Bath Bar</td>\n",
       "      <td>538 W Plumb Ln, Ste E</td>\n",
       "      <td>Reno</td>\n",
       "      <td>NV</td>\n",
       "      <td>89509</td>\n",
       "      <td>39.505012</td>\n",
       "      <td>-119.815995</td>\n",
       "      <td>4.5</td>\n",
       "      <td>15</td>\n",
       "      <td>1</td>\n",
       "      <td>{'BusinessAcceptsCreditCards': 'True', 'Restau...</td>\n",
       "      <td>Beauty &amp; Spas, Eyelash Service</td>\n",
       "      <td>{'Tuesday': '10:0-17:0', 'Wednesday': '10:0-17...</td>\n",
       "    </tr>\n",
       "    <tr>\n",
       "      <th>voKcGki0lA5JETqKFwm6AA</th>\n",
       "      <td>Factotum Barber + Supply</td>\n",
       "      <td>902 Piety St</td>\n",
       "      <td>New Orleans</td>\n",
       "      <td>LA</td>\n",
       "      <td>70117</td>\n",
       "      <td>29.964984</td>\n",
       "      <td>-90.042294</td>\n",
       "      <td>5.0</td>\n",
       "      <td>14</td>\n",
       "      <td>1</td>\n",
       "      <td>{'RestaurantsPriceRange2': '2', 'ByAppointment...</td>\n",
       "      <td>Barbers, Men's Hair Salons, Hair Salons, Beaut...</td>\n",
       "      <td>None</td>\n",
       "    </tr>\n",
       "    <tr>\n",
       "      <th>SvcWlFeXbSNkENnZfWYgEQ</th>\n",
       "      <td>willow + june hair</td>\n",
       "      <td>6212 A Ridge Ave</td>\n",
       "      <td>Philadelphia</td>\n",
       "      <td>PA</td>\n",
       "      <td>19128</td>\n",
       "      <td>40.035794</td>\n",
       "      <td>-75.218028</td>\n",
       "      <td>5.0</td>\n",
       "      <td>24</td>\n",
       "      <td>1</td>\n",
       "      <td>{'ByAppointmentOnly': 'True', 'RestaurantsPric...</td>\n",
       "      <td>Beauty &amp; Spas, Hair Extensions, Makeup Artists...</td>\n",
       "      <td>{'Tuesday': '14:0-20:0', 'Wednesday': '14:0-20...</td>\n",
       "    </tr>\n",
       "    <tr>\n",
       "      <th>MuKoTR56s6elHEI2wUkgJA</th>\n",
       "      <td>Grace Meat + Three</td>\n",
       "      <td>4270 Manchester</td>\n",
       "      <td>St. Louis</td>\n",
       "      <td>MO</td>\n",
       "      <td>63110</td>\n",
       "      <td>38.626791</td>\n",
       "      <td>-90.256705</td>\n",
       "      <td>4.5</td>\n",
       "      <td>470</td>\n",
       "      <td>1</td>\n",
       "      <td>{'WiFi': 'u'no'', 'HasTV': 'True', 'Restaurant...</td>\n",
       "      <td>Restaurants, Soul Food, Southern, Soup, Sandwi...</td>\n",
       "      <td>{'Monday': '0:0-0:0', 'Wednesday': '11:0-21:0'...</td>\n",
       "    </tr>\n",
       "  </tbody>\n",
       "</table>\n",
       "</div>"
      ],
      "text/plain": [
       "                                                   name   \n",
       "business_id                                               \n",
       "rR30b1XWbxZFFgLyGbfNAw  BODHI : Craft Bar + Thai Bistro  \\\n",
       "2ahg0y3bmn8gRo0aGrFiEQ      Wink Lash Studio + Bath Bar   \n",
       "voKcGki0lA5JETqKFwm6AA         Factotum Barber + Supply   \n",
       "SvcWlFeXbSNkENnZfWYgEQ               willow + june hair   \n",
       "MuKoTR56s6elHEI2wUkgJA               Grace Meat + Three   \n",
       "\n",
       "                                      address          city state postal_code   \n",
       "business_id                                                                     \n",
       "rR30b1XWbxZFFgLyGbfNAw  922 Massachusetts Ave  Indianapolis    IN       46202  \\\n",
       "2ahg0y3bmn8gRo0aGrFiEQ  538 W Plumb Ln, Ste E          Reno    NV       89509   \n",
       "voKcGki0lA5JETqKFwm6AA           902 Piety St   New Orleans    LA       70117   \n",
       "SvcWlFeXbSNkENnZfWYgEQ       6212 A Ridge Ave  Philadelphia    PA       19128   \n",
       "MuKoTR56s6elHEI2wUkgJA        4270 Manchester     St. Louis    MO       63110   \n",
       "\n",
       "                         latitude   longitude  stars  review_count  is_open   \n",
       "business_id                                                                   \n",
       "rR30b1XWbxZFFgLyGbfNAw  39.780220  -86.141803    4.5           132        1  \\\n",
       "2ahg0y3bmn8gRo0aGrFiEQ  39.505012 -119.815995    4.5            15        1   \n",
       "voKcGki0lA5JETqKFwm6AA  29.964984  -90.042294    5.0            14        1   \n",
       "SvcWlFeXbSNkENnZfWYgEQ  40.035794  -75.218028    5.0            24        1   \n",
       "MuKoTR56s6elHEI2wUkgJA  38.626791  -90.256705    4.5           470        1   \n",
       "\n",
       "                                                               attributes   \n",
       "business_id                                                                 \n",
       "rR30b1XWbxZFFgLyGbfNAw  {'Ambience': '{u'divey': False, u'hipster': Fa...  \\\n",
       "2ahg0y3bmn8gRo0aGrFiEQ  {'BusinessAcceptsCreditCards': 'True', 'Restau...   \n",
       "voKcGki0lA5JETqKFwm6AA  {'RestaurantsPriceRange2': '2', 'ByAppointment...   \n",
       "SvcWlFeXbSNkENnZfWYgEQ  {'ByAppointmentOnly': 'True', 'RestaurantsPric...   \n",
       "MuKoTR56s6elHEI2wUkgJA  {'WiFi': 'u'no'', 'HasTV': 'True', 'Restaurant...   \n",
       "\n",
       "                                                               categories   \n",
       "business_id                                                                 \n",
       "rR30b1XWbxZFFgLyGbfNAw  Gastropubs, Nightlife, Restaurants, Thai, Bars...  \\\n",
       "2ahg0y3bmn8gRo0aGrFiEQ                     Beauty & Spas, Eyelash Service   \n",
       "voKcGki0lA5JETqKFwm6AA  Barbers, Men's Hair Salons, Hair Salons, Beaut...   \n",
       "SvcWlFeXbSNkENnZfWYgEQ  Beauty & Spas, Hair Extensions, Makeup Artists...   \n",
       "MuKoTR56s6elHEI2wUkgJA  Restaurants, Soul Food, Southern, Soup, Sandwi...   \n",
       "\n",
       "                                                                    hours  \n",
       "business_id                                                                \n",
       "rR30b1XWbxZFFgLyGbfNAw  {'Monday': '0:0-0:0', 'Wednesday': '17:0-22:0'...  \n",
       "2ahg0y3bmn8gRo0aGrFiEQ  {'Tuesday': '10:0-17:0', 'Wednesday': '10:0-17...  \n",
       "voKcGki0lA5JETqKFwm6AA                                               None  \n",
       "SvcWlFeXbSNkENnZfWYgEQ  {'Tuesday': '14:0-20:0', 'Wednesday': '14:0-20...  \n",
       "MuKoTR56s6elHEI2wUkgJA  {'Monday': '0:0-0:0', 'Wednesday': '11:0-21:0'...  "
      ]
     },
     "execution_count": 35,
     "metadata": {},
     "output_type": "execute_result"
    }
   ],
   "source": [
    "#filtering on a string, this is a series method in pandas\n",
    "names_with_plus = yelp[yelp[\"name\"].str.contains(\"\\+\")]\n",
    "names_with_plus.head()"
   ]
  },
  {
   "cell_type": "markdown",
   "metadata": {
    "slideshow": {
     "slide_type": "slide"
    }
   },
   "source": [
    "## Changing the Index"
   ]
  },
  {
   "cell_type": "markdown",
   "metadata": {},
   "source": [
    "The index of a Pandas Series or Pandas DataFrame is immutable and cannot be modified.\n",
    "\n",
    "BUT, if you want to change the index of a series or dataframe, you can define a new index and replace the existing index of the series/DataFrame."
   ]
  },
  {
   "cell_type": "code",
   "execution_count": 36,
   "metadata": {
    "slideshow": {
     "slide_type": "fragment"
    }
   },
   "outputs": [
    {
     "data": {
      "text/plain": [
       "Index(['d', 'c', 'a', 'b'], dtype='object')"
      ]
     },
     "execution_count": 36,
     "metadata": {},
     "output_type": "execute_result"
    }
   ],
   "source": [
    "# note that the value after the decimal place corresponds to the letter position.\n",
    "# i.e. 1.4 corresponds to d, the fourth letter.\n",
    "original1 = pd.Series([1.4, 2.3, 3.1, 4.2], index = ['d','c','a','b'])\n",
    "original1.index"
   ]
  },
  {
   "cell_type": "code",
   "execution_count": 37,
   "metadata": {
    "tags": []
   },
   "outputs": [
    {
     "name": "stdout",
     "output_type": "stream",
     "text": [
      "d    1.4\n",
      "c    2.3\n",
      "a    3.1\n",
      "b    4.2\n",
      "dtype: float64\n"
     ]
    }
   ],
   "source": [
    "print(original1)"
   ]
  },
  {
   "cell_type": "code",
   "execution_count": 38,
   "metadata": {
    "slideshow": {
     "slide_type": "fragment"
    }
   },
   "outputs": [],
   "source": [
    "original1.index = range(4) # I replace the index of the series with this range object."
   ]
  },
  {
   "cell_type": "code",
   "execution_count": 39,
   "metadata": {
    "slideshow": {
     "slide_type": "slide"
    },
    "tags": []
   },
   "outputs": [
    {
     "data": {
      "text/plain": [
       "0    1.4\n",
       "1    2.3\n",
       "2    3.1\n",
       "3    4.2\n",
       "dtype: float64"
      ]
     },
     "execution_count": 39,
     "metadata": {},
     "output_type": "execute_result"
    }
   ],
   "source": [
    "original1"
   ]
  },
  {
   "cell_type": "code",
   "execution_count": 40,
   "metadata": {
    "slideshow": {
     "slide_type": "fragment"
    }
   },
   "outputs": [
    {
     "data": {
      "text/plain": [
       "RangeIndex(start=0, stop=4, step=1)"
      ]
     },
     "execution_count": 40,
     "metadata": {},
     "output_type": "execute_result"
    }
   ],
   "source": [
    "original1.index # We can see this has automatically become a RangeIndex object"
   ]
  },
  {
   "cell_type": "code",
   "execution_count": 41,
   "metadata": {
    "slideshow": {
     "slide_type": "slide"
    }
   },
   "outputs": [
    {
     "data": {
      "text/plain": [
       "2.3"
      ]
     },
     "execution_count": 41,
     "metadata": {},
     "output_type": "execute_result"
    }
   ],
   "source": [
    "original1[1]"
   ]
  },
  {
   "cell_type": "code",
   "execution_count": 42,
   "metadata": {
    "slideshow": {
     "slide_type": "fragment"
    }
   },
   "outputs": [
    {
     "data": {
      "text/plain": [
       "2.3"
      ]
     },
     "execution_count": 42,
     "metadata": {},
     "output_type": "execute_result"
    }
   ],
   "source": [
    "original1.loc[1] # behaves the same as above"
   ]
  },
  {
   "cell_type": "code",
   "execution_count": 43,
   "metadata": {
    "slideshow": {
     "slide_type": "fragment"
    }
   },
   "outputs": [
    {
     "data": {
      "text/plain": [
       "2.3"
      ]
     },
     "execution_count": 43,
     "metadata": {},
     "output_type": "execute_result"
    }
   ],
   "source": [
    "original1.iloc[1] # behaves the same as above because the range index starts at 0"
   ]
  },
  {
   "cell_type": "code",
   "execution_count": 44,
   "metadata": {
    "slideshow": {
     "slide_type": "slide"
    }
   },
   "outputs": [],
   "source": [
    "original1.index = range(1,5)"
   ]
  },
  {
   "cell_type": "code",
   "execution_count": 45,
   "metadata": {
    "slideshow": {
     "slide_type": "fragment"
    }
   },
   "outputs": [
    {
     "data": {
      "text/plain": [
       "1    1.4\n",
       "2    2.3\n",
       "3    3.1\n",
       "4    4.2\n",
       "dtype: float64"
      ]
     },
     "execution_count": 45,
     "metadata": {},
     "output_type": "execute_result"
    }
   ],
   "source": [
    "original1"
   ]
  },
  {
   "cell_type": "code",
   "execution_count": 46,
   "metadata": {
    "slideshow": {
     "slide_type": "fragment"
    }
   },
   "outputs": [
    {
     "data": {
      "text/plain": [
       "1.4"
      ]
     },
     "execution_count": 46,
     "metadata": {},
     "output_type": "execute_result"
    }
   ],
   "source": [
    "original1[1]"
   ]
  },
  {
   "cell_type": "code",
   "execution_count": 47,
   "metadata": {
    "slideshow": {
     "slide_type": "slide"
    },
    "tags": []
   },
   "outputs": [
    {
     "data": {
      "text/plain": [
       "1.4"
      ]
     },
     "execution_count": 47,
     "metadata": {},
     "output_type": "execute_result"
    }
   ],
   "source": [
    "original1.loc[1]"
   ]
  },
  {
   "cell_type": "code",
   "execution_count": 48,
   "metadata": {
    "slideshow": {
     "slide_type": "fragment"
    }
   },
   "outputs": [
    {
     "data": {
      "text/plain": [
       "2.3"
      ]
     },
     "execution_count": 48,
     "metadata": {},
     "output_type": "execute_result"
    }
   ],
   "source": [
    "original1.iloc[1] # why?"
   ]
  },
  {
   "cell_type": "code",
   "execution_count": 49,
   "metadata": {
    "slideshow": {
     "slide_type": "slide"
    }
   },
   "outputs": [],
   "source": [
    "original1.index = ['a','b','c','d'] # be careful as no restrictions regarding the meaning of the index is applied.\n",
    "# in the original 'a' was associated with 3.1. This index will associate it with 1.4"
   ]
  },
  {
   "cell_type": "code",
   "execution_count": 50,
   "metadata": {
    "slideshow": {
     "slide_type": "fragment"
    }
   },
   "outputs": [
    {
     "data": {
      "text/plain": [
       "a    1.4\n",
       "b    2.3\n",
       "c    3.1\n",
       "d    4.2\n",
       "dtype: float64"
      ]
     },
     "execution_count": 50,
     "metadata": {},
     "output_type": "execute_result"
    }
   ],
   "source": [
    "original1"
   ]
  },
  {
   "cell_type": "code",
   "execution_count": 51,
   "metadata": {
    "slideshow": {
     "slide_type": "slide"
    },
    "tags": []
   },
   "outputs": [
    {
     "data": {
      "text/plain": [
       "1.4"
      ]
     },
     "execution_count": 51,
     "metadata": {},
     "output_type": "execute_result"
    }
   ],
   "source": [
    "original1['a']"
   ]
  },
  {
   "cell_type": "code",
   "execution_count": 52,
   "metadata": {
    "slideshow": {
     "slide_type": "fragment"
    },
    "tags": []
   },
   "outputs": [
    {
     "data": {
      "text/plain": [
       "1.4"
      ]
     },
     "execution_count": 52,
     "metadata": {},
     "output_type": "execute_result"
    }
   ],
   "source": [
    "original1[0] # now that the index uses strings, you still can index by position"
   ]
  },
  {
   "cell_type": "code",
   "execution_count": 53,
   "metadata": {
    "slideshow": {
     "slide_type": "slide"
    },
    "tags": [
     "raises-exception"
    ]
   },
   "outputs": [
    {
     "ename": "ValueError",
     "evalue": "Length mismatch: Expected axis has 4 elements, new values have 5 elements",
     "output_type": "error",
     "traceback": [
      "\u001b[0;31m---------------------------------------------------------------------------\u001b[0m",
      "\u001b[0;31mValueError\u001b[0m                                Traceback (most recent call last)",
      "Cell \u001b[0;32mIn[53], line 1\u001b[0m\n\u001b[0;32m----> 1\u001b[0m \u001b[43moriginal1\u001b[49m\u001b[38;5;241;43m.\u001b[39;49m\u001b[43mindex\u001b[49m \u001b[38;5;241m=\u001b[39m [\u001b[38;5;241m1\u001b[39m, \u001b[38;5;241m2\u001b[39m, \u001b[38;5;241m3\u001b[39m, \u001b[38;5;241m4\u001b[39m, \u001b[38;5;241m5\u001b[39m]\n\u001b[1;32m      2\u001b[0m \u001b[38;5;66;03m# if the object you provide is of a different length, you get a value error\u001b[39;00m\n",
      "File \u001b[0;32m~/my_venv/lib/python3.10/site-packages/pandas/core/generic.py:6002\u001b[0m, in \u001b[0;36mNDFrame.__setattr__\u001b[0;34m(self, name, value)\u001b[0m\n\u001b[1;32m   6000\u001b[0m \u001b[38;5;28;01mtry\u001b[39;00m:\n\u001b[1;32m   6001\u001b[0m     \u001b[38;5;28mobject\u001b[39m\u001b[38;5;241m.\u001b[39m\u001b[38;5;21m__getattribute__\u001b[39m(\u001b[38;5;28mself\u001b[39m, name)\n\u001b[0;32m-> 6002\u001b[0m     \u001b[38;5;28;01mreturn\u001b[39;00m \u001b[38;5;28;43mobject\u001b[39;49m\u001b[38;5;241;43m.\u001b[39;49m\u001b[38;5;21;43m__setattr__\u001b[39;49m\u001b[43m(\u001b[49m\u001b[38;5;28;43mself\u001b[39;49m\u001b[43m,\u001b[49m\u001b[43m \u001b[49m\u001b[43mname\u001b[49m\u001b[43m,\u001b[49m\u001b[43m \u001b[49m\u001b[43mvalue\u001b[49m\u001b[43m)\u001b[49m\n\u001b[1;32m   6003\u001b[0m \u001b[38;5;28;01mexcept\u001b[39;00m \u001b[38;5;167;01mAttributeError\u001b[39;00m:\n\u001b[1;32m   6004\u001b[0m     \u001b[38;5;28;01mpass\u001b[39;00m\n",
      "File \u001b[0;32m~/my_venv/lib/python3.10/site-packages/pandas/_libs/properties.pyx:69\u001b[0m, in \u001b[0;36mpandas._libs.properties.AxisProperty.__set__\u001b[0;34m()\u001b[0m\n",
      "File \u001b[0;32m~/my_venv/lib/python3.10/site-packages/pandas/core/generic.py:730\u001b[0m, in \u001b[0;36mNDFrame._set_axis\u001b[0;34m(self, axis, labels)\u001b[0m\n\u001b[1;32m    725\u001b[0m \u001b[38;5;250m\u001b[39m\u001b[38;5;124;03m\"\"\"\u001b[39;00m\n\u001b[1;32m    726\u001b[0m \u001b[38;5;124;03mThis is called from the cython code when we set the `index` attribute\u001b[39;00m\n\u001b[1;32m    727\u001b[0m \u001b[38;5;124;03mdirectly, e.g. `series.index = [1, 2, 3]`.\u001b[39;00m\n\u001b[1;32m    728\u001b[0m \u001b[38;5;124;03m\"\"\"\u001b[39;00m\n\u001b[1;32m    729\u001b[0m labels \u001b[38;5;241m=\u001b[39m ensure_index(labels)\n\u001b[0;32m--> 730\u001b[0m \u001b[38;5;28;43mself\u001b[39;49m\u001b[38;5;241;43m.\u001b[39;49m\u001b[43m_mgr\u001b[49m\u001b[38;5;241;43m.\u001b[39;49m\u001b[43mset_axis\u001b[49m\u001b[43m(\u001b[49m\u001b[43maxis\u001b[49m\u001b[43m,\u001b[49m\u001b[43m \u001b[49m\u001b[43mlabels\u001b[49m\u001b[43m)\u001b[49m\n\u001b[1;32m    731\u001b[0m \u001b[38;5;28mself\u001b[39m\u001b[38;5;241m.\u001b[39m_clear_item_cache()\n",
      "File \u001b[0;32m~/my_venv/lib/python3.10/site-packages/pandas/core/internals/managers.py:225\u001b[0m, in \u001b[0;36mBaseBlockManager.set_axis\u001b[0;34m(self, axis, new_labels)\u001b[0m\n\u001b[1;32m    223\u001b[0m \u001b[38;5;28;01mdef\u001b[39;00m \u001b[38;5;21mset_axis\u001b[39m(\u001b[38;5;28mself\u001b[39m, axis: AxisInt, new_labels: Index) \u001b[38;5;241m-\u001b[39m\u001b[38;5;241m>\u001b[39m \u001b[38;5;28;01mNone\u001b[39;00m:\n\u001b[1;32m    224\u001b[0m     \u001b[38;5;66;03m# Caller is responsible for ensuring we have an Index object.\u001b[39;00m\n\u001b[0;32m--> 225\u001b[0m     \u001b[38;5;28;43mself\u001b[39;49m\u001b[38;5;241;43m.\u001b[39;49m\u001b[43m_validate_set_axis\u001b[49m\u001b[43m(\u001b[49m\u001b[43maxis\u001b[49m\u001b[43m,\u001b[49m\u001b[43m \u001b[49m\u001b[43mnew_labels\u001b[49m\u001b[43m)\u001b[49m\n\u001b[1;32m    226\u001b[0m     \u001b[38;5;28mself\u001b[39m\u001b[38;5;241m.\u001b[39maxes[axis] \u001b[38;5;241m=\u001b[39m new_labels\n",
      "File \u001b[0;32m~/my_venv/lib/python3.10/site-packages/pandas/core/internals/base.py:70\u001b[0m, in \u001b[0;36mDataManager._validate_set_axis\u001b[0;34m(self, axis, new_labels)\u001b[0m\n\u001b[1;32m     67\u001b[0m     \u001b[38;5;28;01mpass\u001b[39;00m\n\u001b[1;32m     69\u001b[0m \u001b[38;5;28;01melif\u001b[39;00m new_len \u001b[38;5;241m!=\u001b[39m old_len:\n\u001b[0;32m---> 70\u001b[0m     \u001b[38;5;28;01mraise\u001b[39;00m \u001b[38;5;167;01mValueError\u001b[39;00m(\n\u001b[1;32m     71\u001b[0m         \u001b[38;5;124mf\u001b[39m\u001b[38;5;124m\"\u001b[39m\u001b[38;5;124mLength mismatch: Expected axis has \u001b[39m\u001b[38;5;132;01m{\u001b[39;00mold_len\u001b[38;5;132;01m}\u001b[39;00m\u001b[38;5;124m elements, new \u001b[39m\u001b[38;5;124m\"\u001b[39m\n\u001b[1;32m     72\u001b[0m         \u001b[38;5;124mf\u001b[39m\u001b[38;5;124m\"\u001b[39m\u001b[38;5;124mvalues have \u001b[39m\u001b[38;5;132;01m{\u001b[39;00mnew_len\u001b[38;5;132;01m}\u001b[39;00m\u001b[38;5;124m elements\u001b[39m\u001b[38;5;124m\"\u001b[39m\n\u001b[1;32m     73\u001b[0m     )\n",
      "\u001b[0;31mValueError\u001b[0m: Length mismatch: Expected axis has 4 elements, new values have 5 elements"
     ]
    }
   ],
   "source": [
    "original1.index = [1, 2, 3, 4, 5]\n",
    "# if the object you provide is of a different length, you get a value error"
   ]
  },
  {
   "cell_type": "code",
   "execution_count": 54,
   "metadata": {
    "slideshow": {
     "slide_type": "slide"
    },
    "tags": []
   },
   "outputs": [
    {
     "data": {
      "text/html": [
       "<div>\n",
       "<style scoped>\n",
       "    .dataframe tbody tr th:only-of-type {\n",
       "        vertical-align: middle;\n",
       "    }\n",
       "\n",
       "    .dataframe tbody tr th {\n",
       "        vertical-align: top;\n",
       "    }\n",
       "\n",
       "    .dataframe thead th {\n",
       "        text-align: right;\n",
       "    }\n",
       "</style>\n",
       "<table border=\"1\" class=\"dataframe\">\n",
       "  <thead>\n",
       "    <tr style=\"text-align: right;\">\n",
       "      <th></th>\n",
       "      <th>x</th>\n",
       "      <th>y</th>\n",
       "    </tr>\n",
       "  </thead>\n",
       "  <tbody>\n",
       "    <tr>\n",
       "      <th>j</th>\n",
       "      <td>1.4</td>\n",
       "      <td>3.1</td>\n",
       "    </tr>\n",
       "    <tr>\n",
       "      <th>k</th>\n",
       "      <td>2.3</td>\n",
       "      <td>2.2</td>\n",
       "    </tr>\n",
       "    <tr>\n",
       "      <th>l</th>\n",
       "      <td>3.1</td>\n",
       "      <td>1.3</td>\n",
       "    </tr>\n",
       "    <tr>\n",
       "      <th>m</th>\n",
       "      <td>4.2</td>\n",
       "      <td>4.4</td>\n",
       "    </tr>\n",
       "  </tbody>\n",
       "</table>\n",
       "</div>"
      ],
      "text/plain": [
       "     x    y\n",
       "j  1.4  3.1\n",
       "k  2.3  2.2\n",
       "l  3.1  1.3\n",
       "m  4.2  4.4"
      ]
     },
     "execution_count": 54,
     "metadata": {},
     "output_type": "execute_result"
    }
   ],
   "source": [
    "# similarly you can change the index of a DataFrame by defining a new object and assigning it to the index.\n",
    "original2 = pd.Series([2.2, 3.1, 1.3, 4.4], index = ['b','a','c','d'])\n",
    "df = pd.DataFrame({\"x\":original1, \"y\": original2})\n",
    "df.index = ['j','k','l','m']\n",
    "df"
   ]
  },
  {
   "cell_type": "markdown",
   "metadata": {
    "slideshow": {
     "slide_type": "slide"
    }
   },
   "source": [
    "## Reindexing\n",
    "\n",
    "Reindexing is different from just defining a new index. Sometimes, we want to set another column as the index of our DataFrame. Let’s say we wanted to make Studio the index of movies. \n",
    "\n",
    "Reindexing takes a current Pandas object and creates a *new* Pandas object that *conforms* to the specified index. \n",
    "\n",
    "Reindexing and creating a new index for a dataframe object aren't the same."
   ]
  },
  {
   "cell_type": "code",
   "execution_count": 55,
   "metadata": {
    "slideshow": {
     "slide_type": "fragment"
    }
   },
   "outputs": [],
   "source": [
    "original = pd.Series([1.4, 2.3, 3.1, 4.2], index = ['d','c','a','b'])"
   ]
  },
  {
   "cell_type": "code",
   "execution_count": 56,
   "metadata": {
    "slideshow": {
     "slide_type": "slide"
    }
   },
   "outputs": [
    {
     "data": {
      "text/plain": [
       "d    1.4\n",
       "c    2.3\n",
       "a    3.1\n",
       "b    4.2\n",
       "dtype: float64"
      ]
     },
     "execution_count": 56,
     "metadata": {},
     "output_type": "execute_result"
    }
   ],
   "source": [
    "original"
   ]
  },
  {
   "cell_type": "code",
   "execution_count": 57,
   "metadata": {
    "slideshow": {
     "slide_type": "fragment"
    }
   },
   "outputs": [],
   "source": [
    "newobj = original.reindex(['a','b','c','d','e']) # note this has an index value that doesn't exist in the original series"
   ]
  },
  {
   "cell_type": "code",
   "execution_count": 58,
   "metadata": {
    "slideshow": {
     "slide_type": "fragment"
    }
   },
   "outputs": [
    {
     "data": {
      "text/plain": [
       "a    3.1\n",
       "b    4.2\n",
       "c    2.3\n",
       "d    1.4\n",
       "e    NaN\n",
       "dtype: float64"
      ]
     },
     "execution_count": 58,
     "metadata": {},
     "output_type": "execute_result"
    }
   ],
   "source": [
    "newobj  # takes the data in orignal and moves it so it conforms to the specified index\n",
    "# values that do not exist for the new index get NaN"
   ]
  },
  {
   "cell_type": "code",
   "execution_count": 59,
   "metadata": {
    "slideshow": {
     "slide_type": "slide"
    }
   },
   "outputs": [
    {
     "data": {
      "text/plain": [
       "a    3.1\n",
       "b    4.2\n",
       "c    2.3\n",
       "d    1.4\n",
       "e    0.0\n",
       "dtype: float64"
      ]
     },
     "execution_count": 59,
     "metadata": {},
     "output_type": "execute_result"
    }
   ],
   "source": [
    "# if you don't want NaN, you can specify a fill_value\n",
    "newobj2 = original.reindex(['a','b','c','d','e'], fill_value = 0)\n",
    "newobj2"
   ]
  },
  {
   "cell_type": "markdown",
   "metadata": {
    "slideshow": {
     "slide_type": "slide"
    }
   },
   "source": [
    "For ordered data like a time series, it might be desirable to fill values when reindexing"
   ]
  },
  {
   "cell_type": "code",
   "execution_count": 60,
   "metadata": {
    "slideshow": {
     "slide_type": "fragment"
    }
   },
   "outputs": [
    {
     "data": {
      "text/plain": [
       "0      blue\n",
       "3    purple\n",
       "6    yellow\n",
       "dtype: object"
      ]
     },
     "execution_count": 60,
     "metadata": {},
     "output_type": "execute_result"
    }
   ],
   "source": [
    "obj3 = pd.Series(['blue', 'purple', 'yellow'], index=[0, 3, 6])\n",
    "obj3"
   ]
  },
  {
   "cell_type": "code",
   "execution_count": 61,
   "metadata": {
    "slideshow": {
     "slide_type": "fragment"
    },
    "tags": []
   },
   "outputs": [
    {
     "data": {
      "text/plain": [
       "0      blue\n",
       "1       NaN\n",
       "2       NaN\n",
       "3    purple\n",
       "4       NaN\n",
       "5       NaN\n",
       "6    yellow\n",
       "7       NaN\n",
       "8       NaN\n",
       "dtype: object"
      ]
     },
     "execution_count": 61,
     "metadata": {},
     "output_type": "execute_result"
    }
   ],
   "source": [
    "obj3.reindex(range(9))  # without any optional arguments, lots of missing values"
   ]
  },
  {
   "cell_type": "code",
   "execution_count": 62,
   "metadata": {
    "slideshow": {
     "slide_type": "slide"
    }
   },
   "outputs": [
    {
     "data": {
      "text/plain": [
       "0      blue\n",
       "1      blue\n",
       "2      blue\n",
       "3    purple\n",
       "4    purple\n",
       "5    purple\n",
       "6    yellow\n",
       "7    yellow\n",
       "8    yellow\n",
       "dtype: object"
      ]
     },
     "execution_count": 62,
     "metadata": {},
     "output_type": "execute_result"
    }
   ],
   "source": [
    "obj3.reindex(range(9), method='ffill')\n",
    "# forward-fill pushes values 'forward' until a new value is encountered"
   ]
  },
  {
   "cell_type": "code",
   "execution_count": 63,
   "metadata": {
    "slideshow": {
     "slide_type": "fragment"
    }
   },
   "outputs": [
    {
     "data": {
      "text/plain": [
       "0      blue\n",
       "1    purple\n",
       "2    purple\n",
       "3    purple\n",
       "4    yellow\n",
       "5    yellow\n",
       "6    yellow\n",
       "7       NaN\n",
       "8       NaN\n",
       "dtype: object"
      ]
     },
     "execution_count": 63,
     "metadata": {},
     "output_type": "execute_result"
    }
   ],
   "source": [
    "obj3.reindex(range(9), method='bfill')  \n",
    "# back-fill works in the opposite direction\n",
    "# there was no value at index 8 so, NaNs get filled in"
   ]
  },
  {
   "cell_type": "markdown",
   "metadata": {
    "slideshow": {
     "slide_type": "slide"
    },
    "tags": []
   },
   "source": [
    "## when there is an existing index\n",
    "\n",
    "Here, yelp was using business_id as the index and it will be lost if we don't preserve the existing information.  We can reset_index()"
   ]
  },
  {
   "cell_type": "code",
   "execution_count": 64,
   "metadata": {},
   "outputs": [
    {
     "data": {
      "text/html": [
       "<div>\n",
       "<style scoped>\n",
       "    .dataframe tbody tr th:only-of-type {\n",
       "        vertical-align: middle;\n",
       "    }\n",
       "\n",
       "    .dataframe tbody tr th {\n",
       "        vertical-align: top;\n",
       "    }\n",
       "\n",
       "    .dataframe thead th {\n",
       "        text-align: right;\n",
       "    }\n",
       "</style>\n",
       "<table border=\"1\" class=\"dataframe\">\n",
       "  <thead>\n",
       "    <tr style=\"text-align: right;\">\n",
       "      <th></th>\n",
       "      <th>name</th>\n",
       "      <th>address</th>\n",
       "      <th>city</th>\n",
       "      <th>state</th>\n",
       "      <th>postal_code</th>\n",
       "      <th>latitude</th>\n",
       "      <th>longitude</th>\n",
       "      <th>stars</th>\n",
       "      <th>review_count</th>\n",
       "      <th>is_open</th>\n",
       "      <th>attributes</th>\n",
       "      <th>categories</th>\n",
       "      <th>hours</th>\n",
       "    </tr>\n",
       "    <tr>\n",
       "      <th>business_id</th>\n",
       "      <th></th>\n",
       "      <th></th>\n",
       "      <th></th>\n",
       "      <th></th>\n",
       "      <th></th>\n",
       "      <th></th>\n",
       "      <th></th>\n",
       "      <th></th>\n",
       "      <th></th>\n",
       "      <th></th>\n",
       "      <th></th>\n",
       "      <th></th>\n",
       "      <th></th>\n",
       "    </tr>\n",
       "  </thead>\n",
       "  <tbody>\n",
       "    <tr>\n",
       "      <th>Pns2l4eNsfO8kk83dixA6A</th>\n",
       "      <td>Abby Rappoport, LAC, CMQ</td>\n",
       "      <td>1616 Chapala St, Ste 2</td>\n",
       "      <td>Santa Barbara</td>\n",
       "      <td>CA</td>\n",
       "      <td>93101</td>\n",
       "      <td>34.426679</td>\n",
       "      <td>-119.711197</td>\n",
       "      <td>5.0</td>\n",
       "      <td>7</td>\n",
       "      <td>0</td>\n",
       "      <td>{'ByAppointmentOnly': 'True'}</td>\n",
       "      <td>Doctors, Traditional Chinese Medicine, Naturop...</td>\n",
       "      <td>None</td>\n",
       "    </tr>\n",
       "    <tr>\n",
       "      <th>mpf3x-BjTdTEA3yCZrAYPw</th>\n",
       "      <td>The UPS Store</td>\n",
       "      <td>87 Grasso Plaza Shopping Center</td>\n",
       "      <td>Affton</td>\n",
       "      <td>MO</td>\n",
       "      <td>63123</td>\n",
       "      <td>38.551126</td>\n",
       "      <td>-90.335695</td>\n",
       "      <td>3.0</td>\n",
       "      <td>15</td>\n",
       "      <td>1</td>\n",
       "      <td>{'BusinessAcceptsCreditCards': 'True'}</td>\n",
       "      <td>Shipping Centers, Local Services, Notaries, Ma...</td>\n",
       "      <td>{'Monday': '0:0-0:0', 'Tuesday': '8:0-18:30', ...</td>\n",
       "    </tr>\n",
       "    <tr>\n",
       "      <th>tUFrWirKiKi_TAnsVWINQQ</th>\n",
       "      <td>Target</td>\n",
       "      <td>5255 E Broadway Blvd</td>\n",
       "      <td>Tucson</td>\n",
       "      <td>AZ</td>\n",
       "      <td>85711</td>\n",
       "      <td>32.223236</td>\n",
       "      <td>-110.880452</td>\n",
       "      <td>3.5</td>\n",
       "      <td>22</td>\n",
       "      <td>0</td>\n",
       "      <td>{'BikeParking': 'True', 'BusinessAcceptsCredit...</td>\n",
       "      <td>Department Stores, Shopping, Fashion, Home &amp; G...</td>\n",
       "      <td>{'Monday': '8:0-22:0', 'Tuesday': '8:0-22:0', ...</td>\n",
       "    </tr>\n",
       "  </tbody>\n",
       "</table>\n",
       "</div>"
      ],
      "text/plain": [
       "                                            name   \n",
       "business_id                                        \n",
       "Pns2l4eNsfO8kk83dixA6A  Abby Rappoport, LAC, CMQ  \\\n",
       "mpf3x-BjTdTEA3yCZrAYPw             The UPS Store   \n",
       "tUFrWirKiKi_TAnsVWINQQ                    Target   \n",
       "\n",
       "                                                address           city state   \n",
       "business_id                                                                    \n",
       "Pns2l4eNsfO8kk83dixA6A           1616 Chapala St, Ste 2  Santa Barbara    CA  \\\n",
       "mpf3x-BjTdTEA3yCZrAYPw  87 Grasso Plaza Shopping Center         Affton    MO   \n",
       "tUFrWirKiKi_TAnsVWINQQ             5255 E Broadway Blvd         Tucson    AZ   \n",
       "\n",
       "                       postal_code   latitude   longitude  stars   \n",
       "business_id                                                        \n",
       "Pns2l4eNsfO8kk83dixA6A       93101  34.426679 -119.711197    5.0  \\\n",
       "mpf3x-BjTdTEA3yCZrAYPw       63123  38.551126  -90.335695    3.0   \n",
       "tUFrWirKiKi_TAnsVWINQQ       85711  32.223236 -110.880452    3.5   \n",
       "\n",
       "                        review_count  is_open   \n",
       "business_id                                     \n",
       "Pns2l4eNsfO8kk83dixA6A             7        0  \\\n",
       "mpf3x-BjTdTEA3yCZrAYPw            15        1   \n",
       "tUFrWirKiKi_TAnsVWINQQ            22        0   \n",
       "\n",
       "                                                               attributes   \n",
       "business_id                                                                 \n",
       "Pns2l4eNsfO8kk83dixA6A                      {'ByAppointmentOnly': 'True'}  \\\n",
       "mpf3x-BjTdTEA3yCZrAYPw             {'BusinessAcceptsCreditCards': 'True'}   \n",
       "tUFrWirKiKi_TAnsVWINQQ  {'BikeParking': 'True', 'BusinessAcceptsCredit...   \n",
       "\n",
       "                                                               categories   \n",
       "business_id                                                                 \n",
       "Pns2l4eNsfO8kk83dixA6A  Doctors, Traditional Chinese Medicine, Naturop...  \\\n",
       "mpf3x-BjTdTEA3yCZrAYPw  Shipping Centers, Local Services, Notaries, Ma...   \n",
       "tUFrWirKiKi_TAnsVWINQQ  Department Stores, Shopping, Fashion, Home & G...   \n",
       "\n",
       "                                                                    hours  \n",
       "business_id                                                                \n",
       "Pns2l4eNsfO8kk83dixA6A                                               None  \n",
       "mpf3x-BjTdTEA3yCZrAYPw  {'Monday': '0:0-0:0', 'Tuesday': '8:0-18:30', ...  \n",
       "tUFrWirKiKi_TAnsVWINQQ  {'Monday': '8:0-22:0', 'Tuesday': '8:0-22:0', ...  "
      ]
     },
     "execution_count": 64,
     "metadata": {},
     "output_type": "execute_result"
    }
   ],
   "source": [
    "yelp.head(3)"
   ]
  },
  {
   "cell_type": "code",
   "execution_count": 65,
   "metadata": {
    "slideshow": {
     "slide_type": "slide"
    },
    "tags": []
   },
   "outputs": [
    {
     "data": {
      "text/html": [
       "<div>\n",
       "<style scoped>\n",
       "    .dataframe tbody tr th:only-of-type {\n",
       "        vertical-align: middle;\n",
       "    }\n",
       "\n",
       "    .dataframe tbody tr th {\n",
       "        vertical-align: top;\n",
       "    }\n",
       "\n",
       "    .dataframe thead th {\n",
       "        text-align: right;\n",
       "    }\n",
       "</style>\n",
       "<table border=\"1\" class=\"dataframe\">\n",
       "  <thead>\n",
       "    <tr style=\"text-align: right;\">\n",
       "      <th></th>\n",
       "      <th>business_id</th>\n",
       "      <th>name</th>\n",
       "      <th>address</th>\n",
       "      <th>city</th>\n",
       "      <th>state</th>\n",
       "      <th>postal_code</th>\n",
       "      <th>latitude</th>\n",
       "      <th>longitude</th>\n",
       "      <th>stars</th>\n",
       "      <th>review_count</th>\n",
       "      <th>is_open</th>\n",
       "      <th>attributes</th>\n",
       "      <th>categories</th>\n",
       "      <th>hours</th>\n",
       "    </tr>\n",
       "  </thead>\n",
       "  <tbody>\n",
       "    <tr>\n",
       "      <th>0</th>\n",
       "      <td>Pns2l4eNsfO8kk83dixA6A</td>\n",
       "      <td>Abby Rappoport, LAC, CMQ</td>\n",
       "      <td>1616 Chapala St, Ste 2</td>\n",
       "      <td>Santa Barbara</td>\n",
       "      <td>CA</td>\n",
       "      <td>93101</td>\n",
       "      <td>34.426679</td>\n",
       "      <td>-119.711197</td>\n",
       "      <td>5.0</td>\n",
       "      <td>7</td>\n",
       "      <td>0</td>\n",
       "      <td>{'ByAppointmentOnly': 'True'}</td>\n",
       "      <td>Doctors, Traditional Chinese Medicine, Naturop...</td>\n",
       "      <td>None</td>\n",
       "    </tr>\n",
       "    <tr>\n",
       "      <th>1</th>\n",
       "      <td>mpf3x-BjTdTEA3yCZrAYPw</td>\n",
       "      <td>The UPS Store</td>\n",
       "      <td>87 Grasso Plaza Shopping Center</td>\n",
       "      <td>Affton</td>\n",
       "      <td>MO</td>\n",
       "      <td>63123</td>\n",
       "      <td>38.551126</td>\n",
       "      <td>-90.335695</td>\n",
       "      <td>3.0</td>\n",
       "      <td>15</td>\n",
       "      <td>1</td>\n",
       "      <td>{'BusinessAcceptsCreditCards': 'True'}</td>\n",
       "      <td>Shipping Centers, Local Services, Notaries, Ma...</td>\n",
       "      <td>{'Monday': '0:0-0:0', 'Tuesday': '8:0-18:30', ...</td>\n",
       "    </tr>\n",
       "    <tr>\n",
       "      <th>2</th>\n",
       "      <td>tUFrWirKiKi_TAnsVWINQQ</td>\n",
       "      <td>Target</td>\n",
       "      <td>5255 E Broadway Blvd</td>\n",
       "      <td>Tucson</td>\n",
       "      <td>AZ</td>\n",
       "      <td>85711</td>\n",
       "      <td>32.223236</td>\n",
       "      <td>-110.880452</td>\n",
       "      <td>3.5</td>\n",
       "      <td>22</td>\n",
       "      <td>0</td>\n",
       "      <td>{'BikeParking': 'True', 'BusinessAcceptsCredit...</td>\n",
       "      <td>Department Stores, Shopping, Fashion, Home &amp; G...</td>\n",
       "      <td>{'Monday': '8:0-22:0', 'Tuesday': '8:0-22:0', ...</td>\n",
       "    </tr>\n",
       "  </tbody>\n",
       "</table>\n",
       "</div>"
      ],
      "text/plain": [
       "              business_id                      name   \n",
       "0  Pns2l4eNsfO8kk83dixA6A  Abby Rappoport, LAC, CMQ  \\\n",
       "1  mpf3x-BjTdTEA3yCZrAYPw             The UPS Store   \n",
       "2  tUFrWirKiKi_TAnsVWINQQ                    Target   \n",
       "\n",
       "                           address           city state postal_code   \n",
       "0           1616 Chapala St, Ste 2  Santa Barbara    CA       93101  \\\n",
       "1  87 Grasso Plaza Shopping Center         Affton    MO       63123   \n",
       "2             5255 E Broadway Blvd         Tucson    AZ       85711   \n",
       "\n",
       "    latitude   longitude  stars  review_count  is_open   \n",
       "0  34.426679 -119.711197    5.0             7        0  \\\n",
       "1  38.551126  -90.335695    3.0            15        1   \n",
       "2  32.223236 -110.880452    3.5            22        0   \n",
       "\n",
       "                                          attributes   \n",
       "0                      {'ByAppointmentOnly': 'True'}  \\\n",
       "1             {'BusinessAcceptsCreditCards': 'True'}   \n",
       "2  {'BikeParking': 'True', 'BusinessAcceptsCredit...   \n",
       "\n",
       "                                          categories   \n",
       "0  Doctors, Traditional Chinese Medicine, Naturop...  \\\n",
       "1  Shipping Centers, Local Services, Notaries, Ma...   \n",
       "2  Department Stores, Shopping, Fashion, Home & G...   \n",
       "\n",
       "                                               hours  \n",
       "0                                               None  \n",
       "1  {'Monday': '0:0-0:0', 'Tuesday': '8:0-18:30', ...  \n",
       "2  {'Monday': '8:0-22:0', 'Tuesday': '8:0-22:0', ...  "
      ]
     },
     "execution_count": 65,
     "metadata": {},
     "output_type": "execute_result"
    }
   ],
   "source": [
    "yelp.reset_index().head(3)"
   ]
  },
  {
   "cell_type": "markdown",
   "metadata": {
    "slideshow": {
     "slide_type": "slide"
    },
    "tags": []
   },
   "source": [
    "## Date Ranges as Index"
   ]
  },
  {
   "cell_type": "code",
   "execution_count": 66,
   "metadata": {
    "slideshow": {
     "slide_type": "fragment"
    },
    "tags": []
   },
   "outputs": [
    {
     "data": {
      "text/plain": [
       "DatetimeIndex(['2010-01-01', '2010-01-02', '2010-01-03', '2010-01-04',\n",
       "               '2010-01-05', '2010-01-06'],\n",
       "              dtype='datetime64[ns]', freq='D')"
      ]
     },
     "execution_count": 66,
     "metadata": {},
     "output_type": "execute_result"
    }
   ],
   "source": [
    "# we specify the creation of a date_index using the date_range function\n",
    "# freq = 'D' creates Daily values \n",
    "date_index = pd.date_range('1/1/2010', periods=6, freq='D')\n",
    "date_index"
   ]
  },
  {
   "cell_type": "code",
   "execution_count": 67,
   "metadata": {
    "slideshow": {
     "slide_type": "fragment"
    }
   },
   "outputs": [
    {
     "data": {
      "text/html": [
       "<div>\n",
       "<style scoped>\n",
       "    .dataframe tbody tr th:only-of-type {\n",
       "        vertical-align: middle;\n",
       "    }\n",
       "\n",
       "    .dataframe tbody tr th {\n",
       "        vertical-align: top;\n",
       "    }\n",
       "\n",
       "    .dataframe thead th {\n",
       "        text-align: right;\n",
       "    }\n",
       "</style>\n",
       "<table border=\"1\" class=\"dataframe\">\n",
       "  <thead>\n",
       "    <tr style=\"text-align: right;\">\n",
       "      <th></th>\n",
       "      <th>prices</th>\n",
       "    </tr>\n",
       "  </thead>\n",
       "  <tbody>\n",
       "    <tr>\n",
       "      <th>2010-01-01</th>\n",
       "      <td>100.0</td>\n",
       "    </tr>\n",
       "    <tr>\n",
       "      <th>2010-01-02</th>\n",
       "      <td>101.0</td>\n",
       "    </tr>\n",
       "    <tr>\n",
       "      <th>2010-01-03</th>\n",
       "      <td>NaN</td>\n",
       "    </tr>\n",
       "    <tr>\n",
       "      <th>2010-01-04</th>\n",
       "      <td>100.0</td>\n",
       "    </tr>\n",
       "    <tr>\n",
       "      <th>2010-01-05</th>\n",
       "      <td>89.0</td>\n",
       "    </tr>\n",
       "    <tr>\n",
       "      <th>2010-01-06</th>\n",
       "      <td>88.0</td>\n",
       "    </tr>\n",
       "  </tbody>\n",
       "</table>\n",
       "</div>"
      ],
      "text/plain": [
       "            prices\n",
       "2010-01-01   100.0\n",
       "2010-01-02   101.0\n",
       "2010-01-03     NaN\n",
       "2010-01-04   100.0\n",
       "2010-01-05    89.0\n",
       "2010-01-06    88.0"
      ]
     },
     "execution_count": 67,
     "metadata": {},
     "output_type": "execute_result"
    }
   ],
   "source": [
    "# we create a DataFrame with the date index\n",
    "df2 = pd.DataFrame({\"prices\": [100, 101, np.nan, 100, 89, 88]}, index=date_index)\n",
    "df2"
   ]
  },
  {
   "cell_type": "code",
   "execution_count": 68,
   "metadata": {
    "slideshow": {
     "slide_type": "slide"
    },
    "tags": []
   },
   "outputs": [
    {
     "data": {
      "text/html": [
       "<div>\n",
       "<style scoped>\n",
       "    .dataframe tbody tr th:only-of-type {\n",
       "        vertical-align: middle;\n",
       "    }\n",
       "\n",
       "    .dataframe tbody tr th {\n",
       "        vertical-align: top;\n",
       "    }\n",
       "\n",
       "    .dataframe thead th {\n",
       "        text-align: right;\n",
       "    }\n",
       "</style>\n",
       "<table border=\"1\" class=\"dataframe\">\n",
       "  <thead>\n",
       "    <tr style=\"text-align: right;\">\n",
       "      <th></th>\n",
       "      <th>prices</th>\n",
       "    </tr>\n",
       "  </thead>\n",
       "  <tbody>\n",
       "    <tr>\n",
       "      <th>2009-12-29</th>\n",
       "      <td>NaN</td>\n",
       "    </tr>\n",
       "    <tr>\n",
       "      <th>2009-12-30</th>\n",
       "      <td>NaN</td>\n",
       "    </tr>\n",
       "    <tr>\n",
       "      <th>2009-12-31</th>\n",
       "      <td>NaN</td>\n",
       "    </tr>\n",
       "    <tr>\n",
       "      <th>2010-01-01</th>\n",
       "      <td>100.0</td>\n",
       "    </tr>\n",
       "    <tr>\n",
       "      <th>2010-01-02</th>\n",
       "      <td>101.0</td>\n",
       "    </tr>\n",
       "    <tr>\n",
       "      <th>2010-01-03</th>\n",
       "      <td>NaN</td>\n",
       "    </tr>\n",
       "    <tr>\n",
       "      <th>2010-01-04</th>\n",
       "      <td>100.0</td>\n",
       "    </tr>\n",
       "    <tr>\n",
       "      <th>2010-01-05</th>\n",
       "      <td>89.0</td>\n",
       "    </tr>\n",
       "    <tr>\n",
       "      <th>2010-01-06</th>\n",
       "      <td>88.0</td>\n",
       "    </tr>\n",
       "    <tr>\n",
       "      <th>2010-01-07</th>\n",
       "      <td>NaN</td>\n",
       "    </tr>\n",
       "  </tbody>\n",
       "</table>\n",
       "</div>"
      ],
      "text/plain": [
       "            prices\n",
       "2009-12-29     NaN\n",
       "2009-12-30     NaN\n",
       "2009-12-31     NaN\n",
       "2010-01-01   100.0\n",
       "2010-01-02   101.0\n",
       "2010-01-03     NaN\n",
       "2010-01-04   100.0\n",
       "2010-01-05    89.0\n",
       "2010-01-06    88.0\n",
       "2010-01-07     NaN"
      ]
     },
     "execution_count": 68,
     "metadata": {},
     "output_type": "execute_result"
    }
   ],
   "source": [
    "date_index2 = pd.date_range('12/29/2009', periods=10, freq='D')  # a new date index\n",
    "df2.reindex(date_index2)"
   ]
  },
  {
   "cell_type": "code",
   "execution_count": 69,
   "metadata": {
    "slideshow": {
     "slide_type": "slide"
    }
   },
   "outputs": [
    {
     "data": {
      "text/html": [
       "<div>\n",
       "<style scoped>\n",
       "    .dataframe tbody tr th:only-of-type {\n",
       "        vertical-align: middle;\n",
       "    }\n",
       "\n",
       "    .dataframe tbody tr th {\n",
       "        vertical-align: top;\n",
       "    }\n",
       "\n",
       "    .dataframe thead th {\n",
       "        text-align: right;\n",
       "    }\n",
       "</style>\n",
       "<table border=\"1\" class=\"dataframe\">\n",
       "  <thead>\n",
       "    <tr style=\"text-align: right;\">\n",
       "      <th></th>\n",
       "      <th>prices</th>\n",
       "    </tr>\n",
       "  </thead>\n",
       "  <tbody>\n",
       "    <tr>\n",
       "      <th>2009-12-29</th>\n",
       "      <td>100.0</td>\n",
       "    </tr>\n",
       "    <tr>\n",
       "      <th>2009-12-30</th>\n",
       "      <td>100.0</td>\n",
       "    </tr>\n",
       "    <tr>\n",
       "      <th>2009-12-31</th>\n",
       "      <td>100.0</td>\n",
       "    </tr>\n",
       "    <tr>\n",
       "      <th>2010-01-01</th>\n",
       "      <td>100.0</td>\n",
       "    </tr>\n",
       "    <tr>\n",
       "      <th>2010-01-02</th>\n",
       "      <td>101.0</td>\n",
       "    </tr>\n",
       "    <tr>\n",
       "      <th>2010-01-03</th>\n",
       "      <td>NaN</td>\n",
       "    </tr>\n",
       "    <tr>\n",
       "      <th>2010-01-04</th>\n",
       "      <td>100.0</td>\n",
       "    </tr>\n",
       "    <tr>\n",
       "      <th>2010-01-05</th>\n",
       "      <td>89.0</td>\n",
       "    </tr>\n",
       "    <tr>\n",
       "      <th>2010-01-06</th>\n",
       "      <td>88.0</td>\n",
       "    </tr>\n",
       "    <tr>\n",
       "      <th>2010-01-07</th>\n",
       "      <td>NaN</td>\n",
       "    </tr>\n",
       "  </tbody>\n",
       "</table>\n",
       "</div>"
      ],
      "text/plain": [
       "            prices\n",
       "2009-12-29   100.0\n",
       "2009-12-30   100.0\n",
       "2009-12-31   100.0\n",
       "2010-01-01   100.0\n",
       "2010-01-02   101.0\n",
       "2010-01-03     NaN\n",
       "2010-01-04   100.0\n",
       "2010-01-05    89.0\n",
       "2010-01-06    88.0\n",
       "2010-01-07     NaN"
      ]
     },
     "execution_count": 69,
     "metadata": {},
     "output_type": "execute_result"
    }
   ],
   "source": [
    "df2.reindex(date_index2, method = 'bfill') \n",
    "# The value for Jan 3 isn't filled in because that NaN was not created by the reindexing process\n",
    "# The NaN already existed in the data."
   ]
  },
  {
   "cell_type": "markdown",
   "metadata": {
    "slideshow": {
     "slide_type": "slide"
    }
   },
   "source": [
    "## Dropping rows or columns\n",
    "\n",
    "you can use `df.drop()` to remove rows (default) or columns (specify axis = 1) at certain index locations."
   ]
  },
  {
   "cell_type": "code",
   "execution_count": 70,
   "metadata": {
    "slideshow": {
     "slide_type": "fragment"
    }
   },
   "outputs": [
    {
     "data": {
      "text/html": [
       "<div>\n",
       "<style scoped>\n",
       "    .dataframe tbody tr th:only-of-type {\n",
       "        vertical-align: middle;\n",
       "    }\n",
       "\n",
       "    .dataframe tbody tr th {\n",
       "        vertical-align: top;\n",
       "    }\n",
       "\n",
       "    .dataframe thead th {\n",
       "        text-align: right;\n",
       "    }\n",
       "</style>\n",
       "<table border=\"1\" class=\"dataframe\">\n",
       "  <thead>\n",
       "    <tr style=\"text-align: right;\">\n",
       "      <th></th>\n",
       "      <th>A</th>\n",
       "      <th>B</th>\n",
       "      <th>C</th>\n",
       "      <th>D</th>\n",
       "    </tr>\n",
       "  </thead>\n",
       "  <tbody>\n",
       "    <tr>\n",
       "      <th>x</th>\n",
       "      <td>0</td>\n",
       "      <td>1</td>\n",
       "      <td>2</td>\n",
       "      <td>3</td>\n",
       "    </tr>\n",
       "    <tr>\n",
       "      <th>y</th>\n",
       "      <td>4</td>\n",
       "      <td>5</td>\n",
       "      <td>6</td>\n",
       "      <td>7</td>\n",
       "    </tr>\n",
       "    <tr>\n",
       "      <th>z</th>\n",
       "      <td>8</td>\n",
       "      <td>9</td>\n",
       "      <td>10</td>\n",
       "      <td>11</td>\n",
       "    </tr>\n",
       "  </tbody>\n",
       "</table>\n",
       "</div>"
      ],
      "text/plain": [
       "   A  B   C   D\n",
       "x  0  1   2   3\n",
       "y  4  5   6   7\n",
       "z  8  9  10  11"
      ]
     },
     "execution_count": 70,
     "metadata": {},
     "output_type": "execute_result"
    }
   ],
   "source": [
    "df = pd.DataFrame(np.arange(12).reshape(3,4), columns=['A', 'B', 'C', 'D'], index = ['x','y','z'])\n",
    "df"
   ]
  },
  {
   "cell_type": "code",
   "execution_count": 71,
   "metadata": {
    "slideshow": {
     "slide_type": "fragment"
    }
   },
   "outputs": [
    {
     "data": {
      "text/html": [
       "<div>\n",
       "<style scoped>\n",
       "    .dataframe tbody tr th:only-of-type {\n",
       "        vertical-align: middle;\n",
       "    }\n",
       "\n",
       "    .dataframe tbody tr th {\n",
       "        vertical-align: top;\n",
       "    }\n",
       "\n",
       "    .dataframe thead th {\n",
       "        text-align: right;\n",
       "    }\n",
       "</style>\n",
       "<table border=\"1\" class=\"dataframe\">\n",
       "  <thead>\n",
       "    <tr style=\"text-align: right;\">\n",
       "      <th></th>\n",
       "      <th>A</th>\n",
       "      <th>B</th>\n",
       "      <th>C</th>\n",
       "      <th>D</th>\n",
       "    </tr>\n",
       "  </thead>\n",
       "  <tbody>\n",
       "    <tr>\n",
       "      <th>y</th>\n",
       "      <td>4</td>\n",
       "      <td>5</td>\n",
       "      <td>6</td>\n",
       "      <td>7</td>\n",
       "    </tr>\n",
       "  </tbody>\n",
       "</table>\n",
       "</div>"
      ],
      "text/plain": [
       "   A  B  C  D\n",
       "y  4  5  6  7"
      ]
     },
     "execution_count": 71,
     "metadata": {},
     "output_type": "execute_result"
    }
   ],
   "source": [
    "# drop rows\n",
    "# df.drop returns a new object and leaves df unchanged\n",
    "\n",
    "df_y = df.drop(['x', 'z'])\n",
    "df_y"
   ]
  },
  {
   "cell_type": "code",
   "execution_count": 72,
   "metadata": {
    "slideshow": {
     "slide_type": "slide"
    },
    "tags": []
   },
   "outputs": [],
   "source": [
    "# drop columns\n",
    "# you can use the argument inplace = True\n",
    "\n",
    "df.drop(['B', 'C'], axis = 1, inplace = True) \n",
    "\n",
    "# we must specify axis = 1 otherwise Pandas will look for \"B\" and \"C\" in the row names"
   ]
  },
  {
   "cell_type": "code",
   "execution_count": 73,
   "metadata": {
    "slideshow": {
     "slide_type": "fragment"
    },
    "tags": []
   },
   "outputs": [
    {
     "data": {
      "text/html": [
       "<div>\n",
       "<style scoped>\n",
       "    .dataframe tbody tr th:only-of-type {\n",
       "        vertical-align: middle;\n",
       "    }\n",
       "\n",
       "    .dataframe tbody tr th {\n",
       "        vertical-align: top;\n",
       "    }\n",
       "\n",
       "    .dataframe thead th {\n",
       "        text-align: right;\n",
       "    }\n",
       "</style>\n",
       "<table border=\"1\" class=\"dataframe\">\n",
       "  <thead>\n",
       "    <tr style=\"text-align: right;\">\n",
       "      <th></th>\n",
       "      <th>A</th>\n",
       "      <th>D</th>\n",
       "    </tr>\n",
       "  </thead>\n",
       "  <tbody>\n",
       "    <tr>\n",
       "      <th>x</th>\n",
       "      <td>0</td>\n",
       "      <td>3</td>\n",
       "    </tr>\n",
       "    <tr>\n",
       "      <th>y</th>\n",
       "      <td>4</td>\n",
       "      <td>7</td>\n",
       "    </tr>\n",
       "    <tr>\n",
       "      <th>z</th>\n",
       "      <td>8</td>\n",
       "      <td>11</td>\n",
       "    </tr>\n",
       "  </tbody>\n",
       "</table>\n",
       "</div>"
      ],
      "text/plain": [
       "   A   D\n",
       "x  0   3\n",
       "y  4   7\n",
       "z  8  11"
      ]
     },
     "execution_count": 73,
     "metadata": {},
     "output_type": "execute_result"
    }
   ],
   "source": [
    "df"
   ]
  },
  {
   "cell_type": "markdown",
   "metadata": {
    "slideshow": {
     "slide_type": "slide"
    }
   },
   "source": [
    "## Data Alignment\n",
    "\n",
    "When performing element-wise arithmetic, Pandas will align the index values before doing the computation"
   ]
  },
  {
   "cell_type": "code",
   "execution_count": 74,
   "metadata": {
    "slideshow": {
     "slide_type": "fragment"
    }
   },
   "outputs": [
    {
     "data": {
      "text/plain": [
       "a    7.3\n",
       "c   -2.5\n",
       "d    3.4\n",
       "e    1.5\n",
       "dtype: float64"
      ]
     },
     "execution_count": 74,
     "metadata": {},
     "output_type": "execute_result"
    }
   ],
   "source": [
    "s1 = pd.Series([7.3, -2.5, 3.4, 1.5], index=['a', 'c', 'd', 'e'])\n",
    "s1"
   ]
  },
  {
   "cell_type": "code",
   "execution_count": 75,
   "metadata": {
    "slideshow": {
     "slide_type": "slide"
    },
    "tags": []
   },
   "outputs": [
    {
     "data": {
      "text/plain": [
       "a   -2.1\n",
       "c    3.6\n",
       "e   -1.5\n",
       "f    4.0\n",
       "g    3.1\n",
       "dtype: float64"
      ]
     },
     "execution_count": 75,
     "metadata": {},
     "output_type": "execute_result"
    }
   ],
   "source": [
    "s2 = pd.Series([-2.1, 3.6, -1.5, 4, 3.1],\n",
    "               index=['a', 'c', 'e', 'f', 'g'])\n",
    "s2"
   ]
  },
  {
   "cell_type": "code",
   "execution_count": 76,
   "metadata": {
    "slideshow": {
     "slide_type": "fragment"
    },
    "tags": []
   },
   "outputs": [
    {
     "data": {
      "text/html": [
       "<div>\n",
       "<style scoped>\n",
       "    .dataframe tbody tr th:only-of-type {\n",
       "        vertical-align: middle;\n",
       "    }\n",
       "\n",
       "    .dataframe tbody tr th {\n",
       "        vertical-align: top;\n",
       "    }\n",
       "\n",
       "    .dataframe thead th {\n",
       "        text-align: right;\n",
       "    }\n",
       "</style>\n",
       "<table border=\"1\" class=\"dataframe\">\n",
       "  <thead>\n",
       "    <tr style=\"text-align: right;\">\n",
       "      <th></th>\n",
       "      <th>s1</th>\n",
       "      <th>s2</th>\n",
       "    </tr>\n",
       "  </thead>\n",
       "  <tbody>\n",
       "    <tr>\n",
       "      <th>a</th>\n",
       "      <td>7.3</td>\n",
       "      <td>-2.1</td>\n",
       "    </tr>\n",
       "    <tr>\n",
       "      <th>c</th>\n",
       "      <td>-2.5</td>\n",
       "      <td>3.6</td>\n",
       "    </tr>\n",
       "    <tr>\n",
       "      <th>d</th>\n",
       "      <td>3.4</td>\n",
       "      <td>NaN</td>\n",
       "    </tr>\n",
       "    <tr>\n",
       "      <th>e</th>\n",
       "      <td>1.5</td>\n",
       "      <td>-1.5</td>\n",
       "    </tr>\n",
       "    <tr>\n",
       "      <th>f</th>\n",
       "      <td>NaN</td>\n",
       "      <td>4.0</td>\n",
       "    </tr>\n",
       "    <tr>\n",
       "      <th>g</th>\n",
       "      <td>NaN</td>\n",
       "      <td>3.1</td>\n",
       "    </tr>\n",
       "  </tbody>\n",
       "</table>\n",
       "</div>"
      ],
      "text/plain": [
       "    s1   s2\n",
       "a  7.3 -2.1\n",
       "c -2.5  3.6\n",
       "d  3.4  NaN\n",
       "e  1.5 -1.5\n",
       "f  NaN  4.0\n",
       "g  NaN  3.1"
      ]
     },
     "execution_count": 76,
     "metadata": {},
     "output_type": "execute_result"
    }
   ],
   "source": [
    "pd.DataFrame({'s1':s1,'s2':s2}) # for reference"
   ]
  },
  {
   "cell_type": "code",
   "execution_count": 77,
   "metadata": {
    "slideshow": {
     "slide_type": "slide"
    },
    "tags": []
   },
   "outputs": [
    {
     "data": {
      "text/plain": [
       "a    5.2\n",
       "c    1.1\n",
       "d    NaN\n",
       "e    0.0\n",
       "f    NaN\n",
       "g    NaN\n",
       "dtype: float64"
      ]
     },
     "execution_count": 77,
     "metadata": {},
     "output_type": "execute_result"
    }
   ],
   "source": [
    "s1 + s2  # returns a new series, where the indexes are the union of the indexes of s1 and s2"
   ]
  },
  {
   "cell_type": "code",
   "execution_count": 78,
   "metadata": {
    "slideshow": {
     "slide_type": "fragment"
    }
   },
   "outputs": [
    {
     "data": {
      "text/plain": [
       "a    5.2\n",
       "c    1.1\n",
       "d    NaN\n",
       "e    0.0\n",
       "f    NaN\n",
       "g    NaN\n",
       "dtype: float64"
      ]
     },
     "execution_count": 78,
     "metadata": {},
     "output_type": "execute_result"
    }
   ],
   "source": [
    "s1.add(s2)"
   ]
  },
  {
   "cell_type": "code",
   "execution_count": 79,
   "metadata": {
    "slideshow": {
     "slide_type": "slide"
    },
    "tags": []
   },
   "outputs": [
    {
     "data": {
      "text/html": [
       "<div>\n",
       "<style scoped>\n",
       "    .dataframe tbody tr th:only-of-type {\n",
       "        vertical-align: middle;\n",
       "    }\n",
       "\n",
       "    .dataframe tbody tr th {\n",
       "        vertical-align: top;\n",
       "    }\n",
       "\n",
       "    .dataframe thead th {\n",
       "        text-align: right;\n",
       "    }\n",
       "</style>\n",
       "<table border=\"1\" class=\"dataframe\">\n",
       "  <thead>\n",
       "    <tr style=\"text-align: right;\">\n",
       "      <th></th>\n",
       "      <th>s1</th>\n",
       "      <th>s2</th>\n",
       "    </tr>\n",
       "  </thead>\n",
       "  <tbody>\n",
       "    <tr>\n",
       "      <th>a</th>\n",
       "      <td>7.3</td>\n",
       "      <td>-2.1</td>\n",
       "    </tr>\n",
       "    <tr>\n",
       "      <th>c</th>\n",
       "      <td>-2.5</td>\n",
       "      <td>3.6</td>\n",
       "    </tr>\n",
       "    <tr>\n",
       "      <th>d</th>\n",
       "      <td>3.4</td>\n",
       "      <td>NaN</td>\n",
       "    </tr>\n",
       "    <tr>\n",
       "      <th>e</th>\n",
       "      <td>1.5</td>\n",
       "      <td>-1.5</td>\n",
       "    </tr>\n",
       "    <tr>\n",
       "      <th>f</th>\n",
       "      <td>NaN</td>\n",
       "      <td>4.0</td>\n",
       "    </tr>\n",
       "    <tr>\n",
       "      <th>g</th>\n",
       "      <td>NaN</td>\n",
       "      <td>3.1</td>\n",
       "    </tr>\n",
       "  </tbody>\n",
       "</table>\n",
       "</div>"
      ],
      "text/plain": [
       "    s1   s2\n",
       "a  7.3 -2.1\n",
       "c -2.5  3.6\n",
       "d  3.4  NaN\n",
       "e  1.5 -1.5\n",
       "f  NaN  4.0\n",
       "g  NaN  3.1"
      ]
     },
     "execution_count": 79,
     "metadata": {},
     "output_type": "execute_result"
    }
   ],
   "source": [
    "pd.DataFrame({'s1':s1,'s2':s2})"
   ]
  },
  {
   "cell_type": "code",
   "execution_count": 80,
   "metadata": {
    "slideshow": {
     "slide_type": "fragment"
    },
    "tags": []
   },
   "outputs": [
    {
     "data": {
      "text/plain": [
       "a    9.4\n",
       "c   -6.1\n",
       "d    3.4\n",
       "e    3.0\n",
       "f   -4.0\n",
       "g   -3.1\n",
       "dtype: float64"
      ]
     },
     "execution_count": 80,
     "metadata": {},
     "output_type": "execute_result"
    }
   ],
   "source": [
    "s1.sub(s2, fill_value = 0)"
   ]
  },
  {
   "cell_type": "code",
   "execution_count": 81,
   "metadata": {
    "slideshow": {
     "slide_type": "slide"
    },
    "tags": []
   },
   "outputs": [
    {
     "data": {
      "text/plain": [
       "a   -9.4\n",
       "c    6.1\n",
       "d   -3.4\n",
       "e   -3.0\n",
       "f    4.0\n",
       "g    3.1\n",
       "dtype: float64"
      ]
     },
     "execution_count": 81,
     "metadata": {},
     "output_type": "execute_result"
    }
   ],
   "source": [
    "s1.rsub(s2, fill_value = 0) # .rsub means 'right hand subtract' sets the series in the argument as the base"
   ]
  },
  {
   "cell_type": "code",
   "execution_count": 82,
   "metadata": {
    "slideshow": {
     "slide_type": "fragment"
    },
    "tags": []
   },
   "outputs": [
    {
     "data": {
      "text/plain": [
       "a   -15.33\n",
       "c    -9.00\n",
       "d      NaN\n",
       "e    -2.25\n",
       "f      NaN\n",
       "g      NaN\n",
       "dtype: float64"
      ]
     },
     "execution_count": 82,
     "metadata": {},
     "output_type": "execute_result"
    }
   ],
   "source": [
    "s1 * s2"
   ]
  },
  {
   "cell_type": "code",
   "execution_count": 83,
   "metadata": {
    "slideshow": {
     "slide_type": "slide"
    },
    "tags": []
   },
   "outputs": [
    {
     "data": {
      "text/plain": [
       "a   -15.33\n",
       "c    -9.00\n",
       "d     3.40\n",
       "e    -2.25\n",
       "f     4.00\n",
       "g     3.10\n",
       "dtype: float64"
      ]
     },
     "execution_count": 83,
     "metadata": {},
     "output_type": "execute_result"
    }
   ],
   "source": [
    "s1.multiply(s2, fill_value = 1)"
   ]
  },
  {
   "cell_type": "markdown",
   "metadata": {
    "slideshow": {
     "slide_type": "slide"
    }
   },
   "source": [
    "For data frames with different columns, the rows and columns will be aligned"
   ]
  },
  {
   "cell_type": "code",
   "execution_count": 84,
   "metadata": {
    "slideshow": {
     "slide_type": "fragment"
    }
   },
   "outputs": [
    {
     "data": {
      "text/html": [
       "<div>\n",
       "<style scoped>\n",
       "    .dataframe tbody tr th:only-of-type {\n",
       "        vertical-align: middle;\n",
       "    }\n",
       "\n",
       "    .dataframe tbody tr th {\n",
       "        vertical-align: top;\n",
       "    }\n",
       "\n",
       "    .dataframe thead th {\n",
       "        text-align: right;\n",
       "    }\n",
       "</style>\n",
       "<table border=\"1\" class=\"dataframe\">\n",
       "  <thead>\n",
       "    <tr style=\"text-align: right;\">\n",
       "      <th></th>\n",
       "      <th>b</th>\n",
       "      <th>c</th>\n",
       "      <th>d</th>\n",
       "    </tr>\n",
       "  </thead>\n",
       "  <tbody>\n",
       "    <tr>\n",
       "      <th>Ohio</th>\n",
       "      <td>0.0</td>\n",
       "      <td>1.0</td>\n",
       "      <td>2.0</td>\n",
       "    </tr>\n",
       "    <tr>\n",
       "      <th>Texas</th>\n",
       "      <td>3.0</td>\n",
       "      <td>4.0</td>\n",
       "      <td>5.0</td>\n",
       "    </tr>\n",
       "    <tr>\n",
       "      <th>Colorado</th>\n",
       "      <td>6.0</td>\n",
       "      <td>7.0</td>\n",
       "      <td>8.0</td>\n",
       "    </tr>\n",
       "  </tbody>\n",
       "</table>\n",
       "</div>"
      ],
      "text/plain": [
       "            b    c    d\n",
       "Ohio      0.0  1.0  2.0\n",
       "Texas     3.0  4.0  5.0\n",
       "Colorado  6.0  7.0  8.0"
      ]
     },
     "execution_count": 84,
     "metadata": {},
     "output_type": "execute_result"
    }
   ],
   "source": [
    "df1 = pd.DataFrame(np.arange(9.).reshape((3, 3)), columns=list('bcd'),\n",
    "                   index=['Ohio', 'Texas', 'Colorado'])\n",
    "df1"
   ]
  },
  {
   "cell_type": "code",
   "execution_count": 85,
   "metadata": {
    "slideshow": {
     "slide_type": "fragment"
    }
   },
   "outputs": [
    {
     "data": {
      "text/html": [
       "<div>\n",
       "<style scoped>\n",
       "    .dataframe tbody tr th:only-of-type {\n",
       "        vertical-align: middle;\n",
       "    }\n",
       "\n",
       "    .dataframe tbody tr th {\n",
       "        vertical-align: top;\n",
       "    }\n",
       "\n",
       "    .dataframe thead th {\n",
       "        text-align: right;\n",
       "    }\n",
       "</style>\n",
       "<table border=\"1\" class=\"dataframe\">\n",
       "  <thead>\n",
       "    <tr style=\"text-align: right;\">\n",
       "      <th></th>\n",
       "      <th>b</th>\n",
       "      <th>d</th>\n",
       "      <th>e</th>\n",
       "    </tr>\n",
       "  </thead>\n",
       "  <tbody>\n",
       "    <tr>\n",
       "      <th>Utah</th>\n",
       "      <td>0.0</td>\n",
       "      <td>1.0</td>\n",
       "      <td>2.0</td>\n",
       "    </tr>\n",
       "    <tr>\n",
       "      <th>Ohio</th>\n",
       "      <td>3.0</td>\n",
       "      <td>4.0</td>\n",
       "      <td>5.0</td>\n",
       "    </tr>\n",
       "    <tr>\n",
       "      <th>Texas</th>\n",
       "      <td>6.0</td>\n",
       "      <td>7.0</td>\n",
       "      <td>8.0</td>\n",
       "    </tr>\n",
       "    <tr>\n",
       "      <th>Oregon</th>\n",
       "      <td>9.0</td>\n",
       "      <td>10.0</td>\n",
       "      <td>11.0</td>\n",
       "    </tr>\n",
       "  </tbody>\n",
       "</table>\n",
       "</div>"
      ],
      "text/plain": [
       "          b     d     e\n",
       "Utah    0.0   1.0   2.0\n",
       "Ohio    3.0   4.0   5.0\n",
       "Texas   6.0   7.0   8.0\n",
       "Oregon  9.0  10.0  11.0"
      ]
     },
     "execution_count": 85,
     "metadata": {},
     "output_type": "execute_result"
    }
   ],
   "source": [
    "df2 = pd.DataFrame(np.arange(12.).reshape((4, 3)), columns=list('bde'),\n",
    "                   index=['Utah', 'Ohio', 'Texas', 'Oregon'])\n",
    "df2"
   ]
  },
  {
   "cell_type": "code",
   "execution_count": 86,
   "metadata": {
    "slideshow": {
     "slide_type": "slide"
    }
   },
   "outputs": [
    {
     "data": {
      "text/html": [
       "<div>\n",
       "<style scoped>\n",
       "    .dataframe tbody tr th:only-of-type {\n",
       "        vertical-align: middle;\n",
       "    }\n",
       "\n",
       "    .dataframe tbody tr th {\n",
       "        vertical-align: top;\n",
       "    }\n",
       "\n",
       "    .dataframe thead th {\n",
       "        text-align: right;\n",
       "    }\n",
       "</style>\n",
       "<table border=\"1\" class=\"dataframe\">\n",
       "  <thead>\n",
       "    <tr style=\"text-align: right;\">\n",
       "      <th></th>\n",
       "      <th>b</th>\n",
       "      <th>c</th>\n",
       "      <th>d</th>\n",
       "      <th>e</th>\n",
       "    </tr>\n",
       "  </thead>\n",
       "  <tbody>\n",
       "    <tr>\n",
       "      <th>Colorado</th>\n",
       "      <td>NaN</td>\n",
       "      <td>NaN</td>\n",
       "      <td>NaN</td>\n",
       "      <td>NaN</td>\n",
       "    </tr>\n",
       "    <tr>\n",
       "      <th>Ohio</th>\n",
       "      <td>3.0</td>\n",
       "      <td>NaN</td>\n",
       "      <td>6.0</td>\n",
       "      <td>NaN</td>\n",
       "    </tr>\n",
       "    <tr>\n",
       "      <th>Oregon</th>\n",
       "      <td>NaN</td>\n",
       "      <td>NaN</td>\n",
       "      <td>NaN</td>\n",
       "      <td>NaN</td>\n",
       "    </tr>\n",
       "    <tr>\n",
       "      <th>Texas</th>\n",
       "      <td>9.0</td>\n",
       "      <td>NaN</td>\n",
       "      <td>12.0</td>\n",
       "      <td>NaN</td>\n",
       "    </tr>\n",
       "    <tr>\n",
       "      <th>Utah</th>\n",
       "      <td>NaN</td>\n",
       "      <td>NaN</td>\n",
       "      <td>NaN</td>\n",
       "      <td>NaN</td>\n",
       "    </tr>\n",
       "  </tbody>\n",
       "</table>\n",
       "</div>"
      ],
      "text/plain": [
       "            b   c     d   e\n",
       "Colorado  NaN NaN   NaN NaN\n",
       "Ohio      3.0 NaN   6.0 NaN\n",
       "Oregon    NaN NaN   NaN NaN\n",
       "Texas     9.0 NaN  12.0 NaN\n",
       "Utah      NaN NaN   NaN NaN"
      ]
     },
     "execution_count": 86,
     "metadata": {},
     "output_type": "execute_result"
    }
   ],
   "source": [
    "df1 + df2 \n",
    "# c is in df1, but not df2\n",
    "# e is in df2, but not df1\n",
    "# the result returns the union of columns, but will fill in NaN for elements that do not exist in both"
   ]
  },
  {
   "cell_type": "code",
   "execution_count": 87,
   "metadata": {
    "slideshow": {
     "slide_type": "fragment"
    }
   },
   "outputs": [
    {
     "data": {
      "text/html": [
       "<div>\n",
       "<style scoped>\n",
       "    .dataframe tbody tr th:only-of-type {\n",
       "        vertical-align: middle;\n",
       "    }\n",
       "\n",
       "    .dataframe tbody tr th {\n",
       "        vertical-align: top;\n",
       "    }\n",
       "\n",
       "    .dataframe thead th {\n",
       "        text-align: right;\n",
       "    }\n",
       "</style>\n",
       "<table border=\"1\" class=\"dataframe\">\n",
       "  <thead>\n",
       "    <tr style=\"text-align: right;\">\n",
       "      <th></th>\n",
       "      <th>b</th>\n",
       "      <th>c</th>\n",
       "      <th>d</th>\n",
       "      <th>e</th>\n",
       "    </tr>\n",
       "  </thead>\n",
       "  <tbody>\n",
       "    <tr>\n",
       "      <th>Colorado</th>\n",
       "      <td>6.0</td>\n",
       "      <td>7.0</td>\n",
       "      <td>8.0</td>\n",
       "      <td>NaN</td>\n",
       "    </tr>\n",
       "    <tr>\n",
       "      <th>Ohio</th>\n",
       "      <td>3.0</td>\n",
       "      <td>1.0</td>\n",
       "      <td>6.0</td>\n",
       "      <td>5.0</td>\n",
       "    </tr>\n",
       "    <tr>\n",
       "      <th>Oregon</th>\n",
       "      <td>9.0</td>\n",
       "      <td>NaN</td>\n",
       "      <td>10.0</td>\n",
       "      <td>11.0</td>\n",
       "    </tr>\n",
       "    <tr>\n",
       "      <th>Texas</th>\n",
       "      <td>9.0</td>\n",
       "      <td>4.0</td>\n",
       "      <td>12.0</td>\n",
       "      <td>8.0</td>\n",
       "    </tr>\n",
       "    <tr>\n",
       "      <th>Utah</th>\n",
       "      <td>0.0</td>\n",
       "      <td>NaN</td>\n",
       "      <td>1.0</td>\n",
       "      <td>2.0</td>\n",
       "    </tr>\n",
       "  </tbody>\n",
       "</table>\n",
       "</div>"
      ],
      "text/plain": [
       "            b    c     d     e\n",
       "Colorado  6.0  7.0   8.0   NaN\n",
       "Ohio      3.0  1.0   6.0   5.0\n",
       "Oregon    9.0  NaN  10.0  11.0\n",
       "Texas     9.0  4.0  12.0   8.0\n",
       "Utah      0.0  NaN   1.0   2.0"
      ]
     },
     "execution_count": 87,
     "metadata": {},
     "output_type": "execute_result"
    }
   ],
   "source": [
    "# if you want to fill in values that are missing, you can use df.add() and specify the fill_value\n",
    "# this will perform the above operation, but instead of using NaN when it can't find a value \n",
    "# (which will return NaN),\n",
    "# it will use the fill_value\n",
    "df1.add(df2, fill_value = 0)\n",
    "# you still get NaN if the value does not exist in either DataFrame"
   ]
  },
  {
   "cell_type": "markdown",
   "metadata": {
    "slideshow": {
     "slide_type": "slide"
    },
    "tags": []
   },
   "source": [
    "Arithmetic operations that can be called on DataFrames and Series are:\n",
    "\n",
    "- `.add()`, `.radd()` and `.sub()`, `.rsub()`\n",
    "- `.mul()`, `.rmul()` and `.div()`, `.rdiv()` \n",
    "- `.floordiv()`, `.rfloordiv()` (floor division `//`)\n",
    "- `.pow()`, `.rpow()` (exponentiation `**`)"
   ]
  },
  {
   "cell_type": "code",
   "execution_count": 88,
   "metadata": {
    "slideshow": {
     "slide_type": "slide"
    },
    "tags": []
   },
   "outputs": [
    {
     "data": {
      "text/html": [
       "<div>\n",
       "<style scoped>\n",
       "    .dataframe tbody tr th:only-of-type {\n",
       "        vertical-align: middle;\n",
       "    }\n",
       "\n",
       "    .dataframe tbody tr th {\n",
       "        vertical-align: top;\n",
       "    }\n",
       "\n",
       "    .dataframe thead th {\n",
       "        text-align: right;\n",
       "    }\n",
       "</style>\n",
       "<table border=\"1\" class=\"dataframe\">\n",
       "  <thead>\n",
       "    <tr style=\"text-align: right;\">\n",
       "      <th></th>\n",
       "      <th>one</th>\n",
       "      <th>two</th>\n",
       "    </tr>\n",
       "  </thead>\n",
       "  <tbody>\n",
       "    <tr>\n",
       "      <th>a</th>\n",
       "      <td>1.5</td>\n",
       "      <td>NaN</td>\n",
       "    </tr>\n",
       "    <tr>\n",
       "      <th>b</th>\n",
       "      <td>6.0</td>\n",
       "      <td>-4.5</td>\n",
       "    </tr>\n",
       "    <tr>\n",
       "      <th>c</th>\n",
       "      <td>NaN</td>\n",
       "      <td>NaN</td>\n",
       "    </tr>\n",
       "    <tr>\n",
       "      <th>d</th>\n",
       "      <td>1.5</td>\n",
       "      <td>-1.5</td>\n",
       "    </tr>\n",
       "    <tr>\n",
       "      <th>e</th>\n",
       "      <td>4.0</td>\n",
       "      <td>0.0</td>\n",
       "    </tr>\n",
       "    <tr>\n",
       "      <th>f</th>\n",
       "      <td>6.0</td>\n",
       "      <td>-4.5</td>\n",
       "    </tr>\n",
       "    <tr>\n",
       "      <th>g</th>\n",
       "      <td>NaN</td>\n",
       "      <td>4.0</td>\n",
       "    </tr>\n",
       "  </tbody>\n",
       "</table>\n",
       "</div>"
      ],
      "text/plain": [
       "   one  two\n",
       "a  1.5  NaN\n",
       "b  6.0 -4.5\n",
       "c  NaN  NaN\n",
       "d  1.5 -1.5\n",
       "e  4.0  0.0\n",
       "f  6.0 -4.5\n",
       "g  NaN  4.0"
      ]
     },
     "execution_count": 88,
     "metadata": {},
     "output_type": "execute_result"
    }
   ],
   "source": [
    "df = pd.DataFrame({'one':[1.5,6.0,np.nan, 1.5,4,6, np.nan],\n",
    "                   'two':[np.nan, -4.5, np.nan, -1.5, 0, -4.5, 4]},\n",
    "                  index=['a', 'b', 'c', 'd','e','f','g'])\n",
    "df"
   ]
  },
  {
   "cell_type": "markdown",
   "metadata": {
    "slideshow": {
     "slide_type": "slide"
    }
   },
   "source": [
    "## filtering out missing values"
   ]
  },
  {
   "cell_type": "code",
   "execution_count": 89,
   "metadata": {
    "slideshow": {
     "slide_type": "fragment"
    }
   },
   "outputs": [
    {
     "data": {
      "text/html": [
       "<div>\n",
       "<style scoped>\n",
       "    .dataframe tbody tr th:only-of-type {\n",
       "        vertical-align: middle;\n",
       "    }\n",
       "\n",
       "    .dataframe tbody tr th {\n",
       "        vertical-align: top;\n",
       "    }\n",
       "\n",
       "    .dataframe thead th {\n",
       "        text-align: right;\n",
       "    }\n",
       "</style>\n",
       "<table border=\"1\" class=\"dataframe\">\n",
       "  <thead>\n",
       "    <tr style=\"text-align: right;\">\n",
       "      <th></th>\n",
       "      <th>one</th>\n",
       "      <th>two</th>\n",
       "    </tr>\n",
       "  </thead>\n",
       "  <tbody>\n",
       "    <tr>\n",
       "      <th>a</th>\n",
       "      <td>1.5</td>\n",
       "      <td>NaN</td>\n",
       "    </tr>\n",
       "    <tr>\n",
       "      <th>b</th>\n",
       "      <td>6.0</td>\n",
       "      <td>-4.5</td>\n",
       "    </tr>\n",
       "    <tr>\n",
       "      <th>c</th>\n",
       "      <td>NaN</td>\n",
       "      <td>NaN</td>\n",
       "    </tr>\n",
       "    <tr>\n",
       "      <th>d</th>\n",
       "      <td>1.5</td>\n",
       "      <td>-1.5</td>\n",
       "    </tr>\n",
       "    <tr>\n",
       "      <th>e</th>\n",
       "      <td>4.0</td>\n",
       "      <td>0.0</td>\n",
       "    </tr>\n",
       "    <tr>\n",
       "      <th>f</th>\n",
       "      <td>6.0</td>\n",
       "      <td>-4.5</td>\n",
       "    </tr>\n",
       "    <tr>\n",
       "      <th>g</th>\n",
       "      <td>NaN</td>\n",
       "      <td>4.0</td>\n",
       "    </tr>\n",
       "  </tbody>\n",
       "</table>\n",
       "</div>"
      ],
      "text/plain": [
       "   one  two\n",
       "a  1.5  NaN\n",
       "b  6.0 -4.5\n",
       "c  NaN  NaN\n",
       "d  1.5 -1.5\n",
       "e  4.0  0.0\n",
       "f  6.0 -4.5\n",
       "g  NaN  4.0"
      ]
     },
     "execution_count": 89,
     "metadata": {},
     "output_type": "execute_result"
    }
   ],
   "source": [
    "df"
   ]
  },
  {
   "cell_type": "code",
   "execution_count": 90,
   "metadata": {
    "slideshow": {
     "slide_type": "fragment"
    }
   },
   "outputs": [
    {
     "data": {
      "text/html": [
       "<div>\n",
       "<style scoped>\n",
       "    .dataframe tbody tr th:only-of-type {\n",
       "        vertical-align: middle;\n",
       "    }\n",
       "\n",
       "    .dataframe tbody tr th {\n",
       "        vertical-align: top;\n",
       "    }\n",
       "\n",
       "    .dataframe thead th {\n",
       "        text-align: right;\n",
       "    }\n",
       "</style>\n",
       "<table border=\"1\" class=\"dataframe\">\n",
       "  <thead>\n",
       "    <tr style=\"text-align: right;\">\n",
       "      <th></th>\n",
       "      <th>one</th>\n",
       "      <th>two</th>\n",
       "    </tr>\n",
       "  </thead>\n",
       "  <tbody>\n",
       "    <tr>\n",
       "      <th>b</th>\n",
       "      <td>6.0</td>\n",
       "      <td>-4.5</td>\n",
       "    </tr>\n",
       "    <tr>\n",
       "      <th>d</th>\n",
       "      <td>1.5</td>\n",
       "      <td>-1.5</td>\n",
       "    </tr>\n",
       "    <tr>\n",
       "      <th>e</th>\n",
       "      <td>4.0</td>\n",
       "      <td>0.0</td>\n",
       "    </tr>\n",
       "    <tr>\n",
       "      <th>f</th>\n",
       "      <td>6.0</td>\n",
       "      <td>-4.5</td>\n",
       "    </tr>\n",
       "  </tbody>\n",
       "</table>\n",
       "</div>"
      ],
      "text/plain": [
       "   one  two\n",
       "b  6.0 -4.5\n",
       "d  1.5 -1.5\n",
       "e  4.0  0.0\n",
       "f  6.0 -4.5"
      ]
     },
     "execution_count": 90,
     "metadata": {},
     "output_type": "execute_result"
    }
   ],
   "source": [
    "df.dropna() # gets rid of any row that is not complete"
   ]
  },
  {
   "cell_type": "code",
   "execution_count": 91,
   "metadata": {
    "slideshow": {
     "slide_type": "slide"
    }
   },
   "outputs": [
    {
     "data": {
      "text/html": [
       "<div>\n",
       "<style scoped>\n",
       "    .dataframe tbody tr th:only-of-type {\n",
       "        vertical-align: middle;\n",
       "    }\n",
       "\n",
       "    .dataframe tbody tr th {\n",
       "        vertical-align: top;\n",
       "    }\n",
       "\n",
       "    .dataframe thead th {\n",
       "        text-align: right;\n",
       "    }\n",
       "</style>\n",
       "<table border=\"1\" class=\"dataframe\">\n",
       "  <thead>\n",
       "    <tr style=\"text-align: right;\">\n",
       "      <th></th>\n",
       "      <th>one</th>\n",
       "      <th>two</th>\n",
       "    </tr>\n",
       "  </thead>\n",
       "  <tbody>\n",
       "    <tr>\n",
       "      <th>a</th>\n",
       "      <td>1.5</td>\n",
       "      <td>NaN</td>\n",
       "    </tr>\n",
       "    <tr>\n",
       "      <th>b</th>\n",
       "      <td>6.0</td>\n",
       "      <td>-4.5</td>\n",
       "    </tr>\n",
       "    <tr>\n",
       "      <th>d</th>\n",
       "      <td>1.5</td>\n",
       "      <td>-1.5</td>\n",
       "    </tr>\n",
       "    <tr>\n",
       "      <th>e</th>\n",
       "      <td>4.0</td>\n",
       "      <td>0.0</td>\n",
       "    </tr>\n",
       "    <tr>\n",
       "      <th>f</th>\n",
       "      <td>6.0</td>\n",
       "      <td>-4.5</td>\n",
       "    </tr>\n",
       "    <tr>\n",
       "      <th>g</th>\n",
       "      <td>NaN</td>\n",
       "      <td>4.0</td>\n",
       "    </tr>\n",
       "  </tbody>\n",
       "</table>\n",
       "</div>"
      ],
      "text/plain": [
       "   one  two\n",
       "a  1.5  NaN\n",
       "b  6.0 -4.5\n",
       "d  1.5 -1.5\n",
       "e  4.0  0.0\n",
       "f  6.0 -4.5\n",
       "g  NaN  4.0"
      ]
     },
     "execution_count": 91,
     "metadata": {},
     "output_type": "execute_result"
    }
   ],
   "source": [
    "df.dropna(how = 'all')  # only drops rows that are entirely NaN"
   ]
  },
  {
   "cell_type": "markdown",
   "metadata": {
    "slideshow": {
     "slide_type": "slide"
    }
   },
   "source": [
    "## Filling in Missing Values"
   ]
  },
  {
   "cell_type": "code",
   "execution_count": 92,
   "metadata": {
    "slideshow": {
     "slide_type": "fragment"
    }
   },
   "outputs": [
    {
     "data": {
      "text/html": [
       "<div>\n",
       "<style scoped>\n",
       "    .dataframe tbody tr th:only-of-type {\n",
       "        vertical-align: middle;\n",
       "    }\n",
       "\n",
       "    .dataframe tbody tr th {\n",
       "        vertical-align: top;\n",
       "    }\n",
       "\n",
       "    .dataframe thead th {\n",
       "        text-align: right;\n",
       "    }\n",
       "</style>\n",
       "<table border=\"1\" class=\"dataframe\">\n",
       "  <thead>\n",
       "    <tr style=\"text-align: right;\">\n",
       "      <th></th>\n",
       "      <th>one</th>\n",
       "      <th>two</th>\n",
       "    </tr>\n",
       "  </thead>\n",
       "  <tbody>\n",
       "    <tr>\n",
       "      <th>a</th>\n",
       "      <td>1.5</td>\n",
       "      <td>NaN</td>\n",
       "    </tr>\n",
       "    <tr>\n",
       "      <th>b</th>\n",
       "      <td>6.0</td>\n",
       "      <td>-4.5</td>\n",
       "    </tr>\n",
       "    <tr>\n",
       "      <th>c</th>\n",
       "      <td>NaN</td>\n",
       "      <td>NaN</td>\n",
       "    </tr>\n",
       "    <tr>\n",
       "      <th>d</th>\n",
       "      <td>1.5</td>\n",
       "      <td>-1.5</td>\n",
       "    </tr>\n",
       "    <tr>\n",
       "      <th>e</th>\n",
       "      <td>4.0</td>\n",
       "      <td>0.0</td>\n",
       "    </tr>\n",
       "    <tr>\n",
       "      <th>f</th>\n",
       "      <td>6.0</td>\n",
       "      <td>-4.5</td>\n",
       "    </tr>\n",
       "    <tr>\n",
       "      <th>g</th>\n",
       "      <td>NaN</td>\n",
       "      <td>4.0</td>\n",
       "    </tr>\n",
       "  </tbody>\n",
       "</table>\n",
       "</div>"
      ],
      "text/plain": [
       "   one  two\n",
       "a  1.5  NaN\n",
       "b  6.0 -4.5\n",
       "c  NaN  NaN\n",
       "d  1.5 -1.5\n",
       "e  4.0  0.0\n",
       "f  6.0 -4.5\n",
       "g  NaN  4.0"
      ]
     },
     "execution_count": 92,
     "metadata": {},
     "output_type": "execute_result"
    }
   ],
   "source": [
    "df"
   ]
  },
  {
   "cell_type": "code",
   "execution_count": 93,
   "metadata": {
    "slideshow": {
     "slide_type": "fragment"
    }
   },
   "outputs": [
    {
     "data": {
      "text/html": [
       "<div>\n",
       "<style scoped>\n",
       "    .dataframe tbody tr th:only-of-type {\n",
       "        vertical-align: middle;\n",
       "    }\n",
       "\n",
       "    .dataframe tbody tr th {\n",
       "        vertical-align: top;\n",
       "    }\n",
       "\n",
       "    .dataframe thead th {\n",
       "        text-align: right;\n",
       "    }\n",
       "</style>\n",
       "<table border=\"1\" class=\"dataframe\">\n",
       "  <thead>\n",
       "    <tr style=\"text-align: right;\">\n",
       "      <th></th>\n",
       "      <th>one</th>\n",
       "      <th>two</th>\n",
       "    </tr>\n",
       "  </thead>\n",
       "  <tbody>\n",
       "    <tr>\n",
       "      <th>a</th>\n",
       "      <td>1.5</td>\n",
       "      <td>0.0</td>\n",
       "    </tr>\n",
       "    <tr>\n",
       "      <th>b</th>\n",
       "      <td>6.0</td>\n",
       "      <td>-4.5</td>\n",
       "    </tr>\n",
       "    <tr>\n",
       "      <th>c</th>\n",
       "      <td>0.0</td>\n",
       "      <td>0.0</td>\n",
       "    </tr>\n",
       "    <tr>\n",
       "      <th>d</th>\n",
       "      <td>1.5</td>\n",
       "      <td>-1.5</td>\n",
       "    </tr>\n",
       "    <tr>\n",
       "      <th>e</th>\n",
       "      <td>4.0</td>\n",
       "      <td>0.0</td>\n",
       "    </tr>\n",
       "    <tr>\n",
       "      <th>f</th>\n",
       "      <td>6.0</td>\n",
       "      <td>-4.5</td>\n",
       "    </tr>\n",
       "    <tr>\n",
       "      <th>g</th>\n",
       "      <td>0.0</td>\n",
       "      <td>4.0</td>\n",
       "    </tr>\n",
       "  </tbody>\n",
       "</table>\n",
       "</div>"
      ],
      "text/plain": [
       "   one  two\n",
       "a  1.5  0.0\n",
       "b  6.0 -4.5\n",
       "c  0.0  0.0\n",
       "d  1.5 -1.5\n",
       "e  4.0  0.0\n",
       "f  6.0 -4.5\n",
       "g  0.0  4.0"
      ]
     },
     "execution_count": 93,
     "metadata": {},
     "output_type": "execute_result"
    }
   ],
   "source": [
    "df.fillna(0) # fill in missing values with a constant"
   ]
  },
  {
   "cell_type": "code",
   "execution_count": 94,
   "metadata": {
    "slideshow": {
     "slide_type": "slide"
    }
   },
   "outputs": [
    {
     "data": {
      "text/html": [
       "<div>\n",
       "<style scoped>\n",
       "    .dataframe tbody tr th:only-of-type {\n",
       "        vertical-align: middle;\n",
       "    }\n",
       "\n",
       "    .dataframe tbody tr th {\n",
       "        vertical-align: top;\n",
       "    }\n",
       "\n",
       "    .dataframe thead th {\n",
       "        text-align: right;\n",
       "    }\n",
       "</style>\n",
       "<table border=\"1\" class=\"dataframe\">\n",
       "  <thead>\n",
       "    <tr style=\"text-align: right;\">\n",
       "      <th></th>\n",
       "      <th>one</th>\n",
       "      <th>two</th>\n",
       "    </tr>\n",
       "  </thead>\n",
       "  <tbody>\n",
       "    <tr>\n",
       "      <th>a</th>\n",
       "      <td>1.5</td>\n",
       "      <td>0.0</td>\n",
       "    </tr>\n",
       "    <tr>\n",
       "      <th>b</th>\n",
       "      <td>6.0</td>\n",
       "      <td>-4.5</td>\n",
       "    </tr>\n",
       "    <tr>\n",
       "      <th>c</th>\n",
       "      <td>1000.0</td>\n",
       "      <td>0.0</td>\n",
       "    </tr>\n",
       "    <tr>\n",
       "      <th>d</th>\n",
       "      <td>1.5</td>\n",
       "      <td>-1.5</td>\n",
       "    </tr>\n",
       "    <tr>\n",
       "      <th>e</th>\n",
       "      <td>4.0</td>\n",
       "      <td>0.0</td>\n",
       "    </tr>\n",
       "    <tr>\n",
       "      <th>f</th>\n",
       "      <td>6.0</td>\n",
       "      <td>-4.5</td>\n",
       "    </tr>\n",
       "    <tr>\n",
       "      <th>g</th>\n",
       "      <td>1000.0</td>\n",
       "      <td>4.0</td>\n",
       "    </tr>\n",
       "  </tbody>\n",
       "</table>\n",
       "</div>"
      ],
      "text/plain": [
       "      one  two\n",
       "a     1.5  0.0\n",
       "b     6.0 -4.5\n",
       "c  1000.0  0.0\n",
       "d     1.5 -1.5\n",
       "e     4.0  0.0\n",
       "f     6.0 -4.5\n",
       "g  1000.0  4.0"
      ]
     },
     "execution_count": 94,
     "metadata": {},
     "output_type": "execute_result"
    }
   ],
   "source": [
    "df.fillna({'one': 1000, 'two': 0})  # use a dictionary to specify values to use for each column"
   ]
  },
  {
   "cell_type": "code",
   "execution_count": 95,
   "metadata": {
    "slideshow": {
     "slide_type": "slide"
    }
   },
   "outputs": [
    {
     "data": {
      "text/html": [
       "<div>\n",
       "<style scoped>\n",
       "    .dataframe tbody tr th:only-of-type {\n",
       "        vertical-align: middle;\n",
       "    }\n",
       "\n",
       "    .dataframe tbody tr th {\n",
       "        vertical-align: top;\n",
       "    }\n",
       "\n",
       "    .dataframe thead th {\n",
       "        text-align: right;\n",
       "    }\n",
       "</style>\n",
       "<table border=\"1\" class=\"dataframe\">\n",
       "  <thead>\n",
       "    <tr style=\"text-align: right;\">\n",
       "      <th></th>\n",
       "      <th>one</th>\n",
       "      <th>two</th>\n",
       "    </tr>\n",
       "  </thead>\n",
       "  <tbody>\n",
       "    <tr>\n",
       "      <th>a</th>\n",
       "      <td>1.5</td>\n",
       "      <td>-4.5</td>\n",
       "    </tr>\n",
       "    <tr>\n",
       "      <th>b</th>\n",
       "      <td>6.0</td>\n",
       "      <td>-4.5</td>\n",
       "    </tr>\n",
       "    <tr>\n",
       "      <th>c</th>\n",
       "      <td>1.5</td>\n",
       "      <td>-1.5</td>\n",
       "    </tr>\n",
       "    <tr>\n",
       "      <th>d</th>\n",
       "      <td>1.5</td>\n",
       "      <td>-1.5</td>\n",
       "    </tr>\n",
       "    <tr>\n",
       "      <th>e</th>\n",
       "      <td>4.0</td>\n",
       "      <td>0.0</td>\n",
       "    </tr>\n",
       "    <tr>\n",
       "      <th>f</th>\n",
       "      <td>6.0</td>\n",
       "      <td>-4.5</td>\n",
       "    </tr>\n",
       "    <tr>\n",
       "      <th>g</th>\n",
       "      <td>NaN</td>\n",
       "      <td>4.0</td>\n",
       "    </tr>\n",
       "  </tbody>\n",
       "</table>\n",
       "</div>"
      ],
      "text/plain": [
       "   one  two\n",
       "a  1.5 -4.5\n",
       "b  6.0 -4.5\n",
       "c  1.5 -1.5\n",
       "d  1.5 -1.5\n",
       "e  4.0  0.0\n",
       "f  6.0 -4.5\n",
       "g  NaN  4.0"
      ]
     },
     "execution_count": 95,
     "metadata": {},
     "output_type": "execute_result"
    }
   ],
   "source": [
    "df.fillna(method = 'bfill')  # backfills. You can also use ffill"
   ]
  },
  {
   "cell_type": "code",
   "execution_count": 96,
   "metadata": {
    "slideshow": {
     "slide_type": "slide"
    }
   },
   "outputs": [
    {
     "data": {
      "text/plain": [
       "one    3.8\n",
       "two   -1.3\n",
       "dtype: float64"
      ]
     },
     "execution_count": 96,
     "metadata": {},
     "output_type": "execute_result"
    }
   ],
   "source": [
    "df.mean()"
   ]
  },
  {
   "cell_type": "code",
   "execution_count": 97,
   "metadata": {
    "slideshow": {
     "slide_type": "fragment"
    }
   },
   "outputs": [
    {
     "data": {
      "text/html": [
       "<div>\n",
       "<style scoped>\n",
       "    .dataframe tbody tr th:only-of-type {\n",
       "        vertical-align: middle;\n",
       "    }\n",
       "\n",
       "    .dataframe tbody tr th {\n",
       "        vertical-align: top;\n",
       "    }\n",
       "\n",
       "    .dataframe thead th {\n",
       "        text-align: right;\n",
       "    }\n",
       "</style>\n",
       "<table border=\"1\" class=\"dataframe\">\n",
       "  <thead>\n",
       "    <tr style=\"text-align: right;\">\n",
       "      <th></th>\n",
       "      <th>one</th>\n",
       "      <th>two</th>\n",
       "    </tr>\n",
       "  </thead>\n",
       "  <tbody>\n",
       "    <tr>\n",
       "      <th>a</th>\n",
       "      <td>1.5</td>\n",
       "      <td>-1.3</td>\n",
       "    </tr>\n",
       "    <tr>\n",
       "      <th>b</th>\n",
       "      <td>6.0</td>\n",
       "      <td>-4.5</td>\n",
       "    </tr>\n",
       "    <tr>\n",
       "      <th>c</th>\n",
       "      <td>3.8</td>\n",
       "      <td>-1.3</td>\n",
       "    </tr>\n",
       "    <tr>\n",
       "      <th>d</th>\n",
       "      <td>1.5</td>\n",
       "      <td>-1.5</td>\n",
       "    </tr>\n",
       "    <tr>\n",
       "      <th>e</th>\n",
       "      <td>4.0</td>\n",
       "      <td>0.0</td>\n",
       "    </tr>\n",
       "    <tr>\n",
       "      <th>f</th>\n",
       "      <td>6.0</td>\n",
       "      <td>-4.5</td>\n",
       "    </tr>\n",
       "    <tr>\n",
       "      <th>g</th>\n",
       "      <td>3.8</td>\n",
       "      <td>4.0</td>\n",
       "    </tr>\n",
       "  </tbody>\n",
       "</table>\n",
       "</div>"
      ],
      "text/plain": [
       "   one  two\n",
       "a  1.5 -1.3\n",
       "b  6.0 -4.5\n",
       "c  3.8 -1.3\n",
       "d  1.5 -1.5\n",
       "e  4.0  0.0\n",
       "f  6.0 -4.5\n",
       "g  3.8  4.0"
      ]
     },
     "execution_count": 97,
     "metadata": {},
     "output_type": "execute_result"
    }
   ],
   "source": [
    "df.fillna(df.mean())  # fill na with df.mean() will fill in the column means"
   ]
  },
  {
   "cell_type": "markdown",
   "metadata": {
    "slideshow": {
     "slide_type": "fragment"
    }
   },
   "source": [
    "all of the above fillna methods have created new DataFrame objects. If you want to modify the current DataFrame, you can use the optional argument `inplace = True`"
   ]
  },
  {
   "cell_type": "code",
   "execution_count": 98,
   "metadata": {
    "slideshow": {
     "slide_type": "slide"
    }
   },
   "outputs": [
    {
     "data": {
      "text/html": [
       "<div>\n",
       "<style scoped>\n",
       "    .dataframe tbody tr th:only-of-type {\n",
       "        vertical-align: middle;\n",
       "    }\n",
       "\n",
       "    .dataframe tbody tr th {\n",
       "        vertical-align: top;\n",
       "    }\n",
       "\n",
       "    .dataframe thead th {\n",
       "        text-align: right;\n",
       "    }\n",
       "</style>\n",
       "<table border=\"1\" class=\"dataframe\">\n",
       "  <thead>\n",
       "    <tr style=\"text-align: right;\">\n",
       "      <th></th>\n",
       "      <th>a</th>\n",
       "      <th>b</th>\n",
       "      <th>c</th>\n",
       "      <th>d</th>\n",
       "      <th>e</th>\n",
       "      <th>f</th>\n",
       "      <th>g</th>\n",
       "    </tr>\n",
       "  </thead>\n",
       "  <tbody>\n",
       "    <tr>\n",
       "      <th>one</th>\n",
       "      <td>1.5</td>\n",
       "      <td>6.0</td>\n",
       "      <td>NaN</td>\n",
       "      <td>1.5</td>\n",
       "      <td>4.0</td>\n",
       "      <td>6.0</td>\n",
       "      <td>NaN</td>\n",
       "    </tr>\n",
       "    <tr>\n",
       "      <th>two</th>\n",
       "      <td>NaN</td>\n",
       "      <td>-4.5</td>\n",
       "      <td>NaN</td>\n",
       "      <td>-1.5</td>\n",
       "      <td>0.0</td>\n",
       "      <td>-4.5</td>\n",
       "      <td>4.0</td>\n",
       "    </tr>\n",
       "  </tbody>\n",
       "</table>\n",
       "</div>"
      ],
      "text/plain": [
       "       a    b   c    d    e    f    g\n",
       "one  1.5  6.0 NaN  1.5  4.0  6.0  NaN\n",
       "two  NaN -4.5 NaN -1.5  0.0 -4.5  4.0"
      ]
     },
     "execution_count": 98,
     "metadata": {},
     "output_type": "execute_result"
    }
   ],
   "source": [
    "df.T"
   ]
  },
  {
   "cell_type": "code",
   "execution_count": 99,
   "metadata": {
    "slideshow": {
     "slide_type": "fragment"
    }
   },
   "outputs": [
    {
     "data": {
      "text/html": [
       "<div>\n",
       "<style scoped>\n",
       "    .dataframe tbody tr th:only-of-type {\n",
       "        vertical-align: middle;\n",
       "    }\n",
       "\n",
       "    .dataframe tbody tr th {\n",
       "        vertical-align: top;\n",
       "    }\n",
       "\n",
       "    .dataframe thead th {\n",
       "        text-align: right;\n",
       "    }\n",
       "</style>\n",
       "<table border=\"1\" class=\"dataframe\">\n",
       "  <thead>\n",
       "    <tr style=\"text-align: right;\">\n",
       "      <th></th>\n",
       "      <th>one</th>\n",
       "      <th>two</th>\n",
       "    </tr>\n",
       "  </thead>\n",
       "  <tbody>\n",
       "    <tr>\n",
       "      <th>a</th>\n",
       "      <td>1.5</td>\n",
       "      <td>1.5</td>\n",
       "    </tr>\n",
       "    <tr>\n",
       "      <th>b</th>\n",
       "      <td>6.0</td>\n",
       "      <td>-4.5</td>\n",
       "    </tr>\n",
       "    <tr>\n",
       "      <th>c</th>\n",
       "      <td>NaN</td>\n",
       "      <td>NaN</td>\n",
       "    </tr>\n",
       "    <tr>\n",
       "      <th>d</th>\n",
       "      <td>1.5</td>\n",
       "      <td>-1.5</td>\n",
       "    </tr>\n",
       "    <tr>\n",
       "      <th>e</th>\n",
       "      <td>4.0</td>\n",
       "      <td>0.0</td>\n",
       "    </tr>\n",
       "    <tr>\n",
       "      <th>f</th>\n",
       "      <td>6.0</td>\n",
       "      <td>-4.5</td>\n",
       "    </tr>\n",
       "    <tr>\n",
       "      <th>g</th>\n",
       "      <td>4.0</td>\n",
       "      <td>4.0</td>\n",
       "    </tr>\n",
       "  </tbody>\n",
       "</table>\n",
       "</div>"
      ],
      "text/plain": [
       "   one  two\n",
       "a  1.5  1.5\n",
       "b  6.0 -4.5\n",
       "c  NaN  NaN\n",
       "d  1.5 -1.5\n",
       "e  4.0  0.0\n",
       "f  6.0 -4.5\n",
       "g  4.0  4.0"
      ]
     },
     "execution_count": 99,
     "metadata": {},
     "output_type": "execute_result"
    }
   ],
   "source": [
    "# apparently you can only fill missing values with dictionaries/series over a column \n",
    "# so we have to do some Transpose magic\n",
    "df.T.fillna(df.T.mean()).T"
   ]
  },
  {
   "cell_type": "markdown",
   "metadata": {
    "slideshow": {
     "slide_type": "slide"
    }
   },
   "source": [
    "## dealing with duplicates"
   ]
  },
  {
   "cell_type": "code",
   "execution_count": 100,
   "metadata": {
    "slideshow": {
     "slide_type": "fragment"
    }
   },
   "outputs": [
    {
     "data": {
      "text/html": [
       "<div>\n",
       "<style scoped>\n",
       "    .dataframe tbody tr th:only-of-type {\n",
       "        vertical-align: middle;\n",
       "    }\n",
       "\n",
       "    .dataframe tbody tr th {\n",
       "        vertical-align: top;\n",
       "    }\n",
       "\n",
       "    .dataframe thead th {\n",
       "        text-align: right;\n",
       "    }\n",
       "</style>\n",
       "<table border=\"1\" class=\"dataframe\">\n",
       "  <thead>\n",
       "    <tr style=\"text-align: right;\">\n",
       "      <th></th>\n",
       "      <th>one</th>\n",
       "      <th>two</th>\n",
       "    </tr>\n",
       "  </thead>\n",
       "  <tbody>\n",
       "    <tr>\n",
       "      <th>a</th>\n",
       "      <td>1.5</td>\n",
       "      <td>NaN</td>\n",
       "    </tr>\n",
       "    <tr>\n",
       "      <th>b</th>\n",
       "      <td>6.0</td>\n",
       "      <td>-4.5</td>\n",
       "    </tr>\n",
       "    <tr>\n",
       "      <th>c</th>\n",
       "      <td>NaN</td>\n",
       "      <td>NaN</td>\n",
       "    </tr>\n",
       "    <tr>\n",
       "      <th>d</th>\n",
       "      <td>1.5</td>\n",
       "      <td>-1.5</td>\n",
       "    </tr>\n",
       "    <tr>\n",
       "      <th>e</th>\n",
       "      <td>4.0</td>\n",
       "      <td>0.0</td>\n",
       "    </tr>\n",
       "    <tr>\n",
       "      <th>f</th>\n",
       "      <td>6.0</td>\n",
       "      <td>-4.5</td>\n",
       "    </tr>\n",
       "    <tr>\n",
       "      <th>g</th>\n",
       "      <td>NaN</td>\n",
       "      <td>4.0</td>\n",
       "    </tr>\n",
       "  </tbody>\n",
       "</table>\n",
       "</div>"
      ],
      "text/plain": [
       "   one  two\n",
       "a  1.5  NaN\n",
       "b  6.0 -4.5\n",
       "c  NaN  NaN\n",
       "d  1.5 -1.5\n",
       "e  4.0  0.0\n",
       "f  6.0 -4.5\n",
       "g  NaN  4.0"
      ]
     },
     "execution_count": 100,
     "metadata": {},
     "output_type": "execute_result"
    }
   ],
   "source": [
    "df"
   ]
  },
  {
   "cell_type": "code",
   "execution_count": 101,
   "metadata": {
    "slideshow": {
     "slide_type": "fragment"
    }
   },
   "outputs": [
    {
     "data": {
      "text/plain": [
       "a    False\n",
       "b    False\n",
       "c    False\n",
       "d    False\n",
       "e    False\n",
       "f     True\n",
       "g    False\n",
       "dtype: bool"
      ]
     },
     "execution_count": 101,
     "metadata": {},
     "output_type": "execute_result"
    }
   ],
   "source": [
    "df.duplicated()  # sees if any of the rows are a duplicate of an earlier row"
   ]
  },
  {
   "cell_type": "code",
   "execution_count": 102,
   "metadata": {
    "slideshow": {
     "slide_type": "slide"
    }
   },
   "outputs": [
    {
     "data": {
      "text/html": [
       "<div>\n",
       "<style scoped>\n",
       "    .dataframe tbody tr th:only-of-type {\n",
       "        vertical-align: middle;\n",
       "    }\n",
       "\n",
       "    .dataframe tbody tr th {\n",
       "        vertical-align: top;\n",
       "    }\n",
       "\n",
       "    .dataframe thead th {\n",
       "        text-align: right;\n",
       "    }\n",
       "</style>\n",
       "<table border=\"1\" class=\"dataframe\">\n",
       "  <thead>\n",
       "    <tr style=\"text-align: right;\">\n",
       "      <th></th>\n",
       "      <th>one</th>\n",
       "      <th>two</th>\n",
       "    </tr>\n",
       "  </thead>\n",
       "  <tbody>\n",
       "    <tr>\n",
       "      <th>a</th>\n",
       "      <td>1.5</td>\n",
       "      <td>NaN</td>\n",
       "    </tr>\n",
       "    <tr>\n",
       "      <th>b</th>\n",
       "      <td>6.0</td>\n",
       "      <td>-4.5</td>\n",
       "    </tr>\n",
       "    <tr>\n",
       "      <th>c</th>\n",
       "      <td>NaN</td>\n",
       "      <td>NaN</td>\n",
       "    </tr>\n",
       "    <tr>\n",
       "      <th>d</th>\n",
       "      <td>1.5</td>\n",
       "      <td>-1.5</td>\n",
       "    </tr>\n",
       "    <tr>\n",
       "      <th>e</th>\n",
       "      <td>4.0</td>\n",
       "      <td>0.0</td>\n",
       "    </tr>\n",
       "    <tr>\n",
       "      <th>g</th>\n",
       "      <td>NaN</td>\n",
       "      <td>4.0</td>\n",
       "    </tr>\n",
       "  </tbody>\n",
       "</table>\n",
       "</div>"
      ],
      "text/plain": [
       "   one  two\n",
       "a  1.5  NaN\n",
       "b  6.0 -4.5\n",
       "c  NaN  NaN\n",
       "d  1.5 -1.5\n",
       "e  4.0  0.0\n",
       "g  NaN  4.0"
      ]
     },
     "execution_count": 102,
     "metadata": {},
     "output_type": "execute_result"
    }
   ],
   "source": [
    "nodups = df[~df.duplicated()]  # gets rid of the duplicated rows\n",
    "nodups"
   ]
  },
  {
   "cell_type": "markdown",
   "metadata": {
    "slideshow": {
     "slide_type": "slide"
    },
    "tags": []
   },
   "source": [
    "<h1> Statistics 21 <br/> Have great weekend! </h1>"
   ]
  },
  {
   "cell_type": "markdown",
   "metadata": {
    "slideshow": {
     "slide_type": "-"
    },
    "tags": []
   },
   "source": [
    "<script>\n",
    "    setBackgroundImage(\"Window1.jpg\", \"black\");\n",
    "</script>"
   ]
  }
 ],
 "metadata": {
  "kernelspec": {
   "display_name": "Python 3 (ipykernel)",
   "language": "python",
   "name": "python3"
  },
  "language_info": {
   "codemirror_mode": {
    "name": "ipython",
    "version": 3
   },
   "file_extension": ".py",
   "mimetype": "text/x-python",
   "name": "python",
   "nbconvert_exporter": "python",
   "pygments_lexer": "ipython3",
   "version": "3.10.8"
  }
 },
 "nbformat": 4,
 "nbformat_minor": 4
}
