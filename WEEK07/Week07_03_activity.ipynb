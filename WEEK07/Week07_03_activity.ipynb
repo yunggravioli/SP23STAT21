{
 "cells": [
  {
   "cell_type": "markdown",
   "id": "44df5f05-aa79-4f4b-bac7-0b441fd10934",
   "metadata": {},
   "source": [
    "<style>\n",
    "body h1:before, body h2:before, body h3:before, body h4:before, body h5:before, body h6:before {\n",
    "  content: \"\";\n",
    "  counter-increment: none;\n",
    "}\n",
    "</style>"
   ]
  },
  {
   "cell_type": "raw",
   "id": "8281eb25-292a-4f5c-9a6d-4360815466a8",
   "metadata": {},
   "source": [
    "\\setcounter{secnumdepth}{0}"
   ]
  },
  {
   "cell_type": "markdown",
   "id": "17474efc-a435-431c-87b6-abcee356b403",
   "metadata": {
    "tags": []
   },
   "source": [
    "# Week07.3 Team Activity\n",
    "Due Saturday May 20th, 2023 by 11:59pm - please upload PDF with photograph (either rendered or a separate file).  There is no expectation of completing this during class, in fact, I am trying to get you to practice working outside of class in teams in preparation for the final project.\n",
    "\n",
    "If you missed class – no credit for this activity, instead, I drop two unexcused absences from the Monday/Wednesday activities before deductions begin.\n",
    "\n",
    "- **Please identify your team & the names of your teammates.** \n",
    "\n",
    "- **Please insert a team photo somewhere in this notebook.  If you cannot get the to render correctly to PDF please upload a separate file of the photo**\n",
    "\n",
    "- **Please make certain that all of your teammates agree upon and understand the team answers. Thank you.**\n",
    "\n"
   ]
  },
  {
   "cell_type": "markdown",
   "id": "5dc9cc52-6082-43f0-83b2-87af0ee48bd4",
   "metadata": {},
   "source": [
    "## Assignment\n",
    "\n",
    " "
   ]
  },
  {
   "cell_type": "markdown",
   "id": "ab116103-ef06-4ad0-8c10-bc58d1191103",
   "metadata": {},
   "source": [
    "As always, what is important is a team effort and that everyone on the team has an idea of how to program these things and also feels free to ask the team for more understanding.  "
   ]
  },
  {
   "cell_type": "markdown",
   "id": "7eec6496-0112-4826-91a4-3bd0ad843ebf",
   "metadata": {},
   "source": [
    "Because we are in the process of forming final teams, if you are having trouble coming together as a team to complete an assignment like this one,  you should look for a different team for the next activity."
   ]
  },
  {
   "cell_type": "code",
   "execution_count": 36,
   "id": "1d54719a-5fb2-49b5-a6f5-1ae6e737f298",
   "metadata": {
    "tags": []
   },
   "outputs": [],
   "source": [
    "import numpy as np\n"
   ]
  },
  {
   "cell_type": "code",
   "execution_count": 37,
   "id": "03f83826-04c8-41dd-831a-4782008691c4",
   "metadata": {},
   "outputs": [
    {
     "data": {
      "text/plain": [
       "array([0, 1, 0, 1, 0, 1, 0, 1, 0, 1])"
      ]
     },
     "execution_count": 37,
     "metadata": {},
     "output_type": "execute_result"
    }
   ],
   "source": [
    "# can you create a 1D array of alternating zeros and ones? (any length)\n"
   ]
  },
  {
   "cell_type": "code",
   "execution_count": 38,
   "id": "157e3d9b-1e4c-4532-9b02-6cce74c01b39",
   "metadata": {
    "tags": []
   },
   "outputs": [
    {
     "name": "stdout",
     "output_type": "stream",
     "text": [
      "10 10\n",
      "[ 15  30  45  60  75  90 105 120 135 150]\n"
     ]
    }
   ],
   "source": [
    "# create two 1D arrays both of length 10 suppose they are named x and y\n",
    "# add their values together x + y and show your result\n",
    "\n"
   ]
  },
  {
   "cell_type": "code",
   "execution_count": null,
   "id": "ae8e587d-5226-4ce0-82e4-186ed711807b",
   "metadata": {},
   "outputs": [],
   "source": [
    "# please use Numpy to compute all of the Pokemon BMIs\n",
    "# and store them in a Numpy array\n",
    "# Here is some code to get the files read and you started:"
   ]
  },
  {
   "cell_type": "code",
   "execution_count": 39,
   "id": "233f2c7b-5424-4439-a655-8e7609381481",
   "metadata": {
    "tags": []
   },
   "outputs": [],
   "source": [
    "with open('heights.txt', 'r') as file:\n",
    "    x = []\n",
    "    for i in file:\n",
    "        x.append(float(i.strip()))\n",
    "with open('weights.txt', 'r') as file:\n",
    "    y = []\n",
    "    for i in file:\n",
    "        y.append(float(i.strip()))\n",
    "\n",
    "height = np.array(x)\n",
    "weight = np.array(y)\n",
    "\n"
   ]
  },
  {
   "cell_type": "code",
   "execution_count": null,
   "id": "0c5418e6-1f40-4d88-b768-da8921ba0504",
   "metadata": {},
   "outputs": [],
   "source": [
    "# please reveal the first 10 BMIs"
   ]
  },
  {
   "cell_type": "code",
   "execution_count": 50,
   "id": "70fda222-ea44-4732-8333-970bd1dce1ca",
   "metadata": {
    "tags": []
   },
   "outputs": [
    {
     "data": {
      "text/plain": [
       "(781,)"
      ]
     },
     "execution_count": 50,
     "metadata": {},
     "output_type": "execute_result"
    }
   ],
   "source": [
    "# please reveal it's shape\n"
   ]
  },
  {
   "cell_type": "code",
   "execution_count": 2,
   "id": "36320492-6fc6-4dad-b577-b099fc54dab2",
   "metadata": {
    "tags": []
   },
   "outputs": [],
   "source": [
    "# Please create a (781, 2) array, reveal it's shape"
   ]
  },
  {
   "cell_type": "code",
   "execution_count": 3,
   "id": "3b96f256-f3f0-4344-b66f-81cdde36aa96",
   "metadata": {
    "tags": []
   },
   "outputs": [],
   "source": [
    "# Add the computed BMI as the third column of this array\n"
   ]
  },
  {
   "cell_type": "code",
   "execution_count": null,
   "id": "799dd1d8-f3b5-4b60-86bf-1f3ad4551ad8",
   "metadata": {},
   "outputs": [],
   "source": [
    "# reveal it's shape, it should be (781, 3)"
   ]
  },
  {
   "cell_type": "code",
   "execution_count": 121,
   "id": "9070ceda-45d2-416c-b131-df312121c53f",
   "metadata": {
    "tags": []
   },
   "outputs": [
    {
     "name": "stdout",
     "output_type": "stream",
     "text": [
      "The mean  BMI is: 168.17078104993595\n",
      "The median BMI is: 29.53\n",
      "The std dev of BMI is: 3574.4736031605335\n",
      "The min BMI is: 0.04\n",
      "The max BMI is: 99990.0\n",
      "The sum of BMI is: 131341.37999999998\n"
     ]
    }
   ],
   "source": [
    "# please compute some summary stats from your new array"
   ]
  },
  {
   "cell_type": "markdown",
   "id": "1d34b3a1-1ddb-493b-99b8-c98205b4d9c1",
   "metadata": {},
   "source": [
    "## What to submit for credit\n",
    "\n",
    "- Please upload the Jupyter Notebook (.ipynb) and PDF (preferred) OR .html (OK) to Bruin Learn with your team attempt.  Please make sure every team member understands the contents of the notebook.  \n",
    "\n",
    "- This is due before 11:59pm Saturday 5/20/2023 "
   ]
  }
 ],
 "metadata": {
  "kernelspec": {
   "display_name": "Python 3 (ipykernel)",
   "language": "python",
   "name": "python3"
  },
  "language_info": {
   "codemirror_mode": {
    "name": "ipython",
    "version": 3
   },
   "file_extension": ".py",
   "mimetype": "text/x-python",
   "name": "python",
   "nbconvert_exporter": "python",
   "pygments_lexer": "ipython3",
   "version": "3.10.8"
  }
 },
 "nbformat": 4,
 "nbformat_minor": 5
}
