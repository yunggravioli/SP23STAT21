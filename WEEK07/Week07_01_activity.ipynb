{
 "cells": [
  {
   "cell_type": "markdown",
   "id": "44df5f05-aa79-4f4b-bac7-0b441fd10934",
   "metadata": {},
   "source": [
    "<style>\n",
    "body h1:before, body h2:before, body h3:before, body h4:before, body h5:before, body h6:before {\n",
    "  content: \"\";\n",
    "  counter-increment: none;\n",
    "}\n",
    "</style>"
   ]
  },
  {
   "cell_type": "raw",
   "id": "8281eb25-292a-4f5c-9a6d-4360815466a8",
   "metadata": {},
   "source": [
    "\\setcounter{secnumdepth}{0}"
   ]
  },
  {
   "cell_type": "markdown",
   "id": "17474efc-a435-431c-87b6-abcee356b403",
   "metadata": {
    "tags": []
   },
   "source": [
    "# Week07.1 Team Activity\n",
    "Due Tuesday May 16th, 2023 by 11:59pm - please upload PDF with photograph (either rendered or a separate file).  There is no expectation of completing this during class, in fact, I am trying to get you to practice working outside of class in teams in preparation for the final project.\n",
    "\n",
    "If you missed class – no credit for this activity, instead, I drop two unexcused absences from the Monday/Wednesday activities before deductions begin.\n",
    "\n",
    "- **Please identify your team & the names of your teammates.** \n",
    "\n",
    "- **Please insert a team photo somewhere in this notebook.  If you cannot get the to render correctly to PDF please upload a separate file of the photo**\n",
    "\n",
    "- **Please make certain that all of your teammates agree upon and understand the team answers. Thank you.**\n",
    "\n"
   ]
  },
  {
   "cell_type": "markdown",
   "id": "5dc9cc52-6082-43f0-83b2-87af0ee48bd4",
   "metadata": {},
   "source": [
    "## Assignment\n",
    "\n",
    " "
   ]
  },
  {
   "cell_type": "markdown",
   "id": "ab116103-ef06-4ad0-8c10-bc58d1191103",
   "metadata": {},
   "source": [
    "As always, what is important is a team effort and that everyone on the team has an idea of how to program these things and also feels free to ask the team for more understanding.  "
   ]
  },
  {
   "cell_type": "markdown",
   "id": "7eec6496-0112-4826-91a4-3bd0ad843ebf",
   "metadata": {},
   "source": [
    "Because we are in the process of forming final teams, if you are having trouble coming together as a team to complete an assignment like this one,  you should look for a different team for the next activity."
   ]
  },
  {
   "cell_type": "markdown",
   "id": "e25f5629-8192-4b94-8823-4c589304175f",
   "metadata": {},
   "source": [
    "We have a csv of cannabis dispensary locations in the city of Los Angeles:"
   ]
  },
  {
   "cell_type": "code",
   "execution_count": 1,
   "id": "a19f9bee-405e-4472-8691-b0de973ebf95",
   "metadata": {},
   "outputs": [
    {
     "data": {
      "text/html": [
       "<div>\n",
       "<style scoped>\n",
       "    .dataframe tbody tr th:only-of-type {\n",
       "        vertical-align: middle;\n",
       "    }\n",
       "\n",
       "    .dataframe tbody tr th {\n",
       "        vertical-align: top;\n",
       "    }\n",
       "\n",
       "    .dataframe thead th {\n",
       "        text-align: right;\n",
       "    }\n",
       "</style>\n",
       "<table border=\"1\" class=\"dataframe\">\n",
       "  <thead>\n",
       "    <tr style=\"text-align: right;\">\n",
       "      <th></th>\n",
       "      <th>Business_Name</th>\n",
       "      <th>Business_location</th>\n",
       "      <th>IS_SOCIAL_EQUITY_BUSINESS</th>\n",
       "      <th>Latitude</th>\n",
       "      <th>Longitude</th>\n",
       "    </tr>\n",
       "  </thead>\n",
       "  <tbody>\n",
       "    <tr>\n",
       "      <th>0</th>\n",
       "      <td>Absolutely Herbal</td>\n",
       "      <td>824 E 17TH ST, LOS ANGELES, CA 90021</td>\n",
       "      <td>No</td>\n",
       "      <td>34.028343</td>\n",
       "      <td>-118.255025</td>\n",
       "    </tr>\n",
       "    <tr>\n",
       "      <th>1</th>\n",
       "      <td>California Cannabis Soto</td>\n",
       "      <td>1601 S SOTO ST, LOS ANGELES, CA 90023</td>\n",
       "      <td>No</td>\n",
       "      <td>34.020876</td>\n",
       "      <td>-118.220294</td>\n",
       "    </tr>\n",
       "    <tr>\n",
       "      <th>2</th>\n",
       "      <td>California Cnnabis Crenshaw</td>\n",
       "      <td>7415 S CRENSHAW BLVD, LOS ANGELES, CA 90043</td>\n",
       "      <td>No</td>\n",
       "      <td>33.928801</td>\n",
       "      <td>-118.326284</td>\n",
       "    </tr>\n",
       "    <tr>\n",
       "      <th>3</th>\n",
       "      <td>California Cnnabis Melrose</td>\n",
       "      <td>654 N MANHATTAN PL, LOS ANGELES, CA 90004</td>\n",
       "      <td>No</td>\n",
       "      <td>34.082981</td>\n",
       "      <td>-118.310105</td>\n",
       "    </tr>\n",
       "    <tr>\n",
       "      <th>4</th>\n",
       "      <td>Cana Harbor</td>\n",
       "      <td>1227 W 253RD ST, HARBOR CITY, CA 90710</td>\n",
       "      <td>No</td>\n",
       "      <td>33.794809</td>\n",
       "      <td>-118.297996</td>\n",
       "    </tr>\n",
       "    <tr>\n",
       "      <th>...</th>\n",
       "      <td>...</td>\n",
       "      <td>...</td>\n",
       "      <td>...</td>\n",
       "      <td>...</td>\n",
       "      <td>...</td>\n",
       "    </tr>\n",
       "    <tr>\n",
       "      <th>80</th>\n",
       "      <td>Traditional</td>\n",
       "      <td>4665 W PICO BLVD, LOS ANGELES, CA 90019</td>\n",
       "      <td>Yes</td>\n",
       "      <td>34.048768</td>\n",
       "      <td>-118.337498</td>\n",
       "    </tr>\n",
       "    <tr>\n",
       "      <th>81</th>\n",
       "      <td>TREEHOUSE</td>\n",
       "      <td>11614 W VENICE BLVD, LOS ANGELES, CA 90066</td>\n",
       "      <td>Yes</td>\n",
       "      <td>34.012890</td>\n",
       "      <td>-118.417372</td>\n",
       "    </tr>\n",
       "    <tr>\n",
       "      <th>82</th>\n",
       "      <td>We Roll Up</td>\n",
       "      <td>1705 S GAFFEY ST, SAN PEDRO, CA 90731</td>\n",
       "      <td>Yes</td>\n",
       "      <td>33.728531</td>\n",
       "      <td>-118.292615</td>\n",
       "    </tr>\n",
       "    <tr>\n",
       "      <th>83</th>\n",
       "      <td>Wheelhouse Venice Dispensary</td>\n",
       "      <td>712 S LINCOLN BLVD, VENICE, CA 90291</td>\n",
       "      <td>No</td>\n",
       "      <td>33.998534</td>\n",
       "      <td>-118.462038</td>\n",
       "    </tr>\n",
       "    <tr>\n",
       "      <th>84</th>\n",
       "      <td>Wonderbrett Store</td>\n",
       "      <td>314 N LA BREA AVE, LOS ANGELES, CA 90036</td>\n",
       "      <td>Yes</td>\n",
       "      <td>34.076553</td>\n",
       "      <td>-118.343937</td>\n",
       "    </tr>\n",
       "  </tbody>\n",
       "</table>\n",
       "<p>85 rows × 5 columns</p>\n",
       "</div>"
      ],
      "text/plain": [
       "                   Business_Name                            Business_location   \n",
       "0              Absolutely Herbal         824 E 17TH ST, LOS ANGELES, CA 90021  \\\n",
       "1       California Cannabis Soto        1601 S SOTO ST, LOS ANGELES, CA 90023   \n",
       "2    California Cnnabis Crenshaw  7415 S CRENSHAW BLVD, LOS ANGELES, CA 90043   \n",
       "3     California Cnnabis Melrose    654 N MANHATTAN PL, LOS ANGELES, CA 90004   \n",
       "4                    Cana Harbor       1227 W 253RD ST, HARBOR CITY, CA 90710   \n",
       "..                           ...                                          ...   \n",
       "80                   Traditional      4665 W PICO BLVD, LOS ANGELES, CA 90019   \n",
       "81                     TREEHOUSE   11614 W VENICE BLVD, LOS ANGELES, CA 90066   \n",
       "82                    We Roll Up        1705 S GAFFEY ST, SAN PEDRO, CA 90731   \n",
       "83  Wheelhouse Venice Dispensary         712 S LINCOLN BLVD, VENICE, CA 90291   \n",
       "84             Wonderbrett Store     314 N LA BREA AVE, LOS ANGELES, CA 90036   \n",
       "\n",
       "   IS_SOCIAL_EQUITY_BUSINESS   Latitude   Longitude  \n",
       "0                         No  34.028343 -118.255025  \n",
       "1                         No  34.020876 -118.220294  \n",
       "2                         No  33.928801 -118.326284  \n",
       "3                         No  34.082981 -118.310105  \n",
       "4                         No  33.794809 -118.297996  \n",
       "..                       ...        ...         ...  \n",
       "80                       Yes  34.048768 -118.337498  \n",
       "81                       Yes  34.012890 -118.417372  \n",
       "82                       Yes  33.728531 -118.292615  \n",
       "83                        No  33.998534 -118.462038  \n",
       "84                       Yes  34.076553 -118.343937  \n",
       "\n",
       "[85 rows x 5 columns]"
      ]
     },
     "execution_count": 1,
     "metadata": {},
     "output_type": "execute_result"
    }
   ],
   "source": [
    "## Reading CSV\n",
    "import pandas as pd\n",
    "\n",
    "cbd = pd.read_csv('Act071data.csv')\n",
    "cbd"
   ]
  },
  {
   "cell_type": "markdown",
   "id": "53e76bc1-30ea-4070-a35c-331442d13122",
   "metadata": {},
   "source": [
    "Please try the following as a team:\n",
    "\n",
    "1) try plotting these on a map using Python\n",
    "\n"
   ]
  },
  {
   "cell_type": "markdown",
   "id": "6c77fdb9-4b7c-4d65-8e1f-a8fb91697b0d",
   "metadata": {},
   "source": [
    "2) What other data might be interesting (you define interesting) to plot with this one?  What might you learn or what questions might be answered with the additional information?\n",
    "\n",
    "\n",
    "3) (optional) If you have access to additional data (you will need latitude and longitude)  give it a try.  For example, we have crime data and we have homelessness data - is there any association with Cannabis dispensary locations?\n",
    "    \n",
    "There is no right or wrong here, the idea is to come up with a question then use the data to answer the question.  The important takeaway is to connect the two well."
   ]
  },
  {
   "cell_type": "markdown",
   "id": "1d34b3a1-1ddb-493b-99b8-c98205b4d9c1",
   "metadata": {},
   "source": [
    "## What to submit for credit\n",
    "\n",
    "- Please upload the Jupyter Notebook (.ipynb) and PDF (preferred) OR .html (OK) to Bruin Learn with your team attempt.  Please make sure every team member understands the contents of the notebook.  \n",
    "\n",
    "- This is due before 11:59pm Tuesday 5/16/2023 "
   ]
  }
 ],
 "metadata": {
  "kernelspec": {
   "display_name": "Python 3 (ipykernel)",
   "language": "python",
   "name": "python3"
  },
  "language_info": {
   "codemirror_mode": {
    "name": "ipython",
    "version": 3
   },
   "file_extension": ".py",
   "mimetype": "text/x-python",
   "name": "python",
   "nbconvert_exporter": "python",
   "pygments_lexer": "ipython3",
   "version": "3.10.8"
  }
 },
 "nbformat": 4,
 "nbformat_minor": 5
}
